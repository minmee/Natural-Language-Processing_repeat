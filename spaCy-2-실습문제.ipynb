{
 "cells": [
  {
   "cell_type": "markdown",
   "metadata": {},
   "source": [
    "# Parts of Speech Assessment"
   ]
  },
  {
   "cell_type": "markdown",
   "metadata": {},
   "source": [
    "For this assessment we'll be using the short story [The Tale of Peter Rabbit](https://en.wikipedia.org/wiki/The_Tale_of_Peter_Rabbit) by Beatrix Potter (1902). <br>The story is in the public domain; the text file was obtained from [Project Gutenberg](https://www.gutenberg.org/ebooks/14838.txt.utf-8)."
   ]
  },
  {
   "cell_type": "code",
   "execution_count": 1,
   "metadata": {},
   "outputs": [],
   "source": [
    "# RUN THIS CELL to perform standard imports:\n",
    "import spacy\n",
    "nlp = spacy.load('en_core_web_sm') # 말뭉치 불러오기\n",
    "from spacy import displacy"
   ]
  },
  {
   "cell_type": "markdown",
   "metadata": {},
   "source": [
    "**1. `peterrabbit.txt` 파일에서 Doc 객체 생성**<br>\n",
    "> HINT: Use `with open('../TextFiles/peterrabbit.txt') as f:`"
   ]
  },
  {
   "cell_type": "code",
   "execution_count": 2,
   "metadata": {},
   "outputs": [],
   "source": [
    "with open('../TextFiles/peterrabbit.txt') as f:\n",
    "    doc = nlp(f.read())"
   ]
  },
  {
   "cell_type": "markdown",
   "metadata": {},
   "source": [
    "**2. 세 번째 문장의 모든 토큰에 대해 토큰 텍스트, POS 태그, 세분화된 TAG 태그 및 세분화된 태그에 대한 설명을 출력**"
   ]
  },
  {
   "cell_type": "code",
   "execution_count": 3,
   "metadata": {
    "scrolled": true
   },
   "outputs": [
    {
     "name": "stdout",
     "output_type": "stream",
     "text": [
      "\n",
      "\n",
      "They lived with their Mother in a sand-bank, underneath the root of a\n",
      "very big fir-tree.\n"
     ]
    }
   ],
   "source": [
    "# Enter your code here:\n",
    "sent_list = [sent for sent in doc.sents]\n",
    "print(sent_list[2])"
   ]
  },
  {
   "cell_type": "code",
   "execution_count": 4,
   "metadata": {
    "scrolled": true
   },
   "outputs": [
    {
     "name": "stdout",
     "output_type": "stream",
     "text": [
      "\n",
      "\n",
      "         SPACE _SP   whitespace\n",
      "They       PRON  PRP   pronoun, personal\n",
      "lived      VERB  VBD   verb, past tense\n",
      "with       ADP   IN    conjunction, subordinating or preposition\n",
      "their      PRON  PRP$  pronoun, possessive\n",
      "Mother     PROPN NNP   noun, proper singular\n",
      "in         ADP   IN    conjunction, subordinating or preposition\n",
      "a          DET   DT    determiner\n",
      "sand       NOUN  NN    noun, singular or mass\n",
      "-          PUNCT HYPH  punctuation mark, hyphen\n",
      "bank       NOUN  NN    noun, singular or mass\n",
      ",          PUNCT ,     punctuation mark, comma\n",
      "underneath ADP   IN    conjunction, subordinating or preposition\n",
      "the        DET   DT    determiner\n",
      "root       NOUN  NN    noun, singular or mass\n",
      "of         ADP   IN    conjunction, subordinating or preposition\n",
      "a          DET   DT    determiner\n",
      "\n",
      "          SPACE _SP   whitespace\n",
      "very       ADV   RB    adverb    \n",
      "big        ADJ   JJ    adjective (English), other noun-modifier (Chinese)\n",
      "fir        NOUN  NN    noun, singular or mass\n",
      "-          PUNCT HYPH  punctuation mark, hyphen\n",
      "tree       NOUN  NN    noun, singular or mass\n",
      ".          PUNCT .     punctuation mark, sentence closer\n"
     ]
    }
   ],
   "source": [
    "for token in sent_list[2]:\n",
    "    print(f'{token.text:{10}} {token.pos_:{5}} {token.tag_:{5}} {spacy.explain(token.tag_):{10}}')"
   ]
  },
  {
   "cell_type": "markdown",
   "metadata": {},
   "source": [
    "**3. 전체 문서에서 POS 태그의 빈도 목록 제공**"
   ]
  },
  {
   "cell_type": "code",
   "execution_count": 5,
   "metadata": {},
   "outputs": [
    {
     "data": {
      "text/plain": [
       "{90: 91,\n",
       " 96: 77,\n",
       " 85: 121,\n",
       " 97: 173,\n",
       " 93: 9,\n",
       " 103: 99,\n",
       " 86: 64,\n",
       " 98: 20,\n",
       " 92: 168,\n",
       " 95: 108,\n",
       " 100: 137,\n",
       " 84: 51,\n",
       " 89: 61,\n",
       " 87: 49,\n",
       " 94: 30}"
      ]
     },
     "execution_count": 5,
     "metadata": {},
     "output_type": "execute_result"
    }
   ],
   "source": [
    "POS_count = doc.count_by(spacy.attrs.POS)\n",
    "POS_count"
   ]
  },
  {
   "cell_type": "code",
   "execution_count": 6,
   "metadata": {},
   "outputs": [
    {
     "data": {
      "text/plain": [
       "dict_items([(90, 91), (96, 77), (85, 121), (97, 173), (93, 9), (103, 99), (86, 64), (98, 20), (92, 168), (95, 108), (100, 137), (84, 51), (89, 61), (87, 49), (94, 30)])"
      ]
     },
     "execution_count": 6,
     "metadata": {},
     "output_type": "execute_result"
    }
   ],
   "source": [
    "POS_count.items()"
   ]
  },
  {
   "cell_type": "code",
   "execution_count": 7,
   "metadata": {},
   "outputs": [
    {
     "data": {
      "text/plain": [
       "'NUM'"
      ]
     },
     "execution_count": 7,
     "metadata": {},
     "output_type": "execute_result"
    }
   ],
   "source": [
    "doc.vocab[93].text"
   ]
  },
  {
   "cell_type": "code",
   "execution_count": 8,
   "metadata": {},
   "outputs": [
    {
     "name": "stdout",
     "output_type": "stream",
     "text": [
      "84 ADJ  : 51\n",
      "85 ADP  : 121\n",
      "86 ADV  : 64\n",
      "87 AUX  : 49\n",
      "89 CCONJ: 61\n",
      "90 DET  : 91\n",
      "92 NOUN : 168\n",
      "93 NUM  : 9\n",
      "94 PART : 30\n",
      "95 PRON : 108\n",
      "96 PROPN: 77\n",
      "97 PUNCT: 173\n",
      "98 SCONJ: 20\n",
      "100 VERB : 137\n",
      "103 SPACE: 99\n"
     ]
    }
   ],
   "source": [
    "# sorted 하면 정렬됨.\n",
    "for key, value in sorted(POS_count.items()):\n",
    "    print(f'{key} {doc.vocab[key].text:{5}}: {value}')"
   ]
  },
  {
   "cell_type": "markdown",
   "metadata": {},
   "source": [
    "**4. CHALLENGE: 토큰의 몇 퍼센트가 명사?**<br>\n",
    "HINT: the attribute ID for 'NOUN' is 92"
   ]
  },
  {
   "cell_type": "code",
   "execution_count": 9,
   "metadata": {
    "scrolled": true
   },
   "outputs": [
    {
     "data": {
      "text/plain": [
       "'NOUN'"
      ]
     },
     "execution_count": 9,
     "metadata": {},
     "output_type": "execute_result"
    }
   ],
   "source": [
    "doc.vocab[92].text"
   ]
  },
  {
   "cell_type": "code",
   "execution_count": 10,
   "metadata": {},
   "outputs": [
    {
     "data": {
      "text/plain": [
       "168"
      ]
     },
     "execution_count": 10,
     "metadata": {},
     "output_type": "execute_result"
    }
   ],
   "source": [
    "POS_count[92]"
   ]
  },
  {
   "cell_type": "code",
   "execution_count": 11,
   "metadata": {},
   "outputs": [
    {
     "name": "stdout",
     "output_type": "stream",
     "text": [
      "168 / 1258 = 13.35%\n"
     ]
    }
   ],
   "source": [
    "parcent = 100 * POS_count[92] / len(doc)\n",
    "print(f'{POS_count[92]} / {len(doc)} = {parcent:{.4}}%')"
   ]
  },
  {
   "cell_type": "markdown",
   "metadata": {},
   "source": [
    "**5. 세 번째 문장에 대한 종속성 구문 표시**"
   ]
  },
  {
   "cell_type": "code",
   "execution_count": 12,
   "metadata": {
    "scrolled": true
   },
   "outputs": [
    {
     "data": {
      "text/html": [
       "<span class=\"tex2jax_ignore\"><svg xmlns=\"http://www.w3.org/2000/svg\" xmlns:xlink=\"http://www.w3.org/1999/xlink\" xml:lang=\"en\" id=\"18b9c8629de54da5b9375740c33d2168-0\" class=\"displacy\" width=\"2050\" height=\"487.0\" direction=\"ltr\" style=\"max-width: none; height: 487.0px; color: #000000; background: #ffffff; font-family: Arial; direction: ltr\">\n",
       "<text class=\"displacy-token\" fill=\"currentColor\" text-anchor=\"middle\" y=\"397.0\">\n",
       "    <tspan class=\"displacy-word\" fill=\"currentColor\" x=\"50\">\n",
       "\n",
       "</tspan>\n",
       "    <tspan class=\"displacy-tag\" dy=\"2em\" fill=\"currentColor\" x=\"50\">SPACE</tspan>\n",
       "</text>\n",
       "\n",
       "<text class=\"displacy-token\" fill=\"currentColor\" text-anchor=\"middle\" y=\"397.0\">\n",
       "    <tspan class=\"displacy-word\" fill=\"currentColor\" x=\"150\">They</tspan>\n",
       "    <tspan class=\"displacy-tag\" dy=\"2em\" fill=\"currentColor\" x=\"150\">PRON</tspan>\n",
       "</text>\n",
       "\n",
       "<text class=\"displacy-token\" fill=\"currentColor\" text-anchor=\"middle\" y=\"397.0\">\n",
       "    <tspan class=\"displacy-word\" fill=\"currentColor\" x=\"250\">lived</tspan>\n",
       "    <tspan class=\"displacy-tag\" dy=\"2em\" fill=\"currentColor\" x=\"250\">VERB</tspan>\n",
       "</text>\n",
       "\n",
       "<text class=\"displacy-token\" fill=\"currentColor\" text-anchor=\"middle\" y=\"397.0\">\n",
       "    <tspan class=\"displacy-word\" fill=\"currentColor\" x=\"350\">with</tspan>\n",
       "    <tspan class=\"displacy-tag\" dy=\"2em\" fill=\"currentColor\" x=\"350\">ADP</tspan>\n",
       "</text>\n",
       "\n",
       "<text class=\"displacy-token\" fill=\"currentColor\" text-anchor=\"middle\" y=\"397.0\">\n",
       "    <tspan class=\"displacy-word\" fill=\"currentColor\" x=\"450\">their</tspan>\n",
       "    <tspan class=\"displacy-tag\" dy=\"2em\" fill=\"currentColor\" x=\"450\">PRON</tspan>\n",
       "</text>\n",
       "\n",
       "<text class=\"displacy-token\" fill=\"currentColor\" text-anchor=\"middle\" y=\"397.0\">\n",
       "    <tspan class=\"displacy-word\" fill=\"currentColor\" x=\"550\">Mother</tspan>\n",
       "    <tspan class=\"displacy-tag\" dy=\"2em\" fill=\"currentColor\" x=\"550\">PROPN</tspan>\n",
       "</text>\n",
       "\n",
       "<text class=\"displacy-token\" fill=\"currentColor\" text-anchor=\"middle\" y=\"397.0\">\n",
       "    <tspan class=\"displacy-word\" fill=\"currentColor\" x=\"650\">in</tspan>\n",
       "    <tspan class=\"displacy-tag\" dy=\"2em\" fill=\"currentColor\" x=\"650\">ADP</tspan>\n",
       "</text>\n",
       "\n",
       "<text class=\"displacy-token\" fill=\"currentColor\" text-anchor=\"middle\" y=\"397.0\">\n",
       "    <tspan class=\"displacy-word\" fill=\"currentColor\" x=\"750\">a</tspan>\n",
       "    <tspan class=\"displacy-tag\" dy=\"2em\" fill=\"currentColor\" x=\"750\">DET</tspan>\n",
       "</text>\n",
       "\n",
       "<text class=\"displacy-token\" fill=\"currentColor\" text-anchor=\"middle\" y=\"397.0\">\n",
       "    <tspan class=\"displacy-word\" fill=\"currentColor\" x=\"850\">sand-</tspan>\n",
       "    <tspan class=\"displacy-tag\" dy=\"2em\" fill=\"currentColor\" x=\"850\">NOUN</tspan>\n",
       "</text>\n",
       "\n",
       "<text class=\"displacy-token\" fill=\"currentColor\" text-anchor=\"middle\" y=\"397.0\">\n",
       "    <tspan class=\"displacy-word\" fill=\"currentColor\" x=\"950\">bank,</tspan>\n",
       "    <tspan class=\"displacy-tag\" dy=\"2em\" fill=\"currentColor\" x=\"950\">NOUN</tspan>\n",
       "</text>\n",
       "\n",
       "<text class=\"displacy-token\" fill=\"currentColor\" text-anchor=\"middle\" y=\"397.0\">\n",
       "    <tspan class=\"displacy-word\" fill=\"currentColor\" x=\"1050\">underneath</tspan>\n",
       "    <tspan class=\"displacy-tag\" dy=\"2em\" fill=\"currentColor\" x=\"1050\">ADP</tspan>\n",
       "</text>\n",
       "\n",
       "<text class=\"displacy-token\" fill=\"currentColor\" text-anchor=\"middle\" y=\"397.0\">\n",
       "    <tspan class=\"displacy-word\" fill=\"currentColor\" x=\"1150\">the</tspan>\n",
       "    <tspan class=\"displacy-tag\" dy=\"2em\" fill=\"currentColor\" x=\"1150\">DET</tspan>\n",
       "</text>\n",
       "\n",
       "<text class=\"displacy-token\" fill=\"currentColor\" text-anchor=\"middle\" y=\"397.0\">\n",
       "    <tspan class=\"displacy-word\" fill=\"currentColor\" x=\"1250\">root</tspan>\n",
       "    <tspan class=\"displacy-tag\" dy=\"2em\" fill=\"currentColor\" x=\"1250\">NOUN</tspan>\n",
       "</text>\n",
       "\n",
       "<text class=\"displacy-token\" fill=\"currentColor\" text-anchor=\"middle\" y=\"397.0\">\n",
       "    <tspan class=\"displacy-word\" fill=\"currentColor\" x=\"1350\">of</tspan>\n",
       "    <tspan class=\"displacy-tag\" dy=\"2em\" fill=\"currentColor\" x=\"1350\">ADP</tspan>\n",
       "</text>\n",
       "\n",
       "<text class=\"displacy-token\" fill=\"currentColor\" text-anchor=\"middle\" y=\"397.0\">\n",
       "    <tspan class=\"displacy-word\" fill=\"currentColor\" x=\"1450\">a</tspan>\n",
       "    <tspan class=\"displacy-tag\" dy=\"2em\" fill=\"currentColor\" x=\"1450\">DET</tspan>\n",
       "</text>\n",
       "\n",
       "<text class=\"displacy-token\" fill=\"currentColor\" text-anchor=\"middle\" y=\"397.0\">\n",
       "    <tspan class=\"displacy-word\" fill=\"currentColor\" x=\"1550\">\n",
       "</tspan>\n",
       "    <tspan class=\"displacy-tag\" dy=\"2em\" fill=\"currentColor\" x=\"1550\">SPACE</tspan>\n",
       "</text>\n",
       "\n",
       "<text class=\"displacy-token\" fill=\"currentColor\" text-anchor=\"middle\" y=\"397.0\">\n",
       "    <tspan class=\"displacy-word\" fill=\"currentColor\" x=\"1650\">very</tspan>\n",
       "    <tspan class=\"displacy-tag\" dy=\"2em\" fill=\"currentColor\" x=\"1650\">ADV</tspan>\n",
       "</text>\n",
       "\n",
       "<text class=\"displacy-token\" fill=\"currentColor\" text-anchor=\"middle\" y=\"397.0\">\n",
       "    <tspan class=\"displacy-word\" fill=\"currentColor\" x=\"1750\">big</tspan>\n",
       "    <tspan class=\"displacy-tag\" dy=\"2em\" fill=\"currentColor\" x=\"1750\">ADJ</tspan>\n",
       "</text>\n",
       "\n",
       "<text class=\"displacy-token\" fill=\"currentColor\" text-anchor=\"middle\" y=\"397.0\">\n",
       "    <tspan class=\"displacy-word\" fill=\"currentColor\" x=\"1850\">fir-</tspan>\n",
       "    <tspan class=\"displacy-tag\" dy=\"2em\" fill=\"currentColor\" x=\"1850\">NOUN</tspan>\n",
       "</text>\n",
       "\n",
       "<text class=\"displacy-token\" fill=\"currentColor\" text-anchor=\"middle\" y=\"397.0\">\n",
       "    <tspan class=\"displacy-word\" fill=\"currentColor\" x=\"1950\">tree.</tspan>\n",
       "    <tspan class=\"displacy-tag\" dy=\"2em\" fill=\"currentColor\" x=\"1950\">NOUN</tspan>\n",
       "</text>\n",
       "\n",
       "<g class=\"displacy-arrow\">\n",
       "    <path class=\"displacy-arc\" id=\"arrow-18b9c8629de54da5b9375740c33d2168-0-0\" stroke-width=\"2px\" d=\"M70,352.0 C70,252.0 225.0,252.0 225.0,352.0\" fill=\"none\" stroke=\"currentColor\"/>\n",
       "    <text dy=\"1.25em\" style=\"font-size: 0.8em; letter-spacing: 1px\">\n",
       "        <textPath xlink:href=\"#arrow-18b9c8629de54da5b9375740c33d2168-0-0\" class=\"displacy-label\" startOffset=\"50%\" side=\"left\" fill=\"currentColor\" text-anchor=\"middle\">dep</textPath>\n",
       "    </text>\n",
       "    <path class=\"displacy-arrowhead\" d=\"M70,354.0 L62,342.0 78,342.0\" fill=\"currentColor\"/>\n",
       "</g>\n",
       "\n",
       "<g class=\"displacy-arrow\">\n",
       "    <path class=\"displacy-arc\" id=\"arrow-18b9c8629de54da5b9375740c33d2168-0-1\" stroke-width=\"2px\" d=\"M170,352.0 C170,302.0 220.0,302.0 220.0,352.0\" fill=\"none\" stroke=\"currentColor\"/>\n",
       "    <text dy=\"1.25em\" style=\"font-size: 0.8em; letter-spacing: 1px\">\n",
       "        <textPath xlink:href=\"#arrow-18b9c8629de54da5b9375740c33d2168-0-1\" class=\"displacy-label\" startOffset=\"50%\" side=\"left\" fill=\"currentColor\" text-anchor=\"middle\">nsubj</textPath>\n",
       "    </text>\n",
       "    <path class=\"displacy-arrowhead\" d=\"M170,354.0 L162,342.0 178,342.0\" fill=\"currentColor\"/>\n",
       "</g>\n",
       "\n",
       "<g class=\"displacy-arrow\">\n",
       "    <path class=\"displacy-arc\" id=\"arrow-18b9c8629de54da5b9375740c33d2168-0-2\" stroke-width=\"2px\" d=\"M270,352.0 C270,302.0 320.0,302.0 320.0,352.0\" fill=\"none\" stroke=\"currentColor\"/>\n",
       "    <text dy=\"1.25em\" style=\"font-size: 0.8em; letter-spacing: 1px\">\n",
       "        <textPath xlink:href=\"#arrow-18b9c8629de54da5b9375740c33d2168-0-2\" class=\"displacy-label\" startOffset=\"50%\" side=\"left\" fill=\"currentColor\" text-anchor=\"middle\">prep</textPath>\n",
       "    </text>\n",
       "    <path class=\"displacy-arrowhead\" d=\"M320.0,354.0 L328.0,342.0 312.0,342.0\" fill=\"currentColor\"/>\n",
       "</g>\n",
       "\n",
       "<g class=\"displacy-arrow\">\n",
       "    <path class=\"displacy-arc\" id=\"arrow-18b9c8629de54da5b9375740c33d2168-0-3\" stroke-width=\"2px\" d=\"M470,352.0 C470,302.0 520.0,302.0 520.0,352.0\" fill=\"none\" stroke=\"currentColor\"/>\n",
       "    <text dy=\"1.25em\" style=\"font-size: 0.8em; letter-spacing: 1px\">\n",
       "        <textPath xlink:href=\"#arrow-18b9c8629de54da5b9375740c33d2168-0-3\" class=\"displacy-label\" startOffset=\"50%\" side=\"left\" fill=\"currentColor\" text-anchor=\"middle\">poss</textPath>\n",
       "    </text>\n",
       "    <path class=\"displacy-arrowhead\" d=\"M470,354.0 L462,342.0 478,342.0\" fill=\"currentColor\"/>\n",
       "</g>\n",
       "\n",
       "<g class=\"displacy-arrow\">\n",
       "    <path class=\"displacy-arc\" id=\"arrow-18b9c8629de54da5b9375740c33d2168-0-4\" stroke-width=\"2px\" d=\"M370,352.0 C370,252.0 525.0,252.0 525.0,352.0\" fill=\"none\" stroke=\"currentColor\"/>\n",
       "    <text dy=\"1.25em\" style=\"font-size: 0.8em; letter-spacing: 1px\">\n",
       "        <textPath xlink:href=\"#arrow-18b9c8629de54da5b9375740c33d2168-0-4\" class=\"displacy-label\" startOffset=\"50%\" side=\"left\" fill=\"currentColor\" text-anchor=\"middle\">pobj</textPath>\n",
       "    </text>\n",
       "    <path class=\"displacy-arrowhead\" d=\"M525.0,354.0 L533.0,342.0 517.0,342.0\" fill=\"currentColor\"/>\n",
       "</g>\n",
       "\n",
       "<g class=\"displacy-arrow\">\n",
       "    <path class=\"displacy-arc\" id=\"arrow-18b9c8629de54da5b9375740c33d2168-0-5\" stroke-width=\"2px\" d=\"M270,352.0 C270,152.0 635.0,152.0 635.0,352.0\" fill=\"none\" stroke=\"currentColor\"/>\n",
       "    <text dy=\"1.25em\" style=\"font-size: 0.8em; letter-spacing: 1px\">\n",
       "        <textPath xlink:href=\"#arrow-18b9c8629de54da5b9375740c33d2168-0-5\" class=\"displacy-label\" startOffset=\"50%\" side=\"left\" fill=\"currentColor\" text-anchor=\"middle\">prep</textPath>\n",
       "    </text>\n",
       "    <path class=\"displacy-arrowhead\" d=\"M635.0,354.0 L643.0,342.0 627.0,342.0\" fill=\"currentColor\"/>\n",
       "</g>\n",
       "\n",
       "<g class=\"displacy-arrow\">\n",
       "    <path class=\"displacy-arc\" id=\"arrow-18b9c8629de54da5b9375740c33d2168-0-6\" stroke-width=\"2px\" d=\"M770,352.0 C770,252.0 925.0,252.0 925.0,352.0\" fill=\"none\" stroke=\"currentColor\"/>\n",
       "    <text dy=\"1.25em\" style=\"font-size: 0.8em; letter-spacing: 1px\">\n",
       "        <textPath xlink:href=\"#arrow-18b9c8629de54da5b9375740c33d2168-0-6\" class=\"displacy-label\" startOffset=\"50%\" side=\"left\" fill=\"currentColor\" text-anchor=\"middle\">det</textPath>\n",
       "    </text>\n",
       "    <path class=\"displacy-arrowhead\" d=\"M770,354.0 L762,342.0 778,342.0\" fill=\"currentColor\"/>\n",
       "</g>\n",
       "\n",
       "<g class=\"displacy-arrow\">\n",
       "    <path class=\"displacy-arc\" id=\"arrow-18b9c8629de54da5b9375740c33d2168-0-7\" stroke-width=\"2px\" d=\"M870,352.0 C870,302.0 920.0,302.0 920.0,352.0\" fill=\"none\" stroke=\"currentColor\"/>\n",
       "    <text dy=\"1.25em\" style=\"font-size: 0.8em; letter-spacing: 1px\">\n",
       "        <textPath xlink:href=\"#arrow-18b9c8629de54da5b9375740c33d2168-0-7\" class=\"displacy-label\" startOffset=\"50%\" side=\"left\" fill=\"currentColor\" text-anchor=\"middle\">compound</textPath>\n",
       "    </text>\n",
       "    <path class=\"displacy-arrowhead\" d=\"M870,354.0 L862,342.0 878,342.0\" fill=\"currentColor\"/>\n",
       "</g>\n",
       "\n",
       "<g class=\"displacy-arrow\">\n",
       "    <path class=\"displacy-arc\" id=\"arrow-18b9c8629de54da5b9375740c33d2168-0-8\" stroke-width=\"2px\" d=\"M670,352.0 C670,202.0 930.0,202.0 930.0,352.0\" fill=\"none\" stroke=\"currentColor\"/>\n",
       "    <text dy=\"1.25em\" style=\"font-size: 0.8em; letter-spacing: 1px\">\n",
       "        <textPath xlink:href=\"#arrow-18b9c8629de54da5b9375740c33d2168-0-8\" class=\"displacy-label\" startOffset=\"50%\" side=\"left\" fill=\"currentColor\" text-anchor=\"middle\">pobj</textPath>\n",
       "    </text>\n",
       "    <path class=\"displacy-arrowhead\" d=\"M930.0,354.0 L938.0,342.0 922.0,342.0\" fill=\"currentColor\"/>\n",
       "</g>\n",
       "\n",
       "<g class=\"displacy-arrow\">\n",
       "    <path class=\"displacy-arc\" id=\"arrow-18b9c8629de54da5b9375740c33d2168-0-9\" stroke-width=\"2px\" d=\"M270,352.0 C270,2.0 1050.0,2.0 1050.0,352.0\" fill=\"none\" stroke=\"currentColor\"/>\n",
       "    <text dy=\"1.25em\" style=\"font-size: 0.8em; letter-spacing: 1px\">\n",
       "        <textPath xlink:href=\"#arrow-18b9c8629de54da5b9375740c33d2168-0-9\" class=\"displacy-label\" startOffset=\"50%\" side=\"left\" fill=\"currentColor\" text-anchor=\"middle\">prep</textPath>\n",
       "    </text>\n",
       "    <path class=\"displacy-arrowhead\" d=\"M1050.0,354.0 L1058.0,342.0 1042.0,342.0\" fill=\"currentColor\"/>\n",
       "</g>\n",
       "\n",
       "<g class=\"displacy-arrow\">\n",
       "    <path class=\"displacy-arc\" id=\"arrow-18b9c8629de54da5b9375740c33d2168-0-10\" stroke-width=\"2px\" d=\"M1170,352.0 C1170,302.0 1220.0,302.0 1220.0,352.0\" fill=\"none\" stroke=\"currentColor\"/>\n",
       "    <text dy=\"1.25em\" style=\"font-size: 0.8em; letter-spacing: 1px\">\n",
       "        <textPath xlink:href=\"#arrow-18b9c8629de54da5b9375740c33d2168-0-10\" class=\"displacy-label\" startOffset=\"50%\" side=\"left\" fill=\"currentColor\" text-anchor=\"middle\">det</textPath>\n",
       "    </text>\n",
       "    <path class=\"displacy-arrowhead\" d=\"M1170,354.0 L1162,342.0 1178,342.0\" fill=\"currentColor\"/>\n",
       "</g>\n",
       "\n",
       "<g class=\"displacy-arrow\">\n",
       "    <path class=\"displacy-arc\" id=\"arrow-18b9c8629de54da5b9375740c33d2168-0-11\" stroke-width=\"2px\" d=\"M1070,352.0 C1070,252.0 1225.0,252.0 1225.0,352.0\" fill=\"none\" stroke=\"currentColor\"/>\n",
       "    <text dy=\"1.25em\" style=\"font-size: 0.8em; letter-spacing: 1px\">\n",
       "        <textPath xlink:href=\"#arrow-18b9c8629de54da5b9375740c33d2168-0-11\" class=\"displacy-label\" startOffset=\"50%\" side=\"left\" fill=\"currentColor\" text-anchor=\"middle\">pobj</textPath>\n",
       "    </text>\n",
       "    <path class=\"displacy-arrowhead\" d=\"M1225.0,354.0 L1233.0,342.0 1217.0,342.0\" fill=\"currentColor\"/>\n",
       "</g>\n",
       "\n",
       "<g class=\"displacy-arrow\">\n",
       "    <path class=\"displacy-arc\" id=\"arrow-18b9c8629de54da5b9375740c33d2168-0-12\" stroke-width=\"2px\" d=\"M1270,352.0 C1270,302.0 1320.0,302.0 1320.0,352.0\" fill=\"none\" stroke=\"currentColor\"/>\n",
       "    <text dy=\"1.25em\" style=\"font-size: 0.8em; letter-spacing: 1px\">\n",
       "        <textPath xlink:href=\"#arrow-18b9c8629de54da5b9375740c33d2168-0-12\" class=\"displacy-label\" startOffset=\"50%\" side=\"left\" fill=\"currentColor\" text-anchor=\"middle\">prep</textPath>\n",
       "    </text>\n",
       "    <path class=\"displacy-arrowhead\" d=\"M1320.0,354.0 L1328.0,342.0 1312.0,342.0\" fill=\"currentColor\"/>\n",
       "</g>\n",
       "\n",
       "<g class=\"displacy-arrow\">\n",
       "    <path class=\"displacy-arc\" id=\"arrow-18b9c8629de54da5b9375740c33d2168-0-13\" stroke-width=\"2px\" d=\"M1470,352.0 C1470,102.0 1940.0,102.0 1940.0,352.0\" fill=\"none\" stroke=\"currentColor\"/>\n",
       "    <text dy=\"1.25em\" style=\"font-size: 0.8em; letter-spacing: 1px\">\n",
       "        <textPath xlink:href=\"#arrow-18b9c8629de54da5b9375740c33d2168-0-13\" class=\"displacy-label\" startOffset=\"50%\" side=\"left\" fill=\"currentColor\" text-anchor=\"middle\">det</textPath>\n",
       "    </text>\n",
       "    <path class=\"displacy-arrowhead\" d=\"M1470,354.0 L1462,342.0 1478,342.0\" fill=\"currentColor\"/>\n",
       "</g>\n",
       "\n",
       "<g class=\"displacy-arrow\">\n",
       "    <path class=\"displacy-arc\" id=\"arrow-18b9c8629de54da5b9375740c33d2168-0-14\" stroke-width=\"2px\" d=\"M1570,352.0 C1570,152.0 1935.0,152.0 1935.0,352.0\" fill=\"none\" stroke=\"currentColor\"/>\n",
       "    <text dy=\"1.25em\" style=\"font-size: 0.8em; letter-spacing: 1px\">\n",
       "        <textPath xlink:href=\"#arrow-18b9c8629de54da5b9375740c33d2168-0-14\" class=\"displacy-label\" startOffset=\"50%\" side=\"left\" fill=\"currentColor\" text-anchor=\"middle\">dep</textPath>\n",
       "    </text>\n",
       "    <path class=\"displacy-arrowhead\" d=\"M1570,354.0 L1562,342.0 1578,342.0\" fill=\"currentColor\"/>\n",
       "</g>\n",
       "\n",
       "<g class=\"displacy-arrow\">\n",
       "    <path class=\"displacy-arc\" id=\"arrow-18b9c8629de54da5b9375740c33d2168-0-15\" stroke-width=\"2px\" d=\"M1670,352.0 C1670,302.0 1720.0,302.0 1720.0,352.0\" fill=\"none\" stroke=\"currentColor\"/>\n",
       "    <text dy=\"1.25em\" style=\"font-size: 0.8em; letter-spacing: 1px\">\n",
       "        <textPath xlink:href=\"#arrow-18b9c8629de54da5b9375740c33d2168-0-15\" class=\"displacy-label\" startOffset=\"50%\" side=\"left\" fill=\"currentColor\" text-anchor=\"middle\">advmod</textPath>\n",
       "    </text>\n",
       "    <path class=\"displacy-arrowhead\" d=\"M1670,354.0 L1662,342.0 1678,342.0\" fill=\"currentColor\"/>\n",
       "</g>\n",
       "\n",
       "<g class=\"displacy-arrow\">\n",
       "    <path class=\"displacy-arc\" id=\"arrow-18b9c8629de54da5b9375740c33d2168-0-16\" stroke-width=\"2px\" d=\"M1770,352.0 C1770,252.0 1925.0,252.0 1925.0,352.0\" fill=\"none\" stroke=\"currentColor\"/>\n",
       "    <text dy=\"1.25em\" style=\"font-size: 0.8em; letter-spacing: 1px\">\n",
       "        <textPath xlink:href=\"#arrow-18b9c8629de54da5b9375740c33d2168-0-16\" class=\"displacy-label\" startOffset=\"50%\" side=\"left\" fill=\"currentColor\" text-anchor=\"middle\">amod</textPath>\n",
       "    </text>\n",
       "    <path class=\"displacy-arrowhead\" d=\"M1770,354.0 L1762,342.0 1778,342.0\" fill=\"currentColor\"/>\n",
       "</g>\n",
       "\n",
       "<g class=\"displacy-arrow\">\n",
       "    <path class=\"displacy-arc\" id=\"arrow-18b9c8629de54da5b9375740c33d2168-0-17\" stroke-width=\"2px\" d=\"M1870,352.0 C1870,302.0 1920.0,302.0 1920.0,352.0\" fill=\"none\" stroke=\"currentColor\"/>\n",
       "    <text dy=\"1.25em\" style=\"font-size: 0.8em; letter-spacing: 1px\">\n",
       "        <textPath xlink:href=\"#arrow-18b9c8629de54da5b9375740c33d2168-0-17\" class=\"displacy-label\" startOffset=\"50%\" side=\"left\" fill=\"currentColor\" text-anchor=\"middle\">compound</textPath>\n",
       "    </text>\n",
       "    <path class=\"displacy-arrowhead\" d=\"M1870,354.0 L1862,342.0 1878,342.0\" fill=\"currentColor\"/>\n",
       "</g>\n",
       "\n",
       "<g class=\"displacy-arrow\">\n",
       "    <path class=\"displacy-arc\" id=\"arrow-18b9c8629de54da5b9375740c33d2168-0-18\" stroke-width=\"2px\" d=\"M1370,352.0 C1370,52.0 1945.0,52.0 1945.0,352.0\" fill=\"none\" stroke=\"currentColor\"/>\n",
       "    <text dy=\"1.25em\" style=\"font-size: 0.8em; letter-spacing: 1px\">\n",
       "        <textPath xlink:href=\"#arrow-18b9c8629de54da5b9375740c33d2168-0-18\" class=\"displacy-label\" startOffset=\"50%\" side=\"left\" fill=\"currentColor\" text-anchor=\"middle\">pobj</textPath>\n",
       "    </text>\n",
       "    <path class=\"displacy-arrowhead\" d=\"M1945.0,354.0 L1953.0,342.0 1937.0,342.0\" fill=\"currentColor\"/>\n",
       "</g>\n",
       "</svg></span>"
      ],
      "text/plain": [
       "<IPython.core.display.HTML object>"
      ]
     },
     "metadata": {},
     "output_type": "display_data"
    }
   ],
   "source": [
    "displacy.render(list(doc.sents)[2], style = 'dep', jupyter = True, options = {'distance' : 100})"
   ]
  },
  {
   "cell_type": "code",
   "execution_count": 13,
   "metadata": {
    "scrolled": true
   },
   "outputs": [
    {
     "name": "stdout",
     "output_type": "stream",
     "text": [
      "dep\n",
      "nsubj\n",
      "ROOT\n",
      "prep\n",
      "poss\n",
      "pobj\n",
      "prep\n",
      "det\n",
      "compound\n",
      "punct\n",
      "pobj\n",
      "punct\n",
      "prep\n",
      "det\n",
      "pobj\n",
      "prep\n",
      "det\n",
      "dep\n",
      "advmod\n",
      "amod\n",
      "compound\n",
      "punct\n",
      "pobj\n",
      "punct\n"
     ]
    }
   ],
   "source": [
    "for token in sent_list[2]:\n",
    "    print(token.dep_)"
   ]
  },
  {
   "cell_type": "markdown",
   "metadata": {},
   "source": []
  },
  {
   "cell_type": "markdown",
   "metadata": {},
   "source": [
    "**6. Beatrix Potter의 *The Tale of Peter Rabbit에서 처음 두 개의 Named Entities 표시**"
   ]
  },
  {
   "cell_type": "code",
   "execution_count": 14,
   "metadata": {},
   "outputs": [
    {
     "data": {
      "text/plain": [
       "(The Tale of Peter Rabbit, Beatrix Potter)"
      ]
     },
     "execution_count": 14,
     "metadata": {},
     "output_type": "execute_result"
    }
   ],
   "source": [
    "doc.ents[:2]"
   ]
  },
  {
   "cell_type": "code",
   "execution_count": 15,
   "metadata": {},
   "outputs": [],
   "source": [
    "def show_entity(doc):\n",
    "    if doc.ents:\n",
    "        for ents in doc.ents[:2]:\n",
    "            print(f'{ents.text:{20}} {ents.label_:{15}} {str(spacy.explain(ents.label_)):{20}}')\n",
    "    else:\n",
    "        print('Named Entities가 없음.')"
   ]
  },
  {
   "cell_type": "code",
   "execution_count": 16,
   "metadata": {
    "scrolled": true
   },
   "outputs": [
    {
     "name": "stdout",
     "output_type": "stream",
     "text": [
      "The Tale of Peter Rabbit WORK_OF_ART     Titles of books, songs, etc.\n",
      "Beatrix Potter       PERSON          People, including fictional\n"
     ]
    }
   ],
   "source": [
    "show_entity(doc)"
   ]
  },
  {
   "cell_type": "markdown",
   "metadata": {},
   "source": [
    "**7. *The Tale of Peter Rabbit*에는 몇 개의 문장이 포함되어 있는지?**"
   ]
  },
  {
   "cell_type": "code",
   "execution_count": 17,
   "metadata": {},
   "outputs": [
    {
     "data": {
      "text/plain": [
       "58"
      ]
     },
     "execution_count": 17,
     "metadata": {},
     "output_type": "execute_result"
    }
   ],
   "source": [
    "len(sent_list)"
   ]
  },
  {
   "cell_type": "markdown",
   "metadata": {},
   "source": [
    "**8. CHALLENGE: named entities가 포함된 문장 수?**"
   ]
  },
  {
   "cell_type": "code",
   "execution_count": 19,
   "metadata": {},
   "outputs": [
    {
     "data": {
      "text/plain": [
       "30"
      ]
     },
     "execution_count": 19,
     "metadata": {},
     "output_type": "execute_result"
    }
   ],
   "source": [
    "list_of_sents = [nlp(sent.text) for sent in doc.sents]\n",
    "list_of_ners = [doc for doc in list_of_sents if doc.ents]\n",
    "len(list_of_ners)"
   ]
  },
  {
   "cell_type": "code",
   "execution_count": 22,
   "metadata": {
    "scrolled": true
   },
   "outputs": [
    {
     "data": {
      "text/plain": [
       "[The Tale of Peter Rabbit, by Beatrix Potter (1902).,\n",
       " \n",
       " \n",
       " Once upon a time there were four little Rabbits, and their names\n",
       " were--\n",
       " \n",
       "           Flopsy,\n",
       "        Mopsy,\n",
       "    Cotton-tail,\n",
       " and Peter.,\n",
       " \n",
       " \n",
       " 'Now my dears,' said old Mrs. Rabbit one morning, 'you may go into\n",
       " the fields or down the lane, but don't go into Mr. McGregor's garden:\n",
       " your Father had an accident there; he was put in a pie by Mrs.\n",
       " McGregor.',\n",
       " \n",
       " \n",
       " Then old Mrs. Rabbit took a basket and her umbrella, and went through\n",
       " the wood to the baker's.,\n",
       " She bought a loaf of brown bread and five\n",
       " currant buns.,\n",
       " \n",
       " \n",
       " Flopsy, Mopsy, and Cottontail, who were good little bunnies, went\n",
       " down the lane to gather blackberries:\n",
       " \n",
       " But Peter, who was very naughty, ran straight away to Mr. McGregor's\n",
       " garden, and squeezed under the gate!,\n",
       " \n",
       " \n",
       " First he ate some lettuces and some French beans; and then he ate\n",
       " some radishes;\n",
       " ,\n",
       " \n",
       " \n",
       " Mr. McGregor was on his hands and knees planting out young cabbages,\n",
       " but he jumped up and ran after Peter, waving a rake and calling out,\n",
       " 'Stop thief!',\n",
       " \n",
       " \n",
       " Peter was most dreadfully frightened; he rushed all over the garden,\n",
       " for he had forgotten the way back to the gate.,\n",
       " \n",
       " \n",
       " He lost one of his shoes among the cabbages, and the other shoe\n",
       " amongst the potatoes.,\n",
       " \n",
       " \n",
       " After losing them, he ran on four legs and went faster, so that I\n",
       " think he might have got away altogether if he had not unfortunately\n",
       " run into a gooseberry net, and got caught by the large buttons on his\n",
       " jacket.,\n",
       " \n",
       " \n",
       " Mr. McGregor came up with a sieve, which he intended to pop upon the\n",
       " top of Peter; but Peter wriggled out just in time, leaving his jacket\n",
       " behind him.,\n",
       " \n",
       " \n",
       " Mr. McGregor was quite sure that Peter was somewhere in the\n",
       " tool-shed, perhaps hidden underneath a flower-pot.,\n",
       " Mr. McGregor was after him in\n",
       " no time.,\n",
       " \n",
       " \n",
       " And tried to put his foot upon Peter, who jumped out of a window,\n",
       " upsetting three plants.,\n",
       " The window was too small for Mr. McGregor, and\n",
       " he was tired of running after Peter.,\n",
       " Peter asked her the way to\n",
       " the gate, but she had such a large pea in her mouth that she could not\n",
       " answer.,\n",
       " Peter began to cry.,\n",
       " Presently, he came to a pond where Mr.\n",
       " McGregor filled his water-cans.,\n",
       " Peter thought it best to go away\n",
       " without speaking to her; he had heard about cats from his cousin,\n",
       " little Benjamin Bunny.,\n",
       " \n",
       " Peter scuttered underneath the bushes.,\n",
       " \n",
       " The first thing he saw was Mr. McGregor hoeing onions.,\n",
       " His back was\n",
       " turned towards Peter, and beyond him was the gate!,\n",
       " \n",
       " \n",
       " Mr. McGregor caught sight of him at the corner, but Peter did not\n",
       " care.,\n",
       " \n",
       " \n",
       " Mr. McGregor hung up the little jacket and the shoes for a scare-crow\n",
       " to frighten the blackbirds.,\n",
       " It was the\n",
       " second little jacket and pair of shoes that Peter had lost in a\n",
       " fortnight!,\n",
       " \n",
       " \n",
       " I am sorry to say that Peter was not very well during the evening.,\n",
       " \n",
       " \n",
       " 'One table-spoonful to be taken at bed-time.',\n",
       " \n",
       " \n",
       " But Flopsy, Mopsy, and Cotton-tail had bread and milk and\n",
       " blackberries for supper.,\n",
       " \n",
       " \n",
       " THE END]"
      ]
     },
     "execution_count": 22,
     "metadata": {},
     "output_type": "execute_result"
    }
   ],
   "source": [
    "list_of_ners"
   ]
  },
  {
   "cell_type": "markdown",
   "metadata": {},
   "source": [
    "**9. CHALLENGE: 이전 문제에서 list_of_sents[0]에 대한 Named Entities 시각화 표시**"
   ]
  },
  {
   "cell_type": "code",
   "execution_count": 20,
   "metadata": {},
   "outputs": [
    {
     "data": {
      "text/html": [
       "<span class=\"tex2jax_ignore\"><div class=\"entities\" style=\"line-height: 2.5; direction: ltr\">\n",
       "<mark class=\"entity\" style=\"background: #f0d0ff; padding: 0.45em 0.6em; margin: 0 0.25em; line-height: 1; border-radius: 0.35em;\">\n",
       "    The Tale of Peter Rabbit\n",
       "    <span style=\"font-size: 0.8em; font-weight: bold; line-height: 1; border-radius: 0.35em; vertical-align: middle; margin-left: 0.5rem\">WORK_OF_ART</span>\n",
       "</mark>\n",
       ", by \n",
       "<mark class=\"entity\" style=\"background: #aa9cfc; padding: 0.45em 0.6em; margin: 0 0.25em; line-height: 1; border-radius: 0.35em;\">\n",
       "    Beatrix Potter\n",
       "    <span style=\"font-size: 0.8em; font-weight: bold; line-height: 1; border-radius: 0.35em; vertical-align: middle; margin-left: 0.5rem\">PERSON</span>\n",
       "</mark>\n",
       " (\n",
       "<mark class=\"entity\" style=\"background: #bfe1d9; padding: 0.45em 0.6em; margin: 0 0.25em; line-height: 1; border-radius: 0.35em;\">\n",
       "    1902\n",
       "    <span style=\"font-size: 0.8em; font-weight: bold; line-height: 1; border-radius: 0.35em; vertical-align: middle; margin-left: 0.5rem\">DATE</span>\n",
       "</mark>\n",
       ").</div></span>"
      ],
      "text/plain": [
       "<IPython.core.display.HTML object>"
      ]
     },
     "metadata": {},
     "output_type": "display_data"
    }
   ],
   "source": [
    "displacy.render(list_of_sents[0], style = 'ent', jupyter = True)"
   ]
  },
  {
   "cell_type": "markdown",
   "metadata": {},
   "source": [
    "### Great Job!"
   ]
  }
 ],
 "metadata": {
  "kernelspec": {
   "display_name": "Python 3 (ipykernel)",
   "language": "python",
   "name": "python3"
  },
  "language_info": {
   "codemirror_mode": {
    "name": "ipython",
    "version": 3
   },
   "file_extension": ".py",
   "mimetype": "text/x-python",
   "name": "python",
   "nbconvert_exporter": "python",
   "pygments_lexer": "ipython3",
   "version": "3.9.7"
  }
 },
 "nbformat": 4,
 "nbformat_minor": 2
}
