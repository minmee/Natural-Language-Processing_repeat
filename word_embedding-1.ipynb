{
 "cells": [
  {
   "cell_type": "code",
   "execution_count": 1,
   "id": "00512339",
   "metadata": {},
   "outputs": [],
   "source": [
    "# CountVectorizer - 단어들의 카운트(출현 빈도)로 벡터화\n",
    "from sklearn.feature_extraction.text import CountVectorizer"
   ]
  },
  {
   "cell_type": "code",
   "execution_count": 2,
   "id": "e7ad9bf4",
   "metadata": {},
   "outputs": [],
   "source": [
    "text = ['The quick brown fox jumped over the lazy dog.'] # 9 words"
   ]
  },
  {
   "cell_type": "code",
   "execution_count": 3,
   "id": "cfc8ed07",
   "metadata": {},
   "outputs": [
    {
     "data": {
      "text/plain": [
       "CountVectorizer()"
      ]
     },
     "execution_count": 3,
     "metadata": {},
     "output_type": "execute_result"
    }
   ],
   "source": [
    "vectorizer = CountVectorizer()\n",
    "vectorizer.fit(text) # 학습"
   ]
  },
  {
   "cell_type": "code",
   "execution_count": 4,
   "id": "26504cc5",
   "metadata": {},
   "outputs": [
    {
     "name": "stdout",
     "output_type": "stream",
     "text": [
      "{'the': 7, 'quick': 6, 'brown': 0, 'fox': 2, 'jumped': 3, 'over': 5, 'lazy': 4, 'dog': 1}\n"
     ]
    }
   ],
   "source": [
    "# 학습 결과 - 알파벳 순서대로\n",
    "print(vectorizer.vocabulary_)"
   ]
  },
  {
   "cell_type": "code",
   "execution_count": 5,
   "id": "2be20cfd",
   "metadata": {},
   "outputs": [
    {
     "data": {
      "text/plain": [
       "(1, 8)"
      ]
     },
     "execution_count": 5,
     "metadata": {},
     "output_type": "execute_result"
    }
   ],
   "source": [
    "vector = vectorizer.transform(text) # 인코딩(수치화)\n",
    "vector.shape"
   ]
  },
  {
   "cell_type": "code",
   "execution_count": 6,
   "id": "bc18f10d",
   "metadata": {},
   "outputs": [
    {
     "data": {
      "text/plain": [
       "scipy.sparse.csr.csr_matrix"
      ]
     },
     "execution_count": 6,
     "metadata": {},
     "output_type": "execute_result"
    }
   ],
   "source": [
    "type(vector) # 희소 벡터"
   ]
  },
  {
   "cell_type": "code",
   "execution_count": 7,
   "id": "b9a9cb46",
   "metadata": {},
   "outputs": [
    {
     "data": {
      "text/plain": [
       "array([[1, 1, 1, 1, 1, 1, 1, 2]], dtype=int64)"
      ]
     },
     "execution_count": 7,
     "metadata": {},
     "output_type": "execute_result"
    }
   ],
   "source": [
    "vector.toarray() # the가 2번 사용되어서."
   ]
  },
  {
   "cell_type": "code",
   "execution_count": 8,
   "id": "abb06966",
   "metadata": {},
   "outputs": [],
   "source": [
    "text2 = ['the puppy'] \n",
    "vector = vectorizer.transform(text2)"
   ]
  },
  {
   "cell_type": "code",
   "execution_count": 9,
   "id": "3a360046",
   "metadata": {},
   "outputs": [
    {
     "data": {
      "text/plain": [
       "(1, 8)"
      ]
     },
     "execution_count": 9,
     "metadata": {},
     "output_type": "execute_result"
    }
   ],
   "source": [
    "vector.shape"
   ]
  },
  {
   "cell_type": "code",
   "execution_count": 10,
   "id": "205f030e",
   "metadata": {},
   "outputs": [
    {
     "data": {
      "text/plain": [
       "array([[0, 0, 0, 0, 0, 0, 0, 1]], dtype=int64)"
      ]
     },
     "execution_count": 10,
     "metadata": {},
     "output_type": "execute_result"
    }
   ],
   "source": [
    "vector.toarray() # the가 1번 나와서 마지막에 1이 표시됨."
   ]
  },
  {
   "cell_type": "code",
   "execution_count": 12,
   "id": "c74e1434",
   "metadata": {},
   "outputs": [],
   "source": [
    "# TF-IDF(Term Frequency - Inverse Document Frequency) -> 텍스트 마이닝에서 사용하는 가중치.\n",
    "# 많이 사용함.\n",
    "from sklearn.feature_extraction.text import TfidfVectorizer"
   ]
  },
  {
   "cell_type": "code",
   "execution_count": 13,
   "id": "3d7d7bfe",
   "metadata": {},
   "outputs": [],
   "source": [
    "text = ['The quick brown fox jumped over the lazy dog.',\n",
    "       'The dog',\n",
    "       'The fox']"
   ]
  },
  {
   "cell_type": "code",
   "execution_count": 14,
   "id": "63690bd1",
   "metadata": {},
   "outputs": [],
   "source": [
    "vectorizer = TfidfVectorizer()"
   ]
  },
  {
   "cell_type": "code",
   "execution_count": 15,
   "id": "44942efe",
   "metadata": {},
   "outputs": [
    {
     "data": {
      "text/plain": [
       "TfidfVectorizer()"
      ]
     },
     "execution_count": 15,
     "metadata": {},
     "output_type": "execute_result"
    }
   ],
   "source": [
    "vectorizer.fit(text)"
   ]
  },
  {
   "cell_type": "code",
   "execution_count": 16,
   "id": "0aca4775",
   "metadata": {},
   "outputs": [
    {
     "name": "stdout",
     "output_type": "stream",
     "text": [
      "{'the': 7, 'quick': 6, 'brown': 0, 'fox': 2, 'jumped': 3, 'over': 5, 'lazy': 4, 'dog': 1}\n",
      "[1.69314718 1.28768207 1.28768207 1.69314718 1.69314718 1.69314718\n",
      " 1.69314718 1.        ]\n"
     ]
    }
   ],
   "source": [
    "print(vectorizer.vocabulary_)\n",
    "print(vectorizer.idf_) # the -> 1. -> 중요도 낮음."
   ]
  },
  {
   "cell_type": "code",
   "execution_count": 18,
   "id": "ab976411",
   "metadata": {},
   "outputs": [
    {
     "name": "stdout",
     "output_type": "stream",
     "text": [
      "(1, 8)\n",
      "[[0.36388646 0.27674503 0.27674503 0.36388646 0.36388646 0.36388646\n",
      "  0.36388646 0.42983441]]\n"
     ]
    }
   ],
   "source": [
    "vector = vectorizer.transform([text[0]])\n",
    "print(vector.shape)\n",
    "print(vector.toarray()) # dog가 값이 높아 중요도가 높음."
   ]
  },
  {
   "cell_type": "code",
   "execution_count": null,
   "id": "3a9c91e0",
   "metadata": {},
   "outputs": [],
   "source": []
  }
 ],
 "metadata": {
  "kernelspec": {
   "display_name": "Python 3 (ipykernel)",
   "language": "python",
   "name": "python3"
  },
  "language_info": {
   "codemirror_mode": {
    "name": "ipython",
    "version": 3
   },
   "file_extension": ".py",
   "mimetype": "text/x-python",
   "name": "python",
   "nbconvert_exporter": "python",
   "pygments_lexer": "ipython3",
   "version": "3.9.7"
  }
 },
 "nbformat": 4,
 "nbformat_minor": 5
}
