{
 "cells": [
  {
   "cell_type": "code",
   "execution_count": 1,
   "id": "cbc2cc60",
   "metadata": {},
   "outputs": [
    {
     "data": {
      "text/plain": [
       "'2.8.0'"
      ]
     },
     "execution_count": 1,
     "metadata": {},
     "output_type": "execute_result"
    }
   ],
   "source": [
    "import tensorflow as tf \n",
    "tf.__version__"
   ]
  },
  {
   "cell_type": "code",
   "execution_count": 2,
   "id": "8085a4f2",
   "metadata": {},
   "outputs": [],
   "source": [
    "from tensorflow.keras.layers import Input, Dense\n",
    "from tensorflow.keras.models import Model\n",
    "from tensorflow.keras.optimizers import SGD, Adam\n",
    "\n",
    "import numpy as np\n",
    "import pandas as pd \n",
    "import matplotlib.pyplot as plt"
   ]
  },
  {
   "cell_type": "code",
   "execution_count": 3,
   "id": "2347533d",
   "metadata": {},
   "outputs": [],
   "source": [
    "series = np.sin(0.1 * np.arange(200)) # + np.random.randn(200) * 0.1 "
   ]
  },
  {
   "cell_type": "code",
   "execution_count": 4,
   "id": "f50fc536",
   "metadata": {},
   "outputs": [
    {
     "data": {
      "text/plain": [
       "[<matplotlib.lines.Line2D at 0x2425046fb50>]"
      ]
     },
     "execution_count": 4,
     "metadata": {},
     "output_type": "execute_result"
    },
    {
     "data": {
      "image/png": "[encoded data removed]",
      "text/plain": [
       "<Figure size 432x288 with 1 Axes>"
      ]
     },
     "metadata": {
      "needs_background": "light"
     },
     "output_type": "display_data"
    }
   ],
   "source": [
    "plt.plot(series)\n",
    "# plt.show()"
   ]
  },
  {
   "cell_type": "markdown",
   "id": "d8817155",
   "metadata": {},
   "source": [
    "### Build a dataset"
   ]
  },
  {
   "cell_type": "code",
   "execution_count": 5,
   "id": "99d8b51a",
   "metadata": {},
   "outputs": [],
   "source": [
    "T = 10\n",
    "X = []\n",
    "Y = []"
   ]
  },
  {
   "cell_type": "code",
   "execution_count": 6,
   "id": "6c8699ec",
   "metadata": {},
   "outputs": [],
   "source": [
    "for t in range(len(series) - T):\n",
    "    x = series[t : t+T]\n",
    "    X.append(x)\n",
    "    y = series[t+T]\n",
    "    Y.append(y)"
   ]
  },
  {
   "cell_type": "code",
   "execution_count": 7,
   "id": "96e8eea5",
   "metadata": {},
   "outputs": [
    {
     "name": "stdout",
     "output_type": "stream",
     "text": [
      "X.shape:(190, 10), Y.shape:(190,), N.length:190\n"
     ]
    }
   ],
   "source": [
    "X = np.array(X).reshape(-1 ,T)\n",
    "Y = np.array(Y)\n",
    "N = len(X)\n",
    "print(f\"X.shape:{X.shape}, Y.shape:{Y.shape}, N.length:{N}\")"
   ]
  },
  {
   "cell_type": "code",
   "execution_count": 8,
   "id": "9b6d791e",
   "metadata": {},
   "outputs": [
    {
     "name": "stdout",
     "output_type": "stream",
     "text": [
      "Model: \"model\"\n",
      "_________________________________________________________________\n",
      " Layer (type)                Output Shape              Param #   \n",
      "=================================================================\n",
      " input_1 (InputLayer)        [(None, 10)]              0         \n",
      "                                                                 \n",
      " dense (Dense)               (None, 1)                 11        \n",
      "                                                                 \n",
      "=================================================================\n",
      "Total params: 11\n",
      "Trainable params: 11\n",
      "Non-trainable params: 0\n",
      "_________________________________________________________________\n"
     ]
    }
   ],
   "source": [
    "# linear model\n",
    "i = Input(shape=(T, ))\n",
    "x = Dense(1)(i)\n",
    "\n",
    "model = Model(i, x)\n",
    "model.summary()"
   ]
  },
  {
   "cell_type": "code",
   "execution_count": 9,
   "id": "4a5a2fc4",
   "metadata": {},
   "outputs": [
    {
     "name": "stderr",
     "output_type": "stream",
     "text": [
      "C:\\Users\\user\\Desktop\\.ipynb_checkpoints\\lib\\site-packages\\keras\\optimizer_v2\\adam.py:105: UserWarning: The `lr` argument is deprecated, use `learning_rate` instead.\n",
      "  super(Adam, self).__init__(name, **kwargs)\n"
     ]
    }
   ],
   "source": [
    "model.compile(loss='mse', optimizer=Adam(lr=0.1))"
   ]
  },
  {
   "cell_type": "code",
   "execution_count": 10,
   "id": "a5c86d18",
   "metadata": {},
   "outputs": [
    {
     "name": "stdout",
     "output_type": "stream",
     "text": [
      "Epoch 1/80\n",
      "3/3 [==============================] - 0s 48ms/step - loss: 4.1173 - val_loss: 0.8317\n",
      "Epoch 2/80\n",
      "3/3 [==============================] - 0s 11ms/step - loss: 0.7807 - val_loss: 0.9432\n",
      "Epoch 3/80\n",
      "3/3 [==============================] - 0s 11ms/step - loss: 1.4233 - val_loss: 1.2508\n",
      "Epoch 4/80\n",
      "3/3 [==============================] - 0s 10ms/step - loss: 1.0721 - val_loss: 0.5714\n",
      "Epoch 5/80\n",
      "3/3 [==============================] - 0s 9ms/step - loss: 0.3030 - val_loss: 0.2635\n",
      "Epoch 6/80\n",
      "3/3 [==============================] - 0s 11ms/step - loss: 0.3332 - val_loss: 0.3782\n",
      "Epoch 7/80\n",
      "3/3 [==============================] - 0s 10ms/step - loss: 0.4847 - val_loss: 0.2552\n",
      "Epoch 8/80\n",
      "3/3 [==============================] - 0s 11ms/step - loss: 0.2322 - val_loss: 0.0605\n",
      "Epoch 9/80\n",
      "3/3 [==============================] - 0s 10ms/step - loss: 0.0406 - val_loss: 0.0857\n",
      "Epoch 10/80\n",
      "3/3 [==============================] - 0s 12ms/step - loss: 0.0977 - val_loss: 0.1084\n",
      "Epoch 11/80\n",
      "3/3 [==============================] - 0s 11ms/step - loss: 0.0980 - val_loss: 0.0244\n",
      "Epoch 12/80\n",
      "3/3 [==============================] - 0s 12ms/step - loss: 0.0164 - val_loss: 0.0186\n",
      "Epoch 13/80\n",
      "3/3 [==============================] - 0s 10ms/step - loss: 0.0277 - val_loss: 0.0686\n",
      "Epoch 14/80\n",
      "3/3 [==============================] - 0s 10ms/step - loss: 0.0492 - val_loss: 0.0444\n",
      "Epoch 15/80\n",
      "3/3 [==============================] - 0s 11ms/step - loss: 0.0190 - val_loss: 0.0101\n",
      "Epoch 16/80\n",
      "3/3 [==============================] - 0s 10ms/step - loss: 0.0106 - val_loss: 0.0176\n",
      "Epoch 17/80\n",
      "3/3 [==============================] - 0s 9ms/step - loss: 0.0215 - val_loss: 0.0149\n",
      "Epoch 18/80\n",
      "3/3 [==============================] - 0s 10ms/step - loss: 0.0106 - val_loss: 0.0037\n",
      "Epoch 19/80\n",
      "3/3 [==============================] - 0s 10ms/step - loss: 0.0050 - val_loss: 0.0053\n",
      "Epoch 20/80\n",
      "3/3 [==============================] - 0s 10ms/step - loss: 0.0085 - val_loss: 0.0040\n",
      "Epoch 21/80\n",
      "3/3 [==============================] - 0s 11ms/step - loss: 0.0039 - val_loss: 5.5034e-04\n",
      "Epoch 22/80\n",
      "3/3 [==============================] - 0s 10ms/step - loss: 0.0011 - val_loss: 0.0022\n",
      "Epoch 23/80\n",
      "3/3 [==============================] - 0s 10ms/step - loss: 0.0025 - val_loss: 0.0010\n",
      "Epoch 24/80\n",
      "3/3 [==============================] - 0s 11ms/step - loss: 7.7546e-04 - val_loss: 3.2867e-04\n",
      "Epoch 25/80\n",
      "3/3 [==============================] - 0s 12ms/step - loss: 5.6576e-04 - val_loss: 0.0016\n",
      "Epoch 26/80\n",
      "3/3 [==============================] - 0s 10ms/step - loss: 0.0013 - val_loss: 7.6197e-04\n",
      "Epoch 27/80\n",
      "3/3 [==============================] - 0s 10ms/step - loss: 4.0288e-04 - val_loss: 2.6666e-04\n",
      "Epoch 28/80\n",
      "3/3 [==============================] - 0s 9ms/step - loss: 4.9930e-04 - val_loss: 7.6563e-04\n",
      "Epoch 29/80\n",
      "3/3 [==============================] - 0s 10ms/step - loss: 5.6539e-04 - val_loss: 3.4064e-04\n",
      "Epoch 30/80\n",
      "3/3 [==============================] - 0s 10ms/step - loss: 1.8613e-04 - val_loss: 1.8943e-04\n",
      "Epoch 31/80\n",
      "3/3 [==============================] - 0s 10ms/step - loss: 2.5550e-04 - val_loss: 1.5681e-04\n",
      "Epoch 32/80\n",
      "3/3 [==============================] - 0s 11ms/step - loss: 1.2625e-04 - val_loss: 1.3678e-05\n",
      "Epoch 33/80\n",
      "3/3 [==============================] - 0s 10ms/step - loss: 2.6692e-05 - val_loss: 6.5301e-05\n",
      "Epoch 34/80\n",
      "3/3 [==============================] - 0s 10ms/step - loss: 8.2730e-05 - val_loss: 2.7332e-05\n",
      "Epoch 35/80\n",
      "3/3 [==============================] - 0s 10ms/step - loss: 2.2051e-05 - val_loss: 3.2703e-05\n",
      "Epoch 36/80\n",
      "3/3 [==============================] - 0s 11ms/step - loss: 3.5279e-05 - val_loss: 6.2088e-05\n",
      "Epoch 37/80\n",
      "3/3 [==============================] - 0s 11ms/step - loss: 3.4755e-05 - val_loss: 1.4951e-05\n",
      "Epoch 38/80\n",
      "3/3 [==============================] - 0s 10ms/step - loss: 1.1428e-05 - val_loss: 2.2087e-05\n",
      "Epoch 39/80\n",
      "3/3 [==============================] - 0s 10ms/step - loss: 2.5331e-05 - val_loss: 1.7843e-05\n",
      "Epoch 40/80\n",
      "3/3 [==============================] - 0s 10ms/step - loss: 1.0571e-05 - val_loss: 3.7025e-06\n",
      "Epoch 41/80\n",
      "3/3 [==============================] - 0s 11ms/step - loss: 7.6800e-06 - val_loss: 7.5218e-06\n",
      "Epoch 42/80\n",
      "3/3 [==============================] - 0s 10ms/step - loss: 7.5189e-06 - val_loss: 5.7329e-07\n",
      "Epoch 43/80\n",
      "3/3 [==============================] - 0s 10ms/step - loss: 9.7855e-07 - val_loss: 2.6734e-06\n",
      "Epoch 44/80\n",
      "3/3 [==============================] - 0s 10ms/step - loss: 4.1078e-06 - val_loss: 1.4500e-06\n",
      "Epoch 45/80\n",
      "3/3 [==============================] - 0s 10ms/step - loss: 1.4728e-06 - val_loss: 1.6178e-06\n",
      "Epoch 46/80\n",
      "3/3 [==============================] - 0s 10ms/step - loss: 2.1693e-06 - val_loss: 2.3569e-06\n",
      "Epoch 47/80\n",
      "3/3 [==============================] - 0s 10ms/step - loss: 1.5876e-06 - val_loss: 5.4729e-07\n",
      "Epoch 48/80\n",
      "3/3 [==============================] - 0s 10ms/step - loss: 7.8401e-07 - val_loss: 1.8166e-06\n",
      "Epoch 49/80\n",
      "3/3 [==============================] - 0s 10ms/step - loss: 1.2221e-06 - val_loss: 5.9935e-07\n",
      "Epoch 50/80\n",
      "3/3 [==============================] - 0s 9ms/step - loss: 2.6698e-07 - val_loss: 3.2568e-07\n",
      "Epoch 51/80\n",
      "3/3 [==============================] - 0s 9ms/step - loss: 4.4789e-07 - val_loss: 1.9951e-07\n",
      "Epoch 52/80\n",
      "3/3 [==============================] - 0s 10ms/step - loss: 9.7955e-08 - val_loss: 4.2562e-08\n",
      "Epoch 53/80\n",
      "3/3 [==============================] - 0s 9ms/step - loss: 1.8382e-07 - val_loss: 1.4043e-07\n",
      "Epoch 54/80\n",
      "3/3 [==============================] - 0s 9ms/step - loss: 1.2582e-07 - val_loss: 5.7368e-08\n",
      "Epoch 55/80\n",
      "3/3 [==============================] - 0s 11ms/step - loss: 8.5097e-08 - val_loss: 1.4019e-07\n",
      "Epoch 56/80\n",
      "3/3 [==============================] - 0s 10ms/step - loss: 1.0436e-07 - val_loss: 2.4184e-08\n",
      "Epoch 57/80\n",
      "3/3 [==============================] - 0s 11ms/step - loss: 3.4568e-08 - val_loss: 7.5964e-08\n",
      "Epoch 58/80\n",
      "3/3 [==============================] - 0s 10ms/step - loss: 6.3396e-08 - val_loss: 1.9642e-08\n",
      "Epoch 59/80\n",
      "3/3 [==============================] - 0s 9ms/step - loss: 9.8057e-09 - val_loss: 1.8029e-08\n",
      "Epoch 60/80\n",
      "3/3 [==============================] - 0s 10ms/step - loss: 2.3554e-08 - val_loss: 1.4715e-08\n",
      "Epoch 61/80\n",
      "3/3 [==============================] - 0s 9ms/step - loss: 6.2937e-09 - val_loss: 4.3215e-09\n",
      "Epoch 62/80\n",
      "3/3 [==============================] - 0s 9ms/step - loss: 1.3689e-08 - val_loss: 8.7272e-09\n",
      "Epoch 63/80\n",
      "3/3 [==============================] - 0s 10ms/step - loss: 6.1810e-09 - val_loss: 3.4617e-09\n",
      "Epoch 64/80\n",
      "3/3 [==============================] - 0s 10ms/step - loss: 7.5753e-09 - val_loss: 7.5400e-09\n",
      "Epoch 65/80\n",
      "3/3 [==============================] - 0s 9ms/step - loss: 5.6573e-09 - val_loss: 3.0533e-09\n",
      "Epoch 66/80\n",
      "3/3 [==============================] - 0s 10ms/step - loss: 3.6711e-09 - val_loss: 6.2013e-09\n",
      "Epoch 67/80\n",
      "3/3 [==============================] - 0s 9ms/step - loss: 3.3701e-09 - val_loss: 2.5412e-10\n",
      "Epoch 68/80\n",
      "3/3 [==============================] - 0s 10ms/step - loss: 7.8000e-10 - val_loss: 2.5899e-09\n",
      "Epoch 69/80\n",
      "3/3 [==============================] - 0s 10ms/step - loss: 1.9312e-09 - val_loss: 6.3128e-10\n",
      "Epoch 70/80\n",
      "3/3 [==============================] - 0s 10ms/step - loss: 4.4140e-10 - val_loss: 1.0652e-09\n",
      "Epoch 71/80\n",
      "3/3 [==============================] - 0s 10ms/step - loss: 1.3635e-09 - val_loss: 3.7759e-10\n",
      "Epoch 72/80\n",
      "3/3 [==============================] - 0s 9ms/step - loss: 3.1518e-10 - val_loss: 6.2758e-10\n",
      "Epoch 73/80\n",
      "3/3 [==============================] - 0s 10ms/step - loss: 8.0197e-10 - val_loss: 2.4876e-10\n",
      "Epoch 74/80\n",
      "3/3 [==============================] - 0s 10ms/step - loss: 2.3878e-10 - val_loss: 3.8372e-10\n",
      "Epoch 75/80\n",
      "3/3 [==============================] - 0s 9ms/step - loss: 3.6188e-10 - val_loss: 1.2877e-10\n",
      "Epoch 76/80\n",
      "3/3 [==============================] - 0s 10ms/step - loss: 5.6984e-11 - val_loss: 1.2608e-10\n",
      "Epoch 77/80\n",
      "3/3 [==============================] - 0s 10ms/step - loss: 1.6439e-10 - val_loss: 1.2898e-10\n",
      "Epoch 78/80\n",
      "3/3 [==============================] - 0s 10ms/step - loss: 6.0256e-11 - val_loss: 4.8197e-11\n",
      "Epoch 79/80\n",
      "3/3 [==============================] - 0s 10ms/step - loss: 9.2794e-11 - val_loss: 6.6351e-11\n",
      "Epoch 80/80\n"
     ]
    },
    {
     "name": "stdout",
     "output_type": "stream",
     "text": [
      "1/3 [=========>....................] - ETA: 0s - loss: 6.6090e-11\b\b\b\b\b\b\b\b\b\b\b\b\b\b\b\b\b\b\b\b\b\b\b\b\b\b\b\b\b\b\b\b\b\b\b\b\b\b\b\b\b\b\b\b\b\b\b\b\b\b\b\b\b\b\b\b\b\b\b\b\b\b\b\b\b\r",
      "3/3 [==============================] - 0s 10ms/step - loss: 3.9953e-11 - val_loss: 4.1339e-11\n"
     ]
    }
   ],
   "source": [
    "# train the model\n",
    "# X:학습데이터, Y:정답데이터, epochs=80, validation_data:검증 데이터 \n",
    "r = model.fit(X[:-N//2], Y[:-N//2], epochs=80, validation_data=(X[-N//2:], Y[-N//2:]))"
   ]
  },
  {
   "cell_type": "code",
   "execution_count": 11,
   "id": "2603d315",
   "metadata": {},
   "outputs": [
    {
     "data": {
      "text/plain": [
       "<matplotlib.legend.Legend at 0x2425203b250>"
      ]
     },
     "execution_count": 11,
     "metadata": {},
     "output_type": "execute_result"
    },
    {
     "data": {
      "image/png": "[encoded data removed]",
      "text/plain": [
       "<Figure size 432x288 with 1 Axes>"
      ]
     },
     "metadata": {
      "needs_background": "light"
     },
     "output_type": "display_data"
    }
   ],
   "source": [
    "plt.plot(r.history['loss'], label='loss')\n",
    "plt.plot(r.history['val_loss'], label='val_loss')\n",
    "plt.legend()"
   ]
  },
  {
   "cell_type": "markdown",
   "id": "43580146",
   "metadata": {},
   "source": [
    "### \"Wrong\" forecast usring true targets"
   ]
  },
  {
   "cell_type": "code",
   "execution_count": 12,
   "id": "cbc12da3",
   "metadata": {},
   "outputs": [],
   "source": [
    "validation_target = Y[-N//2:]\n",
    "validation_predictions = []\n",
    "\n",
    "i = -N//2 \n",
    "while len(validation_predictions) < len(validation_target):\n",
    "    p = model.predict(X[i].reshape(1, -1))[0,0] # 1x1 array -> scalar\n",
    "    i += 1\n",
    "    \n",
    "    validation_predictions.append(p)"
   ]
  },
  {
   "cell_type": "code",
   "execution_count": 13,
   "id": "4690175a",
   "metadata": {},
   "outputs": [
    {
     "data": {
      "text/plain": [
       "<matplotlib.legend.Legend at 0x242522c71f0>"
      ]
     },
     "execution_count": 13,
     "metadata": {},
     "output_type": "execute_result"
    },
    {
     "data": {
      "image/png": "[encoded data removed]",
      "text/plain": [
       "<Figure size 432x288 with 1 Axes>"
      ]
     },
     "metadata": {
      "needs_background": "light"
     },
     "output_type": "display_data"
    }
   ],
   "source": [
    "plt.plot(validation_target, label='forecast_target')\n",
    "plt.plot(validation_predictions, label='forecast_prediction')\n",
    "plt.legend()"
   ]
  },
  {
   "cell_type": "code",
   "execution_count": 14,
   "id": "5b6a4582",
   "metadata": {},
   "outputs": [],
   "source": [
    "validation_target = Y[-N//2:]\n",
    "validation_predictions = []\n",
    "\n",
    "# last train input \n",
    "last_x = X[-N//2]"
   ]
  },
  {
   "cell_type": "code",
   "execution_count": 15,
   "id": "cad22ca8",
   "metadata": {},
   "outputs": [
    {
     "name": "stdout",
     "output_type": "stream",
     "text": [
      "95\n",
      "[-0.07515112 -0.17432678 -0.27176063 -0.36647913 -0.45753589 -0.54402111\n",
      " -0.62507065 -0.69987469 -0.76768581 -0.82782647]\n"
     ]
    }
   ],
   "source": [
    "print(len(validation_target))\n",
    "print(last_x)"
   ]
  },
  {
   "cell_type": "code",
   "execution_count": 16,
   "id": "8bc94358",
   "metadata": {},
   "outputs": [
    {
     "name": "stdout",
     "output_type": "stream",
     "text": [
      "[[-0.07515112 -0.17432678 -0.27176063 -0.36647913 -0.45753589 -0.54402111\n",
      "  -0.62507065 -0.69987469 -0.76768581 -0.82782647]]\n"
     ]
    }
   ],
   "source": [
    "print(last_x.reshape(1, -1))"
   ]
  },
  {
   "cell_type": "code",
   "execution_count": 17,
   "id": "1c718faf",
   "metadata": {},
   "outputs": [
    {
     "name": "stdout",
     "output_type": "stream",
     "text": [
      "-0.87969255\n"
     ]
    }
   ],
   "source": [
    "print(model.predict(last_x.reshape(1, -1))[0,0])"
   ]
  },
  {
   "cell_type": "code",
   "execution_count": 18,
   "id": "67bb9e1b",
   "metadata": {},
   "outputs": [],
   "source": [
    "while len(validation_predictions) < len(validation_target):\n",
    "    p = model.predict(last_x.reshape(1, -1))[0,0] # 1x1 array -> scalar\n",
    "    validation_predictions.append(p)\n",
    "    \n",
    "    last_x = np.roll(last_x, -1)\n",
    "    last_x[-1] = p"
   ]
  },
  {
   "cell_type": "code",
   "execution_count": 19,
   "id": "4939b28c",
   "metadata": {},
   "outputs": [
    {
     "data": {
      "text/plain": [
       "<matplotlib.legend.Legend at 0x24250b89190>"
      ]
     },
     "execution_count": 19,
     "metadata": {},
     "output_type": "execute_result"
    },
    {
     "data": {
      "image/png": "[encoded data removed]",
      "text/plain": [
       "<Figure size 432x288 with 1 Axes>"
      ]
     },
     "metadata": {
      "needs_background": "light"
     },
     "output_type": "display_data"
    }
   ],
   "source": [
    "plt.plot(validation_target, label='forecast_target')\n",
    "plt.plot(validation_predictions, label='forecast_prediction')\n",
    "plt.legend()"
   ]
  },
  {
   "cell_type": "markdown",
   "id": "db832970",
   "metadata": {},
   "source": [
    "### Noise examples"
   ]
  },
  {
   "cell_type": "code",
   "execution_count": 20,
   "id": "2485d7d1",
   "metadata": {},
   "outputs": [
    {
     "data": {
      "image/png": "[encoded data removed]",
      "text/plain": [
       "<Figure size 432x288 with 1 Axes>"
      ]
     },
     "metadata": {
      "needs_background": "light"
     },
     "output_type": "display_data"
    }
   ],
   "source": [
    "series = np.sin(0.1 * np.arange(200)) + np.random.randn(200) * 0.1\n",
    "\n",
    "plt.plot(series)\n",
    "plt.show()"
   ]
  },
  {
   "cell_type": "code",
   "execution_count": 21,
   "id": "47dbd052",
   "metadata": {},
   "outputs": [],
   "source": [
    "T = 10\n",
    "X = []\n",
    "Y = []\n",
    "for t in range(len(series) - T):\n",
    "    x = series[t : t+T]\n",
    "    X.append(x)\n",
    "    y = series[t+T]\n",
    "    Y.append(y)"
   ]
  },
  {
   "cell_type": "code",
   "execution_count": 22,
   "id": "fdd7c61d",
   "metadata": {},
   "outputs": [
    {
     "name": "stdout",
     "output_type": "stream",
     "text": [
      "X.shape:(190, 10), Y.shape:(190,), N.length:190\n"
     ]
    }
   ],
   "source": [
    "X = np.array(X).reshape(-1 ,T)\n",
    "Y = np.array(Y)\n",
    "N = len(X)\n",
    "print(f\"X.shape:{X.shape}, Y.shape:{Y.shape}, N.length:{N}\")"
   ]
  },
  {
   "cell_type": "code",
   "execution_count": 23,
   "id": "75a9ef3c",
   "metadata": {},
   "outputs": [
    {
     "name": "stderr",
     "output_type": "stream",
     "text": [
      "C:\\Users\\user\\Desktop\\.ipynb_checkpoints\\lib\\site-packages\\keras\\optimizer_v2\\adam.py:105: UserWarning: The `lr` argument is deprecated, use `learning_rate` instead.\n",
      "  super(Adam, self).__init__(name, **kwargs)\n"
     ]
    }
   ],
   "source": [
    "i = Input(shape=(T,))\n",
    "x = Dense(1)(i)\n",
    "model = Model(i, x)\n",
    "model.compile(loss='mse', optimizer=Adam(lr=0.1))"
   ]
  },
  {
   "cell_type": "code",
   "execution_count": 24,
   "id": "0b11c75f",
   "metadata": {},
   "outputs": [
    {
     "name": "stdout",
     "output_type": "stream",
     "text": [
      "Epoch 1/80\n",
      "3/3 [==============================] - 0s 65ms/step - loss: 0.6102 - val_loss: 0.4451\n",
      "Epoch 2/80\n",
      "3/3 [==============================] - 0s 13ms/step - loss: 0.3533 - val_loss: 0.1339\n",
      "Epoch 3/80\n",
      "3/3 [==============================] - 0s 14ms/step - loss: 0.1622 - val_loss: 0.1410\n",
      "Epoch 4/80\n",
      "3/3 [==============================] - 0s 13ms/step - loss: 0.1225 - val_loss: 0.0488\n",
      "Epoch 5/80\n",
      "3/3 [==============================] - 0s 16ms/step - loss: 0.0717 - val_loss: 0.0893\n",
      "Epoch 6/80\n",
      "3/3 [==============================] - 0s 16ms/step - loss: 0.0704 - val_loss: 0.0497\n",
      "Epoch 7/80\n",
      "3/3 [==============================] - 0s 19ms/step - loss: 0.0678 - val_loss: 0.1025\n",
      "Epoch 8/80\n",
      "3/3 [==============================] - 0s 14ms/step - loss: 0.0733 - val_loss: 0.0624\n",
      "Epoch 9/80\n",
      "3/3 [==============================] - 0s 19ms/step - loss: 0.0519 - val_loss: 0.0569\n",
      "Epoch 10/80\n",
      "3/3 [==============================] - 0s 15ms/step - loss: 0.0512 - val_loss: 0.0383\n",
      "Epoch 11/80\n",
      "3/3 [==============================] - 0s 13ms/step - loss: 0.0377 - val_loss: 0.0355\n",
      "Epoch 12/80\n",
      "3/3 [==============================] - 0s 13ms/step - loss: 0.0394 - val_loss: 0.0301\n",
      "Epoch 13/80\n",
      "3/3 [==============================] - 0s 11ms/step - loss: 0.0314 - val_loss: 0.0367\n",
      "Epoch 14/80\n",
      "3/3 [==============================] - 0s 17ms/step - loss: 0.0350 - val_loss: 0.0304\n",
      "Epoch 15/80\n",
      "3/3 [==============================] - 0s 16ms/step - loss: 0.0322 - val_loss: 0.0325\n",
      "Epoch 16/80\n",
      "3/3 [==============================] - 0s 17ms/step - loss: 0.0324 - val_loss: 0.0287\n",
      "Epoch 17/80\n",
      "3/3 [==============================] - 0s 14ms/step - loss: 0.0337 - val_loss: 0.0317\n",
      "Epoch 18/80\n",
      "3/3 [==============================] - 0s 17ms/step - loss: 0.0289 - val_loss: 0.0267\n",
      "Epoch 19/80\n",
      "3/3 [==============================] - 0s 15ms/step - loss: 0.0286 - val_loss: 0.0264\n",
      "Epoch 20/80\n",
      "3/3 [==============================] - 0s 15ms/step - loss: 0.0257 - val_loss: 0.0269\n",
      "Epoch 21/80\n",
      "3/3 [==============================] - 0s 21ms/step - loss: 0.0277 - val_loss: 0.0260\n",
      "Epoch 22/80\n",
      "3/3 [==============================] - 0s 19ms/step - loss: 0.0291 - val_loss: 0.0283\n",
      "Epoch 23/80\n",
      "3/3 [==============================] - 0s 15ms/step - loss: 0.0259 - val_loss: 0.0251\n",
      "Epoch 24/80\n",
      "3/3 [==============================] - 0s 17ms/step - loss: 0.0250 - val_loss: 0.0252\n",
      "Epoch 25/80\n",
      "3/3 [==============================] - 0s 15ms/step - loss: 0.0251 - val_loss: 0.0240\n",
      "Epoch 26/80\n",
      "3/3 [==============================] - 0s 13ms/step - loss: 0.0233 - val_loss: 0.0229\n",
      "Epoch 27/80\n",
      "3/3 [==============================] - 0s 16ms/step - loss: 0.0230 - val_loss: 0.0227\n",
      "Epoch 28/80\n",
      "3/3 [==============================] - 0s 17ms/step - loss: 0.0227 - val_loss: 0.0232\n",
      "Epoch 29/80\n",
      "3/3 [==============================] - 0s 14ms/step - loss: 0.0226 - val_loss: 0.0226\n",
      "Epoch 30/80\n",
      "3/3 [==============================] - 0s 20ms/step - loss: 0.0213 - val_loss: 0.0215\n",
      "Epoch 31/80\n",
      "3/3 [==============================] - 0s 17ms/step - loss: 0.0212 - val_loss: 0.0227\n",
      "Epoch 32/80\n",
      "3/3 [==============================] - 0s 15ms/step - loss: 0.0207 - val_loss: 0.0216\n",
      "Epoch 33/80\n",
      "3/3 [==============================] - 0s 21ms/step - loss: 0.0211 - val_loss: 0.0213\n",
      "Epoch 34/80\n",
      "3/3 [==============================] - 0s 17ms/step - loss: 0.0189 - val_loss: 0.0216\n",
      "Epoch 35/80\n",
      "3/3 [==============================] - 0s 17ms/step - loss: 0.0203 - val_loss: 0.0206\n",
      "Epoch 36/80\n",
      "3/3 [==============================] - 0s 15ms/step - loss: 0.0193 - val_loss: 0.0210\n",
      "Epoch 37/80\n",
      "3/3 [==============================] - 0s 18ms/step - loss: 0.0192 - val_loss: 0.0206\n",
      "Epoch 38/80\n",
      "3/3 [==============================] - 0s 15ms/step - loss: 0.0186 - val_loss: 0.0201\n",
      "Epoch 39/80\n",
      "3/3 [==============================] - 0s 17ms/step - loss: 0.0182 - val_loss: 0.0203\n",
      "Epoch 40/80\n",
      "3/3 [==============================] - 0s 11ms/step - loss: 0.0182 - val_loss: 0.0199\n",
      "Epoch 41/80\n",
      "3/3 [==============================] - 0s 16ms/step - loss: 0.0180 - val_loss: 0.0197\n",
      "Epoch 42/80\n",
      "3/3 [==============================] - 0s 18ms/step - loss: 0.0178 - val_loss: 0.0198\n",
      "Epoch 43/80\n",
      "3/3 [==============================] - 0s 17ms/step - loss: 0.0176 - val_loss: 0.0197\n",
      "Epoch 44/80\n",
      "3/3 [==============================] - 0s 13ms/step - loss: 0.0178 - val_loss: 0.0195\n",
      "Epoch 45/80\n",
      "3/3 [==============================] - 0s 18ms/step - loss: 0.0172 - val_loss: 0.0196\n",
      "Epoch 46/80\n",
      "3/3 [==============================] - 0s 18ms/step - loss: 0.0179 - val_loss: 0.0194\n",
      "Epoch 47/80\n",
      "3/3 [==============================] - 0s 17ms/step - loss: 0.0175 - val_loss: 0.0196\n",
      "Epoch 48/80\n",
      "3/3 [==============================] - 0s 15ms/step - loss: 0.0173 - val_loss: 0.0199\n",
      "Epoch 49/80\n",
      "3/3 [==============================] - 0s 13ms/step - loss: 0.0174 - val_loss: 0.0192\n",
      "Epoch 50/80\n",
      "3/3 [==============================] - 0s 13ms/step - loss: 0.0174 - val_loss: 0.0193\n",
      "Epoch 51/80\n",
      "3/3 [==============================] - 0s 13ms/step - loss: 0.0169 - val_loss: 0.0197\n",
      "Epoch 52/80\n",
      "3/3 [==============================] - 0s 13ms/step - loss: 0.0174 - val_loss: 0.0195\n",
      "Epoch 53/80\n",
      "3/3 [==============================] - 0s 16ms/step - loss: 0.0171 - val_loss: 0.0192\n",
      "Epoch 54/80\n",
      "3/3 [==============================] - 0s 14ms/step - loss: 0.0183 - val_loss: 0.0192\n",
      "Epoch 55/80\n",
      "3/3 [==============================] - 0s 13ms/step - loss: 0.0183 - val_loss: 0.0199\n",
      "Epoch 56/80\n",
      "3/3 [==============================] - 0s 13ms/step - loss: 0.0207 - val_loss: 0.0221\n",
      "Epoch 57/80\n",
      "3/3 [==============================] - 0s 13ms/step - loss: 0.0182 - val_loss: 0.0212\n",
      "Epoch 58/80\n",
      "3/3 [==============================] - 0s 14ms/step - loss: 0.0183 - val_loss: 0.0200\n",
      "Epoch 59/80\n",
      "3/3 [==============================] - 0s 12ms/step - loss: 0.0194 - val_loss: 0.0191\n",
      "Epoch 60/80\n",
      "3/3 [==============================] - 0s 14ms/step - loss: 0.0215 - val_loss: 0.0196\n",
      "Epoch 61/80\n",
      "3/3 [==============================] - 0s 17ms/step - loss: 0.0203 - val_loss: 0.0240\n",
      "Epoch 62/80\n",
      "3/3 [==============================] - 0s 17ms/step - loss: 0.0193 - val_loss: 0.0219\n",
      "Epoch 63/80\n",
      "3/3 [==============================] - 0s 15ms/step - loss: 0.0180 - val_loss: 0.0203\n",
      "Epoch 64/80\n",
      "3/3 [==============================] - 0s 16ms/step - loss: 0.0185 - val_loss: 0.0191\n",
      "Epoch 65/80\n",
      "3/3 [==============================] - 0s 18ms/step - loss: 0.0198 - val_loss: 0.0195\n",
      "Epoch 66/80\n",
      "3/3 [==============================] - 0s 15ms/step - loss: 0.0172 - val_loss: 0.0209\n",
      "Epoch 67/80\n",
      "3/3 [==============================] - 0s 13ms/step - loss: 0.0176 - val_loss: 0.0218\n",
      "Epoch 68/80\n",
      "3/3 [==============================] - 0s 15ms/step - loss: 0.0191 - val_loss: 0.0193\n",
      "Epoch 69/80\n",
      "3/3 [==============================] - 0s 15ms/step - loss: 0.0169 - val_loss: 0.0192\n",
      "Epoch 70/80\n",
      "3/3 [==============================] - 0s 15ms/step - loss: 0.0172 - val_loss: 0.0192\n",
      "Epoch 71/80\n",
      "3/3 [==============================] - 0s 18ms/step - loss: 0.0160 - val_loss: 0.0203\n",
      "Epoch 72/80\n",
      "3/3 [==============================] - 0s 16ms/step - loss: 0.0184 - val_loss: 0.0191\n",
      "Epoch 73/80\n",
      "3/3 [==============================] - 0s 17ms/step - loss: 0.0170 - val_loss: 0.0200\n",
      "Epoch 74/80\n",
      "3/3 [==============================] - 0s 14ms/step - loss: 0.0161 - val_loss: 0.0201\n",
      "Epoch 75/80\n",
      "3/3 [==============================] - 0s 17ms/step - loss: 0.0170 - val_loss: 0.0192\n",
      "Epoch 76/80\n",
      "3/3 [==============================] - 0s 13ms/step - loss: 0.0170 - val_loss: 0.0191\n",
      "Epoch 77/80\n",
      "3/3 [==============================] - 0s 14ms/step - loss: 0.0166 - val_loss: 0.0193\n",
      "Epoch 78/80\n",
      "3/3 [==============================] - 0s 17ms/step - loss: 0.0168 - val_loss: 0.0192\n",
      "Epoch 79/80\n",
      "3/3 [==============================] - 0s 18ms/step - loss: 0.0182 - val_loss: 0.0192\n",
      "Epoch 80/80\n",
      "3/3 [==============================] - 0s 18ms/step - loss: 0.0183 - val_loss: 0.0199\n"
     ]
    }
   ],
   "source": [
    "r = model.fit(X[:-N//2], Y[:-N//2], epochs=80, validation_data=(X[-N//2:], Y[-N//2:]))"
   ]
  },
  {
   "cell_type": "code",
   "execution_count": 25,
   "id": "f5b6c4b7",
   "metadata": {},
   "outputs": [
    {
     "data": {
      "text/plain": [
       "<matplotlib.legend.Legend at 0x242522807f0>"
      ]
     },
     "execution_count": 25,
     "metadata": {},
     "output_type": "execute_result"
    },
    {
     "data": {
      "image/png": "[encoded data removed]",
      "text/plain": [
       "<Figure size 432x288 with 1 Axes>"
      ]
     },
     "metadata": {
      "needs_background": "light"
     },
     "output_type": "display_data"
    }
   ],
   "source": [
    "plt.plot(r.history['loss'], label='loss')\n",
    "plt.plot(r.history['val_loss'], label='val_loss')\n",
    "plt.legend()"
   ]
  },
  {
   "cell_type": "code",
   "execution_count": 26,
   "id": "7542402e",
   "metadata": {},
   "outputs": [],
   "source": [
    "validation_target = Y[-N//2:]\n",
    "validation_predictions = []\n",
    "i = -N//2\n",
    "\n",
    "while len(validation_predictions) < len(validation_target):\n",
    "    p = model.predict(X[i].reshape(1, -1))[0,0]\n",
    "    i += 1\n",
    "    \n",
    "    validation_predictions.append(p)"
   ]
  },
  {
   "cell_type": "code",
   "execution_count": 27,
   "id": "cbecd895",
   "metadata": {},
   "outputs": [
    {
     "data": {
      "text/plain": [
       "<matplotlib.legend.Legend at 0x242534ce6a0>"
      ]
     },
     "execution_count": 27,
     "metadata": {},
     "output_type": "execute_result"
    },
    {
     "data": {
      "image/png": "[encoded data removed]",
      "text/plain": [
       "<Figure size 432x288 with 1 Axes>"
      ]
     },
     "metadata": {
      "needs_background": "light"
     },
     "output_type": "display_data"
    }
   ],
   "source": [
    "plt.plot(validation_target, label='forecast_target')\n",
    "plt.plot(validation_predictions, label='forecast_predictions')\n",
    "plt.legend()"
   ]
  },
  {
   "cell_type": "code",
   "execution_count": 28,
   "id": "0ddd42e7",
   "metadata": {},
   "outputs": [],
   "source": [
    "validation_target = Y[-N//2:]\n",
    "validation_predictions = []\n",
    "\n",
    "last_x = X[-N//2]\n",
    "while len(validation_predictions) < len(validation_target):\n",
    "    p = model.predict(last_x.reshape(1, -1))[0,0] # 1x1 array -> scalar\n",
    "    validation_predictions.append(p)\n",
    "    \n",
    "    last_x = np.roll(last_x, -1)\n",
    "    last_x[-1] = p"
   ]
  },
  {
   "cell_type": "code",
   "execution_count": 29,
   "id": "c314fcf8",
   "metadata": {},
   "outputs": [
    {
     "data": {
      "text/plain": [
       "<matplotlib.legend.Legend at 0x24252000fd0>"
      ]
     },
     "execution_count": 29,
     "metadata": {},
     "output_type": "execute_result"
    },
    {
     "data": {
      "image/png": "[encoded data removed]",
      "text/plain": [
       "<Figure size 432x288 with 1 Axes>"
      ]
     },
     "metadata": {
      "needs_background": "light"
     },
     "output_type": "display_data"
    }
   ],
   "source": [
    "plt.plot(validation_target, label='forecast_target')\n",
    "plt.plot(validation_predictions, label='forecast_predictions')\n",
    "plt.legend()"
   ]
  },
  {
   "cell_type": "code",
   "execution_count": 30,
   "id": "6be9e735",
   "metadata": {},
   "outputs": [
    {
     "name": "stdout",
     "output_type": "stream",
     "text": [
      "[0.63539934 0.59713656 0.5511409  0.49811056 0.43882984 0.37417534\n",
      " 0.30508798 0.23257095 0.15766767 0.08145006]\n"
     ]
    }
   ],
   "source": [
    "print(last_x)"
   ]
  },
  {
   "cell_type": "code",
   "execution_count": null,
   "id": "43ab92c6",
   "metadata": {},
   "outputs": [],
   "source": []
  }
 ],
 "metadata": {
  "kernelspec": {
   "display_name": "Python 3 (ipykernel)",
   "language": "python",
   "name": "python3"
  },
  "language_info": {
   "codemirror_mode": {
    "name": "ipython",
    "version": 3
   },
   "file_extension": ".py",
   "mimetype": "text/x-python",
   "name": "python",
   "nbconvert_exporter": "python",
   "pygments_lexer": "ipython3",
   "version": "3.9.7"
  }
 },
 "nbformat": 4,
 "nbformat_minor": 5
}
