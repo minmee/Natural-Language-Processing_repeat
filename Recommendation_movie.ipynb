{
 "cells": [
  {
   "cell_type": "code",
   "execution_count": 1,
   "id": "980c58b0",
   "metadata": {},
   "outputs": [],
   "source": [
    "%matplotlib inline\n",
    "import matplotlib.pyplot as plt\n",
    "from matplotlib import font_manager, rc\n",
    "from math import sqrt\n",
    "# # Windows\n",
    "# font_name = font_manager.FontProperties(fname=\"c:/Windows/Fonts/malgun.ttf\").get_name()\n",
    "# rc('font', family=font_name)\n",
    "# MacOS\n",
    "font_name = font_manager.FontProperties(fname='/System/Library/Fonts/Supplemental/AppleGothic.ttf') \\\n",
    "                .get_name()\n",
    "rc('font', family=font_name)"
   ]
  },
  {
   "cell_type": "code",
   "execution_count": null,
   "id": "2adc5990",
   "metadata": {},
   "outputs": [],
   "source": [
    "from ratings import ratings\n",
    "ratings"
   ]
  },
  {
   "cell_type": "code",
   "execution_count": 3,
   "id": "fe9aaefe",
   "metadata": {},
   "outputs": [],
   "source": [
    "def draw_chart(data, name1, name2):\n",
    "    plt.figure(figsize=(8, 5))\n",
    "    x_ratings = []\n",
    "    y_ratings = []\n",
    "    for i in ratings[name1]: # i = 키값 \n",
    "        if i in data[name2]: # 같은 영화를 평가했을때만 처리 \n",
    "            x_ratings.append(ratings[name1][i])\n",
    "            y_ratings.append(ratings[name2][i])\n",
    "            plt.text(ratings[name1][i], ratings[name2][i], i) # 영화 제목을 text로 출력 \n",
    "    plt.plot(x_ratings, y_ratings, 'g^')\n",
    "    plt.axis([0,6,0,6])\n",
    "    plt.xlabel(name1)\n",
    "    plt.ylabel(name2)\n",
    "    plt.show()"
   ]
  },
  {
   "cell_type": "code",
   "execution_count": 12,
   "id": "e5b94b73",
   "metadata": {},
   "outputs": [
    {
     "data": {
      "image/png": "[encoded data removed]",
      "text/plain": [
       "<Figure size 576x360 with 1 Axes>"
      ]
     },
     "metadata": {
      "needs_background": "light"
     },
     "output_type": "display_data"
    }
   ],
   "source": [
    "draw_chart(ratings, 'user5', 'user8')"
   ]
  },
  {
   "cell_type": "code",
   "execution_count": 9,
   "id": "b81bf99e",
   "metadata": {},
   "outputs": [],
   "source": [
    "def pearson_correlation_coefficient(data, name1, name2):\n",
    "    sumX = 0 # X의 합\n",
    "    sumY = 0 # Y의 합\n",
    "    sumPowX = 0 # X 제곱의 \n",
    "    sumPowY = 0 # Y 제곱의 합\n",
    "    sumXY = 0 # X * Y의 합\n",
    "    count = 0 # 평점을 준 영화 개수 \n",
    "    \n",
    "    for movie in data[name1]: #i = key \n",
    "        if movie in data[name2]: # 같은 영화를 평가 했을때만 처리 \n",
    "            sumX += data[name1][movie]\n",
    "            sumY += data[name2][movie]\n",
    "            sumPowX += pow(data[name1][movie], 2)\n",
    "            sumPowY += pow(data[name2][movie], 2)\n",
    "            sumXY += data[name1][movie] * data[name2][movie]\n",
    "            count += 1\n",
    "    \n",
    "    return (sumXY - ((sumX * sumY) / count) ) / sqrt((sumPowX - (pow(sumX,2) / count)) * (sumPowY - (pow(sumY,2) / count)))"
   ]
  },
  {
   "cell_type": "code",
   "execution_count": 10,
   "id": "e721d401",
   "metadata": {},
   "outputs": [
    {
     "data": {
      "text/plain": [
       "0.4950737714883372"
      ]
     },
     "execution_count": 10,
     "metadata": {},
     "output_type": "execute_result"
    }
   ],
   "source": [
    "pearson_correlation_coefficient(ratings, 'user1', 'user3')"
   ]
  },
  {
   "cell_type": "code",
   "execution_count": 11,
   "id": "63ad4aa8",
   "metadata": {},
   "outputs": [
    {
     "data": {
      "text/plain": [
       "-0.9244734516419049"
      ]
     },
     "execution_count": 11,
     "metadata": {},
     "output_type": "execute_result"
    }
   ],
   "source": [
    "pearson_correlation_coefficient(ratings, 'user5', 'user8')"
   ]
  },
  {
   "cell_type": "code",
   "execution_count": 19,
   "id": "79eaf6a6",
   "metadata": {},
   "outputs": [],
   "source": [
    "def nearest_user(data, name, index=3):\n",
    "    result = []\n",
    "    for u in data:\n",
    "        if name != u:\n",
    "            result.append((pearson_correlation_coefficient(data, name, u), u))\n",
    "    \n",
    "    result.sort()\n",
    "    result.reverse()\n",
    "    \n",
    "    return result[:index]"
   ]
  },
  {
   "cell_type": "code",
   "execution_count": 34,
   "id": "912c73b4",
   "metadata": {},
   "outputs": [
    {
     "data": {
      "text/plain": [
       "[(0.9912407071619299, 'user1'),\n",
       " (0.8105674873765092, 'user9'),\n",
       " (0.7924058156930613, 'user7'),\n",
       " (0.5921369082129398, 'user3'),\n",
       " (0.13206763594884355, 'user6')]"
      ]
     },
     "execution_count": 34,
     "metadata": {},
     "output_type": "execute_result"
    }
   ],
   "source": [
    "nearest_user(ratings, 'user8', 5)"
   ]
  },
  {
   "cell_type": "markdown",
   "id": "8c5c63f0",
   "metadata": {},
   "source": [
    "#### SciPy pearsonr 함수 사용"
   ]
  },
  {
   "cell_type": "code",
   "execution_count": 23,
   "id": "e1fd8534",
   "metadata": {},
   "outputs": [
    {
     "name": "stdout",
     "output_type": "stream",
     "text": [
      "(0.4950737714883372, 0.3180601480969472)\n",
      "(-0.29887031841660666, 0.6252100234026372)\n"
     ]
    }
   ],
   "source": [
    "user1 = [2.5,3.5,3.0,3.5,2.5,3.0]\n",
    "user3 = [3.0,3.5,1.5,5.0,3.0,3.5]\n",
    "user5 = [3.5,3.0,4.5,4.0,2.5]\n",
    "user9 = [3.7,4.0,3.0,4.9,4.1]\n",
    "import scipy.stats as stats\n",
    "corr1 = stats.pearsonr(user1, user3)\n",
    "corr2 = stats.pearsonr(user5, user9)\n",
    "print(corr1)\n",
    "print(corr2)"
   ]
  },
  {
   "cell_type": "code",
   "execution_count": 28,
   "id": "cafcb836",
   "metadata": {},
   "outputs": [],
   "source": [
    "def get_recommendation_movie(data, user):\n",
    "    rcmmdList = []\n",
    "    result = nearest_user(data, user, len(data))\n",
    "    \n",
    "    score = 0 \n",
    "    score_dic = {} # 평점 총합을 위한 dict\n",
    "    similarity_dic = {} # 유사도 총합을 위한 dict\n",
    "    \n",
    "    for similarity, name in result:\n",
    "        # 1. similirity == 0 -> 무시\n",
    "        if similarity < 0:\n",
    "            continue\n",
    "            \n",
    "        # 2. name이 평가하지 않은 영화에 대해서 처리 \n",
    "        for movie in data[name]:\n",
    "            if movie not in data[user]: \n",
    "                score += similarity * data[name][movie] # 3. 영화평점 * 유사도\n",
    "                score_dic.setdefault(movie, 0) # 기본값 설정 \n",
    "                score_dic[movie] += score # 합계 구하기 \n",
    "                \n",
    "                # 4. 조건에 맞는 사람의 유사도의 누적합 구하기 \n",
    "                similarity_dic.setdefault(movie, 0)\n",
    "                similarity_dic[movie] += similarity\n",
    "            \n",
    "            score = 0 \n",
    "    \n",
    "    # 평점 총합/유사도 총합 \n",
    "    for key in score_dic: \n",
    "        score_dic[key] = score_dic[key] / similarity_dic[key]\n",
    "        rcmmdList.append((score_dic[key], key))\n",
    "    \n",
    "    rcmmdList.sort()\n",
    "    rcmmdList.reverse()\n",
    "    \n",
    "    return rcmmdList"
   ]
  },
  {
   "cell_type": "code",
   "execution_count": 33,
   "id": "0b2fa876",
   "metadata": {},
   "outputs": [
    {
     "data": {
      "text/plain": [
       "[(3.2233799819183644, '스파이더맨'),\n",
       " (3.0216298475933865, '더배트맨'),\n",
       " (2.9490704222575337, '엔칸토')]"
      ]
     },
     "execution_count": 33,
     "metadata": {},
     "output_type": "execute_result"
    }
   ],
   "source": [
    "get_recommendation_movie(ratings, 'user8')"
   ]
  },
  {
   "cell_type": "code",
   "execution_count": 36,
   "id": "fa8b2bb5",
   "metadata": {},
   "outputs": [
    {
     "data": {
      "image/png": "[encoded data removed]",
      "text/plain": [
       "<Figure size 576x360 with 1 Axes>"
      ]
     },
     "metadata": {
      "needs_background": "light"
     },
     "output_type": "display_data"
    }
   ],
   "source": [
    "draw_chart(ratings, 'user8', 'user1')"
   ]
  },
  {
   "cell_type": "code",
   "execution_count": 37,
   "id": "dc5ce4ce",
   "metadata": {},
   "outputs": [
    {
     "name": "stdout",
     "output_type": "stream",
     "text": [
      "0.3261742025200799\n",
      "0.8964214570007957\n",
      "--------------------\n",
      "[(0.9912407071619299, 'user1'), (0.8105674873765092, 'user9'), (0.7924058156930613, 'user7')]\n"
     ]
    }
   ],
   "source": [
    "print(pearson_correlation_coefficient(ratings, 'user2', 'user6'))\n",
    "print(pearson_correlation_coefficient(ratings, 'user7', 'user1'))\n",
    "print('-' * 20)\n",
    "print(nearest_user(ratings, 'user8', 3))"
   ]
  },
  {
   "cell_type": "code",
   "execution_count": 38,
   "id": "d7056eef",
   "metadata": {},
   "outputs": [
    {
     "data": {
      "text/plain": [
       "[(3.2233799819183644, '스파이더맨'),\n",
       " (3.0216298475933865, '더배트맨'),\n",
       " (2.9490704222575337, '엔칸토')]"
      ]
     },
     "execution_count": 38,
     "metadata": {},
     "output_type": "execute_result"
    }
   ],
   "source": [
    "rcmmdList = get_recommendation_movie(ratings, 'user8')\n",
    "rcmmdList"
   ]
  },
  {
   "cell_type": "code",
   "execution_count": 39,
   "id": "2b10bfae",
   "metadata": {},
   "outputs": [
    {
     "data": {
      "text/plain": [
       "(3.2233799819183644, '스파이더맨')"
      ]
     },
     "execution_count": 39,
     "metadata": {},
     "output_type": "execute_result"
    }
   ],
   "source": [
    "rcmmdList[0]"
   ]
  },
  {
   "cell_type": "code",
   "execution_count": null,
   "id": "cd0c6df9",
   "metadata": {},
   "outputs": [],
   "source": []
  }
 ],
 "metadata": {
  "kernelspec": {
   "display_name": "Python 3 (ipykernel)",
   "language": "python",
   "name": "python3"
  },
  "language_info": {
   "codemirror_mode": {
    "name": "ipython",
    "version": 3
   },
   "file_extension": ".py",
   "mimetype": "text/x-python",
   "name": "python",
   "nbconvert_exporter": "python",
   "pygments_lexer": "ipython3",
   "version": "3.8.12"
  }
 },
 "nbformat": 4,
 "nbformat_minor": 5
}
