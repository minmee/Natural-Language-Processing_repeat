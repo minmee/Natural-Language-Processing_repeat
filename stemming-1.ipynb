{
 "cells": [
  {
   "cell_type": "code",
   "execution_count": null,
   "id": "70e50e87",
   "metadata": {},
   "outputs": [],
   "source": [
    "# Stemming - 어간 추출\n",
    "# 문맥은 고려하지 않고 주어진 단어에서 핵심적인 의미를 가지고 있는 부분을 추출."
   ]
  },
  {
   "cell_type": "code",
   "execution_count": 1,
   "id": "bc1373a4",
   "metadata": {},
   "outputs": [],
   "source": [
    "from nltk.stem import PorterStemmer\n",
    "from nltk.tokenize import word_tokenize"
   ]
  },
  {
   "cell_type": "code",
   "execution_count": 5,
   "id": "b42f7aa0",
   "metadata": {},
   "outputs": [],
   "source": [
    "stemmer = PorterStemmer()\n",
    "\n",
    "sentence = 'English is a West Germanic language of the Indo-European language family, originally spoken by the inhabitants of early medieval England.'\n",
    "\n",
    "tokenized_sentence = word_tokenize(sentence)"
   ]
  },
  {
   "cell_type": "code",
   "execution_count": 6,
   "id": "9156a80e",
   "metadata": {},
   "outputs": [
    {
     "name": "stdout",
     "output_type": "stream",
     "text": [
      "어간 추출 전:['English', 'is', 'a', 'West', 'Germanic', 'language', 'of', 'the', 'Indo-European', 'language', 'family', ',', 'originally', 'spoken', 'by', 'the', 'inhabitants', 'of', 'early', 'medieval', 'England', '.']\n"
     ]
    }
   ],
   "source": [
    "print(f'어간 추출 전:{tokenized_sentence}')"
   ]
  },
  {
   "cell_type": "code",
   "execution_count": 9,
   "id": "acff2f4e",
   "metadata": {},
   "outputs": [
    {
     "name": "stdout",
     "output_type": "stream",
     "text": [
      "어간 추출 후: ['english', 'is', 'a', 'west', 'german', 'languag', 'of', 'the', 'indo-european', 'languag', 'famili', ',', 'origin', 'spoken', 'by', 'the', 'inhabit', 'of', 'earli', 'mediev', 'england', '.']\n"
     ]
    }
   ],
   "source": [
    "print('어간 추출 후:', [stemmer.stem(word) for word in tokenized_sentence])"
   ]
  },
  {
   "cell_type": "code",
   "execution_count": 10,
   "id": "3e1afc89",
   "metadata": {},
   "outputs": [
    {
     "name": "stdout",
     "output_type": "stream",
     "text": [
      "어간 추출 전: ['formalize', 'allowance', 'electricical']\n",
      "어간 추출 후: ['formal', 'allow', 'electric']\n"
     ]
    }
   ],
   "source": [
    "words = ['formalize', 'allowance', 'electricical']\n",
    "\n",
    "print('어간 추출 전:', words)\n",
    "print('어간 추출 후:', [stemmer.stem(word) for word in words])"
   ]
  },
  {
   "cell_type": "code",
   "execution_count": 11,
   "id": "51876202",
   "metadata": {},
   "outputs": [
    {
     "name": "stdout",
     "output_type": "stream",
     "text": [
      "어간 추출 후: ['form', 'allow', 'elect']\n"
     ]
    }
   ],
   "source": [
    "# 좀 더 타이트하게 뽑음.\n",
    "from nltk.stem import LancasterStemmer\n",
    "\n",
    "ls = LancasterStemmer()\n",
    "print('어간 추출 후:', [ls.stem(word) for word in words])"
   ]
  },
  {
   "cell_type": "code",
   "execution_count": null,
   "id": "ddb57343",
   "metadata": {},
   "outputs": [],
   "source": [
    "# going -> go, having -> hav\n",
    "# 문맥 정보를 고려하지 않고 어간 추출함. -> 문제점."
   ]
  },
  {
   "cell_type": "code",
   "execution_count": 12,
   "id": "e7aa88e9",
   "metadata": {},
   "outputs": [],
   "source": [
    "words = ['policy', 'doing', 'organization', 'have', 'going', 'love', 'lives', 'fly', 'dies', 'watched', 'has', 'starting']"
   ]
  },
  {
   "cell_type": "code",
   "execution_count": 13,
   "id": "2a81a5a3",
   "metadata": {},
   "outputs": [
    {
     "name": "stdout",
     "output_type": "stream",
     "text": [
      "PorterStemmer 어간 추출 후 ['polici', 'do', 'organ', 'have', 'go', 'love', 'live', 'fli', 'die', 'watch', 'ha', 'start']\n",
      "LancasterStemmer 어간 추출 후 ['policy', 'doing', 'org', 'hav', 'going', 'lov', 'liv', 'fly', 'die', 'watch', 'has', 'start']\n"
     ]
    }
   ],
   "source": [
    "print('PorterStemmer 어간 추출 후', [stemmer.stem(word) for word in words])\n",
    "print('LancasterStemmer 어간 추출 후', [ls.stem(word) for word in words])"
   ]
  },
  {
   "cell_type": "code",
   "execution_count": null,
   "id": "61f6456e",
   "metadata": {},
   "outputs": [],
   "source": []
  }
 ],
 "metadata": {
  "kernelspec": {
   "display_name": "Python 3 (ipykernel)",
   "language": "python",
   "name": "python3"
  },
  "language_info": {
   "codemirror_mode": {
    "name": "ipython",
    "version": 3
   },
   "file_extension": ".py",
   "mimetype": "text/x-python",
   "name": "python",
   "nbconvert_exporter": "python",
   "pygments_lexer": "ipython3",
   "version": "3.9.7"
  }
 },
 "nbformat": 4,
 "nbformat_minor": 5
}
