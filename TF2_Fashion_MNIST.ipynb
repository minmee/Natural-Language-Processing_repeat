{
 "cells": [
  {
   "cell_type": "code",
   "execution_count": 3,
   "metadata": {},
   "outputs": [
    {
     "data": {
      "text/plain": [
       "'2.8.0'"
      ]
     },
     "execution_count": 3,
     "metadata": {},
     "output_type": "execute_result"
    }
   ],
   "source": [
    "import tensorflow as tf\n",
    "tf.__version__"
   ]
  },
  {
   "cell_type": "code",
   "execution_count": 4,
   "metadata": {},
   "outputs": [],
   "source": [
    "import numpy as np\n",
    "import matplotlib.pyplot as plt\n",
    "from tensorflow.keras.layers import Input, Conv2D, Dense, Flatten, Dropout\n",
    "from tensorflow.keras.models import Model"
   ]
  },
  {
   "cell_type": "code",
   "execution_count": 5,
   "metadata": {},
   "outputs": [
    {
     "name": "stdout",
     "output_type": "stream",
     "text": [
      "x_train.shape: (60000, 28, 28)\n"
     ]
    }
   ],
   "source": [
    "# Load in the data\n",
    "fashion_mnist = tf.keras.datasets.fashion_mnist\n",
    "\n",
    "(x_train, y_train), (x_test, y_test) = fashion_mnist.load_data()\n",
    "x_train, x_test = x_train / 255.0, x_test / 255.0\n",
    "print(\"x_train.shape:\", x_train.shape)"
   ]
  },
  {
   "cell_type": "code",
   "execution_count": 6,
   "metadata": {},
   "outputs": [
    {
     "name": "stdout",
     "output_type": "stream",
     "text": [
      "(60000, 28, 28, 1)\n"
     ]
    }
   ],
   "source": [
    "# 4차원 배열로 만들기\n",
    "# the data is only 2D\n",
    "# convolution expects height x width x color\n",
    "x_train = np.expand_dims(x_train, -1)\n",
    "x_test = np.expand_dims(x_test, -1)\n",
    "print(x_train.shape)"
   ]
  },
  {
   "cell_type": "code",
   "execution_count": 7,
   "metadata": {
    "scrolled": true
   },
   "outputs": [
    {
     "name": "stdout",
     "output_type": "stream",
     "text": [
      "number of classes: 10\n"
     ]
    }
   ],
   "source": [
    "# number of classes\n",
    "K = len(set(y_train))\n",
    "print(\"number of classes:\", K)"
   ]
  },
  {
   "cell_type": "code",
   "execution_count": 11,
   "metadata": {},
   "outputs": [
    {
     "name": "stdout",
     "output_type": "stream",
     "text": [
      "Model: \"model\"\n",
      "_________________________________________________________________\n",
      " Layer (type)                Output Shape              Param #   \n",
      "=================================================================\n",
      " input_4 (InputLayer)        [(None, 28, 28, 1)]       0         \n",
      "                                                                 \n",
      " conv2d_12 (Conv2D)          (None, 28, 28, 32)        320       \n",
      "                                                                 \n",
      " conv2d_13 (Conv2D)          (None, 28, 28, 32)        9248      \n",
      "                                                                 \n",
      " conv2d_14 (Conv2D)          (None, 28, 28, 64)        18496     \n",
      "                                                                 \n",
      " conv2d_15 (Conv2D)          (None, 28, 28, 128)       73856     \n",
      "                                                                 \n",
      " flatten (Flatten)           (None, 100352)            0         \n",
      "                                                                 \n",
      " dropout (Dropout)           (None, 100352)            0         \n",
      "                                                                 \n",
      " dense (Dense)               (None, 512)               51380736  \n",
      "                                                                 \n",
      " dropout_1 (Dropout)         (None, 512)               0         \n",
      "                                                                 \n",
      " dense_1 (Dense)             (None, 64)                32832     \n",
      "                                                                 \n",
      " dense_2 (Dense)             (None, 10)                650       \n",
      "                                                                 \n",
      "=================================================================\n",
      "Total params: 51,516,138\n",
      "Trainable params: 51,516,138\n",
      "Non-trainable params: 0\n",
      "_________________________________________________________________\n"
     ]
    }
   ],
   "source": [
    "# Build the model using the <functional API>\n",
    "i = Input(shape=x_train[0].shape)\n",
    "x = Conv2D(32, (3, 3), strides=1, padding = 'same', activation='relu')(i)\n",
    "x = Conv2D(32, (3, 3), strides = 1, padding = 'same', activation = 'relu')(x)\n",
    "x = Conv2D(64, (3, 3), strides=1, padding = 'same', activation='relu')(x)\n",
    "x = Conv2D(128, (3, 3), strides=1, padding = 'same', activation='relu')(x)\n",
    "\n",
    "\n",
    "x = Flatten()(x)\n",
    "x = Dropout(0.5)(x)\n",
    "x = Dense(512, activation='relu')(x)\n",
    "x = Dropout(0.2)(x)\n",
    "x = Dense(64, activation = 'relu')(x)\n",
    "x = Dense(K, activation='softmax')(x)\n",
    "\n",
    "model = Model(i, x)\n",
    "model.summary()"
   ]
  },
  {
   "cell_type": "code",
   "execution_count": 12,
   "metadata": {
    "scrolled": true
   },
   "outputs": [
    {
     "name": "stdout",
     "output_type": "stream",
     "text": [
      "Epoch 1/15\n",
      "1875/1875 [==============================] - 650s 346ms/step - loss: 0.3653 - accuracy: 0.8667 - val_loss: 0.2648 - val_accuracy: 0.9049\n",
      "Epoch 2/15\n",
      "1875/1875 [==============================] - 665s 354ms/step - loss: 0.2307 - accuracy: 0.9150 - val_loss: 0.2303 - val_accuracy: 0.9177\n",
      "Epoch 3/15\n",
      "1875/1875 [==============================] - 666s 355ms/step - loss: 0.1735 - accuracy: 0.9354 - val_loss: 0.2187 - val_accuracy: 0.9214\n",
      "Epoch 4/15\n",
      "1875/1875 [==============================] - 678s 362ms/step - loss: 0.1338 - accuracy: 0.9510 - val_loss: 0.2457 - val_accuracy: 0.9227\n",
      "Epoch 5/15\n",
      "1875/1875 [==============================] - 699s 373ms/step - loss: 0.1005 - accuracy: 0.9633 - val_loss: 0.2422 - val_accuracy: 0.9270\n",
      "Epoch 6/15\n",
      "1875/1875 [==============================] - 684s 365ms/step - loss: 0.0799 - accuracy: 0.9716 - val_loss: 0.2521 - val_accuracy: 0.9288\n",
      "Epoch 7/15\n",
      "1875/1875 [==============================] - 686s 366ms/step - loss: 0.0616 - accuracy: 0.9779 - val_loss: 0.2943 - val_accuracy: 0.9215\n",
      "Epoch 8/15\n",
      "1875/1875 [==============================] - 668s 356ms/step - loss: 0.0523 - accuracy: 0.9816 - val_loss: 0.3431 - val_accuracy: 0.9211\n",
      "Epoch 9/15\n",
      "1875/1875 [==============================] - 521s 278ms/step - loss: 0.0458 - accuracy: 0.9843 - val_loss: 0.3484 - val_accuracy: 0.9267\n",
      "Epoch 10/15\n",
      "1875/1875 [==============================] - 514s 274ms/step - loss: 0.0424 - accuracy: 0.9858 - val_loss: 0.3566 - val_accuracy: 0.9246\n",
      "Epoch 11/15\n",
      "1875/1875 [==============================] - 516s 275ms/step - loss: 0.0342 - accuracy: 0.9887 - val_loss: 0.3596 - val_accuracy: 0.9270\n",
      "Epoch 12/15\n",
      "1875/1875 [==============================] - 516s 275ms/step - loss: 0.0348 - accuracy: 0.9886 - val_loss: 0.4292 - val_accuracy: 0.9250\n",
      "Epoch 13/15\n",
      "1875/1875 [==============================] - 515s 275ms/step - loss: 0.0318 - accuracy: 0.9896 - val_loss: 0.3616 - val_accuracy: 0.9264\n",
      "Epoch 14/15\n",
      "1875/1875 [==============================] - 515s 275ms/step - loss: 0.0308 - accuracy: 0.9908 - val_loss: 0.4416 - val_accuracy: 0.9274\n",
      "Epoch 15/15\n",
      "1875/1875 [==============================] - 515s 274ms/step - loss: 0.0292 - accuracy: 0.9905 - val_loss: 0.4074 - val_accuracy: 0.9223\n"
     ]
    }
   ],
   "source": [
    "model.compile(optimizer='adam', loss='sparse_categorical_crossentropy', metrics=['accuracy'])\n",
    "r = model.fit(x_train, y_train, validation_data=(x_test, y_test), epochs=15)"
   ]
  },
  {
   "cell_type": "code",
   "execution_count": 13,
   "metadata": {
    "scrolled": true
   },
   "outputs": [
    {
     "data": {
      "text/plain": [
       "<matplotlib.legend.Legend at 0x1f8bf3081c0>"
      ]
     },
     "execution_count": 13,
     "metadata": {},
     "output_type": "execute_result"
    },
    {
     "data": {
      "image/png": "[encoded data removed]",
      "text/plain": [
       "<Figure size 432x288 with 1 Axes>"
      ]
     },
     "metadata": {
      "needs_background": "light"
     },
     "output_type": "display_data"
    }
   ],
   "source": [
    "# Plot loss per iteration\n",
    "import matplotlib.pyplot as plt\n",
    "plt.plot(r.history['loss'], label='loss')\n",
    "plt.plot(r.history['val_loss'], label='val_loss')\n",
    "plt.legend() # 과적합 발생"
   ]
  },
  {
   "cell_type": "code",
   "execution_count": 14,
   "metadata": {},
   "outputs": [
    {
     "data": {
      "text/plain": [
       "<matplotlib.legend.Legend at 0x1f8bfaa7430>"
      ]
     },
     "execution_count": 14,
     "metadata": {},
     "output_type": "execute_result"
    },
    {
     "data": {
      "image/png": "[encoded data removed]",
      "text/plain": [
       "<Figure size 432x288 with 1 Axes>"
      ]
     },
     "metadata": {
      "needs_background": "light"
     },
     "output_type": "display_data"
    }
   ],
   "source": [
    "# Plot accuracy per iteration\n",
    "import matplotlib.pyplot as plt\n",
    "plt.plot(r.history['accuracy'], label='acc')\n",
    "plt.plot(r.history['val_accuracy'], label='val_acc')\n",
    "plt.legend()"
   ]
  },
  {
   "cell_type": "code",
   "execution_count": 15,
   "metadata": {},
   "outputs": [
    {
     "name": "stdout",
     "output_type": "stream",
     "text": [
      "Consusion matrix, without normalization\n",
      "[[865   0   8   8   4   1 106   0   8   0]\n",
      " [  1 979   1  12   1   0   3   0   3   0]\n",
      " [ 19   1 877  10  33   0  57   0   3   0]\n",
      " [ 21   1  11 905  23   0  38   0   1   0]\n",
      " [  1   1  48  15 889   0  46   0   0   0]\n",
      " [  0   0   0   0   0 988   0  10   0   2]\n",
      " [ 76   0  33  17  64   0 801   0   8   1]\n",
      " [  0   0   0   0   0   6   0 980   0  14]\n",
      " [  0   0   1   1   2   3   4   2 987   0]\n",
      " [  0   0   1   0   0   7   0  40   0 952]]\n"
     ]
    },
    {
     "data": {
      "image/png": "[encoded data removed]",
      "text/plain": [
       "<Figure size 432x288 with 2 Axes>"
      ]
     },
     "metadata": {
      "needs_background": "light"
     },
     "output_type": "display_data"
    }
   ],
   "source": [
    "from sklearn.metrics import confusion_matrix\n",
    "import itertools\n",
    "def plt_confusion_matrix(cm, classes, \n",
    "                          normalize=False, \n",
    "                          title='Confusion matrix',\n",
    "                          cmap=plt.cm.Blues):\n",
    "  '''\n",
    "  This function prints and plots the confusion matrix.\n",
    "  Normalization can be appled by setting `normalize=True`.\n",
    "  '''\n",
    "  if normalize:\n",
    "    cm = cm.astype('float') / cm.sum(axis=1)[:, np.newaxis]\n",
    "    print('normalized confusion matrix')\n",
    "  else:\n",
    "    print('Consusion matrix, without normalization')\n",
    "  print(cm)\n",
    "\n",
    "  plt.imshow(cm, interpolation='nearest', cmap=cmap)\n",
    "  plt.title(title)\n",
    "  plt.colorbar()\n",
    "  tick_marks = np.arange(len(classes))\n",
    "  plt.xticks(tick_marks, classes, rotation=45)\n",
    "  plt.yticks(tick_marks, classes)\n",
    "\n",
    "  fmt = '.2f' if normalize else 'd'\n",
    "  thresh = cm.max() / 2.\n",
    "  for i, j in itertools.product(range(cm.shape[0]), range(cm.shape[1])):\n",
    "    plt.text(j, i, format(cm[i, j], fmt),\n",
    "             horizontalalignment=\"center\",\n",
    "             color=\"white\" if cm[i, j] > thresh else \"black\")\n",
    "  \n",
    "  plt.tight_layout()\n",
    "  plt.ylabel('True label')\n",
    "  plt.xlabel('Predicted label')\n",
    "  plt.show()\n",
    "\n",
    "p_test = model.predict(x_test).argmax(axis=1)\n",
    "cm = confusion_matrix(y_test, p_test)\n",
    "plt_confusion_matrix(cm, list(range(10)))\n"
   ]
  },
  {
   "cell_type": "code",
   "execution_count": 16,
   "metadata": {},
   "outputs": [],
   "source": [
    "# Label mapping\n",
    "labels = '''T-shirt/top\n",
    "Trouser \n",
    "Pullover\n",
    "Dress\n",
    "Coat\n",
    "Sandal\n",
    "Shirt\n",
    "Sneaker\n",
    "Bag\n",
    "Ankle boot'''.split()"
   ]
  },
  {
   "cell_type": "code",
   "execution_count": 19,
   "metadata": {
    "scrolled": false
   },
   "outputs": [
    {
     "data": {
      "text/plain": [
       "Text(0.5, 1.0, 'True label: Dress, Predicted: Shirt')"
      ]
     },
     "execution_count": 19,
     "metadata": {},
     "output_type": "execute_result"
    },
    {
     "data": {
      "image/png": "[encoded data removed]",
      "text/plain": [
       "<Figure size 432x288 with 1 Axes>"
      ]
     },
     "metadata": {
      "needs_background": "light"
     },
     "output_type": "display_data"
    }
   ],
   "source": [
    "# 검증\n",
    "# Show some misclassified examples\n",
    "misclassified_idx = np.where(p_test != y_test)[0]\n",
    "i = np.random.choice(misclassified_idx)\n",
    "plt.imshow(x_test[i].reshape(28, 28), cmap='gray')\n",
    "plt.title(\"True label: %s, Predicted: %s\" % (labels[y_test[i]], labels[p_test[i]]))"
   ]
  },
  {
   "cell_type": "code",
   "execution_count": null,
   "metadata": {},
   "outputs": [],
   "source": []
  }
 ],
 "metadata": {
  "kernelspec": {
   "display_name": "Python 3 (ipykernel)",
   "language": "python",
   "name": "python3"
  },
  "language_info": {
   "codemirror_mode": {
    "name": "ipython",
    "version": 3
   },
   "file_extension": ".py",
   "mimetype": "text/x-python",
   "name": "python",
   "nbconvert_exporter": "python",
   "pygments_lexer": "ipython3",
   "version": "3.9.7"
  }
 },
 "nbformat": 4,
 "nbformat_minor": 4
}
