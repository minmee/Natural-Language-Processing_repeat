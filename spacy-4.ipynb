{
 "cells": [
  {
   "cell_type": "code",
   "execution_count": 1,
   "id": "4d5e7d93",
   "metadata": {},
   "outputs": [],
   "source": [
    "import spacy\n",
    "nlp = spacy.load('en_core_web_sm')"
   ]
  },
  {
   "cell_type": "code",
   "execution_count": 2,
   "id": "33e03360",
   "metadata": {},
   "outputs": [],
   "source": [
    "doc = nlp(u\"The quick brown fox jumped over the lazy doc's back.\")"
   ]
  },
  {
   "cell_type": "code",
   "execution_count": 3,
   "id": "6fc8a089",
   "metadata": {},
   "outputs": [],
   "source": [
    "# 품사 태깅(명사, 복수명사, 최상급, 형용사, 동사,,,)\n",
    "# token.pos_\n",
    "# token.tag_ (더 세밀하게)\n",
    "# spacy.explain(tag) (설명해줌)"
   ]
  },
  {
   "cell_type": "code",
   "execution_count": 4,
   "id": "40dbd7b6",
   "metadata": {},
   "outputs": [
    {
     "name": "stdout",
     "output_type": "stream",
     "text": [
      "The quick brown fox jumped over the lazy doc's back.\n"
     ]
    }
   ],
   "source": [
    "print(doc.text) # 문자 형태로"
   ]
  },
  {
   "cell_type": "code",
   "execution_count": 5,
   "id": "ca09f03a",
   "metadata": {},
   "outputs": [
    {
     "name": "stdout",
     "output_type": "stream",
     "text": [
      "jumped  -  VERB  -  VBD  -  verb, past tense\n"
     ]
    }
   ],
   "source": [
    "print(doc[4].text, ' - ', doc[4].pos_, ' - ', doc[4].tag_, ' - ', spacy.explain(doc[4].tag_))"
   ]
  },
  {
   "cell_type": "code",
   "execution_count": 6,
   "id": "d95b4d5d",
   "metadata": {},
   "outputs": [
    {
     "data": {
      "text/plain": [
       "'verb, past tense'"
      ]
     },
     "execution_count": 6,
     "metadata": {},
     "output_type": "execute_result"
    }
   ],
   "source": [
    "spacy.explain('VBD')"
   ]
  },
  {
   "cell_type": "code",
   "execution_count": 7,
   "id": "4b9ef2dc",
   "metadata": {},
   "outputs": [
    {
     "name": "stdout",
     "output_type": "stream",
     "text": [
      "The             DET      DT         determiner\n",
      "quick           ADJ      JJ         adjective (English), other noun-modifier (Chinese)\n",
      "brown           ADJ      JJ         adjective (English), other noun-modifier (Chinese)\n",
      "fox             NOUN     NN         noun, singular or mass\n",
      "jumped          VERB     VBD        verb, past tense\n",
      "over            ADP      IN         conjunction, subordinating or preposition\n",
      "the             DET      DT         determiner\n",
      "lazy            ADJ      JJ         adjective (English), other noun-modifier (Chinese)\n",
      "doc             NOUN     NN         noun, singular or mass\n",
      "'s              AUX      VBZ        verb, 3rd person singular present\n",
      "back            ADV      RB         adverb\n",
      ".               PUNCT    .          punctuation mark, sentence closer\n"
     ]
    }
   ],
   "source": [
    "for token in doc:\n",
    "    print(f'{token.text:{15}} {token.pos_:{8}} {token.tag_:{10}} {spacy.explain(token.tag_)}')"
   ]
  },
  {
   "cell_type": "code",
   "execution_count": 12,
   "id": "04c6c1cc",
   "metadata": {},
   "outputs": [
    {
     "data": {
      "text/plain": [
       "read"
      ]
     },
     "execution_count": 12,
     "metadata": {},
     "output_type": "execute_result"
    }
   ],
   "source": [
    "# I read books on NLP -> 과거인지 현재 동사인지\n",
    "doc = nlp(u'I read books on NLP')\n",
    "r = doc[1]\n",
    "r"
   ]
  },
  {
   "cell_type": "code",
   "execution_count": 11,
   "id": "daee0bf3",
   "metadata": {},
   "outputs": [
    {
     "name": "stdout",
     "output_type": "stream",
     "text": [
      "read  -  VERB  -  VBP  -  verb, non-3rd person singular present\n"
     ]
    }
   ],
   "source": [
    "# read -> 3인칭 현재 시제 아님\n",
    "print(r.text, ' - ', r.pos_, ' - ', r.tag_, ' - ', spacy.explain(r.tag_))"
   ]
  },
  {
   "cell_type": "code",
   "execution_count": 13,
   "id": "7bd47f9b",
   "metadata": {},
   "outputs": [
    {
     "data": {
      "text/plain": [
       "reading"
      ]
     },
     "execution_count": 13,
     "metadata": {},
     "output_type": "execute_result"
    }
   ],
   "source": [
    "doc = nlp(u'I am reading a book')\n",
    "r = doc[2]\n",
    "r"
   ]
  },
  {
   "cell_type": "code",
   "execution_count": 14,
   "id": "58163ee1",
   "metadata": {},
   "outputs": [
    {
     "name": "stdout",
     "output_type": "stream",
     "text": [
      "reading  -  VERB  -  VBG  -  verb, gerund or present participle\n"
     ]
    }
   ],
   "source": [
    "# reading -> 진행형\n",
    "print(r.text, ' - ', r.pos_, ' - ', r.tag_, ' - ', spacy.explain(r.tag_))"
   ]
  },
  {
   "cell_type": "markdown",
   "id": "15a7c7ba",
   "metadata": {},
   "source": [
    "### 빈도수"
   ]
  },
  {
   "cell_type": "code",
   "execution_count": 15,
   "id": "b503db19",
   "metadata": {},
   "outputs": [],
   "source": [
    "# 단어의 수치화 -> 빈도수 측정 가능.\n",
    "doc = nlp(u\"The quick brown fox jumped over the lazy doc's back.\")"
   ]
  },
  {
   "cell_type": "code",
   "execution_count": 16,
   "id": "0796ec37",
   "metadata": {},
   "outputs": [
    {
     "data": {
      "text/plain": [
       "{90: 2, 84: 3, 92: 2, 100: 1, 85: 1, 87: 1, 86: 1, 97: 1}"
      ]
     },
     "execution_count": 16,
     "metadata": {},
     "output_type": "execute_result"
    }
   ],
   "source": [
    "POS_counts = doc.count_by(spacy.attrs.POS)\n",
    "POS_counts"
   ]
  },
  {
   "cell_type": "code",
   "execution_count": 18,
   "id": "894ac710",
   "metadata": {
    "scrolled": true
   },
   "outputs": [
    {
     "data": {
      "text/plain": [
       "'NOUN'"
      ]
     },
     "execution_count": 18,
     "metadata": {},
     "output_type": "execute_result"
    }
   ],
   "source": [
    "doc.vocab[92].text # -> 위 문장에서 2번 나옴."
   ]
  },
  {
   "cell_type": "code",
   "execution_count": 22,
   "id": "c55d0140",
   "metadata": {},
   "outputs": [
    {
     "data": {
      "text/plain": [
       "dict_items([(90, 2), (84, 3), (92, 2), (100, 1), (85, 1), (87, 1), (86, 1), (97, 1)])"
      ]
     },
     "execution_count": 22,
     "metadata": {},
     "output_type": "execute_result"
    }
   ],
   "source": [
    "POS_counts.items()"
   ]
  },
  {
   "cell_type": "code",
   "execution_count": 19,
   "id": "7749d76c",
   "metadata": {},
   "outputs": [
    {
     "name": "stdout",
     "output_type": "stream",
     "text": [
      "84. ADJ  : 3\n",
      "85. ADP  : 1\n",
      "86. ADV  : 1\n",
      "87. AUX  : 1\n",
      "90. DET  : 2\n",
      "92. NOUN : 2\n",
      "97. PUNCT: 1\n",
      "100. VERB : 1\n"
     ]
    }
   ],
   "source": [
    "# sorted 하면 정렬됨.\n",
    "for key, value in sorted(POS_counts.items()):\n",
    "    print(f'{key}. {doc.vocab[key].text:{5}}: {value}')"
   ]
  },
  {
   "cell_type": "code",
   "execution_count": 20,
   "id": "db23d650",
   "metadata": {},
   "outputs": [
    {
     "name": "stdout",
     "output_type": "stream",
     "text": [
      "164681854541413346. RB   : 1\n",
      "1292078113972184607. IN   : 1\n",
      "10554686591937588953. JJ   : 3\n",
      "12646065887601541794. .    : 1\n",
      "13927759927860985106. VBZ  : 1\n",
      "15267657372422890137. DT   : 2\n",
      "15308085513773655218. NN   : 2\n",
      "17109001835818727656. VBD  : 1\n"
     ]
    }
   ],
   "source": [
    "TAG_counts = doc.count_by(spacy.attrs.TAG)\n",
    "\n",
    "for key, value in sorted(TAG_counts.items()):\n",
    "    print(f'{key}. {doc.vocab[key].text:{5}}: {value}')"
   ]
  },
  {
   "cell_type": "code",
   "execution_count": null,
   "id": "5a0a0964",
   "metadata": {},
   "outputs": [],
   "source": []
  }
 ],
 "metadata": {
  "kernelspec": {
   "display_name": "Python 3 (ipykernel)",
   "language": "python",
   "name": "python3"
  },
  "language_info": {
   "codemirror_mode": {
    "name": "ipython",
    "version": 3
   },
   "file_extension": ".py",
   "mimetype": "text/x-python",
   "name": "python",
   "nbconvert_exporter": "python",
   "pygments_lexer": "ipython3",
   "version": "3.9.7"
  }
 },
 "nbformat": 4,
 "nbformat_minor": 5
}
