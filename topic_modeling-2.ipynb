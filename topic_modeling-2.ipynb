{
 "cells": [
  {
   "cell_type": "markdown",
   "id": "67bfecac",
   "metadata": {},
   "source": [
    "### NMF (Non-Negative Matric Factorization, 음수 미포함 행렬 분해)"
   ]
  },
  {
   "cell_type": "markdown",
   "id": "26b80de3",
   "metadata": {},
   "source": [
    "* 음수를 포함하지 않는 행렬 X를 음수를 포함하지 않는 행렬 W와 H의 곱으로 분해하는 알고리즘.\n",
    "* 수식으로 표현하면, X = W * H"
   ]
  },
  {
   "cell_type": "markdown",
   "id": "a57c041b",
   "metadata": {},
   "source": [
    "* 장점\n",
    "* 음수값이 포함되지 않은 데이터를 설명할 때 유용함.\n",
    "* feature 벡터들이 서로 직교(하나가 바뀌어도 나머지에 어떤 영향도 주지 않음)하게 되면 데이터셋의 실제 데이터 구조를 잘 반영하지 못하게 될 수도 있다. 이러한 점을 해결함.\n",
    "* -> feature들의 독립성을 잘 catch하여 데이터 구조를 잘 반영함."
   ]
  },
  {
   "cell_type": "code",
   "execution_count": 1,
   "id": "af8db5b2",
   "metadata": {
    "scrolled": true
   },
   "outputs": [
    {
     "data": {
      "text/html": [
       "<div>\n",
       "<style scoped>\n",
       "    .dataframe tbody tr th:only-of-type {\n",
       "        vertical-align: middle;\n",
       "    }\n",
       "\n",
       "    .dataframe tbody tr th {\n",
       "        vertical-align: top;\n",
       "    }\n",
       "\n",
       "    .dataframe thead th {\n",
       "        text-align: right;\n",
       "    }\n",
       "</style>\n",
       "<table border=\"1\" class=\"dataframe\">\n",
       "  <thead>\n",
       "    <tr style=\"text-align: right;\">\n",
       "      <th></th>\n",
       "      <th>Article</th>\n",
       "    </tr>\n",
       "  </thead>\n",
       "  <tbody>\n",
       "    <tr>\n",
       "      <th>0</th>\n",
       "      <td>In the Washington of 2016, even when the polic...</td>\n",
       "    </tr>\n",
       "    <tr>\n",
       "      <th>1</th>\n",
       "      <td>Donald Trump has used Twitter  —   his prefe...</td>\n",
       "    </tr>\n",
       "    <tr>\n",
       "      <th>2</th>\n",
       "      <td>Donald Trump is unabashedly praising Russian...</td>\n",
       "    </tr>\n",
       "    <tr>\n",
       "      <th>3</th>\n",
       "      <td>Updated at 2:50 p. m. ET, Russian President Vl...</td>\n",
       "    </tr>\n",
       "    <tr>\n",
       "      <th>4</th>\n",
       "      <td>From photography, illustration and video, to d...</td>\n",
       "    </tr>\n",
       "  </tbody>\n",
       "</table>\n",
       "</div>"
      ],
      "text/plain": [
       "                                             Article\n",
       "0  In the Washington of 2016, even when the polic...\n",
       "1    Donald Trump has used Twitter  —   his prefe...\n",
       "2    Donald Trump is unabashedly praising Russian...\n",
       "3  Updated at 2:50 p. m. ET, Russian President Vl...\n",
       "4  From photography, illustration and video, to d..."
      ]
     },
     "execution_count": 1,
     "metadata": {},
     "output_type": "execute_result"
    }
   ],
   "source": [
    "import pandas as pd\n",
    "npr = pd.read_csv('npr.csv')\n",
    "npr.head()"
   ]
  },
  {
   "cell_type": "code",
   "execution_count": 2,
   "id": "3eebbf79",
   "metadata": {},
   "outputs": [
    {
     "name": "stdout",
     "output_type": "stream",
     "text": [
      "<class 'pandas.core.frame.DataFrame'>\n",
      "RangeIndex: 11992 entries, 0 to 11991\n",
      "Data columns (total 1 columns):\n",
      " #   Column   Non-Null Count  Dtype \n",
      "---  ------   --------------  ----- \n",
      " 0   Article  11992 non-null  object\n",
      "dtypes: object(1)\n",
      "memory usage: 93.8+ KB\n"
     ]
    }
   ],
   "source": [
    "npr.info() # 기사"
   ]
  },
  {
   "cell_type": "code",
   "execution_count": 3,
   "id": "3820ddc9",
   "metadata": {},
   "outputs": [],
   "source": [
    "# 기사들만 가지고 훈련함. 정답 데이터 없음. 비지도 학습.\n",
    "# 비지도 학습 - LDA, clustering, 차원 축소"
   ]
  },
  {
   "cell_type": "markdown",
   "id": "04f8f9bf",
   "metadata": {},
   "source": [
    "### Text Preprocessing"
   ]
  },
  {
   "cell_type": "code",
   "execution_count": 4,
   "id": "0f774e4e",
   "metadata": {},
   "outputs": [],
   "source": [
    "# tfidf\n",
    "from sklearn.feature_extraction.text import TfidfVectorizer"
   ]
  },
  {
   "cell_type": "code",
   "execution_count": 5,
   "id": "fe18af52",
   "metadata": {},
   "outputs": [],
   "source": [
    "# max_df(threshold:임계값), min_df(threshold) -> 0.0 ~ 1.0 or int (default 1)\n",
    "tfidf = TfidfVectorizer(max_df = 0.95, min_df = 2, stop_words = 'english')"
   ]
  },
  {
   "cell_type": "code",
   "execution_count": 8,
   "id": "3a8ab122",
   "metadata": {},
   "outputs": [],
   "source": [
    "# 문서 단어 행렬(Document-Term Matrix, DTM)\n",
    "dtm = tfidf.fit_transform(npr['Article'])"
   ]
  },
  {
   "cell_type": "code",
   "execution_count": 9,
   "id": "fd1eb41f",
   "metadata": {},
   "outputs": [
    {
     "data": {
      "text/plain": [
       "<11992x54777 sparse matrix of type '<class 'numpy.float64'>'\n",
       "\twith 3033388 stored elements in Compressed Sparse Row format>"
      ]
     },
     "execution_count": 9,
     "metadata": {},
     "output_type": "execute_result"
    }
   ],
   "source": [
    "dtm"
   ]
  },
  {
   "cell_type": "code",
   "execution_count": 10,
   "id": "fd703ffa",
   "metadata": {},
   "outputs": [],
   "source": [
    "# NMP (토픽 모델링의 대표 알고리즘)\n",
    "from sklearn.decomposition import NMF"
   ]
  },
  {
   "cell_type": "code",
   "execution_count": 11,
   "id": "3ac97699",
   "metadata": {},
   "outputs": [],
   "source": [
    "# n_components -> topic count\n",
    "NMF = NMF(n_components = 7, random_state = 42)"
   ]
  },
  {
   "cell_type": "code",
   "execution_count": 12,
   "id": "0e232940",
   "metadata": {},
   "outputs": [
    {
     "name": "stderr",
     "output_type": "stream",
     "text": [
      "C:\\Users\\user\\Desktop\\.ipynb_checkpoints\\lib\\site-packages\\sklearn\\decomposition\\_nmf.py:312: FutureWarning: The 'init' value, when 'init=None' and n_components is less than n_samples and n_features, will be changed from 'nndsvd' to 'nndsvda' in 1.1 (renaming of 0.26).\n",
      "  warnings.warn((\"The 'init' value, when 'init=None' and \"\n"
     ]
    },
    {
     "data": {
      "text/plain": [
       "NMF(n_components=7, random_state=42)"
      ]
     },
     "execution_count": 12,
     "metadata": {},
     "output_type": "execute_result"
    }
   ],
   "source": [
    "NMF.fit(dtm)"
   ]
  },
  {
   "cell_type": "code",
   "execution_count": 13,
   "id": "c88fb484",
   "metadata": {
    "scrolled": true
   },
   "outputs": [
    {
     "data": {
      "text/plain": [
       "['00',\n",
       " '000',\n",
       " '00000',\n",
       " '000s',\n",
       " '000th',\n",
       " '002',\n",
       " '004',\n",
       " '007',\n",
       " '009',\n",
       " '00s',\n",
       " '01',\n",
       " '011',\n",
       " '012',\n",
       " '015',\n",
       " '02',\n",
       " '021',\n",
       " '024',\n",
       " '029',\n",
       " '03',\n",
       " '032',\n",
       " '033',\n",
       " '04',\n",
       " '042',\n",
       " '05',\n",
       " '050',\n",
       " '054',\n",
       " '058',\n",
       " '06',\n",
       " '060',\n",
       " '062',\n",
       " '064',\n",
       " '065',\n",
       " '068',\n",
       " '07',\n",
       " '075',\n",
       " '08',\n",
       " '080',\n",
       " '088',\n",
       " '09',\n",
       " '094',\n",
       " '098',\n",
       " '0_hellofriend',\n",
       " '10',\n",
       " '100',\n",
       " '1000',\n",
       " '100th',\n",
       " '101',\n",
       " '101st',\n",
       " '102',\n",
       " '103',\n",
       " '104',\n",
       " '1040',\n",
       " '105',\n",
       " '105th',\n",
       " '106',\n",
       " '1066',\n",
       " '107',\n",
       " '1070',\n",
       " '108',\n",
       " '109',\n",
       " '10k',\n",
       " '10s',\n",
       " '10th',\n",
       " '11',\n",
       " '110',\n",
       " '111',\n",
       " '112',\n",
       " '113',\n",
       " '113th',\n",
       " '114',\n",
       " '114th',\n",
       " '115',\n",
       " '115th',\n",
       " '116',\n",
       " '117',\n",
       " '118',\n",
       " '119',\n",
       " '11th',\n",
       " '12',\n",
       " '120',\n",
       " '1200',\n",
       " '121',\n",
       " '122',\n",
       " '123',\n",
       " '1234',\n",
       " '124',\n",
       " '125',\n",
       " '125th',\n",
       " '126',\n",
       " '127',\n",
       " '128',\n",
       " '129',\n",
       " '12th',\n",
       " '13',\n",
       " '130',\n",
       " '1300',\n",
       " '1300s',\n",
       " '131',\n",
       " '131st',\n",
       " '132',\n",
       " '133',\n",
       " '134',\n",
       " '135',\n",
       " '136',\n",
       " '137',\n",
       " '138',\n",
       " '139',\n",
       " '13th',\n",
       " '14',\n",
       " '140',\n",
       " '1400s',\n",
       " '141',\n",
       " '142',\n",
       " '143',\n",
       " '143rd',\n",
       " '144',\n",
       " '145',\n",
       " '146',\n",
       " '147',\n",
       " '148',\n",
       " '149',\n",
       " '1492',\n",
       " '1493',\n",
       " '14th',\n",
       " '15',\n",
       " '150',\n",
       " '1500',\n",
       " '1500s',\n",
       " '150th',\n",
       " '151',\n",
       " '1517',\n",
       " '152',\n",
       " '1523',\n",
       " '153',\n",
       " '154',\n",
       " '155',\n",
       " '156',\n",
       " '157',\n",
       " '158',\n",
       " '159',\n",
       " '15girls',\n",
       " '15th',\n",
       " '16',\n",
       " '160',\n",
       " '1600',\n",
       " '1600s',\n",
       " '161',\n",
       " '1616',\n",
       " '162',\n",
       " '1623',\n",
       " '163',\n",
       " '1631',\n",
       " '164',\n",
       " '165',\n",
       " '166',\n",
       " '1662',\n",
       " '1669',\n",
       " '167',\n",
       " '168',\n",
       " '169',\n",
       " '16mm',\n",
       " '16th',\n",
       " '17',\n",
       " '170',\n",
       " '1700s',\n",
       " '171',\n",
       " '1713',\n",
       " '172',\n",
       " '173',\n",
       " '1734',\n",
       " '174',\n",
       " '1747',\n",
       " '175',\n",
       " '176',\n",
       " '1761',\n",
       " '1762',\n",
       " '1766',\n",
       " '177',\n",
       " '1770',\n",
       " '1770s',\n",
       " '1774',\n",
       " '1776',\n",
       " '178',\n",
       " '1780s',\n",
       " '1783',\n",
       " '1784',\n",
       " '1787',\n",
       " '1788',\n",
       " '1789',\n",
       " '179',\n",
       " '1790',\n",
       " '1790s',\n",
       " '1791',\n",
       " '1793',\n",
       " '1796',\n",
       " '17th',\n",
       " '18',\n",
       " '180',\n",
       " '1800',\n",
       " '1800s',\n",
       " '1801',\n",
       " '1804',\n",
       " '1808',\n",
       " '181',\n",
       " '1810',\n",
       " '1812',\n",
       " '1813',\n",
       " '1814',\n",
       " '1815',\n",
       " '1816',\n",
       " '1817',\n",
       " '182',\n",
       " '1820',\n",
       " '1820s',\n",
       " '1822',\n",
       " '1824',\n",
       " '1825',\n",
       " '1828',\n",
       " '1829',\n",
       " '183',\n",
       " '1830s',\n",
       " '1833',\n",
       " '1835',\n",
       " '1837',\n",
       " '1838',\n",
       " '1839',\n",
       " '184',\n",
       " '1840',\n",
       " '1840s',\n",
       " '1841',\n",
       " '1842',\n",
       " '1845',\n",
       " '1846',\n",
       " '1848',\n",
       " '1849',\n",
       " '185',\n",
       " '1850',\n",
       " '1850s',\n",
       " '1851',\n",
       " '1852',\n",
       " '1854',\n",
       " '1855',\n",
       " '1857',\n",
       " '1858',\n",
       " '1859',\n",
       " '186',\n",
       " '1860',\n",
       " '1860s',\n",
       " '1861',\n",
       " '1862',\n",
       " '1863',\n",
       " '1864',\n",
       " '1865',\n",
       " '1866',\n",
       " '1867',\n",
       " '1868',\n",
       " '1869',\n",
       " '187',\n",
       " '1870',\n",
       " '1870s',\n",
       " '1871',\n",
       " '1872',\n",
       " '1873',\n",
       " '1874',\n",
       " '1875',\n",
       " '1876',\n",
       " '1877',\n",
       " '1879',\n",
       " '188',\n",
       " '1880',\n",
       " '1880s',\n",
       " '1881',\n",
       " '1882',\n",
       " '1883',\n",
       " '1884',\n",
       " '1885',\n",
       " '1886',\n",
       " '1888',\n",
       " '1889',\n",
       " '189',\n",
       " '1890',\n",
       " '1890s',\n",
       " '1891',\n",
       " '1892',\n",
       " '1893',\n",
       " '1894',\n",
       " '1895',\n",
       " '1896',\n",
       " '1897',\n",
       " '1898',\n",
       " '18th',\n",
       " '19',\n",
       " '190',\n",
       " '1900',\n",
       " '1900s',\n",
       " '1901',\n",
       " '1902',\n",
       " '1903',\n",
       " '1904',\n",
       " '1905',\n",
       " '1906',\n",
       " '1907',\n",
       " '1908',\n",
       " '1909',\n",
       " '191',\n",
       " '1910',\n",
       " '1910s',\n",
       " '1911',\n",
       " '1912',\n",
       " '1913',\n",
       " '1914',\n",
       " '1915',\n",
       " '1916',\n",
       " '1917',\n",
       " '1918',\n",
       " '1919',\n",
       " '192',\n",
       " '1920',\n",
       " '1920s',\n",
       " '1921',\n",
       " '1922',\n",
       " '1923',\n",
       " '1924',\n",
       " '1925',\n",
       " '1926',\n",
       " '1927',\n",
       " '1928',\n",
       " '1929',\n",
       " '193',\n",
       " '1930',\n",
       " '1930s',\n",
       " '1931',\n",
       " '1932',\n",
       " '1933',\n",
       " '1934',\n",
       " '1935',\n",
       " '1936',\n",
       " '1937',\n",
       " '1938',\n",
       " '1939',\n",
       " '194',\n",
       " '1940',\n",
       " '1940s',\n",
       " '1941',\n",
       " '1942',\n",
       " '1943',\n",
       " '1944',\n",
       " '1945',\n",
       " '1946',\n",
       " '1947',\n",
       " '1948',\n",
       " '1949',\n",
       " '195',\n",
       " '1950',\n",
       " '1950s',\n",
       " '1951',\n",
       " '1952',\n",
       " '1953',\n",
       " '1954',\n",
       " '1955',\n",
       " '1956',\n",
       " '1957',\n",
       " '1958',\n",
       " '1959',\n",
       " '196',\n",
       " '1960',\n",
       " '1960s',\n",
       " '1961',\n",
       " '1962',\n",
       " '1963',\n",
       " '1964',\n",
       " '1965',\n",
       " '1966',\n",
       " '1967',\n",
       " '1968',\n",
       " '1969',\n",
       " '197',\n",
       " '1970',\n",
       " '1970s',\n",
       " '1971',\n",
       " '1972',\n",
       " '1973',\n",
       " '1974',\n",
       " '1975',\n",
       " '1976',\n",
       " '1977',\n",
       " '1978',\n",
       " '1979',\n",
       " '198',\n",
       " '1980',\n",
       " '1980s',\n",
       " '1981',\n",
       " '1982',\n",
       " '1983',\n",
       " '1984',\n",
       " '1985',\n",
       " '1986',\n",
       " '1987',\n",
       " '1988',\n",
       " '1989',\n",
       " '199',\n",
       " '1990',\n",
       " '1990s',\n",
       " '1991',\n",
       " '1992',\n",
       " '1993',\n",
       " '1994',\n",
       " '1995',\n",
       " '1996',\n",
       " '1997',\n",
       " '1998',\n",
       " '1999',\n",
       " '19th',\n",
       " '1s',\n",
       " '1st',\n",
       " '20',\n",
       " '200',\n",
       " '2000',\n",
       " '2000s',\n",
       " '2001',\n",
       " '2002',\n",
       " '2003',\n",
       " '2004',\n",
       " '2005',\n",
       " '2006',\n",
       " '2007',\n",
       " '2008',\n",
       " '2009',\n",
       " '200th',\n",
       " '201',\n",
       " '2010',\n",
       " '2011',\n",
       " '2012',\n",
       " '2013',\n",
       " '2014',\n",
       " '2015',\n",
       " '2016',\n",
       " '2017',\n",
       " '2018',\n",
       " '2019',\n",
       " '202',\n",
       " '2020',\n",
       " '2020s',\n",
       " '2021',\n",
       " '2022',\n",
       " '2023',\n",
       " '2024',\n",
       " '2025',\n",
       " '2026',\n",
       " '2027',\n",
       " '2029',\n",
       " '203',\n",
       " '2030',\n",
       " '2030s',\n",
       " '2033',\n",
       " '2034',\n",
       " '2035',\n",
       " '2036',\n",
       " '204',\n",
       " '2040',\n",
       " '2044',\n",
       " '205',\n",
       " '2050',\n",
       " '2052',\n",
       " '206',\n",
       " '2060',\n",
       " '207',\n",
       " '208',\n",
       " '209',\n",
       " '20k',\n",
       " '20s',\n",
       " '20th',\n",
       " '21',\n",
       " '210',\n",
       " '2100',\n",
       " '211',\n",
       " '212',\n",
       " '213',\n",
       " '214',\n",
       " '215',\n",
       " '216',\n",
       " '217',\n",
       " '218',\n",
       " '219',\n",
       " '21st',\n",
       " '22',\n",
       " '220',\n",
       " '2205',\n",
       " '221',\n",
       " '222',\n",
       " '223',\n",
       " '2231',\n",
       " '224',\n",
       " '225',\n",
       " '226',\n",
       " '227',\n",
       " '2270',\n",
       " '228',\n",
       " '229',\n",
       " '22nd',\n",
       " '23',\n",
       " '230',\n",
       " '231',\n",
       " '232',\n",
       " '232nd',\n",
       " '233',\n",
       " '234',\n",
       " '235',\n",
       " '236',\n",
       " '237',\n",
       " '238',\n",
       " '239',\n",
       " '23andme',\n",
       " '23rd',\n",
       " '24',\n",
       " '240',\n",
       " '2400',\n",
       " '241',\n",
       " '242',\n",
       " '243',\n",
       " '244',\n",
       " '245',\n",
       " '246',\n",
       " '247',\n",
       " '248',\n",
       " '249',\n",
       " '25',\n",
       " '250',\n",
       " '250th',\n",
       " '251',\n",
       " '252',\n",
       " '253',\n",
       " '254',\n",
       " '255',\n",
       " '256',\n",
       " '257',\n",
       " '258',\n",
       " '259',\n",
       " '25th',\n",
       " '26',\n",
       " '260',\n",
       " '2600',\n",
       " '261',\n",
       " '262',\n",
       " '263',\n",
       " '264',\n",
       " '265',\n",
       " '266',\n",
       " '267',\n",
       " '268',\n",
       " '269',\n",
       " '26th',\n",
       " '27',\n",
       " '270',\n",
       " '271',\n",
       " '272',\n",
       " '273',\n",
       " '274',\n",
       " '275',\n",
       " '276',\n",
       " '277',\n",
       " '278',\n",
       " '279',\n",
       " '27th',\n",
       " '28',\n",
       " '280',\n",
       " '2800',\n",
       " '281',\n",
       " '282',\n",
       " '283',\n",
       " '284',\n",
       " '285',\n",
       " '286',\n",
       " '287',\n",
       " '288',\n",
       " '289',\n",
       " '28th',\n",
       " '29',\n",
       " '290',\n",
       " '291',\n",
       " '292',\n",
       " '293',\n",
       " '294',\n",
       " '295',\n",
       " '296',\n",
       " '297',\n",
       " '298',\n",
       " '29th',\n",
       " '2d',\n",
       " '2nd',\n",
       " '30',\n",
       " '300',\n",
       " '3000',\n",
       " '301',\n",
       " '303',\n",
       " '304',\n",
       " '305',\n",
       " '306',\n",
       " '307',\n",
       " '308',\n",
       " '309',\n",
       " '30pm',\n",
       " '30s',\n",
       " '30th',\n",
       " '31',\n",
       " '310',\n",
       " '311',\n",
       " '312',\n",
       " '313',\n",
       " '314',\n",
       " '315',\n",
       " '316',\n",
       " '317',\n",
       " '318',\n",
       " '319',\n",
       " '31st',\n",
       " '32',\n",
       " '320',\n",
       " '321',\n",
       " '323',\n",
       " '325',\n",
       " '326',\n",
       " '327',\n",
       " '328',\n",
       " '329',\n",
       " '32nd',\n",
       " '33',\n",
       " '330',\n",
       " '331',\n",
       " '332',\n",
       " '333',\n",
       " '334',\n",
       " '335',\n",
       " '336',\n",
       " '337',\n",
       " '338',\n",
       " '339',\n",
       " '33rd',\n",
       " '34',\n",
       " '340',\n",
       " '341',\n",
       " '3411',\n",
       " '342',\n",
       " '343',\n",
       " '344',\n",
       " '345',\n",
       " '346',\n",
       " '347',\n",
       " '349',\n",
       " '34th',\n",
       " '35',\n",
       " '350',\n",
       " '351',\n",
       " '352',\n",
       " '356',\n",
       " '357',\n",
       " '358',\n",
       " '359',\n",
       " '35th',\n",
       " '36',\n",
       " '360',\n",
       " '361',\n",
       " '363',\n",
       " '364',\n",
       " '365',\n",
       " '366',\n",
       " '367',\n",
       " '368',\n",
       " '369',\n",
       " '36th',\n",
       " '37',\n",
       " '370',\n",
       " '371',\n",
       " '372',\n",
       " '374',\n",
       " '375',\n",
       " '376',\n",
       " '37th',\n",
       " '38',\n",
       " '380',\n",
       " '381',\n",
       " '382',\n",
       " '383',\n",
       " '384',\n",
       " '385',\n",
       " '386',\n",
       " '387',\n",
       " '388',\n",
       " '389',\n",
       " '38th',\n",
       " '39',\n",
       " '390',\n",
       " '391',\n",
       " '392',\n",
       " '393',\n",
       " '394',\n",
       " '395',\n",
       " '396',\n",
       " '397',\n",
       " '398',\n",
       " '399',\n",
       " '3d',\n",
       " '3ds',\n",
       " '3g',\n",
       " '3rd',\n",
       " '3s',\n",
       " '40',\n",
       " '400',\n",
       " '400th',\n",
       " '401',\n",
       " '402',\n",
       " '403',\n",
       " '405',\n",
       " '406',\n",
       " '408',\n",
       " '409',\n",
       " '40s',\n",
       " '40th',\n",
       " '41',\n",
       " '410',\n",
       " '412',\n",
       " '413',\n",
       " '414',\n",
       " '415',\n",
       " '416',\n",
       " '418',\n",
       " '42',\n",
       " '420',\n",
       " '422',\n",
       " '423',\n",
       " '424',\n",
       " '425',\n",
       " '426',\n",
       " '427',\n",
       " '428',\n",
       " '429',\n",
       " '42nd',\n",
       " '43',\n",
       " '430',\n",
       " '431',\n",
       " '432',\n",
       " '433',\n",
       " '434',\n",
       " '435',\n",
       " '437',\n",
       " '438',\n",
       " '439',\n",
       " '43rd',\n",
       " '44',\n",
       " '440',\n",
       " '441',\n",
       " '442',\n",
       " '443',\n",
       " '445',\n",
       " '446',\n",
       " '447',\n",
       " '449',\n",
       " '44th',\n",
       " '45',\n",
       " '450',\n",
       " '454',\n",
       " '455',\n",
       " '458',\n",
       " '45s',\n",
       " '45th',\n",
       " '46',\n",
       " '460',\n",
       " '461',\n",
       " '463',\n",
       " '465',\n",
       " '466',\n",
       " '467',\n",
       " '468',\n",
       " '46th',\n",
       " '47',\n",
       " '470',\n",
       " '472',\n",
       " '475',\n",
       " '476',\n",
       " '477',\n",
       " '479',\n",
       " '47th',\n",
       " '48',\n",
       " '480',\n",
       " '481',\n",
       " '482',\n",
       " '483',\n",
       " '485',\n",
       " '486',\n",
       " '488',\n",
       " '489',\n",
       " '49',\n",
       " '490',\n",
       " '491',\n",
       " '492',\n",
       " '493',\n",
       " '495',\n",
       " '496',\n",
       " '499',\n",
       " '49ers',\n",
       " '49th',\n",
       " '4ever',\n",
       " '4g',\n",
       " '4runner',\n",
       " '4s',\n",
       " '4th',\n",
       " '4x100',\n",
       " '4x200',\n",
       " '50',\n",
       " '500',\n",
       " '5000',\n",
       " '500th',\n",
       " '501',\n",
       " '503',\n",
       " '504',\n",
       " '505',\n",
       " '506',\n",
       " '507',\n",
       " '508',\n",
       " '509',\n",
       " '50s',\n",
       " '50th',\n",
       " '51',\n",
       " '510',\n",
       " '511',\n",
       " '512',\n",
       " '513',\n",
       " '514',\n",
       " '516',\n",
       " '517',\n",
       " '51st',\n",
       " '52',\n",
       " '520',\n",
       " '521',\n",
       " '522',\n",
       " '524',\n",
       " '525',\n",
       " '526',\n",
       " '527',\n",
       " '529',\n",
       " '53',\n",
       " '530',\n",
       " '531',\n",
       " '532',\n",
       " '533',\n",
       " '534',\n",
       " '535',\n",
       " '537',\n",
       " '538',\n",
       " '539',\n",
       " '54',\n",
       " '540',\n",
       " '541',\n",
       " '543',\n",
       " '544',\n",
       " '545',\n",
       " '546',\n",
       " '547',\n",
       " '549',\n",
       " '55',\n",
       " '550',\n",
       " '551',\n",
       " '552',\n",
       " '553',\n",
       " '554',\n",
       " '555',\n",
       " '556',\n",
       " '55th',\n",
       " '56',\n",
       " '560',\n",
       " '561',\n",
       " '562',\n",
       " '563',\n",
       " '565',\n",
       " '567',\n",
       " '568',\n",
       " '57',\n",
       " '570',\n",
       " '573',\n",
       " '577',\n",
       " '579',\n",
       " '57th',\n",
       " '58',\n",
       " '580',\n",
       " '582',\n",
       " '584',\n",
       " '585',\n",
       " '587',\n",
       " '589',\n",
       " '58th',\n",
       " '59',\n",
       " '590',\n",
       " '591',\n",
       " '595',\n",
       " '596',\n",
       " '597',\n",
       " '599',\n",
       " '59th',\n",
       " '5c',\n",
       " '5dollarchallenge',\n",
       " '5s',\n",
       " '5th',\n",
       " '60',\n",
       " '600',\n",
       " '6000',\n",
       " '602',\n",
       " '604',\n",
       " '607',\n",
       " '609',\n",
       " '60s',\n",
       " '60th',\n",
       " '61',\n",
       " '610',\n",
       " '611',\n",
       " '614',\n",
       " '616',\n",
       " '617',\n",
       " '618',\n",
       " '62',\n",
       " '620',\n",
       " '6200',\n",
       " '622',\n",
       " '6221',\n",
       " '625',\n",
       " '62nd',\n",
       " '63',\n",
       " '630',\n",
       " '633',\n",
       " '634',\n",
       " '635',\n",
       " '636',\n",
       " '639',\n",
       " '64',\n",
       " '640',\n",
       " '644',\n",
       " '645',\n",
       " '648',\n",
       " '65',\n",
       " '650',\n",
       " '653',\n",
       " '654',\n",
       " '656',\n",
       " '657',\n",
       " '658',\n",
       " '659',\n",
       " '65th',\n",
       " '66',\n",
       " '660',\n",
       " '662',\n",
       " '664',\n",
       " '665',\n",
       " '666',\n",
       " '667',\n",
       " '668',\n",
       " '669',\n",
       " '67',\n",
       " '670',\n",
       " '672',\n",
       " '673',\n",
       " '675',\n",
       " '676',\n",
       " '67p',\n",
       " '67th',\n",
       " '68',\n",
       " '680',\n",
       " '682',\n",
       " '683',\n",
       " '686',\n",
       " '687',\n",
       " '688',\n",
       " '68th',\n",
       " '69',\n",
       " '690',\n",
       " '691',\n",
       " '693',\n",
       " '695',\n",
       " '696',\n",
       " '697',\n",
       " '699',\n",
       " '69th',\n",
       " '6m',\n",
       " '6th',\n",
       " '70',\n",
       " '700',\n",
       " '701',\n",
       " '702',\n",
       " '704',\n",
       " '706',\n",
       " '709',\n",
       " '70s',\n",
       " '70th',\n",
       " '71',\n",
       " '710',\n",
       " '712',\n",
       " '713',\n",
       " '715',\n",
       " '717',\n",
       " '71st',\n",
       " '72',\n",
       " '720',\n",
       " ...]"
      ]
     },
     "execution_count": 13,
     "metadata": {},
     "output_type": "execute_result"
    }
   ],
   "source": [
    "tfidf.get_feature_names()"
   ]
  },
  {
   "cell_type": "code",
   "execution_count": 14,
   "id": "45f6a9a9",
   "metadata": {},
   "outputs": [
    {
     "data": {
      "text/plain": [
       "54777"
      ]
     },
     "execution_count": 14,
     "metadata": {},
     "output_type": "execute_result"
    }
   ],
   "source": [
    "len(tfidf.get_feature_names())"
   ]
  },
  {
   "cell_type": "code",
   "execution_count": 15,
   "id": "85a7546f",
   "metadata": {},
   "outputs": [
    {
     "name": "stdout",
     "output_type": "stream",
     "text": [
      "flowery\n",
      "jaffe\n",
      "011\n",
      "behaving\n",
      "straus\n",
      "darien\n",
      "hanning\n",
      "androgynous\n",
      "beckoning\n",
      "florist\n"
     ]
    }
   ],
   "source": [
    "import random\n",
    "\n",
    "for i in range(10): # 0 ~ 9\n",
    "    random_word_id = random.randint(0, 54776)\n",
    "    print(tfidf.get_feature_names()[random_word_id])"
   ]
  },
  {
   "cell_type": "code",
   "execution_count": 16,
   "id": "9fbc27ad",
   "metadata": {},
   "outputs": [
    {
     "name": "stdout",
     "output_type": "stream",
     "text": [
      "gratification\n",
      "5c\n",
      "month\n",
      "antarctica\n",
      "raghunathan\n",
      "ncse\n",
      "tudors\n",
      "parishes\n",
      "timber\n",
      "garb\n"
     ]
    }
   ],
   "source": [
    "for i in range(10):\n",
    "    random_word_id = random.randint(0, 54776)\n",
    "    print(tfidf.get_feature_names()[random_word_id])"
   ]
  },
  {
   "cell_type": "code",
   "execution_count": 17,
   "id": "fbf7ec37",
   "metadata": {},
   "outputs": [
    {
     "data": {
      "text/plain": [
       "7"
      ]
     },
     "execution_count": 17,
     "metadata": {},
     "output_type": "execute_result"
    }
   ],
   "source": [
    "len(NMF.components_) # topic count"
   ]
  },
  {
   "cell_type": "code",
   "execution_count": 18,
   "id": "a7f24d4b",
   "metadata": {},
   "outputs": [
    {
     "data": {
      "text/plain": [
       "array([[0.00000000e+00, 2.49950821e-01, 0.00000000e+00, ...,\n",
       "        1.70313822e-03, 2.37544362e-04, 0.00000000e+00],\n",
       "       [0.00000000e+00, 0.00000000e+00, 0.00000000e+00, ...,\n",
       "        0.00000000e+00, 0.00000000e+00, 0.00000000e+00],\n",
       "       [0.00000000e+00, 8.22048918e-02, 0.00000000e+00, ...,\n",
       "        0.00000000e+00, 0.00000000e+00, 0.00000000e+00],\n",
       "       ...,\n",
       "       [0.00000000e+00, 3.12379960e-02, 0.00000000e+00, ...,\n",
       "        0.00000000e+00, 0.00000000e+00, 0.00000000e+00],\n",
       "       [5.89723338e-03, 0.00000000e+00, 1.50186440e-03, ...,\n",
       "        7.06428924e-04, 5.85500542e-04, 6.89536542e-04],\n",
       "       [4.01763234e-03, 5.31643833e-02, 0.00000000e+00, ...,\n",
       "        0.00000000e+00, 0.00000000e+00, 0.00000000e+00]])"
      ]
     },
     "execution_count": 18,
     "metadata": {},
     "output_type": "execute_result"
    }
   ],
   "source": [
    "NMF.components_ # (7, 54777)"
   ]
  },
  {
   "cell_type": "code",
   "execution_count": 19,
   "id": "7153004f",
   "metadata": {},
   "outputs": [
    {
     "data": {
      "text/plain": [
       "54777"
      ]
     },
     "execution_count": 19,
     "metadata": {},
     "output_type": "execute_result"
    }
   ],
   "source": [
    "len(NMF.components_[0])"
   ]
  },
  {
   "cell_type": "code",
   "execution_count": 20,
   "id": "05868e6d",
   "metadata": {},
   "outputs": [],
   "source": [
    "single_topic = NMF.components_[0] # 첫번째"
   ]
  },
  {
   "cell_type": "code",
   "execution_count": 21,
   "id": "546ac08b",
   "metadata": {},
   "outputs": [
    {
     "data": {
      "text/plain": [
       "array([0.00000000e+00, 2.49950821e-01, 0.00000000e+00, ...,\n",
       "       1.70313822e-03, 2.37544362e-04, 0.00000000e+00])"
      ]
     },
     "execution_count": 21,
     "metadata": {},
     "output_type": "execute_result"
    }
   ],
   "source": [
    "single_topic"
   ]
  },
  {
   "cell_type": "code",
   "execution_count": 22,
   "id": "1191b21f",
   "metadata": {},
   "outputs": [
    {
     "data": {
      "text/plain": [
       "array([    0, 27208, 27206, ..., 36283, 54692, 42993], dtype=int64)"
      ]
     },
     "execution_count": 22,
     "metadata": {},
     "output_type": "execute_result"
    }
   ],
   "source": [
    "single_topic.argsort() # sort"
   ]
  },
  {
   "cell_type": "code",
   "execution_count": 23,
   "id": "577e7e18",
   "metadata": {},
   "outputs": [
    {
     "data": {
      "text/plain": [
       "0.0"
      ]
     },
     "execution_count": 23,
     "metadata": {},
     "output_type": "execute_result"
    }
   ],
   "source": [
    "single_topic[2475]"
   ]
  },
  {
   "cell_type": "code",
   "execution_count": 24,
   "id": "f80b429f",
   "metadata": {},
   "outputs": [
    {
     "data": {
      "text/plain": [
       "2.0050551654185766"
      ]
     },
     "execution_count": 24,
     "metadata": {},
     "output_type": "execute_result"
    }
   ],
   "source": [
    "single_topic[42993]"
   ]
  },
  {
   "cell_type": "code",
   "execution_count": 25,
   "id": "31e706d9",
   "metadata": {},
   "outputs": [
    {
     "data": {
      "text/plain": [
       "array([14441, 36310, 53989, 52615, 47218, 53152, 19307, 36283, 54692,\n",
       "       42993], dtype=int64)"
      ]
     },
     "execution_count": 25,
     "metadata": {},
     "output_type": "execute_result"
    }
   ],
   "source": [
    "# argsort() - array를 오름차순으로 정렬.\n",
    "single_topic.argsort()[-10:] # 하위 10개 토픽 출력"
   ]
  },
  {
   "cell_type": "code",
   "execution_count": 26,
   "id": "bed6ff1f",
   "metadata": {},
   "outputs": [],
   "source": [
    "top_word_indices = single_topic.argsort()[-10:]"
   ]
  },
  {
   "cell_type": "code",
   "execution_count": 27,
   "id": "5c3cb37b",
   "metadata": {},
   "outputs": [
    {
     "name": "stdout",
     "output_type": "stream",
     "text": [
      "disease\n",
      "percent\n",
      "women\n",
      "virus\n",
      "study\n",
      "water\n",
      "food\n",
      "people\n",
      "zika\n",
      "says\n"
     ]
    }
   ],
   "source": [
    "for index in top_word_indices:\n",
    "    print(tfidf.get_feature_names()[index])"
   ]
  },
  {
   "cell_type": "code",
   "execution_count": 28,
   "id": "4b68eb4a",
   "metadata": {
    "scrolled": true
   },
   "outputs": [
    {
     "name": "stdout",
     "output_type": "stream",
     "text": [
      "TOPIC #0\n",
      "['new', 'research', 'like', 'patients', 'health', 'disease', 'percent', 'women', 'virus', 'study', 'water', 'food', 'people', 'zika', 'says']\n",
      "\n",
      "\n",
      "TOPIC #1\n",
      "['gop', 'pence', 'presidential', 'russia', 'administration', 'election', 'republican', 'obama', 'white', 'house', 'donald', 'campaign', 'said', 'president', 'trump']\n",
      "\n",
      "\n",
      "TOPIC #2\n",
      "['senate', 'house', 'people', 'act', 'law', 'tax', 'plan', 'republicans', 'affordable', 'obamacare', 'coverage', 'medicaid', 'insurance', 'care', 'health']\n",
      "\n",
      "\n",
      "TOPIC #3\n",
      "['officers', 'syria', 'security', 'department', 'law', 'isis', 'russia', 'government', 'state', 'attack', 'president', 'reports', 'court', 'said', 'police']\n",
      "\n",
      "\n",
      "TOPIC #4\n",
      "['primary', 'cruz', 'election', 'democrats', 'percent', 'party', 'delegates', 'vote', 'state', 'democratic', 'hillary', 'campaign', 'voters', 'sanders', 'clinton']\n",
      "\n",
      "\n",
      "TOPIC #5\n",
      "['love', 've', 'don', 'album', 'way', 'time', 'song', 'life', 'really', 'know', 'people', 'think', 'just', 'music', 'like']\n",
      "\n",
      "\n",
      "TOPIC #6\n",
      "['teacher', 'state', 'high', 'says', 'parents', 'devos', 'children', 'college', 'kids', 'teachers', 'student', 'education', 'schools', 'school', 'students']\n",
      "\n",
      "\n"
     ]
    }
   ],
   "source": [
    "for index, topic in enumerate(NMF.components_):\n",
    "    print(f'TOPIC #{index}')\n",
    "    print([tfidf.get_feature_names()[i] for i in topic.argsort()[-15:]])\n",
    "    print('\\n')"
   ]
  },
  {
   "cell_type": "code",
   "execution_count": 29,
   "id": "f8ba1003",
   "metadata": {},
   "outputs": [
    {
     "data": {
      "text/plain": [
       "(11992, 54777)"
      ]
     },
     "execution_count": 29,
     "metadata": {},
     "output_type": "execute_result"
    }
   ],
   "source": [
    "dtm.shape"
   ]
  },
  {
   "cell_type": "code",
   "execution_count": 30,
   "id": "8494e62b",
   "metadata": {},
   "outputs": [
    {
     "data": {
      "text/plain": [
       "11992"
      ]
     },
     "execution_count": 30,
     "metadata": {},
     "output_type": "execute_result"
    }
   ],
   "source": [
    "len(npr)"
   ]
  },
  {
   "cell_type": "code",
   "execution_count": 31,
   "id": "96cffc99",
   "metadata": {},
   "outputs": [
    {
     "data": {
      "text/plain": [
       "(11992, 7)"
      ]
     },
     "execution_count": 31,
     "metadata": {},
     "output_type": "execute_result"
    }
   ],
   "source": [
    "topic_results = NMF.transform(dtm)\n",
    "topic_results.shape"
   ]
  },
  {
   "cell_type": "code",
   "execution_count": 32,
   "id": "d94a8acc",
   "metadata": {},
   "outputs": [
    {
     "data": {
      "text/plain": [
       "array([0.        , 0.12075603, 0.00140297, 0.05919954, 0.01518909,\n",
       "       0.        , 0.        ])"
      ]
     },
     "execution_count": 32,
     "metadata": {},
     "output_type": "execute_result"
    }
   ],
   "source": [
    "topic_results[0]"
   ]
  },
  {
   "cell_type": "code",
   "execution_count": 33,
   "id": "02f4865f",
   "metadata": {},
   "outputs": [
    {
     "data": {
      "text/plain": [
       "array([0.  , 0.12, 0.  , 0.06, 0.02, 0.  , 0.  ])"
      ]
     },
     "execution_count": 33,
     "metadata": {},
     "output_type": "execute_result"
    }
   ],
   "source": [
    "topic_results[0].round(2)"
   ]
  },
  {
   "cell_type": "code",
   "execution_count": 34,
   "id": "b527651f",
   "metadata": {},
   "outputs": [
    {
     "data": {
      "text/plain": [
       "1"
      ]
     },
     "execution_count": 34,
     "metadata": {},
     "output_type": "execute_result"
    }
   ],
   "source": [
    "topic_results[0].argmax()"
   ]
  },
  {
   "cell_type": "code",
   "execution_count": 35,
   "id": "95b9e9ee",
   "metadata": {},
   "outputs": [
    {
     "data": {
      "text/html": [
       "<div>\n",
       "<style scoped>\n",
       "    .dataframe tbody tr th:only-of-type {\n",
       "        vertical-align: middle;\n",
       "    }\n",
       "\n",
       "    .dataframe tbody tr th {\n",
       "        vertical-align: top;\n",
       "    }\n",
       "\n",
       "    .dataframe thead th {\n",
       "        text-align: right;\n",
       "    }\n",
       "</style>\n",
       "<table border=\"1\" class=\"dataframe\">\n",
       "  <thead>\n",
       "    <tr style=\"text-align: right;\">\n",
       "      <th></th>\n",
       "      <th>Article</th>\n",
       "    </tr>\n",
       "  </thead>\n",
       "  <tbody>\n",
       "    <tr>\n",
       "      <th>0</th>\n",
       "      <td>In the Washington of 2016, even when the polic...</td>\n",
       "    </tr>\n",
       "    <tr>\n",
       "      <th>1</th>\n",
       "      <td>Donald Trump has used Twitter  —   his prefe...</td>\n",
       "    </tr>\n",
       "    <tr>\n",
       "      <th>2</th>\n",
       "      <td>Donald Trump is unabashedly praising Russian...</td>\n",
       "    </tr>\n",
       "    <tr>\n",
       "      <th>3</th>\n",
       "      <td>Updated at 2:50 p. m. ET, Russian President Vl...</td>\n",
       "    </tr>\n",
       "    <tr>\n",
       "      <th>4</th>\n",
       "      <td>From photography, illustration and video, to d...</td>\n",
       "    </tr>\n",
       "  </tbody>\n",
       "</table>\n",
       "</div>"
      ],
      "text/plain": [
       "                                             Article\n",
       "0  In the Washington of 2016, even when the polic...\n",
       "1    Donald Trump has used Twitter  —   his prefe...\n",
       "2    Donald Trump is unabashedly praising Russian...\n",
       "3  Updated at 2:50 p. m. ET, Russian President Vl...\n",
       "4  From photography, illustration and video, to d..."
      ]
     },
     "execution_count": 35,
     "metadata": {},
     "output_type": "execute_result"
    }
   ],
   "source": [
    "npr.head()"
   ]
  },
  {
   "cell_type": "code",
   "execution_count": 36,
   "id": "c5345a9f",
   "metadata": {},
   "outputs": [
    {
     "data": {
      "text/plain": [
       "array([1, 1, 1, ..., 0, 4, 3], dtype=int64)"
      ]
     },
     "execution_count": 36,
     "metadata": {},
     "output_type": "execute_result"
    }
   ],
   "source": [
    "# axis=1을 설정하면 각 행을 따라 가장 높은 값의 인덱스를 제공합니다.\n",
    "topic_results.argmax(axis = 1)"
   ]
  },
  {
   "cell_type": "code",
   "execution_count": 37,
   "id": "83c7653c",
   "metadata": {},
   "outputs": [],
   "source": [
    "npr['Topic'] = topic_results.argmax(axis = 1)"
   ]
  },
  {
   "cell_type": "code",
   "execution_count": 38,
   "id": "21163434",
   "metadata": {},
   "outputs": [
    {
     "data": {
      "text/html": [
       "<div>\n",
       "<style scoped>\n",
       "    .dataframe tbody tr th:only-of-type {\n",
       "        vertical-align: middle;\n",
       "    }\n",
       "\n",
       "    .dataframe tbody tr th {\n",
       "        vertical-align: top;\n",
       "    }\n",
       "\n",
       "    .dataframe thead th {\n",
       "        text-align: right;\n",
       "    }\n",
       "</style>\n",
       "<table border=\"1\" class=\"dataframe\">\n",
       "  <thead>\n",
       "    <tr style=\"text-align: right;\">\n",
       "      <th></th>\n",
       "      <th>Article</th>\n",
       "      <th>Topic</th>\n",
       "    </tr>\n",
       "  </thead>\n",
       "  <tbody>\n",
       "    <tr>\n",
       "      <th>0</th>\n",
       "      <td>In the Washington of 2016, even when the polic...</td>\n",
       "      <td>1</td>\n",
       "    </tr>\n",
       "    <tr>\n",
       "      <th>1</th>\n",
       "      <td>Donald Trump has used Twitter  —   his prefe...</td>\n",
       "      <td>1</td>\n",
       "    </tr>\n",
       "    <tr>\n",
       "      <th>2</th>\n",
       "      <td>Donald Trump is unabashedly praising Russian...</td>\n",
       "      <td>1</td>\n",
       "    </tr>\n",
       "    <tr>\n",
       "      <th>3</th>\n",
       "      <td>Updated at 2:50 p. m. ET, Russian President Vl...</td>\n",
       "      <td>3</td>\n",
       "    </tr>\n",
       "    <tr>\n",
       "      <th>4</th>\n",
       "      <td>From photography, illustration and video, to d...</td>\n",
       "      <td>6</td>\n",
       "    </tr>\n",
       "  </tbody>\n",
       "</table>\n",
       "</div>"
      ],
      "text/plain": [
       "                                             Article  Topic\n",
       "0  In the Washington of 2016, even when the polic...      1\n",
       "1    Donald Trump has used Twitter  —   his prefe...      1\n",
       "2    Donald Trump is unabashedly praising Russian...      1\n",
       "3  Updated at 2:50 p. m. ET, Russian President Vl...      3\n",
       "4  From photography, illustration and video, to d...      6"
      ]
     },
     "execution_count": 38,
     "metadata": {},
     "output_type": "execute_result"
    }
   ],
   "source": [
    "npr.head()"
   ]
  },
  {
   "cell_type": "code",
   "execution_count": null,
   "id": "13f3a5d0",
   "metadata": {},
   "outputs": [],
   "source": []
  }
 ],
 "metadata": {
  "kernelspec": {
   "display_name": "Python 3 (ipykernel)",
   "language": "python",
   "name": "python3"
  },
  "language_info": {
   "codemirror_mode": {
    "name": "ipython",
    "version": 3
   },
   "file_extension": ".py",
   "mimetype": "text/x-python",
   "name": "python",
   "nbconvert_exporter": "python",
   "pygments_lexer": "ipython3",
   "version": "3.9.7"
  }
 },
 "nbformat": 4,
 "nbformat_minor": 5
}
