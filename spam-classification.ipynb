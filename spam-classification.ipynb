{
 "cells": [
  {
   "cell_type": "code",
   "execution_count": 1,
   "id": "8d824f60",
   "metadata": {},
   "outputs": [],
   "source": [
    "import numpy as np\n",
    "import pandas as pd\n",
    "import matplotlib.pyplot as plt\n",
    "from sklearn.model_selection import train_test_split\n",
    "\n",
    "from tensorflow.keras.preprocessing.text import Tokenizer\n",
    "from tensorflow.keras.preprocessing.text import text_to_word_sequence\n",
    "from tensorflow.keras.preprocessing.sequence import pad_sequences\n",
    "\n",
    "from tensorflow.keras.layers import Dense, Input, GlobalMaxPool1D\n",
    "from tensorflow.keras.layers import Embedding, LSTM\n",
    "from tensorflow.keras.models import Model"
   ]
  },
  {
   "cell_type": "code",
   "execution_count": 2,
   "id": "015de811",
   "metadata": {},
   "outputs": [],
   "source": [
    "df = pd.read_csv('./dataset/spam.csv', encoding = 'ISO-8859-1')"
   ]
  },
  {
   "cell_type": "code",
   "execution_count": 3,
   "id": "bc560ac7",
   "metadata": {},
   "outputs": [
    {
     "data": {
      "text/html": [
       "<div>\n",
       "<style scoped>\n",
       "    .dataframe tbody tr th:only-of-type {\n",
       "        vertical-align: middle;\n",
       "    }\n",
       "\n",
       "    .dataframe tbody tr th {\n",
       "        vertical-align: top;\n",
       "    }\n",
       "\n",
       "    .dataframe thead th {\n",
       "        text-align: right;\n",
       "    }\n",
       "</style>\n",
       "<table border=\"1\" class=\"dataframe\">\n",
       "  <thead>\n",
       "    <tr style=\"text-align: right;\">\n",
       "      <th></th>\n",
       "      <th>v1</th>\n",
       "      <th>v2</th>\n",
       "      <th>Unnamed: 2</th>\n",
       "      <th>Unnamed: 3</th>\n",
       "      <th>Unnamed: 4</th>\n",
       "    </tr>\n",
       "  </thead>\n",
       "  <tbody>\n",
       "    <tr>\n",
       "      <th>0</th>\n",
       "      <td>ham</td>\n",
       "      <td>Go until jurong point, crazy.. Available only ...</td>\n",
       "      <td>NaN</td>\n",
       "      <td>NaN</td>\n",
       "      <td>NaN</td>\n",
       "    </tr>\n",
       "    <tr>\n",
       "      <th>1</th>\n",
       "      <td>ham</td>\n",
       "      <td>Ok lar... Joking wif u oni...</td>\n",
       "      <td>NaN</td>\n",
       "      <td>NaN</td>\n",
       "      <td>NaN</td>\n",
       "    </tr>\n",
       "    <tr>\n",
       "      <th>2</th>\n",
       "      <td>spam</td>\n",
       "      <td>Free entry in 2 a wkly comp to win FA Cup fina...</td>\n",
       "      <td>NaN</td>\n",
       "      <td>NaN</td>\n",
       "      <td>NaN</td>\n",
       "    </tr>\n",
       "    <tr>\n",
       "      <th>3</th>\n",
       "      <td>ham</td>\n",
       "      <td>U dun say so early hor... U c already then say...</td>\n",
       "      <td>NaN</td>\n",
       "      <td>NaN</td>\n",
       "      <td>NaN</td>\n",
       "    </tr>\n",
       "    <tr>\n",
       "      <th>4</th>\n",
       "      <td>ham</td>\n",
       "      <td>Nah I don't think he goes to usf, he lives aro...</td>\n",
       "      <td>NaN</td>\n",
       "      <td>NaN</td>\n",
       "      <td>NaN</td>\n",
       "    </tr>\n",
       "  </tbody>\n",
       "</table>\n",
       "</div>"
      ],
      "text/plain": [
       "     v1                                                 v2 Unnamed: 2  \\\n",
       "0   ham  Go until jurong point, crazy.. Available only ...        NaN   \n",
       "1   ham                      Ok lar... Joking wif u oni...        NaN   \n",
       "2  spam  Free entry in 2 a wkly comp to win FA Cup fina...        NaN   \n",
       "3   ham  U dun say so early hor... U c already then say...        NaN   \n",
       "4   ham  Nah I don't think he goes to usf, he lives aro...        NaN   \n",
       "\n",
       "  Unnamed: 3 Unnamed: 4  \n",
       "0        NaN        NaN  \n",
       "1        NaN        NaN  \n",
       "2        NaN        NaN  \n",
       "3        NaN        NaN  \n",
       "4        NaN        NaN  "
      ]
     },
     "execution_count": 3,
     "metadata": {},
     "output_type": "execute_result"
    }
   ],
   "source": [
    "df.head()"
   ]
  },
  {
   "cell_type": "code",
   "execution_count": 4,
   "id": "375c741d",
   "metadata": {},
   "outputs": [
    {
     "data": {
      "text/html": [
       "<div>\n",
       "<style scoped>\n",
       "    .dataframe tbody tr th:only-of-type {\n",
       "        vertical-align: middle;\n",
       "    }\n",
       "\n",
       "    .dataframe tbody tr th {\n",
       "        vertical-align: top;\n",
       "    }\n",
       "\n",
       "    .dataframe thead th {\n",
       "        text-align: right;\n",
       "    }\n",
       "</style>\n",
       "<table border=\"1\" class=\"dataframe\">\n",
       "  <thead>\n",
       "    <tr style=\"text-align: right;\">\n",
       "      <th></th>\n",
       "      <th>v1</th>\n",
       "      <th>v2</th>\n",
       "    </tr>\n",
       "  </thead>\n",
       "  <tbody>\n",
       "    <tr>\n",
       "      <th>0</th>\n",
       "      <td>ham</td>\n",
       "      <td>Go until jurong point, crazy.. Available only ...</td>\n",
       "    </tr>\n",
       "    <tr>\n",
       "      <th>1</th>\n",
       "      <td>ham</td>\n",
       "      <td>Ok lar... Joking wif u oni...</td>\n",
       "    </tr>\n",
       "    <tr>\n",
       "      <th>2</th>\n",
       "      <td>spam</td>\n",
       "      <td>Free entry in 2 a wkly comp to win FA Cup fina...</td>\n",
       "    </tr>\n",
       "    <tr>\n",
       "      <th>3</th>\n",
       "      <td>ham</td>\n",
       "      <td>U dun say so early hor... U c already then say...</td>\n",
       "    </tr>\n",
       "    <tr>\n",
       "      <th>4</th>\n",
       "      <td>ham</td>\n",
       "      <td>Nah I don't think he goes to usf, he lives aro...</td>\n",
       "    </tr>\n",
       "  </tbody>\n",
       "</table>\n",
       "</div>"
      ],
      "text/plain": [
       "     v1                                                 v2\n",
       "0   ham  Go until jurong point, crazy.. Available only ...\n",
       "1   ham                      Ok lar... Joking wif u oni...\n",
       "2  spam  Free entry in 2 a wkly comp to win FA Cup fina...\n",
       "3   ham  U dun say so early hor... U c already then say...\n",
       "4   ham  Nah I don't think he goes to usf, he lives aro..."
      ]
     },
     "execution_count": 4,
     "metadata": {},
     "output_type": "execute_result"
    }
   ],
   "source": [
    "df = df.drop(['Unnamed: 2', 'Unnamed: 3', 'Unnamed: 4'], axis = 1)\n",
    "df.head()"
   ]
  },
  {
   "cell_type": "code",
   "execution_count": 5,
   "id": "2562376c",
   "metadata": {},
   "outputs": [
    {
     "data": {
      "text/html": [
       "<div>\n",
       "<style scoped>\n",
       "    .dataframe tbody tr th:only-of-type {\n",
       "        vertical-align: middle;\n",
       "    }\n",
       "\n",
       "    .dataframe tbody tr th {\n",
       "        vertical-align: top;\n",
       "    }\n",
       "\n",
       "    .dataframe thead th {\n",
       "        text-align: right;\n",
       "    }\n",
       "</style>\n",
       "<table border=\"1\" class=\"dataframe\">\n",
       "  <thead>\n",
       "    <tr style=\"text-align: right;\">\n",
       "      <th></th>\n",
       "      <th>labels</th>\n",
       "      <th>data</th>\n",
       "    </tr>\n",
       "  </thead>\n",
       "  <tbody>\n",
       "    <tr>\n",
       "      <th>0</th>\n",
       "      <td>ham</td>\n",
       "      <td>Go until jurong point, crazy.. Available only ...</td>\n",
       "    </tr>\n",
       "    <tr>\n",
       "      <th>1</th>\n",
       "      <td>ham</td>\n",
       "      <td>Ok lar... Joking wif u oni...</td>\n",
       "    </tr>\n",
       "    <tr>\n",
       "      <th>2</th>\n",
       "      <td>spam</td>\n",
       "      <td>Free entry in 2 a wkly comp to win FA Cup fina...</td>\n",
       "    </tr>\n",
       "    <tr>\n",
       "      <th>3</th>\n",
       "      <td>ham</td>\n",
       "      <td>U dun say so early hor... U c already then say...</td>\n",
       "    </tr>\n",
       "    <tr>\n",
       "      <th>4</th>\n",
       "      <td>ham</td>\n",
       "      <td>Nah I don't think he goes to usf, he lives aro...</td>\n",
       "    </tr>\n",
       "  </tbody>\n",
       "</table>\n",
       "</div>"
      ],
      "text/plain": [
       "  labels                                               data\n",
       "0    ham  Go until jurong point, crazy.. Available only ...\n",
       "1    ham                      Ok lar... Joking wif u oni...\n",
       "2   spam  Free entry in 2 a wkly comp to win FA Cup fina...\n",
       "3    ham  U dun say so early hor... U c already then say...\n",
       "4    ham  Nah I don't think he goes to usf, he lives aro..."
      ]
     },
     "execution_count": 5,
     "metadata": {},
     "output_type": "execute_result"
    }
   ],
   "source": [
    "# v1 -> labels, v2 -> data\n",
    "df.columns = ['labels', 'data']\n",
    "df.head()"
   ]
  },
  {
   "cell_type": "code",
   "execution_count": 6,
   "id": "76a0f73b",
   "metadata": {},
   "outputs": [],
   "source": [
    "# 이진분류\n",
    "#df.loc[df['labels'] == 'ham', 'b_labels'] = 0\n",
    "#df.loc[df['labels'] == 'spam', 'b_labels'] = 1"
   ]
  },
  {
   "cell_type": "code",
   "execution_count": 7,
   "id": "3c61bec6",
   "metadata": {},
   "outputs": [],
   "source": [
    "df['b_labels'] = df['labels'].map({'ham':0, 'spam':1})"
   ]
  },
  {
   "cell_type": "code",
   "execution_count": 8,
   "id": "6d95569b",
   "metadata": {},
   "outputs": [
    {
     "data": {
      "text/html": [
       "<div>\n",
       "<style scoped>\n",
       "    .dataframe tbody tr th:only-of-type {\n",
       "        vertical-align: middle;\n",
       "    }\n",
       "\n",
       "    .dataframe tbody tr th {\n",
       "        vertical-align: top;\n",
       "    }\n",
       "\n",
       "    .dataframe thead th {\n",
       "        text-align: right;\n",
       "    }\n",
       "</style>\n",
       "<table border=\"1\" class=\"dataframe\">\n",
       "  <thead>\n",
       "    <tr style=\"text-align: right;\">\n",
       "      <th></th>\n",
       "      <th>labels</th>\n",
       "      <th>data</th>\n",
       "      <th>b_labels</th>\n",
       "    </tr>\n",
       "  </thead>\n",
       "  <tbody>\n",
       "    <tr>\n",
       "      <th>0</th>\n",
       "      <td>ham</td>\n",
       "      <td>Go until jurong point, crazy.. Available only ...</td>\n",
       "      <td>0</td>\n",
       "    </tr>\n",
       "    <tr>\n",
       "      <th>1</th>\n",
       "      <td>ham</td>\n",
       "      <td>Ok lar... Joking wif u oni...</td>\n",
       "      <td>0</td>\n",
       "    </tr>\n",
       "    <tr>\n",
       "      <th>2</th>\n",
       "      <td>spam</td>\n",
       "      <td>Free entry in 2 a wkly comp to win FA Cup fina...</td>\n",
       "      <td>1</td>\n",
       "    </tr>\n",
       "    <tr>\n",
       "      <th>3</th>\n",
       "      <td>ham</td>\n",
       "      <td>U dun say so early hor... U c already then say...</td>\n",
       "      <td>0</td>\n",
       "    </tr>\n",
       "    <tr>\n",
       "      <th>4</th>\n",
       "      <td>ham</td>\n",
       "      <td>Nah I don't think he goes to usf, he lives aro...</td>\n",
       "      <td>0</td>\n",
       "    </tr>\n",
       "    <tr>\n",
       "      <th>...</th>\n",
       "      <td>...</td>\n",
       "      <td>...</td>\n",
       "      <td>...</td>\n",
       "    </tr>\n",
       "    <tr>\n",
       "      <th>5567</th>\n",
       "      <td>spam</td>\n",
       "      <td>This is the 2nd time we have tried 2 contact u...</td>\n",
       "      <td>1</td>\n",
       "    </tr>\n",
       "    <tr>\n",
       "      <th>5568</th>\n",
       "      <td>ham</td>\n",
       "      <td>Will Ì_ b going to esplanade fr home?</td>\n",
       "      <td>0</td>\n",
       "    </tr>\n",
       "    <tr>\n",
       "      <th>5569</th>\n",
       "      <td>ham</td>\n",
       "      <td>Pity, * was in mood for that. So...any other s...</td>\n",
       "      <td>0</td>\n",
       "    </tr>\n",
       "    <tr>\n",
       "      <th>5570</th>\n",
       "      <td>ham</td>\n",
       "      <td>The guy did some bitching but I acted like i'd...</td>\n",
       "      <td>0</td>\n",
       "    </tr>\n",
       "    <tr>\n",
       "      <th>5571</th>\n",
       "      <td>ham</td>\n",
       "      <td>Rofl. Its true to its name</td>\n",
       "      <td>0</td>\n",
       "    </tr>\n",
       "  </tbody>\n",
       "</table>\n",
       "<p>5572 rows × 3 columns</p>\n",
       "</div>"
      ],
      "text/plain": [
       "     labels                                               data  b_labels\n",
       "0       ham  Go until jurong point, crazy.. Available only ...         0\n",
       "1       ham                      Ok lar... Joking wif u oni...         0\n",
       "2      spam  Free entry in 2 a wkly comp to win FA Cup fina...         1\n",
       "3       ham  U dun say so early hor... U c already then say...         0\n",
       "4       ham  Nah I don't think he goes to usf, he lives aro...         0\n",
       "...     ...                                                ...       ...\n",
       "5567   spam  This is the 2nd time we have tried 2 contact u...         1\n",
       "5568    ham              Will Ì_ b going to esplanade fr home?         0\n",
       "5569    ham  Pity, * was in mood for that. So...any other s...         0\n",
       "5570    ham  The guy did some bitching but I acted like i'd...         0\n",
       "5571    ham                         Rofl. Its true to its name         0\n",
       "\n",
       "[5572 rows x 3 columns]"
      ]
     },
     "execution_count": 8,
     "metadata": {},
     "output_type": "execute_result"
    }
   ],
   "source": [
    "df"
   ]
  },
  {
   "cell_type": "code",
   "execution_count": 9,
   "id": "47a92756",
   "metadata": {},
   "outputs": [
    {
     "data": {
      "text/plain": [
       "array([0, 0, 1, ..., 0, 0, 0], dtype=int64)"
      ]
     },
     "execution_count": 9,
     "metadata": {},
     "output_type": "execute_result"
    }
   ],
   "source": [
    "Y = df['b_labels'].values\n",
    "Y"
   ]
  },
  {
   "cell_type": "code",
   "execution_count": 10,
   "id": "250c23bd",
   "metadata": {},
   "outputs": [],
   "source": [
    "X_train, X_test, Y_train, Y_test = train_test_split(df['data'], Y,\n",
    "                                                    test_size = 0.33)"
   ]
  },
  {
   "cell_type": "code",
   "execution_count": 11,
   "id": "35711e63",
   "metadata": {},
   "outputs": [
    {
     "name": "stdout",
     "output_type": "stream",
     "text": [
      "X_train: (3733,), X_test: (1839,), Y_train: (3733,), Y_test: (1839,)\n"
     ]
    }
   ],
   "source": [
    "print(f'X_train: {X_train.shape}, X_test: {X_test.shape}, Y_train: {Y_train.shape}, Y_test: {Y_test.shape}')"
   ]
  },
  {
   "cell_type": "code",
   "execution_count": 12,
   "id": "10362588",
   "metadata": {},
   "outputs": [],
   "source": [
    "MAX_VOCAB_SIZE = 20000"
   ]
  },
  {
   "cell_type": "code",
   "execution_count": 13,
   "id": "57038173",
   "metadata": {},
   "outputs": [],
   "source": [
    "tokenizer = Tokenizer(num_words = MAX_VOCAB_SIZE) # 사용 빈도가 높은 20000개 단어.\n",
    "tokenizer.fit_on_texts(X_train) # 토큰화 작업"
   ]
  },
  {
   "cell_type": "code",
   "execution_count": 14,
   "id": "35ee0446",
   "metadata": {},
   "outputs": [],
   "source": [
    "# sequence 데이터처럼 분류 -> padding,,,\n",
    "sequence_train = tokenizer.texts_to_sequences(X_train)\n",
    "sequence_test = tokenizer.texts_to_sequences(X_test) # scaler처럼 X_test에는 texts_to_sequences만 해줌."
   ]
  },
  {
   "cell_type": "code",
   "execution_count": 15,
   "id": "1ec39f08",
   "metadata": {
    "scrolled": true
   },
   "outputs": [],
   "source": [
    "#print(sequence_train)"
   ]
  },
  {
   "cell_type": "code",
   "execution_count": 16,
   "id": "3b6982a8",
   "metadata": {},
   "outputs": [
    {
     "name": "stdout",
     "output_type": "stream",
     "text": [
      "Unique token: 7216\n"
     ]
    }
   ],
   "source": [
    "# 개별의 벡터화 - Word2Vec{CBoW (Continuous Bag of Words) & Skip-gram} 둘 다 특정 타깃 단어 주변의 문맥, 즉 분포 정보를 임베딩에 포함합니다.\n",
    "word2vec = tokenizer.word_index\n",
    "V = len(word2vec)\n",
    "print('Unique token:', V)"
   ]
  },
  {
   "cell_type": "code",
   "execution_count": 17,
   "id": "e45024bf",
   "metadata": {},
   "outputs": [
    {
     "data": {
      "text/plain": [
       "(3733, 189)"
      ]
     },
     "execution_count": 17,
     "metadata": {},
     "output_type": "execute_result"
    }
   ],
   "source": [
    "# N X T -> 데이터 길이가 다 다르기 때문에 길이를 맞춰줘야 함. -> padding\n",
    "data_train = pad_sequences(sequence_train)\n",
    "data_train.shape"
   ]
  },
  {
   "cell_type": "code",
   "execution_count": 18,
   "id": "80f74d65",
   "metadata": {},
   "outputs": [
    {
     "data": {
      "text/plain": [
       "189"
      ]
     },
     "execution_count": 18,
     "metadata": {},
     "output_type": "execute_result"
    }
   ],
   "source": [
    "T = data_train.shape[1] # time series\n",
    "T"
   ]
  },
  {
   "cell_type": "code",
   "execution_count": 19,
   "id": "ff7b0764",
   "metadata": {},
   "outputs": [
    {
     "data": {
      "text/plain": [
       "(1839, 189)"
      ]
     },
     "execution_count": 19,
     "metadata": {},
     "output_type": "execute_result"
    }
   ],
   "source": [
    "data_test = pad_sequences(sequence_test, maxlen = T) # 데이터 길이 맞춰줌.(sequence_train와 열의 개수 똑같)\n",
    "data_test.shape"
   ]
  },
  {
   "cell_type": "markdown",
   "id": "7d5da0d9",
   "metadata": {},
   "source": [
    "### Generate a model"
   ]
  },
  {
   "cell_type": "code",
   "execution_count": 20,
   "id": "de929b24",
   "metadata": {},
   "outputs": [
    {
     "name": "stdout",
     "output_type": "stream",
     "text": [
      "Model: \"model\"\n",
      "_________________________________________________________________\n",
      " Layer (type)                Output Shape              Param #   \n",
      "=================================================================\n",
      " input_1 (InputLayer)        [(None, 189)]             0         \n",
      "                                                                 \n",
      " embedding (Embedding)       (None, 189, 20)           144340    \n",
      "                                                                 \n",
      " lstm (LSTM)                 (None, 189, 15)           2160      \n",
      "                                                                 \n",
      " global_max_pooling1d (Globa  (None, 15)               0         \n",
      " lMaxPooling1D)                                                  \n",
      "                                                                 \n",
      " dense (Dense)               (None, 1)                 16        \n",
      "                                                                 \n",
      "=================================================================\n",
      "Total params: 146,516\n",
      "Trainable params: 146,516\n",
      "Non-trainable params: 0\n",
      "_________________________________________________________________\n"
     ]
    }
   ],
   "source": [
    "# embedding -> 차수 변경. / 밀집 벡터 (전체 데이터 수, input layer 수)\n",
    "# embedding -> 2차원 배열\n",
    "# 이진분류\n",
    "\n",
    "D = 20 # 차원\n",
    "M = 15 # projection layer 사이즈 지정.\n",
    "\n",
    "i = Input(shape = (T,)) # time series\n",
    "x = Embedding(V + 1, D)(i) # 처음 시작하는 인덱스 때문에 문제 해결을 위해.(1부터 들어가니까.) - 임베딩 차원(그 개수만큼 벡터 생성)\n",
    "x = LSTM(M, return_sequences = True)(x) # many to many\n",
    "x = GlobalMaxPool1D()(x) # 인자값으로 받는다. -> GlobalMaxPool1D()\n",
    "x = Dense(1, activation = 'sigmoid')(x)\n",
    "\n",
    "model = Model(i, x)\n",
    "model.compile(loss = 'binary_crossentropy', optimizer = 'adam',\n",
    "              metrics = ['accuracy'])\n",
    "model.summary()"
   ]
  },
  {
   "cell_type": "code",
   "execution_count": 22,
   "id": "db5369fb",
   "metadata": {
    "scrolled": true
   },
   "outputs": [
    {
     "name": "stdout",
     "output_type": "stream",
     "text": [
      "Epoch 1/10\n",
      "117/117 [==============================] - 5s 39ms/step - loss: 0.4693 - accuracy: 0.8599 - val_loss: 0.3896 - val_accuracy: 0.8679\n",
      "Epoch 2/10\n",
      "117/117 [==============================] - 4s 37ms/step - loss: 0.3933 - accuracy: 0.8650 - val_loss: 0.3855 - val_accuracy: 0.8679\n",
      "Epoch 3/10\n",
      "117/117 [==============================] - 4s 38ms/step - loss: 0.3851 - accuracy: 0.8650 - val_loss: 0.3715 - val_accuracy: 0.8679\n",
      "Epoch 4/10\n",
      "117/117 [==============================] - 4s 37ms/step - loss: 0.3072 - accuracy: 0.8650 - val_loss: 0.2030 - val_accuracy: 0.8679\n",
      "Epoch 5/10\n",
      "117/117 [==============================] - 4s 38ms/step - loss: 0.1327 - accuracy: 0.9794 - val_loss: 0.0984 - val_accuracy: 0.9864\n",
      "Epoch 6/10\n",
      "117/117 [==============================] - 4s 37ms/step - loss: 0.0745 - accuracy: 0.9922 - val_loss: 0.0730 - val_accuracy: 0.9886\n",
      "Epoch 7/10\n",
      "117/117 [==============================] - 5s 39ms/step - loss: 0.0451 - accuracy: 0.9960 - val_loss: 0.0597 - val_accuracy: 0.9875\n",
      "Epoch 8/10\n",
      "117/117 [==============================] - 4s 37ms/step - loss: 0.0294 - accuracy: 0.9979 - val_loss: 0.0515 - val_accuracy: 0.9880\n",
      "Epoch 9/10\n",
      "117/117 [==============================] - 4s 38ms/step - loss: 0.0210 - accuracy: 0.9987 - val_loss: 0.0470 - val_accuracy: 0.9880\n",
      "Epoch 10/10\n",
      "117/117 [==============================] - 5s 40ms/step - loss: 0.0158 - accuracy: 0.9995 - val_loss: 0.0513 - val_accuracy: 0.9875\n"
     ]
    }
   ],
   "source": [
    "r = model.fit(data_train, Y_train, epochs = 10, validation_data = (data_test, Y_test))"
   ]
  },
  {
   "cell_type": "code",
   "execution_count": 23,
   "id": "85e46079",
   "metadata": {},
   "outputs": [
    {
     "data": {
      "text/plain": [
       "<matplotlib.legend.Legend at 0x1a0f6896550>"
      ]
     },
     "execution_count": 23,
     "metadata": {},
     "output_type": "execute_result"
    },
    {
     "data": {
      "image/png": "[encoded data removed]",
      "text/plain": [
       "<Figure size 432x288 with 1 Axes>"
      ]
     },
     "metadata": {
      "needs_background": "light"
     },
     "output_type": "display_data"
    }
   ],
   "source": [
    "plt.plot(r.history['loss'], label = 'loss')\n",
    "plt.plot(r.history['val_loss'], label = 'val_loss')\n",
    "plt.legend()"
   ]
  },
  {
   "cell_type": "code",
   "execution_count": 24,
   "id": "7d969414",
   "metadata": {},
   "outputs": [
    {
     "data": {
      "text/plain": [
       "<matplotlib.legend.Legend at 0x1a0f698cf40>"
      ]
     },
     "execution_count": 24,
     "metadata": {},
     "output_type": "execute_result"
    },
    {
     "data": {
      "image/png": "[encoded data removed]",
      "text/plain": [
       "<Figure size 432x288 with 1 Axes>"
      ]
     },
     "metadata": {
      "needs_background": "light"
     },
     "output_type": "display_data"
    }
   ],
   "source": [
    "plt.plot(r.history['accuracy'], label = 'acc')\n",
    "plt.plot(r.history['val_accuracy'], label = 'val_acc')\n",
    "plt.legend()"
   ]
  },
  {
   "cell_type": "code",
   "execution_count": 25,
   "id": "c905f18b",
   "metadata": {},
   "outputs": [],
   "source": [
    "spam_email = '''As kids, we all learned by doing. We just called it playing. \n",
    "               And playing is how kids learn everything from complex social interactions to coding to \n",
    "               dinosaur names. Knowing your stegosaurus from your qianzhousaurus may not be all that \n",
    "               important as an adult, but we all still have that inner 10-year-old that loves to learn by playing. \n",
    "               Our Cloud Playground gives you the freedom to build, test, fail, and learn in completely real, \n",
    "               completely risk-free AWS, Azure, and GCP sandbox environments.'''"
   ]
  },
  {
   "cell_type": "code",
   "execution_count": 58,
   "id": "db00f7bb",
   "metadata": {},
   "outputs": [],
   "source": [
    "ham_email = '''So then I was posted to LA, which felt like a whole other country compared with the East Coast. I could definitely get used to that kind of outdoor, beach lifestyle, but I didn't spend as much time getting to know California as I could have because I was flying back to see Michael every other weekend. He came to see me when he could, but his job means he's often working at weekends, so he couldn't make the flight very often.'''"
   ]
  },
  {
   "cell_type": "code",
   "execution_count": 27,
   "id": "ef6af6a8",
   "metadata": {},
   "outputs": [],
   "source": [
    "sample_email_sequences = tokenizer.texts_to_sequences([spam_email])"
   ]
  },
  {
   "cell_type": "code",
   "execution_count": 29,
   "id": "3a7180d2",
   "metadata": {},
   "outputs": [],
   "source": [
    "sample_email_padding = pad_sequences(sample_email_sequences, maxlen = T)"
   ]
  },
  {
   "cell_type": "code",
   "execution_count": 30,
   "id": "29259d0e",
   "metadata": {},
   "outputs": [
    {
     "data": {
      "text/plain": [
       "array([[0.00719288]], dtype=float32)"
      ]
     },
     "execution_count": 30,
     "metadata": {},
     "output_type": "execute_result"
    }
   ],
   "source": [
    "model.predict(sample_email_padding)"
   ]
  },
  {
   "cell_type": "code",
   "execution_count": 31,
   "id": "5fb7b058",
   "metadata": {},
   "outputs": [
    {
     "name": "stdout",
     "output_type": "stream",
     "text": [
      "99.28 확률로 Spam 메일입니다.\n"
     ]
    }
   ],
   "source": [
    "score = float(model.predict(sample_email_padding))\n",
    "\n",
    "if score > 0.5:\n",
    "    print('{:.2f} 확률로 Ham 메일입니다.'.format(score * 100))\n",
    "else:\n",
    "    print('{:.2f} 확률로 Spam 메일입니다.'.format((1 - score) * 100))"
   ]
  },
  {
   "cell_type": "code",
   "execution_count": 32,
   "id": "38b59e02",
   "metadata": {},
   "outputs": [
    {
     "name": "stdout",
     "output_type": "stream",
     "text": [
      "117/117 [==============================] - 1s 8ms/step - loss: 0.0130 - accuracy: 0.9995\n"
     ]
    },
    {
     "data": {
      "text/plain": [
       "[0.013044406659901142, 0.999464213848114]"
      ]
     },
     "execution_count": 32,
     "metadata": {},
     "output_type": "execute_result"
    }
   ],
   "source": [
    "# 모델 평가\n",
    "model.evaluate(data_train, Y_train)"
   ]
  },
  {
   "cell_type": "code",
   "execution_count": 59,
   "id": "d011977c",
   "metadata": {},
   "outputs": [],
   "source": [
    "sample_email_sequences = tokenizer.texts_to_sequences([ham_email])"
   ]
  },
  {
   "cell_type": "code",
   "execution_count": 60,
   "id": "7c729257",
   "metadata": {},
   "outputs": [],
   "source": [
    "sample_email_padding = pad_sequences(sample_email_sequences, maxlen = T)"
   ]
  },
  {
   "cell_type": "code",
   "execution_count": 61,
   "id": "b55ff0b7",
   "metadata": {},
   "outputs": [
    {
     "name": "stdout",
     "output_type": "stream",
     "text": [
      "99.38 확률로 Spam 메일입니다.\n"
     ]
    }
   ],
   "source": [
    "score = float(model.predict(sample_email_padding))\n",
    "\n",
    "if score > 0.5:\n",
    "    print('{:.2f} 확률로 Ham 메일입니다.'.format(score * 100))\n",
    "else:\n",
    "    print('{:.2f} 확률로 Spam 메일입니다.'.format((1 - score) * 100))"
   ]
  },
  {
   "cell_type": "code",
   "execution_count": null,
   "id": "5963a25e",
   "metadata": {},
   "outputs": [],
   "source": [
    "# ham mail인데 spam mail로 구별해,,"
   ]
  }
 ],
 "metadata": {
  "kernelspec": {
   "display_name": "Python 3 (ipykernel)",
   "language": "python",
   "name": "python3"
  },
  "language_info": {
   "codemirror_mode": {
    "name": "ipython",
    "version": 3
   },
   "file_extension": ".py",
   "mimetype": "text/x-python",
   "name": "python",
   "nbconvert_exporter": "python",
   "pygments_lexer": "ipython3",
   "version": "3.9.7"
  }
 },
 "nbformat": 4,
 "nbformat_minor": 5
}
