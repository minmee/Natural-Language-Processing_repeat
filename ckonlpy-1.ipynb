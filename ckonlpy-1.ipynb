{
 "cells": [
  {
   "cell_type": "code",
   "execution_count": 2,
   "id": "b0da42c7",
   "metadata": {},
   "outputs": [],
   "source": [
    "from konlpy.tag import Okt"
   ]
  },
  {
   "cell_type": "code",
   "execution_count": 3,
   "id": "27b82cdb",
   "metadata": {},
   "outputs": [],
   "source": [
    "okt = Okt()"
   ]
  },
  {
   "cell_type": "code",
   "execution_count": 4,
   "id": "511a0062",
   "metadata": {},
   "outputs": [
    {
     "data": {
      "text/plain": [
       "['철수', '는', '학교', '에', '갔습니다', '.']"
      ]
     },
     "execution_count": 4,
     "metadata": {},
     "output_type": "execute_result"
    }
   ],
   "source": [
    "# 형태소 분석\n",
    "okt.morphs('철수는 학교에 갔습니다.')"
   ]
  },
  {
   "cell_type": "code",
   "execution_count": 5,
   "id": "6817eba2",
   "metadata": {},
   "outputs": [
    {
     "data": {
      "text/plain": [
       "['소연', '이', '는', '학교', '에', '갔습니다', '.']"
      ]
     },
     "execution_count": 5,
     "metadata": {},
     "output_type": "execute_result"
    }
   ],
   "source": [
    "okt.morphs('소연이는 학교에 갔습니다.')"
   ]
  },
  {
   "cell_type": "code",
   "execution_count": 6,
   "id": "8a228c65",
   "metadata": {},
   "outputs": [
    {
     "data": {
      "text/plain": [
       "['도', '원', '이는', '학교', '에', '갔습니다', '.']"
      ]
     },
     "execution_count": 6,
     "metadata": {},
     "output_type": "execute_result"
    }
   ],
   "source": [
    "okt.morphs('도원이는 학교에 갔습니다.') # '도원'은 사람이름인데 따로 분석했다. 이를 말뭉치에 포함시켜야 함."
   ]
  },
  {
   "cell_type": "code",
   "execution_count": 7,
   "id": "60ec77ec",
   "metadata": {
    "scrolled": true
   },
   "outputs": [
    {
     "name": "stdout",
     "output_type": "stream",
     "text": [
      "Collecting customized_konlpy\n",
      "  Downloading customized_konlpy-0.0.64-py3-none-any.whl (881 kB)\n",
      "Requirement already satisfied: Jpype1>=0.6.1 in c:\\users\\user\\desktop\\.ipynb_checkpoints\\lib\\site-packages (from customized_konlpy) (1.3.0)\n",
      "Requirement already satisfied: konlpy>=0.4.4 in c:\\users\\user\\desktop\\.ipynb_checkpoints\\lib\\site-packages (from customized_konlpy) (0.6.0)\n",
      "Requirement already satisfied: numpy>=1.6 in c:\\users\\user\\desktop\\.ipynb_checkpoints\\lib\\site-packages (from konlpy>=0.4.4->customized_konlpy) (1.20.3)\n",
      "Requirement already satisfied: lxml>=4.1.0 in c:\\users\\user\\desktop\\.ipynb_checkpoints\\lib\\site-packages (from konlpy>=0.4.4->customized_konlpy) (4.6.3)\n",
      "Installing collected packages: customized-konlpy\n",
      "Successfully installed customized-konlpy-0.0.64\n"
     ]
    },
    {
     "name": "stderr",
     "output_type": "stream",
     "text": [
      "WARNING: Ignoring invalid distribution -heel (c:\\users\\user\\desktop\\.ipynb_checkpoints\\lib\\site-packages)\n",
      "WARNING: Ignoring invalid distribution -heel (c:\\users\\user\\desktop\\.ipynb_checkpoints\\lib\\site-packages)\n",
      "WARNING: Ignoring invalid distribution -heel (c:\\users\\user\\desktop\\.ipynb_checkpoints\\lib\\site-packages)\n",
      "WARNING: Ignoring invalid distribution -heel (c:\\users\\user\\desktop\\.ipynb_checkpoints\\lib\\site-packages)\n",
      "WARNING: Ignoring invalid distribution -heel (c:\\users\\user\\desktop\\.ipynb_checkpoints\\lib\\site-packages)\n",
      "WARNING: Ignoring invalid distribution -heel (c:\\users\\user\\desktop\\.ipynb_checkpoints\\lib\\site-packages)\n"
     ]
    }
   ],
   "source": [
    "!pip install customized_konlpy"
   ]
  },
  {
   "cell_type": "code",
   "execution_count": 8,
   "id": "494aa346",
   "metadata": {},
   "outputs": [],
   "source": [
    "from ckonlpy.tag import Twitter"
   ]
  },
  {
   "cell_type": "code",
   "execution_count": 9,
   "id": "ff002535",
   "metadata": {},
   "outputs": [
    {
     "name": "stderr",
     "output_type": "stream",
     "text": [
      "C:\\Users\\user\\Desktop\\.ipynb_checkpoints\\lib\\site-packages\\konlpy\\tag\\_okt.py:17: UserWarning: \"Twitter\" has changed to \"Okt\" since KoNLPy v0.4.5.\n",
      "  warn('\"Twitter\" has changed to \"Okt\" since KoNLPy v0.4.5.')\n"
     ]
    }
   ],
   "source": [
    "twitter = Twitter()"
   ]
  },
  {
   "cell_type": "code",
   "execution_count": 10,
   "id": "dfed726f",
   "metadata": {},
   "outputs": [
    {
     "data": {
      "text/plain": [
       "['도', '원', '이는', '학교', '에', '갔습니다', '.']"
      ]
     },
     "execution_count": 10,
     "metadata": {},
     "output_type": "execute_result"
    }
   ],
   "source": [
    "twitter.morphs('도원이는 학교에 갔습니다.')"
   ]
  },
  {
   "cell_type": "code",
   "execution_count": 11,
   "id": "af33b296",
   "metadata": {},
   "outputs": [],
   "source": [
    "twitter.add_dictionary('소연이', 'Noun')"
   ]
  },
  {
   "cell_type": "code",
   "execution_count": 12,
   "id": "13037006",
   "metadata": {},
   "outputs": [
    {
     "data": {
      "text/plain": [
       "['소연이', '는', '학교', '에', '갔습니다', '.']"
      ]
     },
     "execution_count": 12,
     "metadata": {},
     "output_type": "execute_result"
    }
   ],
   "source": [
    "twitter.morphs('소연이는 학교에 갔습니다.')"
   ]
  },
  {
   "cell_type": "code",
   "execution_count": 13,
   "id": "4b8dc1d0",
   "metadata": {},
   "outputs": [],
   "source": [
    "twitter.add_dictionary(['소연이', '도원이'], 'Noun')"
   ]
  },
  {
   "cell_type": "code",
   "execution_count": 14,
   "id": "b6f03fdf",
   "metadata": {},
   "outputs": [
    {
     "data": {
      "text/plain": [
       "['도원이', '는', '학교', '에', '갔습니다', '.']"
      ]
     },
     "execution_count": 14,
     "metadata": {},
     "output_type": "execute_result"
    }
   ],
   "source": [
    "twitter.morphs('도원이는 학교에 갔습니다.')"
   ]
  },
  {
   "cell_type": "code",
   "execution_count": null,
   "id": "c25c7e90",
   "metadata": {},
   "outputs": [],
   "source": [
    "# https://bit.ly/31SqtHy\n",
    "# https://bit.ly/3f7rH5g\n",
    "# https://wikidocs.net/85470"
   ]
  }
 ],
 "metadata": {
  "kernelspec": {
   "display_name": "Python 3 (ipykernel)",
   "language": "python",
   "name": "python3"
  },
  "language_info": {
   "codemirror_mode": {
    "name": "ipython",
    "version": 3
   },
   "file_extension": ".py",
   "mimetype": "text/x-python",
   "name": "python",
   "nbconvert_exporter": "python",
   "pygments_lexer": "ipython3",
   "version": "3.9.7"
  }
 },
 "nbformat": 4,
 "nbformat_minor": 5
}
