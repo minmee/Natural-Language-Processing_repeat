{
 "cells": [
  {
   "cell_type": "code",
   "execution_count": 1,
   "id": "8bdc6c61",
   "metadata": {},
   "outputs": [],
   "source": [
    "%matplotlib inline\n",
    "import matplotlib.pyplot as plt\n",
    "from matplotlib import font_manager, rc\n",
    "from math import sqrt"
   ]
  },
  {
   "cell_type": "code",
   "execution_count": 2,
   "id": "d6c5a3b5",
   "metadata": {},
   "outputs": [],
   "source": [
    "# 한글 처리\n",
    "font_name = font_manager.FontProperties(fname='/System/Library/Fonts/Supplemental/AppleGothic.ttf') \\\n",
    "                .get_name()\n",
    "rc('font', family=font_name)"
   ]
  },
  {
   "cell_type": "code",
   "execution_count": 3,
   "id": "602a4d97",
   "metadata": {},
   "outputs": [],
   "source": [
    "ratings = {\n",
    "    'user1': {'captain marvel':5, 'last mission':4, 'money':2},\n",
    "    'user2': {'captain marvel':4, 'last mission':2, 'money':1},\n",
    "    'me': {'last mission':4, 'money':3},\n",
    "    'user3': {'captain marvel':3.5, 'last mission':4, 'money':4}\n",
    "}"
   ]
  },
  {
   "cell_type": "code",
   "execution_count": 4,
   "id": "1eff5c17",
   "metadata": {},
   "outputs": [
    {
     "data": {
      "text/plain": [
       "{'last mission': 4, 'money': 3}"
      ]
     },
     "execution_count": 4,
     "metadata": {},
     "output_type": "execute_result"
    }
   ],
   "source": [
    "ratings['me']"
   ]
  },
  {
   "cell_type": "code",
   "execution_count": 5,
   "id": "56225eec",
   "metadata": {},
   "outputs": [
    {
     "data": {
      "text/plain": [
       "3"
      ]
     },
     "execution_count": 5,
     "metadata": {},
     "output_type": "execute_result"
    }
   ],
   "source": [
    "ratings['me']['money']"
   ]
  },
  {
   "cell_type": "code",
   "execution_count": 6,
   "id": "1ce106bb",
   "metadata": {},
   "outputs": [],
   "source": [
    "def similarity(i, j):\n",
    "    return sqrt(pow(i, 2) + pow(j ,2))"
   ]
  },
  {
   "cell_type": "code",
   "execution_count": 7,
   "id": "b83d53ef",
   "metadata": {},
   "outputs": [
    {
     "data": {
      "text/plain": [
       "1.0"
      ]
     },
     "execution_count": 7,
     "metadata": {},
     "output_type": "execute_result"
    }
   ],
   "source": [
    "var1 = ratings['me']['last mission'] - ratings['user3']['last mission']\n",
    "var2 = ratings['me']['money'] - ratings['user3']['money']\n",
    "similarity(var1, var2)"
   ]
  },
  {
   "cell_type": "code",
   "execution_count": 8,
   "id": "4fecef59",
   "metadata": {},
   "outputs": [
    {
     "name": "stdout",
     "output_type": "stream",
     "text": [
      "user1:1.0\n",
      "user2:2.8284271247461903\n",
      "user3:1.0\n"
     ]
    }
   ],
   "source": [
    "for i in ratings: \n",
    "    if i != 'me':\n",
    "        var1 = ratings['me']['last mission'] - ratings[i]['last mission']\n",
    "        var2 = ratings['me']['money'] - ratings[i]['money']\n",
    "        print(f\"{i}:{similarity(var1, var2)}\")"
   ]
  },
  {
   "cell_type": "code",
   "execution_count": 9,
   "id": "2029dd30",
   "metadata": {},
   "outputs": [
    {
     "name": "stdout",
     "output_type": "stream",
     "text": [
      "user1:0.5\n",
      "user2:0.2612038749637414\n",
      "user3:0.5\n"
     ]
    }
   ],
   "source": [
    "# 정규화 (0~1) 0: 거리가 먼 데이터, 1: 거리가 가까운 데이터\n",
    "for i in ratings: \n",
    "    if i != 'me':\n",
    "        var1 = ratings['me']['last mission'] - ratings[i]['last mission']\n",
    "        var2 = ratings['me']['money'] - ratings[i]['money']\n",
    "        print(f\"{i}:{ 1 / (1 + similarity(var1, var2))}\")"
   ]
  },
  {
   "cell_type": "code",
   "execution_count": 10,
   "id": "c727a923",
   "metadata": {},
   "outputs": [],
   "source": [
    "# 다찬원 유사도 구하기\n",
    "def similarity_distance(data, name1, name2):\n",
    "    sum = 0\n",
    "    for i in data[name1]:\n",
    "        if i in data[name2]: # 같은 영화를 밨다면 \n",
    "            # 각 축을 기준으로 차이를 구하고 제곱하을 하고, 총합의 제곱근의 거리 점수 \n",
    "            sum += pow(data[name1][i] - data[name2][i], 2)\n",
    "    \n",
    "    # 유사할수록 더 높은 값을 가지는 계산식 사용, 결과 값이 0과 1사이의 값으로 변환\n",
    "    # 반환 값이 1에 가까울 수록 유사도가 높다\n",
    "    return 1 / (1 + sqrt(sum))"
   ]
  },
  {
   "cell_type": "code",
   "execution_count": 11,
   "id": "47f252af",
   "metadata": {},
   "outputs": [
    {
     "data": {
      "text/plain": [
       "0.28989794855663564"
      ]
     },
     "execution_count": 11,
     "metadata": {},
     "output_type": "execute_result"
    }
   ],
   "source": [
    "similarity_distance(ratings, 'user1', 'user2')"
   ]
  },
  {
   "cell_type": "code",
   "execution_count": 12,
   "id": "7c133c98",
   "metadata": {},
   "outputs": [
    {
     "data": {
      "text/plain": [
       "0.2857142857142857"
      ]
     },
     "execution_count": 12,
     "metadata": {},
     "output_type": "execute_result"
    }
   ],
   "source": [
    "similarity_distance(ratings, 'user1', 'user3')"
   ]
  },
  {
   "cell_type": "code",
   "execution_count": 13,
   "id": "b03d7407",
   "metadata": {},
   "outputs": [],
   "source": [
    "# 전체 데이터에서 유사도가 가장 가까운 사람 구하기 \n",
    "def nearest_user(data, name, index=3):\n",
    "    nearest_user_list = []\n",
    "    for u in data:\n",
    "        if name != u: #자기 자신은 제외 \n",
    "            nearest_user_list.append((similarity_distance(data, name, u), u))\n",
    "    \n",
    "    nearest_user_list.sort() # 오름차순 정렬\n",
    "    nearest_user_list.reverse() # 내림차순 정렬\n",
    "    \n",
    "    return nearest_user_list[:index]"
   ]
  },
  {
   "cell_type": "code",
   "execution_count": 14,
   "id": "11f958b7",
   "metadata": {},
   "outputs": [
    {
     "data": {
      "text/plain": [
       "[(0.28989794855663564, 'user1'),\n",
       " (0.2612038749637414, 'me'),\n",
       " (0.21551468935838852, 'user3')]"
      ]
     },
     "execution_count": 14,
     "metadata": {},
     "output_type": "execute_result"
    }
   ],
   "source": [
    "nearest_user(ratings, 'user2')"
   ]
  },
  {
   "cell_type": "code",
   "execution_count": 15,
   "id": "26cd6938",
   "metadata": {},
   "outputs": [
    {
     "data": {
      "text/plain": [
       "[(0.5, 'me'), (0.28989794855663564, 'user2'), (0.2857142857142857, 'user3')]"
      ]
     },
     "execution_count": 15,
     "metadata": {},
     "output_type": "execute_result"
    }
   ],
   "source": [
    "nearest_user(ratings, 'user2')"
   ]
  },
  {
   "cell_type": "code",
   "execution_count": 19,
   "id": "bcc62f09",
   "metadata": {},
   "outputs": [],
   "source": [
    "# 평점과 이름 분리 \n",
    "def nearest_user(data, name, index=3):\n",
    "    scores = []\n",
    "    names = []\n",
    "    for u in data:\n",
    "        if name != u: #자기 자신은 제외 \n",
    "            scores.append(similarity_distance(data, name, u))\n",
    "            names.append(u)\n",
    "    \n",
    "    scores.sort()\n",
    "    scores.reverse()\n",
    "    names.sort()\n",
    "    names.reverse()\n",
    "    \n",
    "    return scores, names "
   ]
  },
  {
   "cell_type": "code",
   "execution_count": 20,
   "id": "7bbbe04a",
   "metadata": {},
   "outputs": [
    {
     "name": "stdout",
     "output_type": "stream",
     "text": [
      "[0.28989794855663564, 0.2612038749637414, 0.21551468935838852]\n",
      "['user3', 'user1', 'me']\n"
     ]
    }
   ],
   "source": [
    "scores, names = nearest_user(ratings, 'user2')\n",
    "print(scores)\n",
    "print(names)"
   ]
  },
  {
   "cell_type": "code",
   "execution_count": 21,
   "id": "18b4f8a9",
   "metadata": {},
   "outputs": [],
   "source": [
    "# 시각화\n",
    "def draw_chart(data, labels):\n",
    "    positions = range(len(data))\n",
    "    plt.barh(positions, data, height=0.5, color='b')\n",
    "    plt.yticks(positions, labels)\n",
    "    plt.xlabel('Similarity')\n",
    "    plt.ylabel('Name')\n",
    "    plt.show()"
   ]
  },
  {
   "cell_type": "code",
   "execution_count": 23,
   "id": "35fa5154",
   "metadata": {},
   "outputs": [
    {
     "data": {
      "image/png": "[encoded data removed]",
      "text/plain": [
       "<Figure size 432x288 with 1 Axes>"
      ]
     },
     "metadata": {
      "needs_background": "light"
     },
     "output_type": "display_data"
    }
   ],
   "source": [
    "draw_chart(scores, names)"
   ]
  },
  {
   "cell_type": "code",
   "execution_count": null,
   "id": "103a8908",
   "metadata": {},
   "outputs": [],
   "source": []
  }
 ],
 "metadata": {
  "kernelspec": {
   "display_name": "Python 3 (ipykernel)",
   "language": "python",
   "name": "python3"
  },
  "language_info": {
   "codemirror_mode": {
    "name": "ipython",
    "version": 3
   },
   "file_extension": ".py",
   "mimetype": "text/x-python",
   "name": "python",
   "nbconvert_exporter": "python",
   "pygments_lexer": "ipython3",
   "version": "3.8.12"
  }
 },
 "nbformat": 4,
 "nbformat_minor": 5
}
