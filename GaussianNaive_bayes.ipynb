{
 "cells": [
  {
   "cell_type": "code",
   "execution_count": 1,
   "id": "8079173b",
   "metadata": {},
   "outputs": [],
   "source": [
    "import numpy as np\n",
    "from sklearn.naive_bayes import GaussianNB\n",
    "from sklearn.metrics import accuracy_score"
   ]
  },
  {
   "cell_type": "code",
   "execution_count": 2,
   "id": "0725d7f1",
   "metadata": {},
   "outputs": [],
   "source": [
    "# Unicode 코드 수치를 가지고 출현 빈도 판정\n",
    "def count_unicode(s):\n",
    "    # Unicode 수치를 저장할 배열 준비\n",
    "    counter = np.zeros(65535)\n",
    "    \n",
    "    for i in range(len(s)):\n",
    "        # 각각의 문자를 Unicode 숫자로 변환\n",
    "        code_value = ord(s[i]) # 문자를 Unicode 정수로 변환 <-> chr(정수) - chr(97) : 소문자\n",
    "        if code_value > 65535:\n",
    "            continue # if 조건에 만족한다면 continue 아래의 코드는 실행하지 않고 건너뛴 뒤 다음 반복을 실행함.\n",
    "            \n",
    "        # 출현 빈도 확인\n",
    "        counter[code_value] += 1\n",
    "        \n",
    "    # 각 요소를 문자 수로 나누어서 정규화\n",
    "    counter = counter / len(s)\n",
    "    return counter"
   ]
  },
  {
   "cell_type": "markdown",
   "id": "1303a67f",
   "metadata": {},
   "source": [
    "### 1. demo"
   ]
  },
  {
   "cell_type": "code",
   "execution_count": 3,
   "id": "8b9d88ed",
   "metadata": {},
   "outputs": [],
   "source": [
    "# 학습 데이터\n",
    "ko_str = '이것은 한국어 문장입니다.'\n",
    "ja_str = 'これは日本語の文章です。'\n",
    "en_str = 'This is an English Sentences.'"
   ]
  },
  {
   "cell_type": "code",
   "execution_count": 4,
   "id": "b5857fc3",
   "metadata": {},
   "outputs": [],
   "source": [
    "X_train = [count_unicode(ko_str), count_unicode(ja_str), count_unicode(en_str)]\n",
    "Y_train = ['ko', 'ja', 'en']"
   ]
  },
  {
   "cell_type": "code",
   "execution_count": 5,
   "id": "2c1ab861",
   "metadata": {},
   "outputs": [
    {
     "data": {
      "text/plain": [
       "GaussianNB()"
      ]
     },
     "execution_count": 5,
     "metadata": {},
     "output_type": "execute_result"
    }
   ],
   "source": [
    "# 학습\n",
    "model = GaussianNB()\n",
    "model.fit(X_train, Y_train)"
   ]
  },
  {
   "cell_type": "code",
   "execution_count": 6,
   "id": "90b6da7c",
   "metadata": {},
   "outputs": [],
   "source": [
    "# 평가 데이터\n",
    "ko_test_str = '안녕하세요.'\n",
    "ja_test_str = 'こんにちは。'\n",
    "en_test_str = 'Hello.'"
   ]
  },
  {
   "cell_type": "code",
   "execution_count": 7,
   "id": "cded250f",
   "metadata": {},
   "outputs": [],
   "source": [
    "X_test = [count_unicode(ko_test_str), count_unicode(ja_test_str), count_unicode(en_test_str)]\n",
    "Y_test = ['ko', 'ja', 'en']"
   ]
  },
  {
   "cell_type": "code",
   "execution_count": 8,
   "id": "ba440b60",
   "metadata": {},
   "outputs": [],
   "source": [
    "# 평가\n",
    "y_pred = model.predict(X_test)"
   ]
  },
  {
   "cell_type": "code",
   "execution_count": 9,
   "id": "abd6e7ff",
   "metadata": {},
   "outputs": [
    {
     "name": "stdout",
     "output_type": "stream",
     "text": [
      "['ko' 'ja' 'en']\n"
     ]
    }
   ],
   "source": [
    "print(y_pred)"
   ]
  },
  {
   "cell_type": "code",
   "execution_count": 10,
   "id": "d3727d30",
   "metadata": {},
   "outputs": [
    {
     "name": "stdout",
     "output_type": "stream",
     "text": [
      "정답률 = 1.0\n"
     ]
    }
   ],
   "source": [
    "# accuracy_score(찐, 예측)\n",
    "print(f'정답률 = {accuracy_score(Y_test, y_pred)}')"
   ]
  },
  {
   "cell_type": "code",
   "execution_count": 11,
   "id": "bc9ade99",
   "metadata": {},
   "outputs": [],
   "source": [
    "# 정답률 100%"
   ]
  },
  {
   "cell_type": "markdown",
   "id": "238bb347",
   "metadata": {},
   "source": [
    "### 2. demo"
   ]
  },
  {
   "cell_type": "code",
   "execution_count": 15,
   "id": "0f789c82",
   "metadata": {},
   "outputs": [],
   "source": [
    "import glob"
   ]
  },
  {
   "cell_type": "code",
   "execution_count": 16,
   "id": "4f80ead9",
   "metadata": {},
   "outputs": [],
   "source": [
    "# 학습 데이터 준비하기 --- (*1)\n",
    "index = 0\n",
    "x_train = []\n",
    "y_train = []\n",
    "# glob.glob() - 리스트 형식으로 반환(* - 임의 길이의 모든 문자열)\n",
    "for file in glob.glob('./dataset/train/*.txt'):\n",
    "    # 언어 정보를 추출하고 레이블로 지정하기 --- (*2)\n",
    "    y_train.append(file[16 : 18])\n",
    "    \n",
    "    # 파일 내부의 문자열을 모두 추출한 뒤 빈도 배열로 변환한 뒤 입력 데이터(읽기모드)로 사용하기 --- (*3)\n",
    "    file_str = ''\n",
    "    for line in open(file, 'r', encoding='UTF8'):\n",
    "        file_str = file_str + line\n",
    "    x_train.append(count_unicode(file_str))"
   ]
  },
  {
   "cell_type": "code",
   "execution_count": 18,
   "id": "5e72744c",
   "metadata": {},
   "outputs": [
    {
     "data": {
      "text/plain": [
       "GaussianNB()"
      ]
     },
     "execution_count": 18,
     "metadata": {},
     "output_type": "execute_result"
    }
   ],
   "source": [
    "model = GaussianNB()\n",
    "model.fit(x_train, y_train)"
   ]
  },
  {
   "cell_type": "code",
   "execution_count": 19,
   "id": "defd0ad3",
   "metadata": {},
   "outputs": [],
   "source": [
    "# 평가 데이터 준비하기 --- (*4)\n",
    "index = 0\n",
    "x_test = []\n",
    "y_test = []\n",
    "for file in glob.glob('./dataset/test/*txt'):\n",
    "    # 언어 정보를 추출하고 레이블로 지정하기\n",
    "    y_test.append(file[15 : 17])\n",
    "    \n",
    "    # 파일 내부의 문자열을 모두 추출한 뒤 빈도 배열로 변환한 뒤 입력 데이터로 사용하기\n",
    "    file_str = ''\n",
    "    for line in open(file, 'r', encoding='UTF8'):\n",
    "        file_str = file_str + line\n",
    "    x_test.append(count_unicode(file_str)) "
   ]
  },
  {
   "cell_type": "code",
   "execution_count": 20,
   "id": "4d689004",
   "metadata": {},
   "outputs": [
    {
     "name": "stdout",
     "output_type": "stream",
     "text": [
      "['de' 'en' 'es']\n",
      "정답률 =  1.0\n"
     ]
    }
   ],
   "source": [
    "# 평가하기\n",
    "y_pred = model.predict(x_test)\n",
    "print(y_pred)\n",
    "print(\"정답률 = \" , accuracy_score(y_test, y_pred))"
   ]
  },
  {
   "cell_type": "code",
   "execution_count": null,
   "id": "baeb973d",
   "metadata": {},
   "outputs": [],
   "source": []
  }
 ],
 "metadata": {
  "kernelspec": {
   "display_name": "Python 3 (ipykernel)",
   "language": "python",
   "name": "python3"
  },
  "language_info": {
   "codemirror_mode": {
    "name": "ipython",
    "version": 3
   },
   "file_extension": ".py",
   "mimetype": "text/x-python",
   "name": "python",
   "nbconvert_exporter": "python",
   "pygments_lexer": "ipython3",
   "version": "3.9.7"
  }
 },
 "nbformat": 4,
 "nbformat_minor": 5
}
