{
 "cells": [
  {
   "cell_type": "code",
   "execution_count": 22,
   "id": "5171d5c9",
   "metadata": {},
   "outputs": [],
   "source": [
    "import pandas as pd\n",
    "import numpy as np\n",
    "import matplotlib.pyplot as plt\n",
    "import re\n",
    "import io\n",
    "import urllib.request\n",
    "\n",
    "from konlpy.tag import Okt\n",
    "from tqdm import tqdm\n",
    "from tensorflow.keras.preprocessing.text import Tokenizer\n",
    "from tensorflow.keras.preprocessing.sequence import pad_sequences"
   ]
  },
  {
   "cell_type": "code",
   "execution_count": 23,
   "id": "956e0a36",
   "metadata": {},
   "outputs": [
    {
     "data": {
      "text/html": [
       "<div>\n",
       "<style scoped>\n",
       "    .dataframe tbody tr th:only-of-type {\n",
       "        vertical-align: middle;\n",
       "    }\n",
       "\n",
       "    .dataframe tbody tr th {\n",
       "        vertical-align: top;\n",
       "    }\n",
       "\n",
       "    .dataframe thead th {\n",
       "        text-align: right;\n",
       "    }\n",
       "</style>\n",
       "<table border=\"1\" class=\"dataframe\">\n",
       "  <thead>\n",
       "    <tr style=\"text-align: right;\">\n",
       "      <th></th>\n",
       "      <th>movie</th>\n",
       "      <th>sentence</th>\n",
       "      <th>score</th>\n",
       "    </tr>\n",
       "  </thead>\n",
       "  <tbody>\n",
       "    <tr>\n",
       "      <th>0</th>\n",
       "      <td>터미네이터 제니시스</td>\n",
       "      <td>1991년의 상상력을 못이기네</td>\n",
       "      <td>7</td>\n",
       "    </tr>\n",
       "    <tr>\n",
       "      <th>1</th>\n",
       "      <td>극장판 금빛 모자이크: 땡큐!!</td>\n",
       "      <td>영화 금빛 모자이크 땡큐 잘 봤습니다.</td>\n",
       "      <td>10</td>\n",
       "    </tr>\n",
       "    <tr>\n",
       "      <th>2</th>\n",
       "      <td>파송송 계란탁</td>\n",
       "      <td>아이가 연기를 너무 못하네요. 투박하고 부자연스러웠습니다. 임창정이 연기로 어떻게든...</td>\n",
       "      <td>2</td>\n",
       "    </tr>\n",
       "    <tr>\n",
       "      <th>3</th>\n",
       "      <td>그린랜드</td>\n",
       "      <td>발암 모먼트 탑2. &amp;amp;#34;(군인한테)아까 저희 남편이랑 얘기 하는거 봤어...</td>\n",
       "      <td>1</td>\n",
       "    </tr>\n",
       "    <tr>\n",
       "      <th>4</th>\n",
       "      <td>모비우스</td>\n",
       "      <td>독약은 두 개 만들고 왜 친구만 보내요ㅜ..</td>\n",
       "      <td>8</td>\n",
       "    </tr>\n",
       "  </tbody>\n",
       "</table>\n",
       "</div>"
      ],
      "text/plain": [
       "               movie                                           sentence  score\n",
       "0         터미네이터 제니시스                                   1991년의 상상력을 못이기네      7\n",
       "1  극장판 금빛 모자이크: 땡큐!!                              영화 금빛 모자이크 땡큐 잘 봤습니다.     10\n",
       "2            파송송 계란탁  아이가 연기를 너무 못하네요. 투박하고 부자연스러웠습니다. 임창정이 연기로 어떻게든...      2\n",
       "3               그린랜드  발암 모먼트 탑2. &amp;#34;(군인한테)아까 저희 남편이랑 얘기 하는거 봤어...      1\n",
       "4               모비우스                           독약은 두 개 만들고 왜 친구만 보내요ㅜ..      8"
      ]
     },
     "execution_count": 23,
     "metadata": {},
     "output_type": "execute_result"
    }
   ],
   "source": [
    "# 파일 불러오기\n",
    "review = pd.read_csv('naver_movie_content_0404.csv', low_memory=False, encoding = 'UTF-8')\n",
    "review.head()"
   ]
  },
  {
   "cell_type": "code",
   "execution_count": 24,
   "id": "94495745",
   "metadata": {},
   "outputs": [
    {
     "data": {
      "text/plain": [
       "<AxesSubplot:>"
      ]
     },
     "execution_count": 24,
     "metadata": {},
     "output_type": "execute_result"
    },
    {
     "data": {
      "image/png": "[encoded data removed]",
      "text/plain": [
       "<Figure size 432x288 with 1 Axes>"
      ]
     },
     "metadata": {
      "needs_background": "light"
     },
     "output_type": "display_data"
    }
   ],
   "source": [
    "review.score.hist()"
   ]
  },
  {
   "cell_type": "markdown",
   "id": "243f1f22",
   "metadata": {},
   "source": [
    "### 긍정/부정 라벨링하기"
   ]
  },
  {
   "cell_type": "code",
   "execution_count": 25,
   "id": "bd152d24",
   "metadata": {},
   "outputs": [
    {
     "data": {
      "text/html": [
       "<div>\n",
       "<style scoped>\n",
       "    .dataframe tbody tr th:only-of-type {\n",
       "        vertical-align: middle;\n",
       "    }\n",
       "\n",
       "    .dataframe tbody tr th {\n",
       "        vertical-align: top;\n",
       "    }\n",
       "\n",
       "    .dataframe thead th {\n",
       "        text-align: right;\n",
       "    }\n",
       "</style>\n",
       "<table border=\"1\" class=\"dataframe\">\n",
       "  <thead>\n",
       "    <tr style=\"text-align: right;\">\n",
       "      <th></th>\n",
       "      <th>movie</th>\n",
       "      <th>sentence</th>\n",
       "      <th>score</th>\n",
       "      <th>label</th>\n",
       "    </tr>\n",
       "  </thead>\n",
       "  <tbody>\n",
       "    <tr>\n",
       "      <th>0</th>\n",
       "      <td>터미네이터 제니시스</td>\n",
       "      <td>1991년의 상상력을 못이기네</td>\n",
       "      <td>7</td>\n",
       "      <td>0</td>\n",
       "    </tr>\n",
       "    <tr>\n",
       "      <th>1</th>\n",
       "      <td>극장판 금빛 모자이크: 땡큐!!</td>\n",
       "      <td>영화 금빛 모자이크 땡큐 잘 봤습니다.</td>\n",
       "      <td>10</td>\n",
       "      <td>1</td>\n",
       "    </tr>\n",
       "    <tr>\n",
       "      <th>2</th>\n",
       "      <td>파송송 계란탁</td>\n",
       "      <td>아이가 연기를 너무 못하네요. 투박하고 부자연스러웠습니다. 임창정이 연기로 어떻게든...</td>\n",
       "      <td>2</td>\n",
       "      <td>0</td>\n",
       "    </tr>\n",
       "    <tr>\n",
       "      <th>3</th>\n",
       "      <td>그린랜드</td>\n",
       "      <td>발암 모먼트 탑2. &amp;amp;#34;(군인한테)아까 저희 남편이랑 얘기 하는거 봤어...</td>\n",
       "      <td>1</td>\n",
       "      <td>0</td>\n",
       "    </tr>\n",
       "    <tr>\n",
       "      <th>4</th>\n",
       "      <td>모비우스</td>\n",
       "      <td>독약은 두 개 만들고 왜 친구만 보내요ㅜ..</td>\n",
       "      <td>8</td>\n",
       "      <td>1</td>\n",
       "    </tr>\n",
       "  </tbody>\n",
       "</table>\n",
       "</div>"
      ],
      "text/plain": [
       "               movie                                           sentence  \\\n",
       "0         터미네이터 제니시스                                   1991년의 상상력을 못이기네   \n",
       "1  극장판 금빛 모자이크: 땡큐!!                              영화 금빛 모자이크 땡큐 잘 봤습니다.   \n",
       "2            파송송 계란탁  아이가 연기를 너무 못하네요. 투박하고 부자연스러웠습니다. 임창정이 연기로 어떻게든...   \n",
       "3               그린랜드  발암 모먼트 탑2. &amp;#34;(군인한테)아까 저희 남편이랑 얘기 하는거 봤어...   \n",
       "4               모비우스                           독약은 두 개 만들고 왜 친구만 보내요ㅜ..   \n",
       "\n",
       "   score  label  \n",
       "0      7      0  \n",
       "1     10      1  \n",
       "2      2      0  \n",
       "3      1      0  \n",
       "4      8      1  "
      ]
     },
     "execution_count": 25,
     "metadata": {},
     "output_type": "execute_result"
    }
   ],
   "source": [
    "#긍부정 라벨링하기\n",
    "# 긍정이 1, 부정이 0\n",
    "#8점 이상을 긍정, 8점 미만을 부정\n",
    "\n",
    "review['label'] = 0\n",
    "review.loc[review['score'] >= 8, 'label'] = 1\n",
    "review.head()"
   ]
  },
  {
   "cell_type": "code",
   "execution_count": 26,
   "id": "f68892b1",
   "metadata": {},
   "outputs": [],
   "source": [
    "review.drop(['movie', 'score'], axis = 1, inplace = True)"
   ]
  },
  {
   "cell_type": "code",
   "execution_count": 27,
   "id": "ab55e1ac",
   "metadata": {},
   "outputs": [
    {
     "data": {
      "text/html": [
       "<div>\n",
       "<style scoped>\n",
       "    .dataframe tbody tr th:only-of-type {\n",
       "        vertical-align: middle;\n",
       "    }\n",
       "\n",
       "    .dataframe tbody tr th {\n",
       "        vertical-align: top;\n",
       "    }\n",
       "\n",
       "    .dataframe thead th {\n",
       "        text-align: right;\n",
       "    }\n",
       "</style>\n",
       "<table border=\"1\" class=\"dataframe\">\n",
       "  <thead>\n",
       "    <tr style=\"text-align: right;\">\n",
       "      <th></th>\n",
       "      <th>sentence</th>\n",
       "      <th>label</th>\n",
       "    </tr>\n",
       "  </thead>\n",
       "  <tbody>\n",
       "    <tr>\n",
       "      <th>0</th>\n",
       "      <td>1991년의 상상력을 못이기네</td>\n",
       "      <td>0</td>\n",
       "    </tr>\n",
       "    <tr>\n",
       "      <th>1</th>\n",
       "      <td>영화 금빛 모자이크 땡큐 잘 봤습니다.</td>\n",
       "      <td>1</td>\n",
       "    </tr>\n",
       "    <tr>\n",
       "      <th>2</th>\n",
       "      <td>아이가 연기를 너무 못하네요. 투박하고 부자연스러웠습니다. 임창정이 연기로 어떻게든...</td>\n",
       "      <td>0</td>\n",
       "    </tr>\n",
       "    <tr>\n",
       "      <th>3</th>\n",
       "      <td>발암 모먼트 탑2. &amp;amp;#34;(군인한테)아까 저희 남편이랑 얘기 하는거 봤어...</td>\n",
       "      <td>0</td>\n",
       "    </tr>\n",
       "    <tr>\n",
       "      <th>4</th>\n",
       "      <td>독약은 두 개 만들고 왜 친구만 보내요ㅜ..</td>\n",
       "      <td>1</td>\n",
       "    </tr>\n",
       "    <tr>\n",
       "      <th>...</th>\n",
       "      <td>...</td>\n",
       "      <td>...</td>\n",
       "    </tr>\n",
       "    <tr>\n",
       "      <th>4714</th>\n",
       "      <td>역시나 내 스타일 아님</td>\n",
       "      <td>0</td>\n",
       "    </tr>\n",
       "    <tr>\n",
       "      <th>4715</th>\n",
       "      <td>에효 주혁이형... 잘 있쟈?</td>\n",
       "      <td>0</td>\n",
       "    </tr>\n",
       "    <tr>\n",
       "      <th>4716</th>\n",
       "      <td>자레드 레토의 모비우스는 진짜 쩔었음 이 분 팬 될 것 같은 느낌 ㅋㅋ</td>\n",
       "      <td>1</td>\n",
       "    </tr>\n",
       "    <tr>\n",
       "      <th>4717</th>\n",
       "      <td>마틴.... 그녀의 명석한 두뇌와 귀여운 고양이에 제대로 치이고 갑니다....</td>\n",
       "      <td>1</td>\n",
       "    </tr>\n",
       "    <tr>\n",
       "      <th>4718</th>\n",
       "      <td>정말 흥미롭게 잘봤습니다창의적이네요 달의 정체!</td>\n",
       "      <td>1</td>\n",
       "    </tr>\n",
       "  </tbody>\n",
       "</table>\n",
       "<p>4719 rows × 2 columns</p>\n",
       "</div>"
      ],
      "text/plain": [
       "                                               sentence  label\n",
       "0                                      1991년의 상상력을 못이기네      0\n",
       "1                                 영화 금빛 모자이크 땡큐 잘 봤습니다.      1\n",
       "2     아이가 연기를 너무 못하네요. 투박하고 부자연스러웠습니다. 임창정이 연기로 어떻게든...      0\n",
       "3     발암 모먼트 탑2. &amp;#34;(군인한테)아까 저희 남편이랑 얘기 하는거 봤어...      0\n",
       "4                              독약은 두 개 만들고 왜 친구만 보내요ㅜ..      1\n",
       "...                                                 ...    ...\n",
       "4714                                       역시나 내 스타일 아님      0\n",
       "4715                                   에효 주혁이형... 잘 있쟈?      0\n",
       "4716            자레드 레토의 모비우스는 진짜 쩔었음 이 분 팬 될 것 같은 느낌 ㅋㅋ      1\n",
       "4717        마틴.... 그녀의 명석한 두뇌와 귀여운 고양이에 제대로 치이고 갑니다....      1\n",
       "4718                         정말 흥미롭게 잘봤습니다창의적이네요 달의 정체!      1\n",
       "\n",
       "[4719 rows x 2 columns]"
      ]
     },
     "execution_count": 27,
     "metadata": {},
     "output_type": "execute_result"
    }
   ],
   "source": [
    "review"
   ]
  },
  {
   "cell_type": "markdown",
   "id": "689fc3fa",
   "metadata": {},
   "source": [
    "### py-hanspell(맞춤법, 띄어쓰기 검사기) 적용하기"
   ]
  },
  {
   "cell_type": "code",
   "execution_count": 30,
   "id": "f4351eae",
   "metadata": {},
   "outputs": [],
   "source": [
    "# Null 값이 한개라도 존재하는 행 제거\n",
    "review = review.dropna(how = 'any') "
   ]
  },
  {
   "cell_type": "code",
   "execution_count": 31,
   "id": "370fc286",
   "metadata": {},
   "outputs": [],
   "source": [
    "from hanspell import spell_checker\n",
    "\n",
    "new_sent = []\n",
    "def review_sent(text):\n",
    "    for i in range(len(text)):\n",
    "        spelled_sent = spell_checker.check(text[i])\n",
    "        hanspell_sent = spelled_sent.checked\n",
    "        sent = hanspell_sent\n",
    "        new_sent.append(sent)"
   ]
  },
  {
   "cell_type": "code",
   "execution_count": 32,
   "id": "4f8c6229",
   "metadata": {},
   "outputs": [
    {
     "ename": "JSONDecodeError",
     "evalue": "Invalid control character at: line 1 column 128 (char 127)",
     "output_type": "error",
     "traceback": [
      "\u001b[1;31m---------------------------------------------------------------------------\u001b[0m",
      "\u001b[1;31mJSONDecodeError\u001b[0m                           Traceback (most recent call last)",
      "\u001b[1;32m~\\AppData\\Local\\Temp/ipykernel_14412/2855830541.py\u001b[0m in \u001b[0;36m<module>\u001b[1;34m\u001b[0m\n\u001b[1;32m----> 1\u001b[1;33m \u001b[0mreview_sent\u001b[0m\u001b[1;33m(\u001b[0m\u001b[0mreview\u001b[0m\u001b[1;33m[\u001b[0m\u001b[1;34m'sentence'\u001b[0m\u001b[1;33m]\u001b[0m\u001b[1;33m)\u001b[0m\u001b[1;33m\u001b[0m\u001b[1;33m\u001b[0m\u001b[0m\n\u001b[0m",
      "\u001b[1;32m~\\AppData\\Local\\Temp/ipykernel_14412/352618180.py\u001b[0m in \u001b[0;36mreview_sent\u001b[1;34m(text)\u001b[0m\n\u001b[0;32m      4\u001b[0m \u001b[1;32mdef\u001b[0m \u001b[0mreview_sent\u001b[0m\u001b[1;33m(\u001b[0m\u001b[0mtext\u001b[0m\u001b[1;33m)\u001b[0m\u001b[1;33m:\u001b[0m\u001b[1;33m\u001b[0m\u001b[1;33m\u001b[0m\u001b[0m\n\u001b[0;32m      5\u001b[0m     \u001b[1;32mfor\u001b[0m \u001b[0mi\u001b[0m \u001b[1;32min\u001b[0m \u001b[0mrange\u001b[0m\u001b[1;33m(\u001b[0m\u001b[0mlen\u001b[0m\u001b[1;33m(\u001b[0m\u001b[0mtext\u001b[0m\u001b[1;33m)\u001b[0m\u001b[1;33m)\u001b[0m\u001b[1;33m:\u001b[0m\u001b[1;33m\u001b[0m\u001b[1;33m\u001b[0m\u001b[0m\n\u001b[1;32m----> 6\u001b[1;33m         \u001b[0mspelled_sent\u001b[0m \u001b[1;33m=\u001b[0m \u001b[0mspell_checker\u001b[0m\u001b[1;33m.\u001b[0m\u001b[0mcheck\u001b[0m\u001b[1;33m(\u001b[0m\u001b[0mtext\u001b[0m\u001b[1;33m[\u001b[0m\u001b[0mi\u001b[0m\u001b[1;33m]\u001b[0m\u001b[1;33m)\u001b[0m\u001b[1;33m\u001b[0m\u001b[1;33m\u001b[0m\u001b[0m\n\u001b[0m\u001b[0;32m      7\u001b[0m         \u001b[0mhanspell_sent\u001b[0m \u001b[1;33m=\u001b[0m \u001b[0mspelled_sent\u001b[0m\u001b[1;33m.\u001b[0m\u001b[0mchecked\u001b[0m\u001b[1;33m\u001b[0m\u001b[1;33m\u001b[0m\u001b[0m\n\u001b[0;32m      8\u001b[0m         \u001b[0msent\u001b[0m \u001b[1;33m=\u001b[0m \u001b[0mhanspell_sent\u001b[0m\u001b[1;33m\u001b[0m\u001b[1;33m\u001b[0m\u001b[0m\n",
      "\u001b[1;32mC:\\ProgramData\\Anaconda3\\lib\\site-packages\\py_hanspell-1.1-py3.9.egg\\hanspell\\spell_checker.py\u001b[0m in \u001b[0;36mcheck\u001b[1;34m(text)\u001b[0m\n\u001b[0;32m     61\u001b[0m     \u001b[0mr\u001b[0m \u001b[1;33m=\u001b[0m \u001b[0mr\u001b[0m\u001b[1;33m.\u001b[0m\u001b[0mtext\u001b[0m\u001b[1;33m[\u001b[0m\u001b[1;36m42\u001b[0m\u001b[1;33m:\u001b[0m\u001b[1;33m-\u001b[0m\u001b[1;36m2\u001b[0m\u001b[1;33m]\u001b[0m\u001b[1;33m\u001b[0m\u001b[1;33m\u001b[0m\u001b[0m\n\u001b[0;32m     62\u001b[0m \u001b[1;33m\u001b[0m\u001b[0m\n\u001b[1;32m---> 63\u001b[1;33m     \u001b[0mdata\u001b[0m \u001b[1;33m=\u001b[0m \u001b[0mjson\u001b[0m\u001b[1;33m.\u001b[0m\u001b[0mloads\u001b[0m\u001b[1;33m(\u001b[0m\u001b[0mr\u001b[0m\u001b[1;33m)\u001b[0m\u001b[1;33m\u001b[0m\u001b[1;33m\u001b[0m\u001b[0m\n\u001b[0m\u001b[0;32m     64\u001b[0m     \u001b[0mhtml\u001b[0m \u001b[1;33m=\u001b[0m \u001b[0mdata\u001b[0m\u001b[1;33m[\u001b[0m\u001b[1;34m'message'\u001b[0m\u001b[1;33m]\u001b[0m\u001b[1;33m[\u001b[0m\u001b[1;34m'result'\u001b[0m\u001b[1;33m]\u001b[0m\u001b[1;33m[\u001b[0m\u001b[1;34m'html'\u001b[0m\u001b[1;33m]\u001b[0m\u001b[1;33m\u001b[0m\u001b[1;33m\u001b[0m\u001b[0m\n\u001b[0;32m     65\u001b[0m     result = {\n",
      "\u001b[1;32mC:\\ProgramData\\Anaconda3\\lib\\json\\__init__.py\u001b[0m in \u001b[0;36mloads\u001b[1;34m(s, cls, object_hook, parse_float, parse_int, parse_constant, object_pairs_hook, **kw)\u001b[0m\n\u001b[0;32m    344\u001b[0m             \u001b[0mparse_int\u001b[0m \u001b[1;32mis\u001b[0m \u001b[1;32mNone\u001b[0m \u001b[1;32mand\u001b[0m \u001b[0mparse_float\u001b[0m \u001b[1;32mis\u001b[0m \u001b[1;32mNone\u001b[0m \u001b[1;32mand\u001b[0m\u001b[1;33m\u001b[0m\u001b[1;33m\u001b[0m\u001b[0m\n\u001b[0;32m    345\u001b[0m             parse_constant is None and object_pairs_hook is None and not kw):\n\u001b[1;32m--> 346\u001b[1;33m         \u001b[1;32mreturn\u001b[0m \u001b[0m_default_decoder\u001b[0m\u001b[1;33m.\u001b[0m\u001b[0mdecode\u001b[0m\u001b[1;33m(\u001b[0m\u001b[0ms\u001b[0m\u001b[1;33m)\u001b[0m\u001b[1;33m\u001b[0m\u001b[1;33m\u001b[0m\u001b[0m\n\u001b[0m\u001b[0;32m    347\u001b[0m     \u001b[1;32mif\u001b[0m \u001b[0mcls\u001b[0m \u001b[1;32mis\u001b[0m \u001b[1;32mNone\u001b[0m\u001b[1;33m:\u001b[0m\u001b[1;33m\u001b[0m\u001b[1;33m\u001b[0m\u001b[0m\n\u001b[0;32m    348\u001b[0m         \u001b[0mcls\u001b[0m \u001b[1;33m=\u001b[0m \u001b[0mJSONDecoder\u001b[0m\u001b[1;33m\u001b[0m\u001b[1;33m\u001b[0m\u001b[0m\n",
      "\u001b[1;32mC:\\ProgramData\\Anaconda3\\lib\\json\\decoder.py\u001b[0m in \u001b[0;36mdecode\u001b[1;34m(self, s, _w)\u001b[0m\n\u001b[0;32m    335\u001b[0m \u001b[1;33m\u001b[0m\u001b[0m\n\u001b[0;32m    336\u001b[0m         \"\"\"\n\u001b[1;32m--> 337\u001b[1;33m         \u001b[0mobj\u001b[0m\u001b[1;33m,\u001b[0m \u001b[0mend\u001b[0m \u001b[1;33m=\u001b[0m \u001b[0mself\u001b[0m\u001b[1;33m.\u001b[0m\u001b[0mraw_decode\u001b[0m\u001b[1;33m(\u001b[0m\u001b[0ms\u001b[0m\u001b[1;33m,\u001b[0m \u001b[0midx\u001b[0m\u001b[1;33m=\u001b[0m\u001b[0m_w\u001b[0m\u001b[1;33m(\u001b[0m\u001b[0ms\u001b[0m\u001b[1;33m,\u001b[0m \u001b[1;36m0\u001b[0m\u001b[1;33m)\u001b[0m\u001b[1;33m.\u001b[0m\u001b[0mend\u001b[0m\u001b[1;33m(\u001b[0m\u001b[1;33m)\u001b[0m\u001b[1;33m)\u001b[0m\u001b[1;33m\u001b[0m\u001b[1;33m\u001b[0m\u001b[0m\n\u001b[0m\u001b[0;32m    338\u001b[0m         \u001b[0mend\u001b[0m \u001b[1;33m=\u001b[0m \u001b[0m_w\u001b[0m\u001b[1;33m(\u001b[0m\u001b[0ms\u001b[0m\u001b[1;33m,\u001b[0m \u001b[0mend\u001b[0m\u001b[1;33m)\u001b[0m\u001b[1;33m.\u001b[0m\u001b[0mend\u001b[0m\u001b[1;33m(\u001b[0m\u001b[1;33m)\u001b[0m\u001b[1;33m\u001b[0m\u001b[1;33m\u001b[0m\u001b[0m\n\u001b[0;32m    339\u001b[0m         \u001b[1;32mif\u001b[0m \u001b[0mend\u001b[0m \u001b[1;33m!=\u001b[0m \u001b[0mlen\u001b[0m\u001b[1;33m(\u001b[0m\u001b[0ms\u001b[0m\u001b[1;33m)\u001b[0m\u001b[1;33m:\u001b[0m\u001b[1;33m\u001b[0m\u001b[1;33m\u001b[0m\u001b[0m\n",
      "\u001b[1;32mC:\\ProgramData\\Anaconda3\\lib\\json\\decoder.py\u001b[0m in \u001b[0;36mraw_decode\u001b[1;34m(self, s, idx)\u001b[0m\n\u001b[0;32m    351\u001b[0m         \"\"\"\n\u001b[0;32m    352\u001b[0m         \u001b[1;32mtry\u001b[0m\u001b[1;33m:\u001b[0m\u001b[1;33m\u001b[0m\u001b[1;33m\u001b[0m\u001b[0m\n\u001b[1;32m--> 353\u001b[1;33m             \u001b[0mobj\u001b[0m\u001b[1;33m,\u001b[0m \u001b[0mend\u001b[0m \u001b[1;33m=\u001b[0m \u001b[0mself\u001b[0m\u001b[1;33m.\u001b[0m\u001b[0mscan_once\u001b[0m\u001b[1;33m(\u001b[0m\u001b[0ms\u001b[0m\u001b[1;33m,\u001b[0m \u001b[0midx\u001b[0m\u001b[1;33m)\u001b[0m\u001b[1;33m\u001b[0m\u001b[1;33m\u001b[0m\u001b[0m\n\u001b[0m\u001b[0;32m    354\u001b[0m         \u001b[1;32mexcept\u001b[0m \u001b[0mStopIteration\u001b[0m \u001b[1;32mas\u001b[0m \u001b[0merr\u001b[0m\u001b[1;33m:\u001b[0m\u001b[1;33m\u001b[0m\u001b[1;33m\u001b[0m\u001b[0m\n\u001b[0;32m    355\u001b[0m             \u001b[1;32mraise\u001b[0m \u001b[0mJSONDecodeError\u001b[0m\u001b[1;33m(\u001b[0m\u001b[1;34m\"Expecting value\"\u001b[0m\u001b[1;33m,\u001b[0m \u001b[0ms\u001b[0m\u001b[1;33m,\u001b[0m \u001b[0merr\u001b[0m\u001b[1;33m.\u001b[0m\u001b[0mvalue\u001b[0m\u001b[1;33m)\u001b[0m \u001b[1;32mfrom\u001b[0m \u001b[1;32mNone\u001b[0m\u001b[1;33m\u001b[0m\u001b[1;33m\u001b[0m\u001b[0m\n",
      "\u001b[1;31mJSONDecodeError\u001b[0m: Invalid control character at: line 1 column 128 (char 127)"
     ]
    }
   ],
   "source": [
    "review_sent(review['sentence'])"
   ]
  },
  {
   "cell_type": "code",
   "execution_count": null,
   "id": "7e6ec0c0",
   "metadata": {},
   "outputs": [],
   "source": [
    "review['sentence'] = new_sent\n",
    "review.head()"
   ]
  },
  {
   "cell_type": "code",
   "execution_count": null,
   "id": "668824cc",
   "metadata": {},
   "outputs": [],
   "source": [
    "df_review = review['sentence']\n",
    "df_review"
   ]
  },
  {
   "cell_type": "markdown",
   "id": "5bd16720",
   "metadata": {},
   "source": [
    "### 전처리"
   ]
  },
  {
   "cell_type": "code",
   "execution_count": null,
   "id": "d813a4c8",
   "metadata": {},
   "outputs": [],
   "source": [
    "#영어 소문자로 모두 변환\n",
    "df_review = df_review.str.lower()"
   ]
  },
  {
   "cell_type": "code",
   "execution_count": null,
   "id": "589e2299",
   "metadata": {},
   "outputs": [],
   "source": [
    "#반복되는 문자 제거하기\n",
    "\n",
    "df_review = df_review.str.replace(\"ㅋ\",\"\") # ㅋㅋㅋ제거\n",
    "df_review = df_review.str.replace(\"ㅜ\",\"\") # ㅜㅜㅜ제거\n",
    "df_review = df_review.str.replace(\"ㅠ\",\"\") # ㅠㅠㅠ제거\n",
    "df_review = df_review.str.replace(\"ㅎ\",\"\") # ㅎㅎㅎ제거\n",
    "df_review = df_review.str.replace(\"ㅇ\",\"\") # ㅇㅇ제거\n",
    "df_review = df_review.str.replace(\"ㄷ\",\"\") # ㄷㄷ제거\n",
    "df_review = df_review.str.replace(\"ㄱ\",\"\") # ㄱㄱ제거\n",
    "df_review = df_review.str.replace(\"-\",\"\") # --제거\n",
    "df_review = df_review.str.replace(\"_\",\"\") # __제거\n",
    "df_review = df_review.str.replace(\"ㅡ\",\"\") # ㅡㅡ제거\n",
    "df_review = df_review.str.replace(\"ㅉ\",\"\")\n",
    "df_review = df_review.str.replace(\"ㅆㅈ\",\"\")\n",
    "df_review = df_review.str.replace(\"ㅏ\",\"\")\n",
    "df_review = df_review.str.replace(\"ㅡ\",\"\")"
   ]
  },
  {
   "cell_type": "code",
   "execution_count": null,
   "id": "8198028b",
   "metadata": {},
   "outputs": [],
   "source": [
    "#인터넷 줄임말 단어 변환해주기\n",
    "df_review = df_review.str.replace(\"ㄱㅊ\",\"괜찮\")\n",
    "df_review = df_review.str.replace(\"ㅈㄹ\",\"지랄\")\n",
    "df_review = df_review.str.replace(\"ㅈㅁ\",\"정말\")\n",
    "df_review = df_review.str.replace(\"ㅇㅈ\",\"인정\")\n",
    "df_review = df_review.str.replace(\"ㄹㅇ\",\"정말\")\n",
    "df_review = df_review.str.replace(\"ㅈㅅ\",\"죄송\")\n",
    "df_review = df_review.str.replace(\"좋ㅈ었습니다\",\"좋았습니다\")\n",
    "df_review = df_review.str.replace(\"ㅈㄴ\",\"존나\")\n",
    "\n",
    "#영어표현 변경\n",
    "df_review = df_review.str.replace(\"cg\",\"씨지\")\n",
    "df_review = df_review.str.replace(\"ost\",\"오에스티\")\n",
    "df_review = df_review.str.replace(\"sf\",\"공상과학\")\n",
    "df_review = df_review.str.replace(\"tv\",\"텔레비전\")\n",
    "df_review = df_review.str.replace(\"sns\",\"소셜미디어\")\n",
    "df_review = df_review.str.replace(\"good\",\"좋다\")\n",
    "df_review = df_review.str.replace(\"best\",\"좋다\")\n",
    "\n",
    "#불용어 삭제\n",
    "df_review = df_review.str.replace(\"영화\",\"\")"
   ]
  },
  {
   "cell_type": "code",
   "execution_count": null,
   "id": "19b0c9d7",
   "metadata": {},
   "outputs": [],
   "source": [
    "#정규표현식 \n",
    "df_review = df_review.str.replace(\"[^ㄱ-ㅎㅏ-ㅣ가-힣 ]\",\"\") # 한글과 공백을 제외하고 모두 제거\n",
    "df_review = df_review.str.replace('^ +', \"\") #공백은 empty값으로 변경\n",
    "#df_review.drop_duplicates(subset = ['content'], inplace=True) # document 열에서 중복인 내용이 있다면 중복 제거\n",
    "df_review.replace('', np.nan, inplace=True) # 공백은 Null 값으로 변경\n",
    "df_review = df_review.dropna(how='any') # Null 값 제거\n",
    "print('전처리 후 테스트용 샘플의 개수 :',len(df_review))"
   ]
  },
  {
   "cell_type": "code",
   "execution_count": null,
   "id": "558d5049",
   "metadata": {},
   "outputs": [],
   "source": [
    "#전처리 데이터 다시 넣어주기\n",
    "review['sentence'] = df_review"
   ]
  },
  {
   "cell_type": "code",
   "execution_count": null,
   "id": "6472038b",
   "metadata": {},
   "outputs": [],
   "source": [
    "# Null 값이 한개라도 존재하는 행 제거\n",
    "review = review.dropna(how = 'any') "
   ]
  },
  {
   "cell_type": "markdown",
   "id": "aaf31849",
   "metadata": {},
   "source": [
    "### 형태소분석기_Okt사용"
   ]
  },
  {
   "cell_type": "code",
   "execution_count": 33,
   "id": "f5e82563",
   "metadata": {},
   "outputs": [],
   "source": [
    "from konlpy.tag import Okt\n",
    "import io\n",
    "from konlpy.utils import pprint\n",
    "from nltk.corpus import stopwords \n",
    "from nltk.tokenize import word_tokenize\n",
    "import urllib.request \n",
    "import time\n",
    "\n",
    "okt = Okt()"
   ]
  },
  {
   "cell_type": "code",
   "execution_count": null,
   "id": "7ca4f4cc",
   "metadata": {},
   "outputs": [],
   "source": [
    "import konlpy\n",
    "print(konlpy.__version__)"
   ]
  },
  {
   "cell_type": "code",
   "execution_count": null,
   "id": "5798e01b",
   "metadata": {},
   "outputs": [],
   "source": [
    "#리뷰 데이터 형태소분석 및 태깅\n",
    "review_tag = []\n",
    "\n",
    "for sentence in tqdm(review['sentence']):\n",
    "    tokenized_sentence = okt.pos(sentence, stem = True) # 토큰화\n",
    "    review_tag.append(tokenized_sentence)"
   ]
  },
  {
   "cell_type": "code",
   "execution_count": null,
   "id": "be398e31",
   "metadata": {},
   "outputs": [],
   "source": [
    "review['tagging'] = review_tag"
   ]
  },
  {
   "cell_type": "code",
   "execution_count": null,
   "id": "0947c897",
   "metadata": {},
   "outputs": [],
   "source": [
    "review.head()"
   ]
  },
  {
   "cell_type": "code",
   "execution_count": null,
   "id": "c9eb82a9",
   "metadata": {},
   "outputs": [],
   "source": [
    "tag = review[\"tagging\"]"
   ]
  },
  {
   "cell_type": "code",
   "execution_count": null,
   "id": "e931a3ad",
   "metadata": {},
   "outputs": [],
   "source": [
    "# 동사, 명사, 형용사 태깅된 단어들만 선별하여 저장하기\n",
    "#words_list = []\n",
    "#for sentence1 in review_tag:\n",
    "#    for word, tag in sentence1:\n",
    "#        if tag in ['Noun','Adjective','Verb']:\n",
    "#            words_list.append(word)"
   ]
  },
  {
   "cell_type": "code",
   "execution_count": null,
   "id": "f5712e10",
   "metadata": {},
   "outputs": [],
   "source": [
    "review_new = []\n",
    "\n",
    "for sentence in tqdm(review['sentence']):\n",
    "    tokenized_sentence = okt.pos(sentence, stem = True) # 토큰화\n",
    "    words_list_sentence = [word for word, tag in tokenized_sentence if tag in ['Noun','Adjective','Verb']] \n",
    "    review_new.append(words_list_sentence)"
   ]
  },
  {
   "cell_type": "code",
   "execution_count": null,
   "id": "71066ed5",
   "metadata": {},
   "outputs": [],
   "source": [
    "review['tag_list'] = review_new"
   ]
  },
  {
   "cell_type": "code",
   "execution_count": 34,
   "id": "1d805f52",
   "metadata": {},
   "outputs": [
    {
     "ename": "NameError",
     "evalue": "name 'words_list' is not defined",
     "output_type": "error",
     "traceback": [
      "\u001b[1;31m---------------------------------------------------------------------------\u001b[0m",
      "\u001b[1;31mNameError\u001b[0m                                 Traceback (most recent call last)",
      "\u001b[1;32m~\\AppData\\Local\\Temp/ipykernel_14412/2968317410.py\u001b[0m in \u001b[0;36m<module>\u001b[1;34m\u001b[0m\n\u001b[0;32m      1\u001b[0m \u001b[1;31m#단어 카운트하기\u001b[0m\u001b[1;33m\u001b[0m\u001b[1;33m\u001b[0m\u001b[0m\n\u001b[0;32m      2\u001b[0m \u001b[1;32mfrom\u001b[0m \u001b[0mcollections\u001b[0m \u001b[1;32mimport\u001b[0m \u001b[0mCounter\u001b[0m\u001b[1;33m\u001b[0m\u001b[1;33m\u001b[0m\u001b[0m\n\u001b[1;32m----> 3\u001b[1;33m \u001b[0mcounts\u001b[0m \u001b[1;33m=\u001b[0m \u001b[0mCounter\u001b[0m\u001b[1;33m(\u001b[0m\u001b[0mwords_list\u001b[0m\u001b[1;33m)\u001b[0m\u001b[1;33m\u001b[0m\u001b[1;33m\u001b[0m\u001b[0m\n\u001b[0m\u001b[0;32m      4\u001b[0m \u001b[0mprint\u001b[0m\u001b[1;33m(\u001b[0m\u001b[0mcounts\u001b[0m\u001b[1;33m.\u001b[0m\u001b[0mmost_common\u001b[0m\u001b[1;33m(\u001b[0m\u001b[1;36m30\u001b[0m\u001b[1;33m)\u001b[0m\u001b[1;33m)\u001b[0m\u001b[1;33m\u001b[0m\u001b[1;33m\u001b[0m\u001b[0m\n",
      "\u001b[1;31mNameError\u001b[0m: name 'words_list' is not defined"
     ]
    }
   ],
   "source": [
    "#단어 카운트하기\n",
    "from collections import Counter\n",
    "counts = Counter(words_list)\n",
    "print(counts.most_common(30))"
   ]
  },
  {
   "cell_type": "markdown",
   "id": "5067c18a",
   "metadata": {},
   "source": [
    "### Train data, Test data split"
   ]
  },
  {
   "cell_type": "code",
   "execution_count": null,
   "id": "eb9957aa",
   "metadata": {},
   "outputs": [],
   "source": [
    "train_data = review['tag_list']\n",
    "test_data = review['label'].values"
   ]
  },
  {
   "cell_type": "code",
   "execution_count": null,
   "id": "5793a193",
   "metadata": {},
   "outputs": [],
   "source": [
    "train_data.shape"
   ]
  },
  {
   "cell_type": "code",
   "execution_count": null,
   "id": "bfefbaee",
   "metadata": {},
   "outputs": [],
   "source": [
    "train_data.shape"
   ]
  },
  {
   "cell_type": "code",
   "execution_count": null,
   "id": "c3e2b45a",
   "metadata": {},
   "outputs": [],
   "source": [
    "from sklearn.model_selection import train_test_split\n",
    "X_train, X_test, Y_train, Y_test = train_test_split(train_data, test_data, test_size = 0.2, random_state = 422)"
   ]
  },
  {
   "cell_type": "code",
   "execution_count": null,
   "id": "3555b5b3",
   "metadata": {},
   "outputs": [],
   "source": [
    "print(f'X_train: {X_train.shape}, X_test: {X_test.shape}, Y_train: {Y_train.shape}, Y_test: {Y_test.shape}')"
   ]
  },
  {
   "cell_type": "markdown",
   "id": "f639e3c1",
   "metadata": {},
   "source": [
    "### 단어의 길이 분포 확인"
   ]
  },
  {
   "cell_type": "code",
   "execution_count": null,
   "id": "06ea0994",
   "metadata": {},
   "outputs": [],
   "source": [
    "positive_words = np.hstack(review[review.label == 1]['tag_list'].values)\n",
    "negative_words = np.hstack(review[review.label == 0]['tag_list'].values)"
   ]
  },
  {
   "cell_type": "code",
   "execution_count": null,
   "id": "36574085",
   "metadata": {},
   "outputs": [],
   "source": [
    "from collections import Counter\n",
    "\n",
    "# 긍정리뷰에 많이 나오는 단어 (100개)\n",
    "positive_word_count = Counter(positive_words)\n",
    "print(positive_word_count.most_common(100))"
   ]
  },
  {
   "cell_type": "code",
   "execution_count": null,
   "id": "6c292539",
   "metadata": {},
   "outputs": [],
   "source": [
    "# 부정리뷰에 많이 나오는 단어 (100개)\n",
    "negative_word_count = Counter(negative_words)\n",
    "print(negative_word_count.most_common(100))"
   ]
  },
  {
   "cell_type": "code",
   "execution_count": null,
   "id": "eba3411c",
   "metadata": {},
   "outputs": [],
   "source": [
    "fig,(ax1,ax2) = plt.subplots(1,2,figsize=(10,5))\n",
    "text_len = review[review['label']==1]['tag_list'].map(lambda x: len(x))\n",
    "ax1.hist(text_len, color='red')\n",
    "ax1.set_title('Positive Reviews')\n",
    "ax1.set_xlabel('length of samples')\n",
    "ax1.set_ylabel('number of samples')\n",
    "print('긍정 리뷰의 평균 길이 :', np.mean(text_len))\n",
    "\n",
    "text_len = review[review['label']==0]['tag_list'].map(lambda x: len(x))\n",
    "ax2.hist(text_len, color='blue')\n",
    "ax2.set_title('Negative Reviews')\n",
    "fig.suptitle('Words in texts')\n",
    "ax2.set_xlabel('length of samples')\n",
    "ax2.set_ylabel('number of samples')\n",
    "print('부정 리뷰의 평균 길이 :', np.mean(text_len))\n",
    "plt.show()"
   ]
  },
  {
   "cell_type": "markdown",
   "id": "6591f817",
   "metadata": {},
   "source": [
    "### 정수 인코딩"
   ]
  },
  {
   "cell_type": "code",
   "execution_count": null,
   "id": "d5ec7b86",
   "metadata": {},
   "outputs": [],
   "source": [
    "tokenizer = Tokenizer()\n",
    "tokenizer.fit_on_texts(X_train)"
   ]
  },
  {
   "cell_type": "code",
   "execution_count": null,
   "id": "3a877f32",
   "metadata": {},
   "outputs": [],
   "source": [
    "print(tokenizer.word_index)"
   ]
  },
  {
   "cell_type": "code",
   "execution_count": null,
   "id": "8378ab65",
   "metadata": {},
   "outputs": [],
   "source": [
    "threshold = 2\n",
    "total_cnt = len(tokenizer.word_index) # 단어의 수\n",
    "rare_cnt = 0 # 등장 빈도수가 threshold보다 작은 단어의 개수를 카운트\n",
    "total_freq = 0 # 훈련 데이터의 전체 단어 빈도수 총 합\n",
    "rare_freq = 0 # 등장 빈도수가 threshold보다 작은 단어의 등장 빈도수의 총 합\n",
    "\n",
    "# 단어와 빈도수의 쌍(pair)을 key와 value로 받는다.\n",
    "for key, value in tokenizer.word_counts.items():\n",
    "    total_freq = total_freq + value\n",
    "\n",
    "    # 단어의 등장 빈도수가 threshold보다 작으면\n",
    "    if(value < threshold):\n",
    "        rare_cnt = rare_cnt + 1\n",
    "        rare_freq = rare_freq + value\n",
    "\n",
    "print('단어 집합(vocabulary)의 크기 :',total_cnt)\n",
    "print('등장 빈도가 %s번 이하인 희귀 단어의 수: %s'%(threshold - 1, rare_cnt))\n",
    "print(\"단어 집합에서 희귀 단어의 비율:\", (rare_cnt / total_cnt) * 100)\n",
    "print(\"전체 등장 빈도에서 희귀 단어 등장 빈도 비율:\", (rare_freq / total_freq) * 100)"
   ]
  },
  {
   "cell_type": "code",
   "execution_count": null,
   "id": "77413a49",
   "metadata": {},
   "outputs": [],
   "source": [
    "# 전체 단어 개수 중 빈도수 1 이하인 단어는 제거.\n",
    "# 0번 패딩 토큰을 고려하여 + 1\n",
    "vocab_size = total_cnt - rare_cnt + 1\n",
    "print('단어 집합의 크기 :',vocab_size)"
   ]
  },
  {
   "cell_type": "code",
   "execution_count": null,
   "id": "5a575e3f",
   "metadata": {},
   "outputs": [],
   "source": [
    "tokenizer = Tokenizer(vocab_size) \n",
    "tokenizer.fit_on_texts(X_train)\n",
    "X_train = tokenizer.texts_to_sequences(X_train)\n",
    "X_test = tokenizer.texts_to_sequences(X_test)"
   ]
  },
  {
   "cell_type": "code",
   "execution_count": null,
   "id": "c1e786ac",
   "metadata": {},
   "outputs": [],
   "source": [
    "print(X_train[:3])"
   ]
  },
  {
   "cell_type": "code",
   "execution_count": null,
   "id": "7b0d26c5",
   "metadata": {},
   "outputs": [],
   "source": [
    "Y_train"
   ]
  },
  {
   "cell_type": "code",
   "execution_count": null,
   "id": "f84688b6",
   "metadata": {},
   "outputs": [],
   "source": [
    "X_train"
   ]
  },
  {
   "cell_type": "markdown",
   "id": "6fcc02d1",
   "metadata": {},
   "source": [
    "### 빈샘플(empty samples)제거"
   ]
  },
  {
   "cell_type": "code",
   "execution_count": null,
   "id": "9979b8c8",
   "metadata": {},
   "outputs": [],
   "source": [
    "# 샘플들의 길이를 확인해서 길이가 0인 샘플들의 인덱스 추출\n",
    "drop_train = [index for index, sentence in enumerate(X_train) if len(sentence) < 1]\n",
    "len(drop_train)"
   ]
  },
  {
   "cell_type": "code",
   "execution_count": null,
   "id": "b6bbb5e8",
   "metadata": {},
   "outputs": [],
   "source": [
    "# 빈 샘플들을 제거\n",
    "X_train = np.delete(X_train, drop_train, axis=0)\n",
    "Y_train = np.delete(Y_train, drop_train, axis=0)\n",
    "print(len(X_train))\n",
    "print(len(Y_train))"
   ]
  },
  {
   "cell_type": "code",
   "execution_count": null,
   "id": "c2d9a377",
   "metadata": {},
   "outputs": [],
   "source": [
    "print('리뷰의 최대 길이 :',max(len(review) for review in X_train))\n",
    "print('리뷰의 평균 길이 :',sum(map(len, X_train))/len(X_train))\n",
    "plt.hist([len(review) for review in X_train], bins=50)\n",
    "plt.xlabel('length of samples')\n",
    "plt.ylabel('number of samples')\n",
    "plt.show()"
   ]
  },
  {
   "cell_type": "code",
   "execution_count": null,
   "id": "aa8a92d3",
   "metadata": {},
   "outputs": [],
   "source": [
    "def below_threshold_len(max_len, nested_list):\n",
    "    count = 0\n",
    "    for sentence in nested_list:\n",
    "        if(len(sentence) <= max_len):\n",
    "            count = count + 1\n",
    "    print('전체 샘플 중 길이가 %s 이하인 샘플의 비율: %s'%(max_len, (count / len(nested_list))*100))"
   ]
  },
  {
   "cell_type": "code",
   "execution_count": null,
   "id": "d2a96ce3",
   "metadata": {},
   "outputs": [],
   "source": [
    "# 최대 길이가 133이므로 만약 30으로 패딩할 경우, 몇 개의 샘플들을 온전히 보전할 수 있는지 확인\n",
    "max_len = 30\n",
    "below_threshold_len(max_len, X_train)"
   ]
  },
  {
   "cell_type": "markdown",
   "id": "702a34e2",
   "metadata": {},
   "source": [
    "### Padding"
   ]
  },
  {
   "cell_type": "code",
   "execution_count": null,
   "id": "5d583201",
   "metadata": {},
   "outputs": [],
   "source": [
    "X_train = pad_sequences(X_train, maxlen = max_len)\n",
    "X_test = pad_sequences(X_test, maxlen = max_len)"
   ]
  },
  {
   "cell_type": "code",
   "execution_count": null,
   "id": "43ba6393",
   "metadata": {},
   "outputs": [],
   "source": [
    "X_train"
   ]
  },
  {
   "cell_type": "code",
   "execution_count": 35,
   "id": "a9d81052",
   "metadata": {
    "collapsed": true
   },
   "outputs": [
    {
     "ename": "NameError",
     "evalue": "name 'X_test' is not defined",
     "output_type": "error",
     "traceback": [
      "\u001b[1;31m---------------------------------------------------------------------------\u001b[0m",
      "\u001b[1;31mNameError\u001b[0m                                 Traceback (most recent call last)",
      "\u001b[1;32m~\\AppData\\Local\\Temp/ipykernel_14412/2302220135.py\u001b[0m in \u001b[0;36m<module>\u001b[1;34m\u001b[0m\n\u001b[1;32m----> 1\u001b[1;33m \u001b[0mX_test\u001b[0m\u001b[1;33m\u001b[0m\u001b[1;33m\u001b[0m\u001b[0m\n\u001b[0m",
      "\u001b[1;31mNameError\u001b[0m: name 'X_test' is not defined"
     ]
    }
   ],
   "source": [
    "X_test"
   ]
  },
  {
   "cell_type": "code",
   "execution_count": null,
   "id": "10dd5235",
   "metadata": {},
   "outputs": [],
   "source": [
    "Y_train"
   ]
  },
  {
   "cell_type": "code",
   "execution_count": null,
   "id": "496256e6",
   "metadata": {},
   "outputs": [],
   "source": [
    "Y_test"
   ]
  },
  {
   "cell_type": "code",
   "execution_count": null,
   "id": "69d3aa6f",
   "metadata": {},
   "outputs": [],
   "source": [
    "print(f'X_train: {X_train.shape}, X_test: {X_test.shape}, Y_train: {Y_train.shape}, Y_test: {Y_test.shape}')"
   ]
  },
  {
   "cell_type": "markdown",
   "id": "88294d67",
   "metadata": {},
   "source": [
    "### Create Model"
   ]
  },
  {
   "cell_type": "code",
   "execution_count": null,
   "id": "2256645a",
   "metadata": {},
   "outputs": [],
   "source": [
    "from tensorflow.keras.models import Sequential, Model, load_model\n",
    "from tensorflow.keras.layers import Embedding, Dense, GlobalMaxPool1D, MaxPooling2D, Flatten, Conv2D, MaxPooling1D, Conv1D\n",
    "from tensorflow.keras.layers import Input, Activation, Dense, Permute, Dropout # Permute : 주어진 패턴에 따라서 입력 차수 변경\n",
    "from tensorflow.keras.layers import add, dot, concatenate\n",
    "from tensorflow.keras.layers import LSTM, Bidirectional\n",
    "from tensorflow.keras.callbacks import EarlyStopping, ModelCheckpoint\n",
    "from tensorflow.keras.optimizers import Adam"
   ]
  },
  {
   "cell_type": "code",
   "execution_count": null,
   "id": "f6b4d8ea",
   "metadata": {},
   "outputs": [],
   "source": [
    "# CNN를 사용한 모델 (model1) 정의\n",
    "embedding_dim = 100\n",
    "hidden_units = 128\n",
    "\n",
    "model1 = Sequential()\n",
    "model1.add(Embedding(vocab_size, embedding_dim, input_length = max_len))\n",
    "model1.add(Conv1D(256, kernel_size = 3, padding = 'SAME', activation = 'relu', input_shape = (10, 4)))\n",
    "model1.add(Conv1D(128, kernel_size = 3, padding = 'SAME', activation = 'relu'))\n",
    "model1.add(Conv1D(64, kernel_size = 3, padding = 'SAME', activation = 'relu'))\n",
    "model1.add(MaxPooling1D(pool_size = 2))\n",
    "model1.add(Dropout(0.25))\n",
    "model1.add(Flatten())\n",
    "model1.add(Dropout(0.3))\n",
    "model1.add(Dense(100, activation = 'relu'))\n",
    "model1.add(Dense(32, activation = 'relu'))\n",
    "model1.add(Dense(1, activation = 'sigmoid'))\n",
    "    \n",
    "es = EarlyStopping(monitor = 'val_loss', mode = 'min', verbose = 1, patience = 4)\n",
    "mc = ModelCheckpoint('review_best_model_10.h5', monitor = 'val_acc', mode = 'max', verbose = 1, save_best_only = True)\n",
    "\n",
    "model1.compile(optimizer = 'rmsprop', loss = 'binary_crossentropy', metrics = ['acc']) # adam\n",
    "model1.summary()"
   ]
  },
  {
   "cell_type": "code",
   "execution_count": null,
   "id": "352d1bb8",
   "metadata": {},
   "outputs": [],
   "source": [
    "# LSTM를 사용한 모델 (model2) 정의\n",
    "embedding_dim = 100\n",
    "hidden_units = 128\n",
    "\n",
    "model2 = Sequential()\n",
    "model2.add(Embedding(vocab_size, embedding_dim))\n",
    "model2.add(LSTM(hidden_units))\n",
    "model2.add(Dense(1, activation='sigmoid'))\n",
    "\n",
    "es = EarlyStopping(monitor = 'val_loss', mode = 'min', verbose = 1, patience = 4)\n",
    "mc = ModelCheckpoint('review_best_model_8.h5', monitor = 'val_acc', mode = 'max', verbose = 1, save_best_only = True)\n",
    "\n",
    "model2.compile(optimizer = 'rmsprop', loss = 'binary_crossentropy', metrics = ['acc']) # adam\n",
    "model2.summary()"
   ]
  },
  {
   "cell_type": "code",
   "execution_count": null,
   "id": "929c723c",
   "metadata": {},
   "outputs": [],
   "source": [
    "r1 = model1.fit(X_train, Y_train, epochs = 30, callbacks = [es, mc], batch_size = 64, validation_data = (X_test, Y_test))"
   ]
  },
  {
   "cell_type": "code",
   "execution_count": null,
   "id": "05b622dc",
   "metadata": {},
   "outputs": [],
   "source": [
    "r2 = model2.fit(X_train, Y_train, epochs = 15, callbacks = [es, mc], batch_size = 64, validation_data = (X_test, Y_test))"
   ]
  },
  {
   "cell_type": "code",
   "execution_count": null,
   "id": "1ec0cb0f",
   "metadata": {},
   "outputs": [],
   "source": [
    "loaded_model = load_model('review_best_model_10.h5') # 정확도 85.51%\n",
    "loaded_model.evaluate(X_test, Y_test)"
   ]
  },
  {
   "cell_type": "code",
   "execution_count": null,
   "id": "b965c6e4",
   "metadata": {},
   "outputs": [],
   "source": [
    "loaded_model = load_model('review_best_model_8.h5') # 정확도 85.29%\n",
    "loaded_model.evaluate(X_test, Y_test)"
   ]
  },
  {
   "cell_type": "markdown",
   "id": "c3609e7c",
   "metadata": {},
   "source": [
    "### Evaluate the Model"
   ]
  },
  {
   "cell_type": "code",
   "execution_count": null,
   "id": "78c2ed86",
   "metadata": {},
   "outputs": [],
   "source": [
    "import matplotlib.pyplot as plt\n",
    "%matplotlib inline\n",
    "print(r1.history.keys())"
   ]
  },
  {
   "cell_type": "code",
   "execution_count": null,
   "id": "d53629bd",
   "metadata": {},
   "outputs": [],
   "source": [
    "plt.plot(r1.history['acc'])\n",
    "plt.plot(r1.history['val_acc'])\n",
    "plt.title('model accuracy')\n",
    "plt.ylabel('accuracy')\n",
    "plt.xlabel('epoch')\n",
    "plt.legend(['train', 'test'], loc = 'upper left')\n",
    "plt.show()"
   ]
  },
  {
   "cell_type": "markdown",
   "id": "98324231",
   "metadata": {},
   "source": [
    "### 예측"
   ]
  },
  {
   "cell_type": "code",
   "execution_count": null,
   "id": "dd4f55ab",
   "metadata": {},
   "outputs": [],
   "source": [
    "review1 = \"솔직히 두 주인공의 감정이입이 안되다보니 아무느낌 없습니다\""
   ]
  },
  {
   "cell_type": "code",
   "execution_count": null,
   "id": "e1b1e21e",
   "metadata": {},
   "outputs": [],
   "source": [
    "from hanspell import spell_checker\n",
    "def review_predict(review1):\n",
    "    \n",
    "    # 1. spell_checker\n",
    "    spelled_sent = spell_checker.check(review1)\n",
    "    hanspell_sent = spelled_sent.checked\n",
    "    new_review = hanspell_sent\n",
    "    \n",
    "    # 2. 반복되는 문자 제거하기\n",
    "    new_review = new_review.replace(\"ㅋ\",\"\") # ㅋㅋㅋ제거\n",
    "    new_review = new_review.replace(\"ㅜ\",\"\") # ㅜㅜㅜ제거\n",
    "    new_review = new_review.replace(\"ㅠ\",\"\") # ㅠㅠㅠ제거\n",
    "    new_review = new_review.replace(\"ㅎ\",\"\") # ㅎㅎㅎ제거\n",
    "    new_review = new_review.replace(\"ㅇ\",\"\") # ㅇㅇ제거\n",
    "    new_review = new_review.replace(\"ㄷ\",\"\") # ㄷㄷ제거\n",
    "    new_review = new_review.replace(\"ㄱ\",\"\") # ㄱㄱ제거\n",
    "    new_review = new_review.replace(\"-\",\"\") # --제거\n",
    "    new_review = new_review.replace(\"_\",\"\") # __제거\n",
    "    new_review = new_review.replace(\"ㅡ\",\"\") # ㅡㅡ제거\n",
    "\n",
    "    new_review = new_review.replace(\"ㅉ\",\"\")\n",
    "    new_review = new_review.replace(\"ㅆㅈ\",\"\")\n",
    "    new_review = new_review.replace(\"ㅏ\",\"\")\n",
    "    new_review = new_review.replace(\"ㅡ\",\"\")\n",
    "    \n",
    "    # 3. 단어 변환해주기 - 줄임말 변경\n",
    "    new_review = new_review.replace(\"ㄱㅊ\",\"괜찮\")\n",
    "    new_review = new_review.replace(\"ㅈㄹ\",\"지랄\")\n",
    "    new_review = new_review.replace(\"ㅈㅁ\",\"정말\")\n",
    "    new_review = new_review.replace(\"ㅇㅈ\",\"인정\")\n",
    "    new_review = new_review.replace(\"ㄹㅇ\",\"정말\")\n",
    "    new_review = new_review.replace(\"ㅈㅅ\",\"죄송\")\n",
    "    new_review = new_review.replace(\"좋ㅈ었습니다\",\"좋았습니다\")\n",
    "    new_review = new_review.replace(\"ㅈㄴ\",\"존나\")\n",
    "\n",
    "    # 4. 영어표현 변경\n",
    "    new_review = new_review.replace(\"cg\",\"씨지\")\n",
    "    new_review = new_review.replace(\"ost\",\"오에스티\")\n",
    "    new_review = new_review.replace(\"sf\",\"공상과학\")\n",
    "    new_review = new_review.replace(\"tv\",\"텔레비전\")\n",
    "    new_review = new_review.replace(\"sns\",\"소셜미디어\")\n",
    "    new_review = new_review.replace(\"good\",\"좋다\")\n",
    "    new_review = new_review.replace(\"best\",\"좋다\")\n",
    "    \n",
    "    # 5. 한글과 공백을 제외하고 모두 제거 \n",
    "    new_review = new_review.replace(\"[^ㄱ-ㅎㅏ-ㅣ가-힣 ]\",\"\")\n",
    "\n",
    "    # 6. 토큰화\n",
    "    new_review = okt.pos(new_review, stem = True) \n",
    "    new_review = [word for word, tag in new_review if tag in ['Noun','Adjective','Verb']] \n",
    "    \n",
    "    # 7. Embedding 처리 (text -> sequences)\n",
    "    new_review = tokenizer.texts_to_sequences([new_review])\n",
    "\n",
    "    # 8. padding -> 길이 값을 맞추기 위해 \n",
    "    padding_review = pad_sequences(new_review, maxlen = max_len)\n",
    "\n",
    "    # 9. predcit \n",
    "    score = float(loaded_model.predict(padding_review))\n",
    "\n",
    "    # 10. 결과 값 판단 \n",
    "    if score > 0.5:\n",
    "        print(\"{:.2f}% 확률로 긍정 리뷰\".format(score * 100))\n",
    "    else:\n",
    "        print(\"{:.2f}% 확률로 부정 리뷰\".format((1- score) * 100))"
   ]
  },
  {
   "cell_type": "code",
   "execution_count": null,
   "id": "32df4f4f",
   "metadata": {},
   "outputs": [],
   "source": [
    "review_predict(\"솔직히 두 주인공의 감정이입이 안되다보니 아무느낌 없습니다\")\n",
    "# sequential -> 96.00% 확률로 부정 리뷰"
   ]
  },
  {
   "cell_type": "code",
   "execution_count": null,
   "id": "093cf7e3",
   "metadata": {},
   "outputs": [],
   "source": [
    "review_predict(\"정겨운 사람과 따뜻한 공간을 떠나온 지금도 가슴 속에 추억한다.\")\n",
    "# sequential -> 99.76% 확률로 긍정 리뷰"
   ]
  },
  {
   "cell_type": "code",
   "execution_count": null,
   "id": "44828dfd",
   "metadata": {},
   "outputs": [],
   "source": [
    "review_predict(\"멸공이라는 단어를 악으로 만든 영화.전형적인 한국식 정치영화\")\n",
    "# sequential -> 63% 확률로 부정 리뷰"
   ]
  }
 ],
 "metadata": {
  "kernelspec": {
   "display_name": "Python 3 (ipykernel)",
   "language": "python",
   "name": "python3"
  },
  "language_info": {
   "codemirror_mode": {
    "name": "ipython",
    "version": 3
   },
   "file_extension": ".py",
   "mimetype": "text/x-python",
   "name": "python",
   "nbconvert_exporter": "python",
   "pygments_lexer": "ipython3",
   "version": "3.9.7"
  }
 },
 "nbformat": 4,
 "nbformat_minor": 5
}
