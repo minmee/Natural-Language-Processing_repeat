{
 "cells": [
  {
   "cell_type": "code",
   "execution_count": 1,
   "id": "044ac56e",
   "metadata": {},
   "outputs": [],
   "source": [
    "import spacy\n",
    "nlp = spacy.load('en_core_web_sm')"
   ]
  },
  {
   "cell_type": "code",
   "execution_count": 2,
   "id": "6c87ad04",
   "metadata": {},
   "outputs": [
    {
     "name": "stdout",
     "output_type": "stream",
     "text": [
      "I \t PRON \t 4690420944186131903 \t I\n",
      "am \t AUX \t 10382539506755952630 \t be\n",
      "a \t DET \t 11901859001352538922 \t a\n",
      "runner \t NOUN \t 12640964157389618806 \t runner\n",
      "running \t VERB \t 12767647472892411841 \t run\n",
      "in \t ADP \t 3002984154512732771 \t in\n",
      "a \t DET \t 11901859001352538922 \t a\n",
      "race \t NOUN \t 8048469955494714898 \t race\n",
      "because \t SCONJ \t 16950148841647037698 \t because\n",
      "I \t PRON \t 4690420944186131903 \t I\n",
      "love \t VERB \t 3702023516439754181 \t love\n",
      "to \t PART \t 3791531372978436496 \t to\n",
      "run \t VERB \t 12767647472892411841 \t run\n",
      "since \t SCONJ \t 10066841407251338481 \t since\n",
      "I \t PRON \t 4690420944186131903 \t I\n",
      "ran \t VERB \t 12767647472892411841 \t run\n",
      "today \t NOUN \t 11042482332948150395 \t today\n",
      ". \t PUNCT \t 12646065887601541794 \t .\n"
     ]
    }
   ],
   "source": [
    "doc1 = nlp(u\"I am a runner running in a race because I love to run since I ran today.\")\n",
    "\n",
    "for token in doc1:\n",
    "    print(token.text, '\\t', token.pos_, '\\t', token.lemma, '\\t', token.lemma_)"
   ]
  },
  {
   "cell_type": "code",
   "execution_count": 4,
   "id": "fb396a2b",
   "metadata": {},
   "outputs": [],
   "source": [
    "def show_lemma(text):\n",
    "    for token in text:\n",
    "        print(token.text, '\\t', token.pos_, '\\t', token.lemma, '\\t', token.lemma_)"
   ]
  },
  {
   "cell_type": "code",
   "execution_count": 5,
   "id": "29129c9e",
   "metadata": {},
   "outputs": [
    {
     "name": "stdout",
     "output_type": "stream",
     "text": [
      "I \t PRON \t 4690420944186131903 \t I\n",
      "am \t AUX \t 10382539506755952630 \t be\n",
      "meeting \t VERB \t 6880656908171229526 \t meet\n",
      "him \t PRON \t 1655312771067108281 \t he\n",
      "tomorrow \t NOUN \t 3573583789758258062 \t tomorrow\n",
      "at \t ADP \t 11667289587015813222 \t at\n",
      "the \t DET \t 7425985699627899538 \t the\n",
      "meeting \t NOUN \t 14798207169164081740 \t meeting\n",
      ". \t PUNCT \t 12646065887601541794 \t .\n"
     ]
    }
   ],
   "source": [
    "doc2 = nlp(u\"I am meeting him tomorrow at the meeting.\")\n",
    "\n",
    "show_lemma(doc2)"
   ]
  },
  {
   "cell_type": "code",
   "execution_count": null,
   "id": "1f441d1e",
   "metadata": {},
   "outputs": [],
   "source": [
    "# 천재다,, 신기방기쓰"
   ]
  },
  {
   "cell_type": "code",
   "execution_count": 6,
   "id": "f134fa95",
   "metadata": {},
   "outputs": [
    {
     "name": "stdout",
     "output_type": "stream",
     "text": [
      "That \t PRON \t 4380130941430378203 \t that\n",
      "'s \t AUX \t 10382539506755952630 \t be\n",
      "an \t DET \t 15099054000809333061 \t an\n",
      "enormous \t ADJ \t 17917224542039855524 \t enormous\n",
      "automobile \t NOUN \t 7211811266693931283 \t automobile\n"
     ]
    }
   ],
   "source": [
    "doc3 = nlp(u\"That's an enormous automobile\")\n",
    "show_lemma(doc3)"
   ]
  },
  {
   "cell_type": "markdown",
   "id": "78db91df",
   "metadata": {},
   "source": [
    "### Stop words"
   ]
  },
  {
   "cell_type": "code",
   "execution_count": 7,
   "id": "6ccab316",
   "metadata": {
    "scrolled": true
   },
   "outputs": [
    {
     "name": "stdout",
     "output_type": "stream",
     "text": [
      "{'though', 'also', 'whether', 'not', 'how', 'really', 'indeed', '’d', 'very', 'there', 'make', 'by', 'although', 'wherever', 'become', 'still', 'them', 'must', 'more', 'never', 'anyone', 'whereby', 'hereafter', 'most', 'could', 'one', 'bottom', 'the', 'between', 'n’t', 'being', 'did', 'beyond', 'say', 'under', 'done', '’m', 'him', 'none', 'various', 'thereafter', 'together', 'amount', 'used', 'give', 'upon', 'towards', 'through', 'over', 'hundred', 'fifty', 'here', \"'ll\", 'before', 'hers', 'about', 'than', 'eight', 'noone', 'somewhere', 'well', 'elsewhere', 'third', 'nevertheless', '’re', 'both', 'whenever', 'should', 'almost', 'except', 'cannot', 'rather', 'of', 'ever', 'along', 'former', 'ca', 'your', 'do', 'however', 'does', 'to', 'therefore', 'himself', 'namely', 'anywhere', 'name', 'besides', 'last', 'itself', 'less', 'doing', 'has', 'or', 'sometime', 'themselves', 'whereafter', 'while', 'you', 'same', 'up', 'everything', 'call', 'ourselves', '‘m', 'have', 'he', 'eleven', 'mostly', 'twenty', 'something', 'yours', 'due', 'four', 'can', 'twelve', 'always', 'every', 'anything', 'now', 'own', 'at', \"'re\", 'since', 'afterwards', 'so', 'it', 'hence', 'only', 'see', 'nine', 'formerly', 'into', 'whither', 'thus', 'everyone', 'among', 'ours', 'these', 'part', 'alone', 'will', 'whatever', 'may', 'seeming', 'herein', 'another', 'mine', '‘s', \"n't\", 'am', 'until', 'behind', 'perhaps', \"'ve\", 'via', 'full', 'regarding', 'in', 'whoever', 'nothing', 'where', 'nowhere', 'several', 'who', 'they', 'amongst', 'show', 're', 'made', 'neither', 'n‘t', 'yourself', 'whereas', '’ll', 'other', \"'m\", '’s', 'if', 'on', 'get', 'five', 'moreover', 'take', 'per', 'thereupon', 'toward', 'serious', 'enough', 'latter', 'because', 'seems', 'sometimes', 'becomes', 'again', 'move', 'any', 'she', 'i', 'else', 'few', 'keep', 'below', '‘ve', \"'s\", 'might', 'seem', 'anyway', 'whole', 'are', 'front', 'became', 'was', 'yourselves', 'when', 'further', 'but', 'quite', 'its', 'would', \"'d\", 'is', 'us', 'anyhow', 'already', 'back', 'meanwhile', 'beforehand', 'others', 'after', 'otherwise', 'often', 'herself', 'her', 'be', 'latterly', 'becoming', 'been', 'myself', 'with', 'me', 'had', 'an', 'why', 'hereupon', 'around', 'out', 'a', 'thru', 'fifteen', 'from', 'hereby', 'down', 'and', 'for', 'either', 'unless', 'that', 'my', 'no', 'three', 'what', 'against', 'top', 'forty', 'some', 'empty', 'within', 'their', 'thence', 'those', 'much', 'whereupon', 'beside', 'least', 'two', 'all', 'everywhere', 'thereby', 'across', 'throughout', 'whence', 'whose', 'such', 'please', 'seemed', '‘re', 'without', 'whom', 'six', 'yet', 'nobody', 'many', 'which', 'side', 'someone', 'onto', 'put', 'wherein', 'using', 'as', 'then', 'go', '‘ll', 'this', '’ve', 'our', 'were', 'therein', 'off', 'somehow', 'above', 'sixty', 'his', 'even', 'each', 'next', 'too', 'first', '‘d', 'we', 'once', 'just', 'during', 'nor', 'ten'}\n"
     ]
    }
   ],
   "source": [
    "print(nlp.Defaults.stop_words) # set 형태"
   ]
  },
  {
   "cell_type": "code",
   "execution_count": 8,
   "id": "bb91541e",
   "metadata": {},
   "outputs": [
    {
     "data": {
      "text/plain": [
       "326"
      ]
     },
     "execution_count": 8,
     "metadata": {},
     "output_type": "execute_result"
    }
   ],
   "source": [
    "len(nlp.Defaults.stop_words)"
   ]
  },
  {
   "cell_type": "code",
   "execution_count": 9,
   "id": "fbf3c4c4",
   "metadata": {},
   "outputs": [
    {
     "data": {
      "text/plain": [
       "True"
      ]
     },
     "execution_count": 9,
     "metadata": {},
     "output_type": "execute_result"
    }
   ],
   "source": [
    "nlp.vocab['myself'].is_stop # 불용어 맞음."
   ]
  },
  {
   "cell_type": "code",
   "execution_count": 10,
   "id": "671a630b",
   "metadata": {},
   "outputs": [
    {
     "data": {
      "text/plain": [
       "False"
      ]
     },
     "execution_count": 10,
     "metadata": {},
     "output_type": "execute_result"
    }
   ],
   "source": [
    "nlp.vocab['mystery'].is_stop # 불용어 아님."
   ]
  },
  {
   "cell_type": "code",
   "execution_count": 11,
   "id": "d57f4a0b",
   "metadata": {},
   "outputs": [],
   "source": [
    "# btw (by the way)\n",
    "# 불용어 추가\n",
    "nlp.Defaults.stop_words.add('btw')"
   ]
  },
  {
   "cell_type": "code",
   "execution_count": 13,
   "id": "34cfcaff",
   "metadata": {},
   "outputs": [],
   "source": [
    "nlp.vocab['btw'].is_stop = True"
   ]
  },
  {
   "cell_type": "code",
   "execution_count": 14,
   "id": "4b5f169b",
   "metadata": {},
   "outputs": [
    {
     "data": {
      "text/plain": [
       "327"
      ]
     },
     "execution_count": 14,
     "metadata": {},
     "output_type": "execute_result"
    }
   ],
   "source": [
    "len(nlp.Defaults.stop_words)"
   ]
  },
  {
   "cell_type": "code",
   "execution_count": 15,
   "id": "46dc53b8",
   "metadata": {},
   "outputs": [
    {
     "data": {
      "text/plain": [
       "True"
      ]
     },
     "execution_count": 15,
     "metadata": {},
     "output_type": "execute_result"
    }
   ],
   "source": [
    "nlp.vocab['btw'].is_stop"
   ]
  },
  {
   "cell_type": "code",
   "execution_count": 16,
   "id": "81b283f7",
   "metadata": {},
   "outputs": [],
   "source": [
    "# 불용어 제거\n",
    "nlp.Defaults.stop_words.remove('beyond')"
   ]
  },
  {
   "cell_type": "code",
   "execution_count": 17,
   "id": "7a97f731",
   "metadata": {},
   "outputs": [],
   "source": [
    "nlp.vocab['beyond'].is_stop = False"
   ]
  },
  {
   "cell_type": "code",
   "execution_count": 18,
   "id": "19172812",
   "metadata": {},
   "outputs": [
    {
     "data": {
      "text/plain": [
       "326"
      ]
     },
     "execution_count": 18,
     "metadata": {},
     "output_type": "execute_result"
    }
   ],
   "source": [
    "len(nlp.Defaults.stop_words)"
   ]
  },
  {
   "cell_type": "code",
   "execution_count": 19,
   "id": "c88a4677",
   "metadata": {},
   "outputs": [],
   "source": [
    "nlp.Defaults.stop_words.add('beyond')"
   ]
  },
  {
   "cell_type": "code",
   "execution_count": 21,
   "id": "e0f64760",
   "metadata": {},
   "outputs": [],
   "source": [
    "nlp.vocab['beyond'].is_stop = True"
   ]
  },
  {
   "cell_type": "code",
   "execution_count": 22,
   "id": "1c4aaeaf",
   "metadata": {},
   "outputs": [
    {
     "data": {
      "text/plain": [
       "True"
      ]
     },
     "execution_count": 22,
     "metadata": {},
     "output_type": "execute_result"
    }
   ],
   "source": [
    "nlp.vocab['beyond'].is_stop"
   ]
  },
  {
   "cell_type": "code",
   "execution_count": 23,
   "id": "ee7cade2",
   "metadata": {},
   "outputs": [
    {
     "data": {
      "text/plain": [
       "327"
      ]
     },
     "execution_count": 23,
     "metadata": {},
     "output_type": "execute_result"
    }
   ],
   "source": [
    "len(nlp.Defaults.stop_words)"
   ]
  },
  {
   "cell_type": "code",
   "execution_count": null,
   "id": "f3d3b32f",
   "metadata": {},
   "outputs": [],
   "source": []
  }
 ],
 "metadata": {
  "kernelspec": {
   "display_name": "Python 3 (ipykernel)",
   "language": "python",
   "name": "python3"
  },
  "language_info": {
   "codemirror_mode": {
    "name": "ipython",
    "version": 3
   },
   "file_extension": ".py",
   "mimetype": "text/x-python",
   "name": "python",
   "nbconvert_exporter": "python",
   "pygments_lexer": "ipython3",
   "version": "3.9.7"
  }
 },
 "nbformat": 4,
 "nbformat_minor": 5
}
