{
 "cells": [
  {
   "cell_type": "code",
   "execution_count": 28,
   "id": "7f1317a5",
   "metadata": {},
   "outputs": [],
   "source": [
    "import pandas as pd\n",
    "import numpy as np\n",
    "import matplotlib.pyplot as plt\n",
    "import re\n",
    "import io\n",
    "import urllib.request\n",
    "\n",
    "\n",
    "from konlpy.tag import Okt\n",
    "from tqdm import tqdm\n",
    "from tensorflow.keras.preprocessing.text import Tokenizer\n",
    "from tensorflow.keras.preprocessing.sequence import pad_sequences"
   ]
  },
  {
   "cell_type": "markdown",
   "id": "e916b17a",
   "metadata": {},
   "source": [
    "## 네이버영화, 강사님 영화 리뷰 데이터 합친 파일 불러오기"
   ]
  },
  {
   "cell_type": "code",
   "execution_count": 51,
   "id": "3ac98119",
   "metadata": {},
   "outputs": [
    {
     "data": {
      "text/html": [
       "<div>\n",
       "<style scoped>\n",
       "    .dataframe tbody tr th:only-of-type {\n",
       "        vertical-align: middle;\n",
       "    }\n",
       "\n",
       "    .dataframe tbody tr th {\n",
       "        vertical-align: top;\n",
       "    }\n",
       "\n",
       "    .dataframe thead th {\n",
       "        text-align: right;\n",
       "    }\n",
       "</style>\n",
       "<table border=\"1\" class=\"dataframe\">\n",
       "  <thead>\n",
       "    <tr style=\"text-align: right;\">\n",
       "      <th></th>\n",
       "      <th>sentence</th>\n",
       "      <th>label</th>\n",
       "    </tr>\n",
       "  </thead>\n",
       "  <tbody>\n",
       "    <tr>\n",
       "      <th>0</th>\n",
       "      <td>믿고보는 마블스토리 ㅋ</td>\n",
       "      <td>1</td>\n",
       "    </tr>\n",
       "    <tr>\n",
       "      <th>1</th>\n",
       "      <td>액션을 기대하고 봤다면 반대. 연기를 기대하고 봤다면 끝까지</td>\n",
       "      <td>0</td>\n",
       "    </tr>\n",
       "    <tr>\n",
       "      <th>2</th>\n",
       "      <td>사전정보 없이 봤는데 러닝타임 내내 시간 가는 줄 모르게 봤습니다</td>\n",
       "      <td>1</td>\n",
       "    </tr>\n",
       "    <tr>\n",
       "      <th>3</th>\n",
       "      <td>미쳤다.. 내 시간 순삭 당하고 옴</td>\n",
       "      <td>1</td>\n",
       "    </tr>\n",
       "    <tr>\n",
       "      <th>4</th>\n",
       "      <td>이 영화는 한마디로 헤리포터+제다이(스타워즈)+호빗+스타트렉  4가지의 영화를 합친...</td>\n",
       "      <td>1</td>\n",
       "    </tr>\n",
       "  </tbody>\n",
       "</table>\n",
       "</div>"
      ],
      "text/plain": [
       "                                            sentence  label\n",
       "0                                       믿고보는 마블스토리 ㅋ      1\n",
       "1                  액션을 기대하고 봤다면 반대. 연기를 기대하고 봤다면 끝까지      0\n",
       "2               사전정보 없이 봤는데 러닝타임 내내 시간 가는 줄 모르게 봤습니다      1\n",
       "3                                미쳤다.. 내 시간 순삭 당하고 옴      1\n",
       "4  이 영화는 한마디로 헤리포터+제다이(스타워즈)+호빗+스타트렉  4가지의 영화를 합친...      1"
      ]
     },
     "execution_count": 51,
     "metadata": {},
     "output_type": "execute_result"
    }
   ],
   "source": [
    "#수집한 데이터, 강사님 데이터 합친 파일 불러오기\n",
    "df = pd.read_csv('movie_ver1.csv', low_memory=False, encoding = 'UTF-8')\n",
    "df.head()"
   ]
  },
  {
   "cell_type": "code",
   "execution_count": 52,
   "id": "de17ed2e",
   "metadata": {
    "scrolled": true
   },
   "outputs": [
    {
     "name": "stdout",
     "output_type": "stream",
     "text": [
      "sentence    0\n",
      "label       0\n",
      "dtype: int64\n"
     ]
    }
   ],
   "source": [
    "print(df.isnull().sum())"
   ]
  },
  {
   "cell_type": "code",
   "execution_count": 53,
   "id": "55e82be7",
   "metadata": {},
   "outputs": [
    {
     "data": {
      "text/plain": [
       "0                                              믿고보는 마블스토리 ㅋ\n",
       "1                         액션을 기대하고 봤다면 반대. 연기를 기대하고 봤다면 끝까지\n",
       "2                      사전정보 없이 봤는데 러닝타임 내내 시간 가는 줄 모르게 봤습니다\n",
       "3                                       미쳤다.. 내 시간 순삭 당하고 옴\n",
       "4         이 영화는 한마디로 헤리포터+제다이(스타워즈)+호빗+스타트렉  4가지의 영화를 합친...\n",
       "                                ...                        \n",
       "209360            오랜만에 평점 로긴했네ㅋㅋ 킹왕짱 쌈뽕한 영화를 만났습니다 강렬하게 육쾌함\n",
       "209361         의지 박약들이나 하는거다 탈영은 일단 주인공 김대희 닮았고 이등병 찐따 OOOO\n",
       "209362                   그림도 좋고 완성도도 높았지만... 보는 내내 불안하게 만든다\n",
       "209363       절대 봐서는 안 될 영화.. 재미도 없고 기분만 잡치고.. 한 세트장에서 다 해먹네\n",
       "209364                                           마무리는 또 왜이래\n",
       "Name: sentence, Length: 209365, dtype: object"
      ]
     },
     "execution_count": 53,
     "metadata": {},
     "output_type": "execute_result"
    }
   ],
   "source": [
    "df_review = df['sentence']\n",
    "df_review"
   ]
  },
  {
   "cell_type": "markdown",
   "id": "e8141678",
   "metadata": {},
   "source": [
    "## 전처리"
   ]
  },
  {
   "cell_type": "code",
   "execution_count": 54,
   "id": "d54ae13e",
   "metadata": {},
   "outputs": [],
   "source": [
    "#영어 소문자로 모두 변환\n",
    "df_review = df_review.str.lower()"
   ]
  },
  {
   "cell_type": "code",
   "execution_count": 55,
   "id": "9be3968a",
   "metadata": {},
   "outputs": [
    {
     "data": {
      "text/plain": [
       "100                                 지대 잘 만들었다 네이비실 위엄 지림\n",
       "101                                    쿠키2개. 2편 존버탑니다...\n",
       "102        간만에 조폭영화 재밌게 봤네...조폭영화 미화도 안하고 의리없는 게 딱 현실적임.\n",
       "103                                        영화가 아닌 다큐멘터리 \n",
       "104                                    포피파 피포파 포피파파피포파ㅠㅠ\n",
       "105                     생각보다는 재밌었다. 주인공이나 빌런이나 서사 다 좋았음.\n",
       "106                               빨리 d.c에서 제임스완 데려와요..ㅠㅠ\n",
       "107                               진짜 꼭보길,, 역시 최민식 배우님 최고\n",
       "108    분위기가 묘하게 독특하고 한국영화가 아닌 것 같은 느낌을 받았는데 감독이 프랑스인이...\n",
       "109       배우연기가 아깝게 느껴지는 구멍 술술 설정과 어지러운 cg화면의 대환장 콜라보...\n",
       "110    역시 믿고 보는 갓 연우진! 몰입도 높고 쫀쫀한 스토리 때문에 재미있게 봤습니다.....\n",
       "111                                            사는게 지옥이다.\n",
       "112    올가 배우를 이렇게 보게 되어서 너무 좋았어요! 앞으로 더 많은 작품 볼 수 있으면...\n",
       "113    [스포있음] 방금 보고 나왔는데요…! 어… 엄청난 범죄영화 같이 홍보 해놓고 결말은...\n",
       "114                       열일하시는 김동완 배우님에 눈물이 앞을 가립니다….ㅠㅠ\n",
       "115                                     아... 이거뭔가요....ㅠㅠ\n",
       "116                                     21세기에 맞게 뒤집어버리다!\n",
       "117                     어색할 줄 알았는데, 신선 그 자체! 유연석은 늘 옳음!!\n",
       "118    빌런, 주인공 캐릭터 서사 좋았다 폭발적인 액션도 자연스럽고 분장도 어색하지 않았음...\n",
       "119                                   귀엽고 귀엽고 귀여워!!취저 ??\n",
       "120                                     나는 하찮타. 정말 하찮타..\n",
       "121                       연기, cg, 연출, 음향 합쳐 캐릭터 완성도를 높이다\n",
       "122                             조조로 봤는데 액션도 좋고 흥미진진했던 영화\n",
       "123                                        생각지못한 충격에 후덜덜\n",
       "124                            대한민국 현실검찰의 추악한실태를 잘보여준영화 \n",
       "125                                한효주 연기 왓더뻑 연기 그만둬라 제발\n",
       "126    경찰에 연락 안 하고 싸움 개 못 하고 경계를 그리 하고있었으면 섀도 없어졌을 때 ...\n",
       "127                                      이렇게 매력적인 빌런이라니!\n",
       "128                  보고 나오면서 아맥 예매 했다 역시 자레드 레토 진심 찢었다ㅠ \n",
       "129    요즘 히어로물 또는 액션 장르들이 빠른 영상들을 가지고 있었다면.더 배트맨은 묵직한...\n",
       "130                          지루할 틈이 없이 재미있습니다 번역이 찰져요ㅋㅋㅋ\n",
       "131                                         마블형사 나도열!!!!\n",
       "132    와...와!!! 다나왔어 다..ㅠㅠ 토비...ㅠㅠ그웬 얘기하며 울먹이는데 너무 슬픔...\n",
       "133    영상전개 상당히 빠르고 재미있는데 기자 새기들이랑 평론가 새기들 뭐라고 씨부리노.....\n",
       "134                                  개봉 6번 미룬것부터 문제있는 영화\n",
       "135    배우도 좋고 고증도 좋고 연기도 그럭저럭인데 영화를 이렇게 만든다고?  갑분 로맨스...\n",
       "136                                  스토리도 괞찮고 나름 잼있게보았어요\n",
       "137                                     너무 좋아요 재밌었어요!!ㅎㅎ\n",
       "138                             헛웃음이 나온다. 한국 스릴러 생각하면 오산\n",
       "139                                          엄청 재미있게봤습니다\n",
       "Name: sentence, dtype: object"
      ]
     },
     "execution_count": 55,
     "metadata": {},
     "output_type": "execute_result"
    }
   ],
   "source": [
    "df_review[100:140]"
   ]
  },
  {
   "cell_type": "code",
   "execution_count": 56,
   "id": "4805e2e5",
   "metadata": {},
   "outputs": [],
   "source": [
    "#반복되는 문자 제거하기\n",
    "\n",
    "df_review = df_review.str.replace(\"ㅋ\",\"\") # ㅋㅋㅋ제거\n",
    "df_review = df_review.str.replace(\"ㅜ\",\"\") # ㅜㅜㅜ제거\n",
    "df_review = df_review.str.replace(\"ㅠ\",\"\") # ㅠㅠㅠ제거\n",
    "df_review = df_review.str.replace(\"ㅎ\",\"\") # ㅎㅎㅎ제거\n",
    "df_review = df_review.str.replace(\"ㅇ\",\"\") # ㅇㅇ제거\n",
    "df_review = df_review.str.replace(\"ㄷ\",\"\") # ㄷㄷ제거\n",
    "df_review = df_review.str.replace(\"ㄱ\",\"\") # ㄱㄱ제거\n",
    "df_review = df_review.str.replace(\"-\",\"\") # --제거\n",
    "df_review = df_review.str.replace(\"_\",\"\") # __제거\n",
    "df_review = df_review.str.replace(\"ㅡ\",\"\") # ㅡㅡ제거\n",
    "\n",
    "#\n",
    "df_review = df_review.str.replace(\"ㅉ\",\"\")\n",
    "df_review = df_review.str.replace(\"ㅆㅈ\",\"\")\n",
    "df_review = df_review.str.replace(\"ㅏ\",\"\")\n",
    "df_review = df_review.str.replace(\"ㅡ\",\"\")"
   ]
  },
  {
   "cell_type": "code",
   "execution_count": 57,
   "id": "a8ab579c",
   "metadata": {},
   "outputs": [],
   "source": [
    "#단어 변환해주기\n",
    "df_review = df_review.str.replace(\"ㄱㅊ\",\"괜찮\")\n",
    "\n",
    "# 추가 단어 #\n",
    "#줄임말 변경\n",
    "df_review = df_review.str.replace(\"ㅈㄹ\",\"지랄\")\n",
    "df_review = df_review.str.replace(\"ㅈㅁ\",\"정말\")\n",
    "df_review = df_review.str.replace(\"ㅇㅈ\",\"인정\")\n",
    "df_review = df_review.str.replace(\"ㄹㅇ\",\"정말\")\n",
    "df_review = df_review.str.replace(\"ㅈㅅ\",\"죄송\")\n",
    "df_review = df_review.str.replace(\"좋ㅈ었습니다\",\"좋았습니다\")\n",
    "df_review = df_review.str.replace(\"ㅈㄴ\",\"존나\")\n",
    "\n",
    "\n",
    "#영어표현 변경\n",
    "df_review = df_review.str.replace(\"cg\",\"씨지\")\n",
    "df_review = df_review.str.replace(\"ost\",\"오에스티\")\n",
    "df_review = df_review.str.replace(\"sf\",\"공상과학\")\n",
    "df_review = df_review.str.replace(\"tv\",\"텔레비전\")\n",
    "df_review = df_review.str.replace(\"sns\",\"소셜미디어\")\n",
    "df_review = df_review.str.replace(\"good\",\"좋다\")\n",
    "df_review = df_review.str.replace(\"best\",\"좋다\")"
   ]
  },
  {
   "cell_type": "code",
   "execution_count": 58,
   "id": "c4155a50",
   "metadata": {
    "scrolled": true
   },
   "outputs": [
    {
     "name": "stderr",
     "output_type": "stream",
     "text": [
      "C:\\Users\\user\\AppData\\Local\\Temp/ipykernel_1152/4275888759.py:2: FutureWarning: The default value of regex will change from True to False in a future version.\n",
      "  df_review = df_review.str.replace(\"[^ㄱ-ㅎㅏ-ㅣ가-힣 ]\",\"\") # 한글과 공백을 제외하고 모두 제거\n",
      "C:\\Users\\user\\AppData\\Local\\Temp/ipykernel_1152/4275888759.py:3: FutureWarning: The default value of regex will change from True to False in a future version.\n",
      "  df_review = df_review.str.replace('^ +', \"\") #공백은 empty값으로 변경\n"
     ]
    },
    {
     "name": "stdout",
     "output_type": "stream",
     "text": [
      "전처리 후 테스트용 샘플의 개수 : 207611\n"
     ]
    }
   ],
   "source": [
    "#정규표현식 \n",
    "df_review = df_review.str.replace(\"[^ㄱ-ㅎㅏ-ㅣ가-힣 ]\",\"\") # 한글과 공백을 제외하고 모두 제거\n",
    "df_review = df_review.str.replace('^ +', \"\") #공백은 empty값으로 변경\n",
    "#df_review.drop_duplicates(subset = ['content'], inplace=True) # document 열에서 중복인 내용이 있다면 중복 제거\n",
    "df_review.replace('', np.nan, inplace=True) # 공백은 Null 값으로 변경\n",
    "df_review = df_review.dropna(how='any') # Null 값 제거\n",
    "print('전처리 후 테스트용 샘플의 개수 :',len(df_review))"
   ]
  },
  {
   "cell_type": "code",
   "execution_count": 59,
   "id": "653979d4",
   "metadata": {},
   "outputs": [
    {
     "data": {
      "text/plain": [
       "0                                           믿고보는 마블스토리 \n",
       "1                      액션을 기대하고 봤다면 반대 연기를 기대하고 봤다면 끝까지\n",
       "2                  사전정보 없이 봤는데 러닝타임 내내 시간 가는 줄 모르게 봤습니다\n",
       "3                                     미쳤다 내 시간 순삭 당하고 옴\n",
       "4     이 영화는 한마디로 헤리포터제다이스타워즈호빗스타트렉  가지의 영화를 합친것 보다 배...\n",
       "5                                       자레드 레토 연기 너무 잘함\n",
       "6     느닷없는 개연성과 범죄스릴러에 억지로 로맨스 장르를 부합하는 어이없는 시도평소 영화...\n",
       "7                   평점점이라서 꺼렸는데 누가 추천해줘서 봤는데 진짜 재미지게 봄 \n",
       "8     베놈 보다는 훨씬 잘만들었다오에스티는 다크아니트 느낌이 강하게 느껴진다표절했나 이정...\n",
       "9     마블 영화를 전체적으로 봐왔던 사람으로써 이 영화는 단순히 생각 없이 보길 추천함 ...\n",
       "10                                         올해 최고의 코미디영화\n",
       "11    경상도 토박인데 사투리 어색해서 집중 안됐음어색한 사투리웅얼웅얼 대사쳐서 뭔 말인지...\n",
       "12    큰 기대를 안하고 관람해서 그런지아주 재미있지도 않고 아주 재미없지도 않았던 그런 ...\n",
       "13                          생존하게 해준 고든이랑 샤샤만 살았어도 좋았을듯 \n",
       "14                                         잔잔하니 감동적이네요 \n",
       "15                                       진짜 영화가 미제다 미제 \n",
       "16                                 진짜 재미없고 말 소리도 잘 안들리고\n",
       "17                                         연기들은 다들 볼만한데\n",
       "18                                     시간 가는줄도 모르고 봐습니다\n",
       "19    일단 평점 맞춥니다 이야 신선한 액션씬 물렁물렁 이펙트 그리고 상징색 보라색으로 물...\n",
       "20                저 아직 안봤는데 솔직히 못봐줄정도는 아닌가요 아님 개 씹노잼인가요\n",
       "21    베놈 때문에 기대치를 너무 낮게 가지고 가서 그런지 몰라도 영화 진짜 너무 잘나왔음...\n",
       "22                              쿠키영상 개와 함께 순식간에 사라져 버렸다\n",
       "23                                     크리스틴 스튜어트 영상 화보집\n",
       "24                          재밌게 봤습니다 평점이 왜 이리 낮은지 모르겠네요\n",
       "25                           재미없을줄알아는데 액션신이 신선하네요추천드립니다\n",
       "26                                     정우와 지승현 연기 좋았습니다\n",
       "27                평점이 와 낮은지모르나 잼남다만 쿠키는 진짜재미없음 기대감이 없다는\n",
       "28    테니스 경기 장면도 흥미로웠고 단지 챔피언이 되기 위해서가 아닌 그들의 인생도전 스...\n",
       "29    이런 장르에서의 유연석은 처음이었던 것 같은데 너무나도 잘 어울리는구만쫄깃하고 긴장...\n",
       "Name: sentence, dtype: object"
      ]
     },
     "execution_count": 59,
     "metadata": {},
     "output_type": "execute_result"
    }
   ],
   "source": [
    "df_review[:30]"
   ]
  },
  {
   "cell_type": "markdown",
   "id": "74c8699c",
   "metadata": {},
   "source": [
    "## py-hanspell 적용하기\n",
    "naver 띄어쓰기, 맞춤법 검사기"
   ]
  },
  {
   "cell_type": "code",
   "execution_count": 60,
   "id": "82908ad3",
   "metadata": {},
   "outputs": [],
   "source": [
    "df['sentence'] = df_review"
   ]
  },
  {
   "cell_type": "code",
   "execution_count": 61,
   "id": "a5262cee",
   "metadata": {},
   "outputs": [
    {
     "data": {
      "text/html": [
       "<div>\n",
       "<style scoped>\n",
       "    .dataframe tbody tr th:only-of-type {\n",
       "        vertical-align: middle;\n",
       "    }\n",
       "\n",
       "    .dataframe tbody tr th {\n",
       "        vertical-align: top;\n",
       "    }\n",
       "\n",
       "    .dataframe thead th {\n",
       "        text-align: right;\n",
       "    }\n",
       "</style>\n",
       "<table border=\"1\" class=\"dataframe\">\n",
       "  <thead>\n",
       "    <tr style=\"text-align: right;\">\n",
       "      <th></th>\n",
       "      <th>sentence</th>\n",
       "      <th>label</th>\n",
       "    </tr>\n",
       "  </thead>\n",
       "  <tbody>\n",
       "    <tr>\n",
       "      <th>0</th>\n",
       "      <td>믿고보는 마블스토리</td>\n",
       "      <td>1</td>\n",
       "    </tr>\n",
       "    <tr>\n",
       "      <th>1</th>\n",
       "      <td>액션을 기대하고 봤다면 반대 연기를 기대하고 봤다면 끝까지</td>\n",
       "      <td>0</td>\n",
       "    </tr>\n",
       "    <tr>\n",
       "      <th>2</th>\n",
       "      <td>사전정보 없이 봤는데 러닝타임 내내 시간 가는 줄 모르게 봤습니다</td>\n",
       "      <td>1</td>\n",
       "    </tr>\n",
       "    <tr>\n",
       "      <th>3</th>\n",
       "      <td>미쳤다 내 시간 순삭 당하고 옴</td>\n",
       "      <td>1</td>\n",
       "    </tr>\n",
       "    <tr>\n",
       "      <th>4</th>\n",
       "      <td>이 영화는 한마디로 헤리포터제다이스타워즈호빗스타트렉  가지의 영화를 합친것 보다 배...</td>\n",
       "      <td>1</td>\n",
       "    </tr>\n",
       "    <tr>\n",
       "      <th>...</th>\n",
       "      <td>...</td>\n",
       "      <td>...</td>\n",
       "    </tr>\n",
       "    <tr>\n",
       "      <th>209360</th>\n",
       "      <td>오랜만에 평점 로긴했네 킹왕짱 쌈뽕한 영화를 만났습니다 강렬하게 육쾌함</td>\n",
       "      <td>1</td>\n",
       "    </tr>\n",
       "    <tr>\n",
       "      <th>209361</th>\n",
       "      <td>의지 박약들이나 하는거다 탈영은 일단 주인공 김대희 닮았고 이등병 찐따</td>\n",
       "      <td>0</td>\n",
       "    </tr>\n",
       "    <tr>\n",
       "      <th>209362</th>\n",
       "      <td>그림도 좋고 완성도도 높았지만 보는 내내 불안하게 만든다</td>\n",
       "      <td>0</td>\n",
       "    </tr>\n",
       "    <tr>\n",
       "      <th>209363</th>\n",
       "      <td>절대 봐서는 안 될 영화 재미도 없고 기분만 잡치고 한 세트장에서 다 해먹네</td>\n",
       "      <td>0</td>\n",
       "    </tr>\n",
       "    <tr>\n",
       "      <th>209364</th>\n",
       "      <td>마무리는 또 왜이래</td>\n",
       "      <td>0</td>\n",
       "    </tr>\n",
       "  </tbody>\n",
       "</table>\n",
       "<p>209365 rows × 2 columns</p>\n",
       "</div>"
      ],
      "text/plain": [
       "                                                 sentence  label\n",
       "0                                             믿고보는 마블스토리       1\n",
       "1                        액션을 기대하고 봤다면 반대 연기를 기대하고 봤다면 끝까지      0\n",
       "2                    사전정보 없이 봤는데 러닝타임 내내 시간 가는 줄 모르게 봤습니다      1\n",
       "3                                       미쳤다 내 시간 순삭 당하고 옴      1\n",
       "4       이 영화는 한마디로 헤리포터제다이스타워즈호빗스타트렉  가지의 영화를 합친것 보다 배...      1\n",
       "...                                                   ...    ...\n",
       "209360            오랜만에 평점 로긴했네 킹왕짱 쌈뽕한 영화를 만났습니다 강렬하게 육쾌함      1\n",
       "209361           의지 박약들이나 하는거다 탈영은 일단 주인공 김대희 닮았고 이등병 찐따       0\n",
       "209362                    그림도 좋고 완성도도 높았지만 보는 내내 불안하게 만든다      0\n",
       "209363         절대 봐서는 안 될 영화 재미도 없고 기분만 잡치고 한 세트장에서 다 해먹네      0\n",
       "209364                                         마무리는 또 왜이래      0\n",
       "\n",
       "[209365 rows x 2 columns]"
      ]
     },
     "execution_count": 61,
     "metadata": {},
     "output_type": "execute_result"
    }
   ],
   "source": [
    "df"
   ]
  },
  {
   "cell_type": "code",
   "execution_count": 75,
   "id": "80798655",
   "metadata": {},
   "outputs": [
    {
     "name": "stdout",
     "output_type": "stream",
     "text": [
      "sentence    1754\n",
      "label          0\n",
      "dtype: int64\n"
     ]
    }
   ],
   "source": [
    "print(df.isnull().sum())"
   ]
  },
  {
   "cell_type": "code",
   "execution_count": 76,
   "id": "88ae6a96",
   "metadata": {},
   "outputs": [],
   "source": [
    "df = df.dropna(how = 'any') # Null 값이 한개라도 존재하는 행 제거"
   ]
  },
  {
   "cell_type": "code",
   "execution_count": 77,
   "id": "4d55c5ff",
   "metadata": {},
   "outputs": [
    {
     "name": "stdout",
     "output_type": "stream",
     "text": [
      "sentence    0\n",
      "label       0\n",
      "dtype: int64\n"
     ]
    }
   ],
   "source": [
    "print(df.isnull().sum())"
   ]
  },
  {
   "cell_type": "code",
   "execution_count": 80,
   "id": "f7d51404",
   "metadata": {},
   "outputs": [],
   "source": [
    "#hanspell은 500자까지만 분석해주기때문에\n",
    "#500자 이상의 값은 넘어가게 함수 만들어줌\n",
    "\n",
    "from hanspell import spell_checker\n",
    "\n",
    "new_sent = []\n",
    "def review_sent(text):\n",
    "    for i in range(len(text)):\n",
    "        spelled_sent = spell_checker.check(text[i])\n",
    "        hanspell_sent = spelled_sent.checked\n",
    "        sent = hanspell_sent\n",
    "        new_sent.append(sent)\n",
    "        "
   ]
  },
  {
   "cell_type": "code",
   "execution_count": 81,
   "id": "db9dd4c3",
   "metadata": {},
   "outputs": [
    {
     "ename": "KeyError",
     "evalue": "686",
     "output_type": "error",
     "traceback": [
      "\u001b[1;31m---------------------------------------------------------------------------\u001b[0m",
      "\u001b[1;31mKeyError\u001b[0m                                  Traceback (most recent call last)",
      "\u001b[1;32mC:\\ProgramData\\Anaconda3\\lib\\site-packages\\pandas\\core\\indexes\\base.py\u001b[0m in \u001b[0;36mget_loc\u001b[1;34m(self, key, method, tolerance)\u001b[0m\n\u001b[0;32m   3360\u001b[0m             \u001b[1;32mtry\u001b[0m\u001b[1;33m:\u001b[0m\u001b[1;33m\u001b[0m\u001b[1;33m\u001b[0m\u001b[0m\n\u001b[1;32m-> 3361\u001b[1;33m                 \u001b[1;32mreturn\u001b[0m \u001b[0mself\u001b[0m\u001b[1;33m.\u001b[0m\u001b[0m_engine\u001b[0m\u001b[1;33m.\u001b[0m\u001b[0mget_loc\u001b[0m\u001b[1;33m(\u001b[0m\u001b[0mcasted_key\u001b[0m\u001b[1;33m)\u001b[0m\u001b[1;33m\u001b[0m\u001b[1;33m\u001b[0m\u001b[0m\n\u001b[0m\u001b[0;32m   3362\u001b[0m             \u001b[1;32mexcept\u001b[0m \u001b[0mKeyError\u001b[0m \u001b[1;32mas\u001b[0m \u001b[0merr\u001b[0m\u001b[1;33m:\u001b[0m\u001b[1;33m\u001b[0m\u001b[1;33m\u001b[0m\u001b[0m\n",
      "\u001b[1;32mC:\\ProgramData\\Anaconda3\\lib\\site-packages\\pandas\\_libs\\index.pyx\u001b[0m in \u001b[0;36mpandas._libs.index.IndexEngine.get_loc\u001b[1;34m()\u001b[0m\n",
      "\u001b[1;32mC:\\ProgramData\\Anaconda3\\lib\\site-packages\\pandas\\_libs\\index.pyx\u001b[0m in \u001b[0;36mpandas._libs.index.IndexEngine.get_loc\u001b[1;34m()\u001b[0m\n",
      "\u001b[1;32mpandas\\_libs\\hashtable_class_helper.pxi\u001b[0m in \u001b[0;36mpandas._libs.hashtable.Int64HashTable.get_item\u001b[1;34m()\u001b[0m\n",
      "\u001b[1;32mpandas\\_libs\\hashtable_class_helper.pxi\u001b[0m in \u001b[0;36mpandas._libs.hashtable.Int64HashTable.get_item\u001b[1;34m()\u001b[0m\n",
      "\u001b[1;31mKeyError\u001b[0m: 686",
      "\nThe above exception was the direct cause of the following exception:\n",
      "\u001b[1;31mKeyError\u001b[0m                                  Traceback (most recent call last)",
      "\u001b[1;32m~\\AppData\\Local\\Temp/ipykernel_1152/3056127208.py\u001b[0m in \u001b[0;36m<module>\u001b[1;34m\u001b[0m\n\u001b[1;32m----> 1\u001b[1;33m \u001b[0mreview_sent\u001b[0m\u001b[1;33m(\u001b[0m\u001b[0mdf\u001b[0m\u001b[1;33m[\u001b[0m\u001b[1;34m'sentence'\u001b[0m\u001b[1;33m]\u001b[0m\u001b[1;33m)\u001b[0m\u001b[1;33m\u001b[0m\u001b[1;33m\u001b[0m\u001b[0m\n\u001b[0m",
      "\u001b[1;32m~\\AppData\\Local\\Temp/ipykernel_1152/1834078644.py\u001b[0m in \u001b[0;36mreview_sent\u001b[1;34m(text)\u001b[0m\n\u001b[0;32m      7\u001b[0m \u001b[1;32mdef\u001b[0m \u001b[0mreview_sent\u001b[0m\u001b[1;33m(\u001b[0m\u001b[0mtext\u001b[0m\u001b[1;33m)\u001b[0m\u001b[1;33m:\u001b[0m\u001b[1;33m\u001b[0m\u001b[1;33m\u001b[0m\u001b[0m\n\u001b[0;32m      8\u001b[0m     \u001b[1;32mfor\u001b[0m \u001b[0mi\u001b[0m \u001b[1;32min\u001b[0m \u001b[0mrange\u001b[0m\u001b[1;33m(\u001b[0m\u001b[0mlen\u001b[0m\u001b[1;33m(\u001b[0m\u001b[0mtext\u001b[0m\u001b[1;33m)\u001b[0m\u001b[1;33m)\u001b[0m\u001b[1;33m:\u001b[0m\u001b[1;33m\u001b[0m\u001b[1;33m\u001b[0m\u001b[0m\n\u001b[1;32m----> 9\u001b[1;33m         \u001b[0mspelled_sent\u001b[0m \u001b[1;33m=\u001b[0m \u001b[0mspell_checker\u001b[0m\u001b[1;33m.\u001b[0m\u001b[0mcheck\u001b[0m\u001b[1;33m(\u001b[0m\u001b[0mtext\u001b[0m\u001b[1;33m[\u001b[0m\u001b[0mi\u001b[0m\u001b[1;33m]\u001b[0m\u001b[1;33m)\u001b[0m\u001b[1;33m\u001b[0m\u001b[1;33m\u001b[0m\u001b[0m\n\u001b[0m\u001b[0;32m     10\u001b[0m         \u001b[0mhanspell_sent\u001b[0m \u001b[1;33m=\u001b[0m \u001b[0mspelled_sent\u001b[0m\u001b[1;33m.\u001b[0m\u001b[0mchecked\u001b[0m\u001b[1;33m\u001b[0m\u001b[1;33m\u001b[0m\u001b[0m\n\u001b[0;32m     11\u001b[0m         \u001b[0msent\u001b[0m \u001b[1;33m=\u001b[0m \u001b[0mhanspell_sent\u001b[0m\u001b[1;33m\u001b[0m\u001b[1;33m\u001b[0m\u001b[0m\n",
      "\u001b[1;32mC:\\ProgramData\\Anaconda3\\lib\\site-packages\\pandas\\core\\series.py\u001b[0m in \u001b[0;36m__getitem__\u001b[1;34m(self, key)\u001b[0m\n\u001b[0;32m    940\u001b[0m \u001b[1;33m\u001b[0m\u001b[0m\n\u001b[0;32m    941\u001b[0m         \u001b[1;32melif\u001b[0m \u001b[0mkey_is_scalar\u001b[0m\u001b[1;33m:\u001b[0m\u001b[1;33m\u001b[0m\u001b[1;33m\u001b[0m\u001b[0m\n\u001b[1;32m--> 942\u001b[1;33m             \u001b[1;32mreturn\u001b[0m \u001b[0mself\u001b[0m\u001b[1;33m.\u001b[0m\u001b[0m_get_value\u001b[0m\u001b[1;33m(\u001b[0m\u001b[0mkey\u001b[0m\u001b[1;33m)\u001b[0m\u001b[1;33m\u001b[0m\u001b[1;33m\u001b[0m\u001b[0m\n\u001b[0m\u001b[0;32m    943\u001b[0m \u001b[1;33m\u001b[0m\u001b[0m\n\u001b[0;32m    944\u001b[0m         \u001b[1;32mif\u001b[0m \u001b[0mis_hashable\u001b[0m\u001b[1;33m(\u001b[0m\u001b[0mkey\u001b[0m\u001b[1;33m)\u001b[0m\u001b[1;33m:\u001b[0m\u001b[1;33m\u001b[0m\u001b[1;33m\u001b[0m\u001b[0m\n",
      "\u001b[1;32mC:\\ProgramData\\Anaconda3\\lib\\site-packages\\pandas\\core\\series.py\u001b[0m in \u001b[0;36m_get_value\u001b[1;34m(self, label, takeable)\u001b[0m\n\u001b[0;32m   1049\u001b[0m \u001b[1;33m\u001b[0m\u001b[0m\n\u001b[0;32m   1050\u001b[0m         \u001b[1;31m# Similar to Index.get_value, but we do not fall back to positional\u001b[0m\u001b[1;33m\u001b[0m\u001b[1;33m\u001b[0m\u001b[0m\n\u001b[1;32m-> 1051\u001b[1;33m         \u001b[0mloc\u001b[0m \u001b[1;33m=\u001b[0m \u001b[0mself\u001b[0m\u001b[1;33m.\u001b[0m\u001b[0mindex\u001b[0m\u001b[1;33m.\u001b[0m\u001b[0mget_loc\u001b[0m\u001b[1;33m(\u001b[0m\u001b[0mlabel\u001b[0m\u001b[1;33m)\u001b[0m\u001b[1;33m\u001b[0m\u001b[1;33m\u001b[0m\u001b[0m\n\u001b[0m\u001b[0;32m   1052\u001b[0m         \u001b[1;32mreturn\u001b[0m \u001b[0mself\u001b[0m\u001b[1;33m.\u001b[0m\u001b[0mindex\u001b[0m\u001b[1;33m.\u001b[0m\u001b[0m_get_values_for_loc\u001b[0m\u001b[1;33m(\u001b[0m\u001b[0mself\u001b[0m\u001b[1;33m,\u001b[0m \u001b[0mloc\u001b[0m\u001b[1;33m,\u001b[0m \u001b[0mlabel\u001b[0m\u001b[1;33m)\u001b[0m\u001b[1;33m\u001b[0m\u001b[1;33m\u001b[0m\u001b[0m\n\u001b[0;32m   1053\u001b[0m \u001b[1;33m\u001b[0m\u001b[0m\n",
      "\u001b[1;32mC:\\ProgramData\\Anaconda3\\lib\\site-packages\\pandas\\core\\indexes\\base.py\u001b[0m in \u001b[0;36mget_loc\u001b[1;34m(self, key, method, tolerance)\u001b[0m\n\u001b[0;32m   3361\u001b[0m                 \u001b[1;32mreturn\u001b[0m \u001b[0mself\u001b[0m\u001b[1;33m.\u001b[0m\u001b[0m_engine\u001b[0m\u001b[1;33m.\u001b[0m\u001b[0mget_loc\u001b[0m\u001b[1;33m(\u001b[0m\u001b[0mcasted_key\u001b[0m\u001b[1;33m)\u001b[0m\u001b[1;33m\u001b[0m\u001b[1;33m\u001b[0m\u001b[0m\n\u001b[0;32m   3362\u001b[0m             \u001b[1;32mexcept\u001b[0m \u001b[0mKeyError\u001b[0m \u001b[1;32mas\u001b[0m \u001b[0merr\u001b[0m\u001b[1;33m:\u001b[0m\u001b[1;33m\u001b[0m\u001b[1;33m\u001b[0m\u001b[0m\n\u001b[1;32m-> 3363\u001b[1;33m                 \u001b[1;32mraise\u001b[0m \u001b[0mKeyError\u001b[0m\u001b[1;33m(\u001b[0m\u001b[0mkey\u001b[0m\u001b[1;33m)\u001b[0m \u001b[1;32mfrom\u001b[0m \u001b[0merr\u001b[0m\u001b[1;33m\u001b[0m\u001b[1;33m\u001b[0m\u001b[0m\n\u001b[0m\u001b[0;32m   3364\u001b[0m \u001b[1;33m\u001b[0m\u001b[0m\n\u001b[0;32m   3365\u001b[0m         \u001b[1;32mif\u001b[0m \u001b[0mis_scalar\u001b[0m\u001b[1;33m(\u001b[0m\u001b[0mkey\u001b[0m\u001b[1;33m)\u001b[0m \u001b[1;32mand\u001b[0m \u001b[0misna\u001b[0m\u001b[1;33m(\u001b[0m\u001b[0mkey\u001b[0m\u001b[1;33m)\u001b[0m \u001b[1;32mand\u001b[0m \u001b[1;32mnot\u001b[0m \u001b[0mself\u001b[0m\u001b[1;33m.\u001b[0m\u001b[0mhasnans\u001b[0m\u001b[1;33m:\u001b[0m\u001b[1;33m\u001b[0m\u001b[1;33m\u001b[0m\u001b[0m\n",
      "\u001b[1;31mKeyError\u001b[0m: 686"
     ]
    }
   ],
   "source": [
    "review_sent(df['sentence'])"
   ]
  },
  {
   "cell_type": "code",
   "execution_count": 47,
   "id": "5314d58b",
   "metadata": {},
   "outputs": [
    {
     "ename": "ValueError",
     "evalue": "Length of values (0) does not match length of index (209365)",
     "output_type": "error",
     "traceback": [
      "\u001b[1;31m---------------------------------------------------------------------------\u001b[0m",
      "\u001b[1;31mValueError\u001b[0m                                Traceback (most recent call last)",
      "\u001b[1;32m~\\AppData\\Local\\Temp/ipykernel_1152/1787317309.py\u001b[0m in \u001b[0;36m<module>\u001b[1;34m\u001b[0m\n\u001b[1;32m----> 1\u001b[1;33m \u001b[0mdf\u001b[0m\u001b[1;33m[\u001b[0m\u001b[1;34m'sentence'\u001b[0m\u001b[1;33m]\u001b[0m \u001b[1;33m=\u001b[0m \u001b[0mnew_sent\u001b[0m\u001b[1;33m\u001b[0m\u001b[1;33m\u001b[0m\u001b[0m\n\u001b[0m",
      "\u001b[1;32mC:\\ProgramData\\Anaconda3\\lib\\site-packages\\pandas\\core\\frame.py\u001b[0m in \u001b[0;36m__setitem__\u001b[1;34m(self, key, value)\u001b[0m\n\u001b[0;32m   3610\u001b[0m         \u001b[1;32melse\u001b[0m\u001b[1;33m:\u001b[0m\u001b[1;33m\u001b[0m\u001b[1;33m\u001b[0m\u001b[0m\n\u001b[0;32m   3611\u001b[0m             \u001b[1;31m# set column\u001b[0m\u001b[1;33m\u001b[0m\u001b[1;33m\u001b[0m\u001b[0m\n\u001b[1;32m-> 3612\u001b[1;33m             \u001b[0mself\u001b[0m\u001b[1;33m.\u001b[0m\u001b[0m_set_item\u001b[0m\u001b[1;33m(\u001b[0m\u001b[0mkey\u001b[0m\u001b[1;33m,\u001b[0m \u001b[0mvalue\u001b[0m\u001b[1;33m)\u001b[0m\u001b[1;33m\u001b[0m\u001b[1;33m\u001b[0m\u001b[0m\n\u001b[0m\u001b[0;32m   3613\u001b[0m \u001b[1;33m\u001b[0m\u001b[0m\n\u001b[0;32m   3614\u001b[0m     \u001b[1;32mdef\u001b[0m \u001b[0m_setitem_slice\u001b[0m\u001b[1;33m(\u001b[0m\u001b[0mself\u001b[0m\u001b[1;33m,\u001b[0m \u001b[0mkey\u001b[0m\u001b[1;33m:\u001b[0m \u001b[0mslice\u001b[0m\u001b[1;33m,\u001b[0m \u001b[0mvalue\u001b[0m\u001b[1;33m)\u001b[0m\u001b[1;33m:\u001b[0m\u001b[1;33m\u001b[0m\u001b[1;33m\u001b[0m\u001b[0m\n",
      "\u001b[1;32mC:\\ProgramData\\Anaconda3\\lib\\site-packages\\pandas\\core\\frame.py\u001b[0m in \u001b[0;36m_set_item\u001b[1;34m(self, key, value)\u001b[0m\n\u001b[0;32m   3782\u001b[0m         \u001b[0mensure\u001b[0m \u001b[0mhomogeneity\u001b[0m\u001b[1;33m.\u001b[0m\u001b[1;33m\u001b[0m\u001b[1;33m\u001b[0m\u001b[0m\n\u001b[0;32m   3783\u001b[0m         \"\"\"\n\u001b[1;32m-> 3784\u001b[1;33m         \u001b[0mvalue\u001b[0m \u001b[1;33m=\u001b[0m \u001b[0mself\u001b[0m\u001b[1;33m.\u001b[0m\u001b[0m_sanitize_column\u001b[0m\u001b[1;33m(\u001b[0m\u001b[0mvalue\u001b[0m\u001b[1;33m)\u001b[0m\u001b[1;33m\u001b[0m\u001b[1;33m\u001b[0m\u001b[0m\n\u001b[0m\u001b[0;32m   3785\u001b[0m \u001b[1;33m\u001b[0m\u001b[0m\n\u001b[0;32m   3786\u001b[0m         if (\n",
      "\u001b[1;32mC:\\ProgramData\\Anaconda3\\lib\\site-packages\\pandas\\core\\frame.py\u001b[0m in \u001b[0;36m_sanitize_column\u001b[1;34m(self, value)\u001b[0m\n\u001b[0;32m   4507\u001b[0m \u001b[1;33m\u001b[0m\u001b[0m\n\u001b[0;32m   4508\u001b[0m         \u001b[1;32mif\u001b[0m \u001b[0mis_list_like\u001b[0m\u001b[1;33m(\u001b[0m\u001b[0mvalue\u001b[0m\u001b[1;33m)\u001b[0m\u001b[1;33m:\u001b[0m\u001b[1;33m\u001b[0m\u001b[1;33m\u001b[0m\u001b[0m\n\u001b[1;32m-> 4509\u001b[1;33m             \u001b[0mcom\u001b[0m\u001b[1;33m.\u001b[0m\u001b[0mrequire_length_match\u001b[0m\u001b[1;33m(\u001b[0m\u001b[0mvalue\u001b[0m\u001b[1;33m,\u001b[0m \u001b[0mself\u001b[0m\u001b[1;33m.\u001b[0m\u001b[0mindex\u001b[0m\u001b[1;33m)\u001b[0m\u001b[1;33m\u001b[0m\u001b[1;33m\u001b[0m\u001b[0m\n\u001b[0m\u001b[0;32m   4510\u001b[0m         \u001b[1;32mreturn\u001b[0m \u001b[0msanitize_array\u001b[0m\u001b[1;33m(\u001b[0m\u001b[0mvalue\u001b[0m\u001b[1;33m,\u001b[0m \u001b[0mself\u001b[0m\u001b[1;33m.\u001b[0m\u001b[0mindex\u001b[0m\u001b[1;33m,\u001b[0m \u001b[0mcopy\u001b[0m\u001b[1;33m=\u001b[0m\u001b[1;32mTrue\u001b[0m\u001b[1;33m,\u001b[0m \u001b[0mallow_2d\u001b[0m\u001b[1;33m=\u001b[0m\u001b[1;32mTrue\u001b[0m\u001b[1;33m)\u001b[0m\u001b[1;33m\u001b[0m\u001b[1;33m\u001b[0m\u001b[0m\n\u001b[0;32m   4511\u001b[0m \u001b[1;33m\u001b[0m\u001b[0m\n",
      "\u001b[1;32mC:\\ProgramData\\Anaconda3\\lib\\site-packages\\pandas\\core\\common.py\u001b[0m in \u001b[0;36mrequire_length_match\u001b[1;34m(data, index)\u001b[0m\n\u001b[0;32m    529\u001b[0m     \"\"\"\n\u001b[0;32m    530\u001b[0m     \u001b[1;32mif\u001b[0m \u001b[0mlen\u001b[0m\u001b[1;33m(\u001b[0m\u001b[0mdata\u001b[0m\u001b[1;33m)\u001b[0m \u001b[1;33m!=\u001b[0m \u001b[0mlen\u001b[0m\u001b[1;33m(\u001b[0m\u001b[0mindex\u001b[0m\u001b[1;33m)\u001b[0m\u001b[1;33m:\u001b[0m\u001b[1;33m\u001b[0m\u001b[1;33m\u001b[0m\u001b[0m\n\u001b[1;32m--> 531\u001b[1;33m         raise ValueError(\n\u001b[0m\u001b[0;32m    532\u001b[0m             \u001b[1;34m\"Length of values \"\u001b[0m\u001b[1;33m\u001b[0m\u001b[1;33m\u001b[0m\u001b[0m\n\u001b[0;32m    533\u001b[0m             \u001b[1;34mf\"({len(data)}) \"\u001b[0m\u001b[1;33m\u001b[0m\u001b[1;33m\u001b[0m\u001b[0m\n",
      "\u001b[1;31mValueError\u001b[0m: Length of values (0) does not match length of index (209365)"
     ]
    }
   ],
   "source": [
    "df['sentence'] = new_sent"
   ]
  },
  {
   "cell_type": "code",
   "execution_count": 52,
   "id": "8a4f378f",
   "metadata": {},
   "outputs": [
    {
     "data": {
      "text/html": [
       "<div>\n",
       "<style scoped>\n",
       "    .dataframe tbody tr th:only-of-type {\n",
       "        vertical-align: middle;\n",
       "    }\n",
       "\n",
       "    .dataframe tbody tr th {\n",
       "        vertical-align: top;\n",
       "    }\n",
       "\n",
       "    .dataframe thead th {\n",
       "        text-align: right;\n",
       "    }\n",
       "</style>\n",
       "<table border=\"1\" class=\"dataframe\">\n",
       "  <thead>\n",
       "    <tr style=\"text-align: right;\">\n",
       "      <th></th>\n",
       "      <th>sentence</th>\n",
       "      <th>label</th>\n",
       "    </tr>\n",
       "  </thead>\n",
       "  <tbody>\n",
       "    <tr>\n",
       "      <th>0</th>\n",
       "      <td>믿고보는 마블스토리</td>\n",
       "      <td>1</td>\n",
       "    </tr>\n",
       "    <tr>\n",
       "      <th>1</th>\n",
       "      <td>액션을 기대하고 봤다면 반대 연기를 기대하고 봤다면 끝까지</td>\n",
       "      <td>0</td>\n",
       "    </tr>\n",
       "    <tr>\n",
       "      <th>2</th>\n",
       "      <td>사전정보 없이 봤는데 러닝타임 내내 시간 가는 줄 모르게 봤습니다</td>\n",
       "      <td>1</td>\n",
       "    </tr>\n",
       "    <tr>\n",
       "      <th>3</th>\n",
       "      <td>미쳤다 내 시간 순삭 당하고 옴</td>\n",
       "      <td>1</td>\n",
       "    </tr>\n",
       "    <tr>\n",
       "      <th>4</th>\n",
       "      <td>이 영화는 한마디로 헤리포터제다이스타워즈호빗스타트렉  가지의 영화를 합친것 보다 배...</td>\n",
       "      <td>1</td>\n",
       "    </tr>\n",
       "    <tr>\n",
       "      <th>...</th>\n",
       "      <td>...</td>\n",
       "      <td>...</td>\n",
       "    </tr>\n",
       "    <tr>\n",
       "      <th>209360</th>\n",
       "      <td>오랜만에 평점 로긴했네 킹왕짱 쌈뽕한 영화를 만났습니다 강렬하게 육쾌함</td>\n",
       "      <td>1</td>\n",
       "    </tr>\n",
       "    <tr>\n",
       "      <th>209361</th>\n",
       "      <td>의지 박약들이나 하는거다 탈영은 일단 주인공 김대희 닮았고 이등병 찐따</td>\n",
       "      <td>0</td>\n",
       "    </tr>\n",
       "    <tr>\n",
       "      <th>209362</th>\n",
       "      <td>그림도 좋고 완성도도 높았지만 보는 내내 불안하게 만든다</td>\n",
       "      <td>0</td>\n",
       "    </tr>\n",
       "    <tr>\n",
       "      <th>209363</th>\n",
       "      <td>절대 봐서는 안 될 영화 재미도 없고 기분만 잡치고 한 세트장에서 다 해먹네</td>\n",
       "      <td>0</td>\n",
       "    </tr>\n",
       "    <tr>\n",
       "      <th>209364</th>\n",
       "      <td>마무리는 또 왜이래</td>\n",
       "      <td>0</td>\n",
       "    </tr>\n",
       "  </tbody>\n",
       "</table>\n",
       "<p>209365 rows × 2 columns</p>\n",
       "</div>"
      ],
      "text/plain": [
       "                                                 sentence  label\n",
       "0                                             믿고보는 마블스토리       1\n",
       "1                        액션을 기대하고 봤다면 반대 연기를 기대하고 봤다면 끝까지      0\n",
       "2                    사전정보 없이 봤는데 러닝타임 내내 시간 가는 줄 모르게 봤습니다      1\n",
       "3                                       미쳤다 내 시간 순삭 당하고 옴      1\n",
       "4       이 영화는 한마디로 헤리포터제다이스타워즈호빗스타트렉  가지의 영화를 합친것 보다 배...      1\n",
       "...                                                   ...    ...\n",
       "209360            오랜만에 평점 로긴했네 킹왕짱 쌈뽕한 영화를 만났습니다 강렬하게 육쾌함      1\n",
       "209361           의지 박약들이나 하는거다 탈영은 일단 주인공 김대희 닮았고 이등병 찐따       0\n",
       "209362                    그림도 좋고 완성도도 높았지만 보는 내내 불안하게 만든다      0\n",
       "209363         절대 봐서는 안 될 영화 재미도 없고 기분만 잡치고 한 세트장에서 다 해먹네      0\n",
       "209364                                         마무리는 또 왜이래      0\n",
       "\n",
       "[209365 rows x 2 columns]"
      ]
     },
     "execution_count": 52,
     "metadata": {},
     "output_type": "execute_result"
    }
   ],
   "source": [
    "df"
   ]
  },
  {
   "cell_type": "code",
   "execution_count": 53,
   "id": "346463d5",
   "metadata": {},
   "outputs": [],
   "source": [
    "#완성된 데이터파일 csv파일로 저장하기\n",
    "df.to_csv('review_preprocessing_ver2.csv',index=False)"
   ]
  },
  {
   "cell_type": "markdown",
   "id": "dd70dd20",
   "metadata": {},
   "source": [
    "## 불용어 지정"
   ]
  },
  {
   "cell_type": "code",
   "execution_count": 33,
   "id": "4b7e0c55",
   "metadata": {},
   "outputs": [],
   "source": [
    "#불용어지정하기 ->소연\n",
    "\n",
    "#불용어지정\n",
    "stopwords = ['의','가','이','은','들','는','좀','잘','걍','과','도','를','으로','자','에','와','한','하다','요','이다','-']\n",
    "\n",
    "#형태소분석기 정하기"
   ]
  },
  {
   "cell_type": "markdown",
   "id": "47a124c3",
   "metadata": {},
   "source": [
    "## 형태소분석기_konlpy"
   ]
  },
  {
   "cell_type": "code",
   "execution_count": 83,
   "id": "c6cfa4a6",
   "metadata": {},
   "outputs": [],
   "source": [
    "from konlpy.tag import Kkma, Komoran, Okt\n",
    "\n",
    "#mec = Mecab()\n",
    "okt = Okt()\n",
    "kkm = Kkma()\n",
    "kom = Komoran()"
   ]
  },
  {
   "cell_type": "code",
   "execution_count": 84,
   "id": "385a7ace",
   "metadata": {},
   "outputs": [
    {
     "name": "stdout",
     "output_type": "stream",
     "text": [
      "0.6.0\n"
     ]
    }
   ],
   "source": [
    "import konlpy\n",
    "print(konlpy.__version__)\n"
   ]
  },
  {
   "cell_type": "code",
   "execution_count": null,
   "id": "cd8b4941",
   "metadata": {},
   "outputs": [],
   "source": [
    "#io와 pandas 모듈 import\n",
    "import io\n",
    "\n",
    "\n",
    "from konlpy.tag import Kkma\n",
    "from konlpy.utils import pprint"
   ]
  },
  {
   "cell_type": "code",
   "execution_count": null,
   "id": "b6966c63",
   "metadata": {},
   "outputs": [],
   "source": []
  }
 ],
 "metadata": {
  "kernelspec": {
   "display_name": "Python 3 (ipykernel)",
   "language": "python",
   "name": "python3"
  },
  "language_info": {
   "codemirror_mode": {
    "name": "ipython",
    "version": 3
   },
   "file_extension": ".py",
   "mimetype": "text/x-python",
   "name": "python",
   "nbconvert_exporter": "python",
   "pygments_lexer": "ipython3",
   "version": "3.9.7"
  }
 },
 "nbformat": 4,
 "nbformat_minor": 5
}
