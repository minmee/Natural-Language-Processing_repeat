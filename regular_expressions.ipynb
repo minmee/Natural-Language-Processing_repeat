{
 "cells": [
  {
   "cell_type": "code",
   "execution_count": 6,
   "id": "9afed863",
   "metadata": {},
   "outputs": [],
   "source": [
    "# text = \"에이전트 전화번호는 555-999-1234. 연락 바랍니다.\"\n",
    "text = \"The agent's phone number is 555-999-1234. Call soon!\"\n"
   ]
  },
  {
   "cell_type": "code",
   "execution_count": 7,
   "id": "de915d35",
   "metadata": {},
   "outputs": [
    {
     "data": {
      "text/plain": [
       "True"
      ]
     },
     "execution_count": 7,
     "metadata": {},
     "output_type": "execute_result"
    }
   ],
   "source": [
    "'phone' in text"
   ]
  },
  {
   "cell_type": "code",
   "execution_count": 8,
   "id": "0d6ab34e",
   "metadata": {},
   "outputs": [],
   "source": [
    "import re"
   ]
  },
  {
   "cell_type": "code",
   "execution_count": 12,
   "id": "b07d21fc",
   "metadata": {},
   "outputs": [],
   "source": [
    "pattern = 'phone'\n",
    "match = re.search(pattern, text)"
   ]
  },
  {
   "cell_type": "code",
   "execution_count": 14,
   "id": "fc25416c",
   "metadata": {},
   "outputs": [
    {
     "data": {
      "text/plain": [
       "<re.Match object; span=(12, 17), match='phone'>"
      ]
     },
     "execution_count": 14,
     "metadata": {},
     "output_type": "execute_result"
    }
   ],
   "source": [
    "match"
   ]
  },
  {
   "cell_type": "code",
   "execution_count": 15,
   "id": "19985b8c",
   "metadata": {},
   "outputs": [
    {
     "data": {
      "text/plain": [
       "(12, 17)"
      ]
     },
     "execution_count": 15,
     "metadata": {},
     "output_type": "execute_result"
    }
   ],
   "source": [
    "match.span()"
   ]
  },
  {
   "cell_type": "code",
   "execution_count": 16,
   "id": "9b234056",
   "metadata": {},
   "outputs": [
    {
     "name": "stdout",
     "output_type": "stream",
     "text": [
      "start: 12, end: 17\n"
     ]
    }
   ],
   "source": [
    "print(f\"start: {match.start()}, end: {match.end()}\")"
   ]
  },
  {
   "cell_type": "code",
   "execution_count": 17,
   "id": "37847014",
   "metadata": {},
   "outputs": [],
   "source": [
    "text = \"my phone is a new phone\""
   ]
  },
  {
   "cell_type": "code",
   "execution_count": 18,
   "id": "daf7f1a0",
   "metadata": {},
   "outputs": [],
   "source": [
    "# match, search, findall "
   ]
  },
  {
   "cell_type": "code",
   "execution_count": 19,
   "id": "287e9e5b",
   "metadata": {},
   "outputs": [],
   "source": [
    "match = re.search(\"phone\", text)"
   ]
  },
  {
   "cell_type": "code",
   "execution_count": 20,
   "id": "0f53d779",
   "metadata": {},
   "outputs": [],
   "source": [
    "matches = re.findall(\"phone\", text)"
   ]
  },
  {
   "cell_type": "code",
   "execution_count": 21,
   "id": "7ac56f1a",
   "metadata": {},
   "outputs": [
    {
     "data": {
      "text/plain": [
       "['phone', 'phone']"
      ]
     },
     "execution_count": 21,
     "metadata": {},
     "output_type": "execute_result"
    }
   ],
   "source": [
    "matches"
   ]
  },
  {
   "cell_type": "code",
   "execution_count": 22,
   "id": "0074ea92",
   "metadata": {},
   "outputs": [
    {
     "data": {
      "text/plain": [
       "2"
      ]
     },
     "execution_count": 22,
     "metadata": {},
     "output_type": "execute_result"
    }
   ],
   "source": [
    "len(matches)"
   ]
  },
  {
   "cell_type": "code",
   "execution_count": 23,
   "id": "61b75769",
   "metadata": {},
   "outputs": [
    {
     "name": "stdout",
     "output_type": "stream",
     "text": [
      "(3, 8)\n",
      "(18, 23)\n"
     ]
    }
   ],
   "source": [
    "for match in re.finditer(\"phone\", text):\n",
    "    print(match.span())"
   ]
  },
  {
   "cell_type": "code",
   "execution_count": 24,
   "id": "5c1f2bd0",
   "metadata": {},
   "outputs": [
    {
     "data": {
      "text/plain": [
       "'phone'"
      ]
     },
     "execution_count": 24,
     "metadata": {},
     "output_type": "execute_result"
    }
   ],
   "source": [
    "match.group()"
   ]
  },
  {
   "cell_type": "code",
   "execution_count": 25,
   "id": "200291a4",
   "metadata": {},
   "outputs": [],
   "source": [
    "# \\d, \\w, \\s \\D, \\W, \\S"
   ]
  },
  {
   "cell_type": "code",
   "execution_count": 26,
   "id": "bd37b6e8",
   "metadata": {},
   "outputs": [],
   "source": [
    "text = \"My telephone number is 010-3333-4444\""
   ]
  },
  {
   "cell_type": "code",
   "execution_count": 28,
   "id": "c74eafdb",
   "metadata": {},
   "outputs": [],
   "source": [
    "# 전화번호 검색 \n",
    "p = re.compile(r\"\\d\\d\\d-\\d\\d\\d\\d-\\d\\d\\d\\d\")"
   ]
  },
  {
   "cell_type": "code",
   "execution_count": 29,
   "id": "1adfaef7",
   "metadata": {},
   "outputs": [],
   "source": [
    "phone = re.search(p, text)"
   ]
  },
  {
   "cell_type": "code",
   "execution_count": 30,
   "id": "11a530ef",
   "metadata": {},
   "outputs": [
    {
     "data": {
      "text/plain": [
       "'010-3333-4444'"
      ]
     },
     "execution_count": 30,
     "metadata": {},
     "output_type": "execute_result"
    }
   ],
   "source": [
    "phone.group()"
   ]
  },
  {
   "cell_type": "code",
   "execution_count": 31,
   "id": "0e5c886f",
   "metadata": {},
   "outputs": [],
   "source": [
    "# +: 1~, *: 0~, {3}: 3자리, {2,4}:2~4wkfl, ?:0~1"
   ]
  },
  {
   "cell_type": "code",
   "execution_count": 32,
   "id": "161be153",
   "metadata": {},
   "outputs": [
    {
     "data": {
      "text/plain": [
       "<re.Match object; span=(23, 36), match='010-3333-4444'>"
      ]
     },
     "execution_count": 32,
     "metadata": {},
     "output_type": "execute_result"
    }
   ],
   "source": [
    "re.search(r'\\d{3}-\\d{4}-\\d{4}', text)"
   ]
  },
  {
   "cell_type": "code",
   "execution_count": 33,
   "id": "17d61455",
   "metadata": {},
   "outputs": [],
   "source": [
    "phone_pattern = re.compile(r'(\\d{3})-(\\d{4})-(\\d{4})')"
   ]
  },
  {
   "cell_type": "code",
   "execution_count": 34,
   "id": "505322a4",
   "metadata": {},
   "outputs": [],
   "source": [
    "results = re.search(phone_pattern, text)"
   ]
  },
  {
   "cell_type": "code",
   "execution_count": 36,
   "id": "fb2cc68e",
   "metadata": {},
   "outputs": [
    {
     "data": {
      "text/plain": [
       "'010-3333-4444'"
      ]
     },
     "execution_count": 36,
     "metadata": {},
     "output_type": "execute_result"
    }
   ],
   "source": [
    "results.group()"
   ]
  },
  {
   "cell_type": "code",
   "execution_count": 37,
   "id": "9c5e1a0a",
   "metadata": {},
   "outputs": [
    {
     "data": {
      "text/plain": [
       "'010'"
      ]
     },
     "execution_count": 37,
     "metadata": {},
     "output_type": "execute_result"
    }
   ],
   "source": [
    "results.group(1)"
   ]
  },
  {
   "cell_type": "code",
   "execution_count": 38,
   "id": "ca599289",
   "metadata": {},
   "outputs": [
    {
     "data": {
      "text/plain": [
       "'3333'"
      ]
     },
     "execution_count": 38,
     "metadata": {},
     "output_type": "execute_result"
    }
   ],
   "source": [
    "results.group(2)"
   ]
  },
  {
   "cell_type": "code",
   "execution_count": 39,
   "id": "912755be",
   "metadata": {},
   "outputs": [
    {
     "data": {
      "text/plain": [
       "'4444'"
      ]
     },
     "execution_count": 39,
     "metadata": {},
     "output_type": "execute_result"
    }
   ],
   "source": [
    "results.group(3)"
   ]
  },
  {
   "cell_type": "code",
   "execution_count": 40,
   "id": "c2f16349",
   "metadata": {},
   "outputs": [
    {
     "ename": "IndexError",
     "evalue": "no such group",
     "output_type": "error",
     "traceback": [
      "\u001b[0;31m---------------------------------------------------------------------------\u001b[0m",
      "\u001b[0;31mIndexError\u001b[0m                                Traceback (most recent call last)",
      "\u001b[0;32m/var/folders/g5/jlzp3hhs653_qdq2kmf35jbh0000gn/T/ipykernel_86114/1298700304.py\u001b[0m in \u001b[0;36m<module>\u001b[0;34m\u001b[0m\n\u001b[0;32m----> 1\u001b[0;31m \u001b[0mresults\u001b[0m\u001b[0;34m.\u001b[0m\u001b[0mgroup\u001b[0m\u001b[0;34m(\u001b[0m\u001b[0;36m4\u001b[0m\u001b[0;34m)\u001b[0m\u001b[0;34m\u001b[0m\u001b[0;34m\u001b[0m\u001b[0m\n\u001b[0m",
      "\u001b[0;31mIndexError\u001b[0m: no such group"
     ]
    }
   ],
   "source": [
    "results.group(4)"
   ]
  },
  {
   "cell_type": "markdown",
   "id": "160b7374",
   "metadata": {},
   "source": [
    "#### Or | "
   ]
  },
  {
   "cell_type": "code",
   "execution_count": 41,
   "id": "23089e6e",
   "metadata": {},
   "outputs": [
    {
     "data": {
      "text/plain": [
       "<re.Match object; span=(5, 8), match='man'>"
      ]
     },
     "execution_count": 41,
     "metadata": {},
     "output_type": "execute_result"
    }
   ],
   "source": [
    "re.search(r\"man|woman\", \"This man was here.\")"
   ]
  },
  {
   "cell_type": "code",
   "execution_count": 42,
   "id": "5fe89ac3",
   "metadata": {},
   "outputs": [
    {
     "data": {
      "text/plain": [
       "<re.Match object; span=(5, 10), match='woman'>"
      ]
     },
     "execution_count": 42,
     "metadata": {},
     "output_type": "execute_result"
    }
   ],
   "source": [
    "re.search(r\"man|woman\", \"This woman was here.\")"
   ]
  },
  {
   "cell_type": "markdown",
   "id": "e40f6a6f",
   "metadata": {},
   "source": [
    "#### Wildcard (.)"
   ]
  },
  {
   "cell_type": "code",
   "execution_count": 43,
   "id": "32345093",
   "metadata": {},
   "outputs": [
    {
     "data": {
      "text/plain": [
       "['cat', 'hat', 'sat']"
      ]
     },
     "execution_count": 43,
     "metadata": {},
     "output_type": "execute_result"
    }
   ],
   "source": [
    "re.findall(r\".at\", \"The cat in the hat sat here.\")"
   ]
  },
  {
   "cell_type": "code",
   "execution_count": 44,
   "id": "f72f2e5b",
   "metadata": {},
   "outputs": [
    {
     "data": {
      "text/plain": [
       "['bat', 'lat']"
      ]
     },
     "execution_count": 44,
     "metadata": {},
     "output_type": "execute_result"
    }
   ],
   "source": [
    "re.findall(r\".at\", \"The bat went splat\")"
   ]
  },
  {
   "cell_type": "code",
   "execution_count": 45,
   "id": "b3c4edea",
   "metadata": {},
   "outputs": [
    {
     "data": {
      "text/plain": [
       "['e bat', 'splat']"
      ]
     },
     "execution_count": 45,
     "metadata": {},
     "output_type": "execute_result"
    }
   ],
   "source": [
    "re.findall(r\"...at\", \"The bat went splat\")"
   ]
  },
  {
   "cell_type": "code",
   "execution_count": 46,
   "id": "7e217322",
   "metadata": {},
   "outputs": [
    {
     "data": {
      "text/plain": [
       "['bat', 'splat']"
      ]
     },
     "execution_count": 46,
     "metadata": {},
     "output_type": "execute_result"
    }
   ],
   "source": [
    "# bat, splat만 추출\n",
    "re.findall(r\"\\S+at\", \"The bat went splat\")"
   ]
  },
  {
   "cell_type": "markdown",
   "id": "ceecf8f7",
   "metadata": {},
   "source": [
    "#### Starts with and Ends with"
   ]
  },
  {
   "cell_type": "code",
   "execution_count": 47,
   "id": "de341e26",
   "metadata": {},
   "outputs": [
    {
     "data": {
      "text/plain": [
       "['2']"
      ]
     },
     "execution_count": 47,
     "metadata": {},
     "output_type": "execute_result"
    }
   ],
   "source": [
    "re.findall(r\"\\d$\", \"This ends with a number 2\")"
   ]
  },
  {
   "cell_type": "code",
   "execution_count": 48,
   "id": "8ea6f490",
   "metadata": {},
   "outputs": [
    {
     "data": {
      "text/plain": [
       "['1']"
      ]
     },
     "execution_count": 48,
     "metadata": {},
     "output_type": "execute_result"
    }
   ],
   "source": [
    "re.findall(r\"^\\d\", \"1 is the first number\")"
   ]
  },
  {
   "cell_type": "code",
   "execution_count": 50,
   "id": "d5714f7a",
   "metadata": {},
   "outputs": [
    {
     "data": {
      "text/plain": [
       "['t',\n",
       " 'h',\n",
       " 'e',\n",
       " 'r',\n",
       " 'e',\n",
       " ' ',\n",
       " 'a',\n",
       " 'r',\n",
       " 'e',\n",
       " ' ',\n",
       " ' ',\n",
       " 'n',\n",
       " 'u',\n",
       " 'm',\n",
       " 'b',\n",
       " 'e',\n",
       " 'r',\n",
       " 's',\n",
       " ' ',\n",
       " ' ',\n",
       " 'i',\n",
       " 'n',\n",
       " 's',\n",
       " 'i',\n",
       " 'd',\n",
       " 'e',\n",
       " ' ',\n",
       " ' ',\n",
       " 't',\n",
       " 'h',\n",
       " 'i',\n",
       " 's',\n",
       " ' ',\n",
       " 's',\n",
       " 'e',\n",
       " 'n',\n",
       " 't',\n",
       " 'e',\n",
       " 'n',\n",
       " 'c',\n",
       " 'e',\n",
       " '.']"
      ]
     },
     "execution_count": 50,
     "metadata": {},
     "output_type": "execute_result"
    }
   ],
   "source": [
    "text = \"there are 3 numbers 34 inside 5 this sentence.\"\n",
    "re.findall(r\"[^\\d]\", text)"
   ]
  },
  {
   "cell_type": "code",
   "execution_count": 51,
   "id": "467e678d",
   "metadata": {},
   "outputs": [
    {
     "data": {
      "text/plain": [
       "['there are ', ' numbers ', ' inside ', ' this sentence.']"
      ]
     },
     "execution_count": 51,
     "metadata": {},
     "output_type": "execute_result"
    }
   ],
   "source": [
    "re.findall(r\"[^\\d]+\", text)"
   ]
  },
  {
   "cell_type": "markdown",
   "id": "8e4a0474",
   "metadata": {},
   "source": [
    "#### Brackets([ ]) for Grouping"
   ]
  },
  {
   "cell_type": "code",
   "execution_count": 52,
   "id": "3f23339e",
   "metadata": {},
   "outputs": [],
   "source": [
    "text = 'Only find the hypen-words in this sentence. But you do not know how long-ish they are'"
   ]
  },
  {
   "cell_type": "code",
   "execution_count": 54,
   "id": "3e49656d",
   "metadata": {},
   "outputs": [
    {
     "data": {
      "text/plain": [
       "['hypen-words', 'long-ish']"
      ]
     },
     "execution_count": 54,
     "metadata": {},
     "output_type": "execute_result"
    }
   ],
   "source": [
    "# Q1. hypen-words, long-ish 문자열 추출\n",
    "re.findall(r\"[\\w]+-[\\w]+\", text)"
   ]
  },
  {
   "cell_type": "code",
   "execution_count": 53,
   "id": "87ebd224",
   "metadata": {},
   "outputs": [],
   "source": [
    "textone = 'Hello, would you like some catfish?'\n",
    "texttwo = \"Hello, would you like to take a catnap?\"\n",
    "textthree = \"Hello, have you seen this caterpillar?\""
   ]
  },
  {
   "cell_type": "code",
   "execution_count": 55,
   "id": "1a114d4e",
   "metadata": {},
   "outputs": [
    {
     "data": {
      "text/plain": [
       "<re.Match object; span=(27, 34), match='catfish'>"
      ]
     },
     "execution_count": 55,
     "metadata": {},
     "output_type": "execute_result"
    }
   ],
   "source": [
    "# Q2. cat으로 시작하는 단어를 추출 (textone, texttwo, textthree)\n",
    "re.search(r\"cat(fish|nap|claw)\", textone)"
   ]
  },
  {
   "cell_type": "code",
   "execution_count": 56,
   "id": "4ddc4583",
   "metadata": {},
   "outputs": [
    {
     "data": {
      "text/plain": [
       "<re.Match object; span=(32, 38), match='catnap'>"
      ]
     },
     "execution_count": 56,
     "metadata": {},
     "output_type": "execute_result"
    }
   ],
   "source": [
    "re.search(r\"cat(fish|nap|claw)\", texttwo)"
   ]
  },
  {
   "cell_type": "code",
   "execution_count": 57,
   "id": "97ef51da",
   "metadata": {},
   "outputs": [],
   "source": [
    "re.search(r\"cat(fish|nap|claw)\", textthree)"
   ]
  },
  {
   "cell_type": "code",
   "execution_count": null,
   "id": "d31fa730",
   "metadata": {},
   "outputs": [],
   "source": []
  }
 ],
 "metadata": {
  "kernelspec": {
   "display_name": "Python 3 (ipykernel)",
   "language": "python",
   "name": "python3"
  },
  "language_info": {
   "codemirror_mode": {
    "name": "ipython",
    "version": 3
   },
   "file_extension": ".py",
   "mimetype": "text/x-python",
   "name": "python",
   "nbconvert_exporter": "python",
   "pygments_lexer": "ipython3",
   "version": "3.8.12"
  }
 },
 "nbformat": 4,
 "nbformat_minor": 5
}
