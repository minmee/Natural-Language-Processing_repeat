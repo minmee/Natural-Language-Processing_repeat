{
 "cells": [
  {
   "cell_type": "code",
   "execution_count": 1,
   "id": "df0795f4",
   "metadata": {},
   "outputs": [],
   "source": [
    "import PyPDF2"
   ]
  },
  {
   "cell_type": "code",
   "execution_count": 2,
   "id": "f4803f21",
   "metadata": {},
   "outputs": [],
   "source": [
    "f = open('KR_nlp.pdf', 'rb')"
   ]
  },
  {
   "cell_type": "code",
   "execution_count": 3,
   "id": "212bcade",
   "metadata": {},
   "outputs": [],
   "source": [
    "pdf_reader = PyPDF2.PdfFileReader(f)"
   ]
  },
  {
   "cell_type": "code",
   "execution_count": 4,
   "id": "c7c076b7",
   "metadata": {},
   "outputs": [
    {
     "data": {
      "text/plain": [
       "1"
      ]
     },
     "execution_count": 4,
     "metadata": {},
     "output_type": "execute_result"
    }
   ],
   "source": [
    "pdf_reader.numPages"
   ]
  },
  {
   "cell_type": "code",
   "execution_count": 5,
   "id": "baead8d2",
   "metadata": {},
   "outputs": [],
   "source": [
    "page_one = pdf_reader.getPage(0)"
   ]
  },
  {
   "cell_type": "code",
   "execution_count": 6,
   "id": "37676e38",
   "metadata": {},
   "outputs": [],
   "source": [
    "page_one_text = page_one.extractText()"
   ]
  },
  {
   "cell_type": "code",
   "execution_count": 7,
   "id": "e909cf54",
   "metadata": {},
   "outputs": [
    {
     "data": {
      "text/plain": [
       "'!\"#!$%!!\"#$!\"%&\"\\'()\"#$*+#\"!\"#!$%\"&\\'()*#!+,!!\"!-#!$%\"&\\'.()*#,!/01!-#!234!56789!:;!<=>!?@AB!CDE!F!GHI!\"JKL!?>!J2K,!/MNO1!PQ!RS!T!KUV$!!\"!-#!$%,!\"J!W3?!-#!?<!XYZ![\"K\\\\H!-#!!]>!\"JK,!-#^_!-#!231!`a!<b>!cJK,!-#!/N!_^_!\"d?!eV$!J24!fA!F^a!g=a!HJ>!h?!i@Kj!kl!<=^m!HJ>!h?!D@K,!Wna/!RS?V$!opqr%!&\\'!\\nstu%!YB!!v!Rw%!xY<D!yzt7{%!W|}!\\'()*+!\\n~!!†@?!?‡#NL!GV$!}…—!R–!!\"!-#!$%ZB!ƒK,!}…—!R–?⁄!#‹!W3!#›4!−—1!1‰!„f/!,}…—,“!R–K,!”4!1‰•V$!\"}…—,!„#!‘!!]’!‚!FH!GL%!™ﬁaﬂ“,!„#pV!Ł;!„f?V$#!op!qr!ŒŠZB!•Ÿ#1!r/#!ŽıZ!h?!D@•V$!}…—!R–!„=ZB!Ył’!œ,!šR;!‰~I#%!%!€#¡<!žw!~Z!1•!}…—!R–1!žw%!T1¢?U!x£#!$%!~?!G,¤%!?¥;!}…—!R–Z!¦§a/!¨©?ª!E!F!GV$!«¬!§D!RAH!}…—!R–1!!Ył!T!KU?V$!«¬!§D⁄!KU!?31!„#’!¬¯B!°“®!1‰>!±¢A!²!„#“!,³´µ,!opqr,!,\\n¶¬opstu,!~4!‘!·“!¥!F!GV$!?z•!„#,!•Ÿ#ZB!€#¡<Z!¸¹!}ºH!»R§E!¼½!¾¿ª!!«¬!À}!~Z!¸ª!1‰1!g¬?U!RA’!!!p?<!XYZ!?¥!}…—>!R–K,!”;!ÁÂ!!Ył?V$!<=aﬂ“!«¬§D>!$%K,!Ãº!T1!KU,%!Ä›!„f>!<ﬁﬂ“!K,!-./(012\\n?!GV$!·>!¥#%!,«¬!§D,,!Ä›!„f“!,«¬3§D,%!,\\n«3¬§D,%!,\\n«¬§3D,!1!Å!’N!}…“!ÆÇ!F!GL%!?!T!’È!a¬•!RA!É_>!YB!`ZB!ı2K,!ÊH!~1!Ž’!op>!gA!ËÌK,!ÍL%Î?!G4!F!GV$!™ﬁaﬂ“%!!ÆÏN,!R–!É_¥!TZB!a¬•!É_>!ËÌK<!fA%!Ð?Ñ!ÒÓ?ª,!va!Ô“‘ÕÖ!Ã×4!D@•V$!!!'"
      ]
     },
     "execution_count": 7,
     "metadata": {},
     "output_type": "execute_result"
    }
   ],
   "source": [
    "page_one_text"
   ]
  },
  {
   "cell_type": "code",
   "execution_count": 9,
   "id": "bf6c2eab",
   "metadata": {},
   "outputs": [],
   "source": [
    "from tika import parser"
   ]
  },
  {
   "cell_type": "code",
   "execution_count": 10,
   "id": "94a8863c",
   "metadata": {},
   "outputs": [
    {
     "data": {
      "text/plain": [
       "{'metadata': {'Author': 'DOWON LEE',\n",
       "  'Content-Type': 'application/pdf',\n",
       "  'Creation-Date': '2022-03-11T05:10:55Z',\n",
       "  'Last-Modified': '2022-03-11T05:10:55Z',\n",
       "  'Last-Save-Date': '2022-03-11T05:10:55Z',\n",
       "  'X-Parsed-By': ['org.apache.tika.parser.DefaultParser',\n",
       "   'org.apache.tika.parser.pdf.PDFParser'],\n",
       "  'X-TIKA:content_handler': 'ToTextContentHandler',\n",
       "  'X-TIKA:embedded_depth': '0',\n",
       "  'X-TIKA:parse_time_millis': '116',\n",
       "  'access_permission:assemble_document': 'true',\n",
       "  'access_permission:can_modify': 'true',\n",
       "  'access_permission:can_print': 'true',\n",
       "  'access_permission:can_print_degraded': 'true',\n",
       "  'access_permission:extract_content': 'true',\n",
       "  'access_permission:extract_for_accessibility': 'true',\n",
       "  'access_permission:fill_in_form': 'true',\n",
       "  'access_permission:modify_annotations': 'true',\n",
       "  'created': '2022-03-11T05:10:55Z',\n",
       "  'creator': 'DOWON LEE',\n",
       "  'date': '2022-03-11T05:10:55Z',\n",
       "  'dc:creator': 'DOWON LEE',\n",
       "  'dc:format': 'application/pdf; version=1.3',\n",
       "  'dc:title': '문서2',\n",
       "  'dcterms:created': '2022-03-11T05:10:55Z',\n",
       "  'dcterms:modified': '2022-03-11T05:10:55Z',\n",
       "  'meta:author': 'DOWON LEE',\n",
       "  'meta:creation-date': '2022-03-11T05:10:55Z',\n",
       "  'meta:save-date': '2022-03-11T05:10:55Z',\n",
       "  'modified': '2022-03-11T05:10:55Z',\n",
       "  'pdf:PDFVersion': '1.3',\n",
       "  'pdf:charsPerPage': '1097',\n",
       "  'pdf:docinfo:created': '2022-03-11T05:10:55Z',\n",
       "  'pdf:docinfo:creator': 'DOWON LEE',\n",
       "  'pdf:docinfo:creator_tool': 'Word',\n",
       "  'pdf:docinfo:modified': '2022-03-11T05:10:55Z',\n",
       "  'pdf:docinfo:producer': 'macOS 버전 12.2.1(빌드 21D62) Quartz PDFContext',\n",
       "  'pdf:docinfo:title': '문서2',\n",
       "  'pdf:encrypted': 'false',\n",
       "  'pdf:hasMarkedContent': 'false',\n",
       "  'pdf:hasXFA': 'false',\n",
       "  'pdf:hasXMP': 'false',\n",
       "  'pdf:unmappedUnicodeCharsPerPage': '0',\n",
       "  'producer': 'macOS 버전 12.2.1(빌드 21D62) Quartz PDFContext',\n",
       "  'resourceName': \"b'KR_nlp.pdf'\",\n",
       "  'title': '문서2',\n",
       "  'xmp:CreatorTool': 'Word',\n",
       "  'xmpTPg:NPages': '1'},\n",
       " 'content': \"\\n\\n\\n\\n\\n\\n\\n\\n\\n\\n\\n\\n\\n\\n\\n\\n\\n\\n\\n\\n\\n\\n\\n\\n\\n\\n\\n\\n\\n\\n\\n\\n\\n\\n\\n\\n\\n\\n\\n\\n\\n\\n\\n\\n문서2\\n\\n\\n자연어 처리 \\n\\n위키백과, 우리 모두의 백과사전. \\n\\n자연어 처리(自然語處理) 또는 자연 언어 처리(自然言語處理)는 인간의 언어 현상을 \\n\\n컴퓨터와\\\\ 같은 기계를 이용해서 묘사할 수 있도록 연구하고 이를 구현하는 인공지능의 주요 분야 \\n\\n중 하나다. 자연 언어 처리는 연구 대상이 언어 이기 때문에 당연하게도 언어 자체를 연구하는 \\n\\n언어학과 언어 현상의 내적 기재를 탐구하는 언어 인지 과학과 연관이 깊다. 구현을 위해 수학적 \\n\\n통계적 도구를 많이 활용하며 특히 기계학습 도구를 많이 사용하는 대표적인 분야이다. 정보검색, \\n\\nQA 시스템, 문서 자동 분류, 신문기사 클러스터링, 대화형 Agent 등 다양한 응용이 이루어지고 \\n\\n있다. \\n\\n형태소 분석 \\n\\n자연 언어 처리에서 말하는 형태소 분석이란 어떤 대상 어절을 최소의 의미 단위인 '형태소'로 \\n\\n분석하는 것을 의미한다. (형태소는 단어 그 자체가 될 수도 있고, 일반적으로는 단어보다 작은 \\n\\n단위이다.) 정보 검색 엔진에서 한국어의 색인어 추출에 많이 사용한다. 형태소 분석 단계에서 \\n\\n문제가 되는 부분은 미등록어, 오탈자, 띄어쓰기 오류 등에 의한 형태소 분석의 오류, 중의성이나 \\n\\n신조어 처리 등이 있는데, 이들은 형태소 분석에 치명적인 약점이라 할 수 있다. 복합 명사 분해도 \\n\\n형태소 분석의 어려운 문제 중 하나이다. 복합 명사란 하나 이상의 단어가 합쳐서 새로운 의미를 \\n\\n생성해 낸 단어로 '봄바람' 정보검색' '종합정보시스템' 등을 그 예로 들 수 있다. 이러한 단어는 \\n\\n한국어에서 띄어쓰기에 따른 형식도 불분명할 뿐만 아니라 다양한 복합 유형 등에 따라 의미의 \\n\\n통합이나 분해가 다양한 양상을 보이기 때문에 이들 형태소를 분석하는 것은 매우 어려운 \\n\\n문제이다. 기계적으로 복합명사를 처리하는 방식 중의 하나는, 음절 단위를 기반으로 하는 bi-\\n\\ngram이 있다. 예를 들어, '복합 명사'는 음절 단위로 '복합+명사', '복+합명사', '복합명+사' 의 세 \\n\\n가지 형태로 쪼갤 수 있고, 이 중 가장 적합한 분해 결과를 문서 내에서 출현하는 빈도 등의 추가 \\n\\n정보를 통해 선택하는 알고리즘이 있을 수 있다. 일반적으로, 다양하게 쪼개지는 분석 결과들 \\n\\n중에서 적합한 결과를 선택하기 위해, 테이블 파싱이라는 동적 프로그래밍 방법을 사용한다. \\n\\n \\n \\n\\n\\n\",\n",
       " 'status': 200}"
      ]
     },
     "execution_count": 10,
     "metadata": {},
     "output_type": "execute_result"
    }
   ],
   "source": [
    "data = parser.from_file('KR_nlp.pdf')\n",
    "data"
   ]
  },
  {
   "cell_type": "code",
   "execution_count": 11,
   "id": "4c6e593d",
   "metadata": {},
   "outputs": [],
   "source": [
    "content = data['content'].strip()"
   ]
  },
  {
   "cell_type": "code",
   "execution_count": 12,
   "id": "e613f743",
   "metadata": {},
   "outputs": [
    {
     "data": {
      "text/plain": [
       "\"문서2\\n\\n\\n자연어 처리 \\n\\n위키백과, 우리 모두의 백과사전. \\n\\n자연어 처리(自然語處理) 또는 자연 언어 처리(自然言語處理)는 인간의 언어 현상을 \\n\\n컴퓨터와\\\\ 같은 기계를 이용해서 묘사할 수 있도록 연구하고 이를 구현하는 인공지능의 주요 분야 \\n\\n중 하나다. 자연 언어 처리는 연구 대상이 언어 이기 때문에 당연하게도 언어 자체를 연구하는 \\n\\n언어학과 언어 현상의 내적 기재를 탐구하는 언어 인지 과학과 연관이 깊다. 구현을 위해 수학적 \\n\\n통계적 도구를 많이 활용하며 특히 기계학습 도구를 많이 사용하는 대표적인 분야이다. 정보검색, \\n\\nQA 시스템, 문서 자동 분류, 신문기사 클러스터링, 대화형 Agent 등 다양한 응용이 이루어지고 \\n\\n있다. \\n\\n형태소 분석 \\n\\n자연 언어 처리에서 말하는 형태소 분석이란 어떤 대상 어절을 최소의 의미 단위인 '형태소'로 \\n\\n분석하는 것을 의미한다. (형태소는 단어 그 자체가 될 수도 있고, 일반적으로는 단어보다 작은 \\n\\n단위이다.) 정보 검색 엔진에서 한국어의 색인어 추출에 많이 사용한다. 형태소 분석 단계에서 \\n\\n문제가 되는 부분은 미등록어, 오탈자, 띄어쓰기 오류 등에 의한 형태소 분석의 오류, 중의성이나 \\n\\n신조어 처리 등이 있는데, 이들은 형태소 분석에 치명적인 약점이라 할 수 있다. 복합 명사 분해도 \\n\\n형태소 분석의 어려운 문제 중 하나이다. 복합 명사란 하나 이상의 단어가 합쳐서 새로운 의미를 \\n\\n생성해 낸 단어로 '봄바람' 정보검색' '종합정보시스템' 등을 그 예로 들 수 있다. 이러한 단어는 \\n\\n한국어에서 띄어쓰기에 따른 형식도 불분명할 뿐만 아니라 다양한 복합 유형 등에 따라 의미의 \\n\\n통합이나 분해가 다양한 양상을 보이기 때문에 이들 형태소를 분석하는 것은 매우 어려운 \\n\\n문제이다. 기계적으로 복합명사를 처리하는 방식 중의 하나는, 음절 단위를 기반으로 하는 bi-\\n\\ngram이 있다. 예를 들어, '복합 명사'는 음절 단위로 '복합+명사', '복+합명사', '복합명+사' 의 세 \\n\\n가지 형태로 쪼갤 수 있고, 이 중 가장 적합한 분해 결과를 문서 내에서 출현하는 빈도 등의 추가 \\n\\n정보를 통해 선택하는 알고리즘이 있을 수 있다. 일반적으로, 다양하게 쪼개지는 분석 결과들 \\n\\n중에서 적합한 결과를 선택하기 위해, 테이블 파싱이라는 동적 프로그래밍 방법을 사용한다.\""
      ]
     },
     "execution_count": 12,
     "metadata": {},
     "output_type": "execute_result"
    }
   ],
   "source": [
    "content"
   ]
  },
  {
   "cell_type": "code",
   "execution_count": 13,
   "id": "068996de",
   "metadata": {},
   "outputs": [],
   "source": [
    "with open('output.txt', 'w', encoding='utf-8') as txt:\n",
    "    print(content, file=txt)"
   ]
  },
  {
   "cell_type": "markdown",
   "id": "48c89640",
   "metadata": {},
   "source": [
    "### Handling PDFs"
   ]
  },
  {
   "cell_type": "code",
   "execution_count": 15,
   "id": "1c9ce82b",
   "metadata": {},
   "outputs": [],
   "source": [
    "f = open('US_Declaration.pdf', 'rb')\n",
    "pdf_reader = PyPDF2.PdfFileReader(f)"
   ]
  },
  {
   "cell_type": "code",
   "execution_count": 16,
   "id": "d0832eef",
   "metadata": {},
   "outputs": [],
   "source": [
    "page_one = pdf_reader.getPage(0)"
   ]
  },
  {
   "cell_type": "code",
   "execution_count": 17,
   "id": "913cc28b",
   "metadata": {},
   "outputs": [],
   "source": [
    "pdf_writer = PyPDF2.PdfFileWriter()\n",
    "pdf_writer.addPage(page_one)"
   ]
  },
  {
   "cell_type": "code",
   "execution_count": 18,
   "id": "67f5f8f5",
   "metadata": {},
   "outputs": [],
   "source": [
    "pdf_output = open('Sample.pdf', 'wb')"
   ]
  },
  {
   "cell_type": "code",
   "execution_count": 19,
   "id": "93c95ce2",
   "metadata": {},
   "outputs": [],
   "source": [
    "pdf_writer.write(pdf_output)"
   ]
  },
  {
   "cell_type": "code",
   "execution_count": 20,
   "id": "d321dc22",
   "metadata": {},
   "outputs": [],
   "source": [
    "pdf_output.close()\n",
    "f.close()"
   ]
  },
  {
   "cell_type": "code",
   "execution_count": null,
   "id": "94230442",
   "metadata": {},
   "outputs": [],
   "source": []
  }
 ],
 "metadata": {
  "kernelspec": {
   "display_name": "Python 3 (ipykernel)",
   "language": "python",
   "name": "python3"
  },
  "language_info": {
   "codemirror_mode": {
    "name": "ipython",
    "version": 3
   },
   "file_extension": ".py",
   "mimetype": "text/x-python",
   "name": "python",
   "nbconvert_exporter": "python",
   "pygments_lexer": "ipython3",
   "version": "3.8.12"
  }
 },
 "nbformat": 4,
 "nbformat_minor": 5
}
