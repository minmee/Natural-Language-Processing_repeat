{
 "cells": [
  {
   "cell_type": "code",
   "execution_count": 5,
   "id": "ec2778b8",
   "metadata": {},
   "outputs": [],
   "source": [
    "from tensorflow.keras.layers import Input, SimpleRNN, GRU, LSTM, Dense, GlobalMaxPool1D\n",
    "from tensorflow.keras.models import Model\n",
    "from tensorflow.keras.optimizers import SGD, Adam\n",
    "\n",
    "import numpy as np\n",
    "import pandas as pd\n",
    "import matplotlib.pyplot as plt\n",
    "from sklearn.preprocessing import StandardScaler"
   ]
  },
  {
   "cell_type": "code",
   "execution_count": null,
   "id": "437ef0f4",
   "metadata": {},
   "outputs": [],
   "source": [
    "# 문장 -> 숫자(벡터화) : embedding\n",
    "# 수익률 예측"
   ]
  },
  {
   "cell_type": "code",
   "execution_count": 6,
   "id": "cb2b19e4",
   "metadata": {},
   "outputs": [],
   "source": [
    "#from google.colab import files\n",
    "#uploaded = files.upload()"
   ]
  },
  {
   "cell_type": "code",
   "execution_count": 7,
   "id": "3e66847b",
   "metadata": {},
   "outputs": [
    {
     "data": {
      "text/html": [
       "<div>\n",
       "<style scoped>\n",
       "    .dataframe tbody tr th:only-of-type {\n",
       "        vertical-align: middle;\n",
       "    }\n",
       "\n",
       "    .dataframe tbody tr th {\n",
       "        vertical-align: top;\n",
       "    }\n",
       "\n",
       "    .dataframe thead th {\n",
       "        text-align: right;\n",
       "    }\n",
       "</style>\n",
       "<table border=\"1\" class=\"dataframe\">\n",
       "  <thead>\n",
       "    <tr style=\"text-align: right;\">\n",
       "      <th></th>\n",
       "      <th>date</th>\n",
       "      <th>open</th>\n",
       "      <th>high</th>\n",
       "      <th>low</th>\n",
       "      <th>close</th>\n",
       "      <th>volume</th>\n",
       "      <th>Name</th>\n",
       "    </tr>\n",
       "  </thead>\n",
       "  <tbody>\n",
       "    <tr>\n",
       "      <th>0</th>\n",
       "      <td>2013-02-08</td>\n",
       "      <td>27.920</td>\n",
       "      <td>28.325</td>\n",
       "      <td>27.920</td>\n",
       "      <td>28.185</td>\n",
       "      <td>7146296</td>\n",
       "      <td>SBUX</td>\n",
       "    </tr>\n",
       "    <tr>\n",
       "      <th>1</th>\n",
       "      <td>2013-02-11</td>\n",
       "      <td>28.260</td>\n",
       "      <td>28.260</td>\n",
       "      <td>27.930</td>\n",
       "      <td>28.070</td>\n",
       "      <td>5457354</td>\n",
       "      <td>SBUX</td>\n",
       "    </tr>\n",
       "    <tr>\n",
       "      <th>2</th>\n",
       "      <td>2013-02-12</td>\n",
       "      <td>28.000</td>\n",
       "      <td>28.275</td>\n",
       "      <td>27.975</td>\n",
       "      <td>28.130</td>\n",
       "      <td>8665592</td>\n",
       "      <td>SBUX</td>\n",
       "    </tr>\n",
       "    <tr>\n",
       "      <th>3</th>\n",
       "      <td>2013-02-13</td>\n",
       "      <td>28.230</td>\n",
       "      <td>28.230</td>\n",
       "      <td>27.750</td>\n",
       "      <td>27.915</td>\n",
       "      <td>7022056</td>\n",
       "      <td>SBUX</td>\n",
       "    </tr>\n",
       "    <tr>\n",
       "      <th>4</th>\n",
       "      <td>2013-02-14</td>\n",
       "      <td>27.765</td>\n",
       "      <td>27.905</td>\n",
       "      <td>27.675</td>\n",
       "      <td>27.775</td>\n",
       "      <td>8899188</td>\n",
       "      <td>SBUX</td>\n",
       "    </tr>\n",
       "  </tbody>\n",
       "</table>\n",
       "</div>"
      ],
      "text/plain": [
       "         date    open    high     low   close   volume  Name\n",
       "0  2013-02-08  27.920  28.325  27.920  28.185  7146296  SBUX\n",
       "1  2013-02-11  28.260  28.260  27.930  28.070  5457354  SBUX\n",
       "2  2013-02-12  28.000  28.275  27.975  28.130  8665592  SBUX\n",
       "3  2013-02-13  28.230  28.230  27.750  27.915  7022056  SBUX\n",
       "4  2013-02-14  27.765  27.905  27.675  27.775  8899188  SBUX"
      ]
     },
     "execution_count": 7,
     "metadata": {},
     "output_type": "execute_result"
    }
   ],
   "source": [
    "df = pd.read_csv('sbux.csv')\n",
    "df.head()"
   ]
  },
  {
   "cell_type": "code",
   "execution_count": 3,
   "id": "02c7136a",
   "metadata": {},
   "outputs": [
    {
     "data": {
      "text/html": [
       "<div>\n",
       "<style scoped>\n",
       "    .dataframe tbody tr th:only-of-type {\n",
       "        vertical-align: middle;\n",
       "    }\n",
       "\n",
       "    .dataframe tbody tr th {\n",
       "        vertical-align: top;\n",
       "    }\n",
       "\n",
       "    .dataframe thead th {\n",
       "        text-align: right;\n",
       "    }\n",
       "</style>\n",
       "<table border=\"1\" class=\"dataframe\">\n",
       "  <thead>\n",
       "    <tr style=\"text-align: right;\">\n",
       "      <th></th>\n",
       "      <th>date</th>\n",
       "      <th>open</th>\n",
       "      <th>high</th>\n",
       "      <th>low</th>\n",
       "      <th>close</th>\n",
       "      <th>volume</th>\n",
       "      <th>Name</th>\n",
       "    </tr>\n",
       "  </thead>\n",
       "  <tbody>\n",
       "    <tr>\n",
       "      <th>1254</th>\n",
       "      <td>2018-02-01</td>\n",
       "      <td>56.280</td>\n",
       "      <td>56.42</td>\n",
       "      <td>55.89</td>\n",
       "      <td>56.00</td>\n",
       "      <td>14690146</td>\n",
       "      <td>SBUX</td>\n",
       "    </tr>\n",
       "    <tr>\n",
       "      <th>1255</th>\n",
       "      <td>2018-02-02</td>\n",
       "      <td>55.900</td>\n",
       "      <td>56.32</td>\n",
       "      <td>55.70</td>\n",
       "      <td>55.77</td>\n",
       "      <td>15358909</td>\n",
       "      <td>SBUX</td>\n",
       "    </tr>\n",
       "    <tr>\n",
       "      <th>1256</th>\n",
       "      <td>2018-02-05</td>\n",
       "      <td>55.530</td>\n",
       "      <td>56.26</td>\n",
       "      <td>54.57</td>\n",
       "      <td>54.69</td>\n",
       "      <td>16059955</td>\n",
       "      <td>SBUX</td>\n",
       "    </tr>\n",
       "    <tr>\n",
       "      <th>1257</th>\n",
       "      <td>2018-02-06</td>\n",
       "      <td>53.685</td>\n",
       "      <td>56.06</td>\n",
       "      <td>53.56</td>\n",
       "      <td>55.61</td>\n",
       "      <td>17415065</td>\n",
       "      <td>SBUX</td>\n",
       "    </tr>\n",
       "    <tr>\n",
       "      <th>1258</th>\n",
       "      <td>2018-02-07</td>\n",
       "      <td>55.080</td>\n",
       "      <td>55.43</td>\n",
       "      <td>54.44</td>\n",
       "      <td>54.46</td>\n",
       "      <td>13927022</td>\n",
       "      <td>SBUX</td>\n",
       "    </tr>\n",
       "  </tbody>\n",
       "</table>\n",
       "</div>"
      ],
      "text/plain": [
       "            date    open   high    low  close    volume  Name\n",
       "1254  2018-02-01  56.280  56.42  55.89  56.00  14690146  SBUX\n",
       "1255  2018-02-02  55.900  56.32  55.70  55.77  15358909  SBUX\n",
       "1256  2018-02-05  55.530  56.26  54.57  54.69  16059955  SBUX\n",
       "1257  2018-02-06  53.685  56.06  53.56  55.61  17415065  SBUX\n",
       "1258  2018-02-07  55.080  55.43  54.44  54.46  13927022  SBUX"
      ]
     },
     "execution_count": 3,
     "metadata": {},
     "output_type": "execute_result"
    }
   ],
   "source": [
    "df.tail()"
   ]
  },
  {
   "cell_type": "code",
   "execution_count": 8,
   "id": "96f5e9a5",
   "metadata": {},
   "outputs": [
    {
     "data": {
      "text/plain": [
       "array([[28.185],\n",
       "       [28.07 ],\n",
       "       [28.13 ],\n",
       "       ...,\n",
       "       [54.69 ],\n",
       "       [55.61 ],\n",
       "       [54.46 ]])"
      ]
     },
     "execution_count": 8,
     "metadata": {},
     "output_type": "execute_result"
    }
   ],
   "source": [
    "# Start by doing the WRONG thing - trying to predict the price itself\n",
    "# 종가 데이터를 series 형태로\n",
    "series = df['close'].values.reshape(-1, 1)\n",
    "series"
   ]
  },
  {
   "cell_type": "code",
   "execution_count": 11,
   "id": "1b013fd2",
   "metadata": {
    "scrolled": true
   },
   "outputs": [
    {
     "data": {
      "text/plain": [
       "array([-1.94144714, -1.95251788, -1.94674184, ...,  0.61011874,\n",
       "        0.6986847 ,  0.58797726])"
      ]
     },
     "execution_count": 11,
     "metadata": {},
     "output_type": "execute_result"
    }
   ],
   "source": [
    "# Normalize the data(standard scaler - 평균 : 0, 표준편차 : 1)\n",
    "# Note: I didn't think about where the true boundary is, this is just approx.\n",
    "scaler = StandardScaler()\n",
    "scaler.fit(series[:len(series)]) # 크기를 fit 해줌.(len()을 사용하는 이유는 밑에서 flatten을 사용해 차원을 1차원으로 만들어주기 위해.)\n",
    "series = scaler.transform(series).flatten() # 그리고 series를 scaler(정규화).\n",
    "series"
   ]
  },
  {
   "cell_type": "code",
   "execution_count": 13,
   "id": "8f095ccb",
   "metadata": {},
   "outputs": [],
   "source": [
    "### build the dataset\n",
    "# let's see if we can use T past values to predict the next value\n",
    "T = 10\n",
    "D = 1\n",
    "X = []\n",
    "Y = []\n",
    "\n",
    "for t in range(len(series) - T):\n",
    "    x = series[t:t+T]\n",
    "    X.append(x)\n",
    "    y = series[t+T]\n",
    "    Y.append(y)"
   ]
  },
  {
   "cell_type": "code",
   "execution_count": 14,
   "id": "71fad827",
   "metadata": {},
   "outputs": [
    {
     "data": {
      "text/plain": [
       "1249"
      ]
     },
     "execution_count": 14,
     "metadata": {},
     "output_type": "execute_result"
    }
   ],
   "source": [
    "len(X)"
   ]
  },
  {
   "cell_type": "code",
   "execution_count": 15,
   "id": "751c1fb2",
   "metadata": {},
   "outputs": [
    {
     "data": {
      "text/plain": [
       "(1249, 10)"
      ]
     },
     "execution_count": 15,
     "metadata": {},
     "output_type": "execute_result"
    }
   ],
   "source": [
    "X = np.array(X)\n",
    "X.shape"
   ]
  },
  {
   "cell_type": "code",
   "execution_count": 16,
   "id": "426f33d5",
   "metadata": {},
   "outputs": [
    {
     "data": {
      "text/plain": [
       "(1249, 10, 1)"
      ]
     },
     "execution_count": 16,
     "metadata": {},
     "output_type": "execute_result"
    }
   ],
   "source": [
    "X = np.array(X).reshape(-1, T, 1)\n",
    "X.shape"
   ]
  },
  {
   "cell_type": "code",
   "execution_count": 17,
   "id": "ea52fd2c",
   "metadata": {},
   "outputs": [
    {
     "name": "stdout",
     "output_type": "stream",
     "text": [
      "X.shape:(1249, 10, 1), Y.shape:(1249,), N.length:1249\n"
     ]
    }
   ],
   "source": [
    "Y = np.array(Y)\n",
    "N = len(X)\n",
    "print(f'X.shape:{X.shape}, Y.shape:{Y.shape}, N.length:{N}')"
   ]
  },
  {
   "cell_type": "code",
   "execution_count": 18,
   "id": "a2bced64",
   "metadata": {
    "scrolled": true
   },
   "outputs": [
    {
     "name": "stdout",
     "output_type": "stream",
     "text": [
      "Epoch 1/100\n"
     ]
    },
    {
     "name": "stderr",
     "output_type": "stream",
     "text": [
      "C:\\Users\\user\\Desktop\\.ipynb_checkpoints\\lib\\site-packages\\keras\\optimizer_v2\\adam.py:105: UserWarning: The `lr` argument is deprecated, use `learning_rate` instead.\n",
      "  super(Adam, self).__init__(name, **kwargs)\n"
     ]
    },
    {
     "name": "stdout",
     "output_type": "stream",
     "text": [
      "20/20 [==============================] - 1s 19ms/step - loss: 0.1772 - accuracy: 0.0000e+00 - val_loss: 0.1107 - val_accuracy: 0.0000e+00\n",
      "Epoch 2/100\n",
      "20/20 [==============================] - 0s 5ms/step - loss: 0.0148 - accuracy: 0.0000e+00 - val_loss: 0.0273 - val_accuracy: 0.0000e+00\n",
      "Epoch 3/100\n",
      "20/20 [==============================] - 0s 5ms/step - loss: 0.0044 - accuracy: 0.0000e+00 - val_loss: 0.0246 - val_accuracy: 0.0000e+00\n",
      "Epoch 4/100\n",
      "20/20 [==============================] - 0s 5ms/step - loss: 0.0037 - accuracy: 0.0000e+00 - val_loss: 0.0165 - val_accuracy: 0.0000e+00\n",
      "Epoch 5/100\n",
      "20/20 [==============================] - 0s 5ms/step - loss: 0.0028 - accuracy: 0.0000e+00 - val_loss: 0.0182 - val_accuracy: 0.0000e+00\n",
      "Epoch 6/100\n",
      "20/20 [==============================] - 0s 5ms/step - loss: 0.0026 - accuracy: 0.0000e+00 - val_loss: 0.0166 - val_accuracy: 0.0000e+00\n",
      "Epoch 7/100\n",
      "20/20 [==============================] - 0s 5ms/step - loss: 0.0025 - accuracy: 0.0000e+00 - val_loss: 0.0158 - val_accuracy: 0.0000e+00\n",
      "Epoch 8/100\n",
      "20/20 [==============================] - 0s 5ms/step - loss: 0.0026 - accuracy: 0.0000e+00 - val_loss: 0.0193 - val_accuracy: 0.0000e+00\n",
      "Epoch 9/100\n",
      "20/20 [==============================] - 0s 6ms/step - loss: 0.0027 - accuracy: 0.0000e+00 - val_loss: 0.0204 - val_accuracy: 0.0000e+00\n",
      "Epoch 10/100\n",
      "20/20 [==============================] - 0s 5ms/step - loss: 0.0026 - accuracy: 0.0000e+00 - val_loss: 0.0169 - val_accuracy: 0.0000e+00\n",
      "Epoch 11/100\n",
      "20/20 [==============================] - 0s 5ms/step - loss: 0.0026 - accuracy: 0.0000e+00 - val_loss: 0.0149 - val_accuracy: 0.0000e+00\n",
      "Epoch 12/100\n",
      "20/20 [==============================] - 0s 5ms/step - loss: 0.0026 - accuracy: 0.0000e+00 - val_loss: 0.0139 - val_accuracy: 0.0000e+00\n",
      "Epoch 13/100\n",
      "20/20 [==============================] - 0s 5ms/step - loss: 0.0030 - accuracy: 0.0000e+00 - val_loss: 0.0114 - val_accuracy: 0.0000e+00\n",
      "Epoch 14/100\n",
      "20/20 [==============================] - 0s 5ms/step - loss: 0.0026 - accuracy: 0.0000e+00 - val_loss: 0.0108 - val_accuracy: 0.0000e+00\n",
      "Epoch 15/100\n",
      "20/20 [==============================] - 0s 5ms/step - loss: 0.0025 - accuracy: 0.0000e+00 - val_loss: 0.0136 - val_accuracy: 0.0000e+00\n",
      "Epoch 16/100\n",
      "20/20 [==============================] - 0s 5ms/step - loss: 0.0025 - accuracy: 0.0000e+00 - val_loss: 0.0098 - val_accuracy: 0.0000e+00\n",
      "Epoch 17/100\n",
      "20/20 [==============================] - 0s 6ms/step - loss: 0.0026 - accuracy: 0.0000e+00 - val_loss: 0.0111 - val_accuracy: 0.0000e+00\n",
      "Epoch 18/100\n",
      "20/20 [==============================] - 0s 5ms/step - loss: 0.0024 - accuracy: 0.0000e+00 - val_loss: 0.0205 - val_accuracy: 0.0000e+00\n",
      "Epoch 19/100\n",
      "20/20 [==============================] - 0s 6ms/step - loss: 0.0033 - accuracy: 0.0000e+00 - val_loss: 0.0126 - val_accuracy: 0.0000e+00\n",
      "Epoch 20/100\n",
      "20/20 [==============================] - 0s 6ms/step - loss: 0.0029 - accuracy: 0.0000e+00 - val_loss: 0.0205 - val_accuracy: 0.0000e+00\n",
      "Epoch 21/100\n",
      "20/20 [==============================] - 0s 5ms/step - loss: 0.0023 - accuracy: 0.0000e+00 - val_loss: 0.0140 - val_accuracy: 0.0000e+00\n",
      "Epoch 22/100\n",
      "20/20 [==============================] - 0s 5ms/step - loss: 0.0023 - accuracy: 0.0000e+00 - val_loss: 0.0122 - val_accuracy: 0.0000e+00\n",
      "Epoch 23/100\n",
      "20/20 [==============================] - 0s 5ms/step - loss: 0.0024 - accuracy: 0.0000e+00 - val_loss: 0.0105 - val_accuracy: 0.0000e+00\n",
      "Epoch 24/100\n",
      "20/20 [==============================] - 0s 5ms/step - loss: 0.0023 - accuracy: 0.0000e+00 - val_loss: 0.0094 - val_accuracy: 0.0000e+00\n",
      "Epoch 25/100\n",
      "20/20 [==============================] - 0s 5ms/step - loss: 0.0023 - accuracy: 0.0000e+00 - val_loss: 0.0107 - val_accuracy: 0.0000e+00\n",
      "Epoch 26/100\n",
      "20/20 [==============================] - 0s 6ms/step - loss: 0.0024 - accuracy: 0.0000e+00 - val_loss: 0.0113 - val_accuracy: 0.0000e+00\n",
      "Epoch 27/100\n",
      "20/20 [==============================] - 0s 5ms/step - loss: 0.0026 - accuracy: 0.0000e+00 - val_loss: 0.0180 - val_accuracy: 0.0000e+00\n",
      "Epoch 28/100\n",
      "20/20 [==============================] - 0s 6ms/step - loss: 0.0025 - accuracy: 0.0000e+00 - val_loss: 0.0109 - val_accuracy: 0.0000e+00\n",
      "Epoch 29/100\n",
      "20/20 [==============================] - 0s 5ms/step - loss: 0.0023 - accuracy: 0.0000e+00 - val_loss: 0.0124 - val_accuracy: 0.0000e+00\n",
      "Epoch 30/100\n",
      "20/20 [==============================] - 0s 5ms/step - loss: 0.0028 - accuracy: 0.0000e+00 - val_loss: 0.0142 - val_accuracy: 0.0000e+00\n",
      "Epoch 31/100\n",
      "20/20 [==============================] - 0s 5ms/step - loss: 0.0029 - accuracy: 0.0000e+00 - val_loss: 0.0088 - val_accuracy: 0.0000e+00\n",
      "Epoch 32/100\n",
      "20/20 [==============================] - 0s 6ms/step - loss: 0.0023 - accuracy: 0.0000e+00 - val_loss: 0.0087 - val_accuracy: 0.0000e+00\n",
      "Epoch 33/100\n",
      "20/20 [==============================] - 0s 5ms/step - loss: 0.0023 - accuracy: 0.0000e+00 - val_loss: 0.0088 - val_accuracy: 0.0000e+00\n",
      "Epoch 34/100\n",
      "20/20 [==============================] - 0s 7ms/step - loss: 0.0025 - accuracy: 0.0000e+00 - val_loss: 0.0088 - val_accuracy: 0.0000e+00\n",
      "Epoch 35/100\n",
      "20/20 [==============================] - 0s 6ms/step - loss: 0.0021 - accuracy: 0.0000e+00 - val_loss: 0.0087 - val_accuracy: 0.0000e+00\n",
      "Epoch 36/100\n",
      "20/20 [==============================] - 0s 6ms/step - loss: 0.0026 - accuracy: 0.0000e+00 - val_loss: 0.0083 - val_accuracy: 0.0000e+00\n",
      "Epoch 37/100\n",
      "20/20 [==============================] - 0s 5ms/step - loss: 0.0029 - accuracy: 0.0000e+00 - val_loss: 0.0120 - val_accuracy: 0.0000e+00\n",
      "Epoch 38/100\n",
      "20/20 [==============================] - 0s 6ms/step - loss: 0.0027 - accuracy: 0.0000e+00 - val_loss: 0.0092 - val_accuracy: 0.0000e+00\n",
      "Epoch 39/100\n",
      "20/20 [==============================] - 0s 5ms/step - loss: 0.0025 - accuracy: 0.0000e+00 - val_loss: 0.0085 - val_accuracy: 0.0000e+00\n",
      "Epoch 40/100\n",
      "20/20 [==============================] - 0s 5ms/step - loss: 0.0037 - accuracy: 0.0000e+00 - val_loss: 0.0088 - val_accuracy: 0.0000e+00\n",
      "Epoch 41/100\n",
      "20/20 [==============================] - 0s 5ms/step - loss: 0.0028 - accuracy: 0.0000e+00 - val_loss: 0.0169 - val_accuracy: 0.0000e+00\n",
      "Epoch 42/100\n",
      "20/20 [==============================] - 0s 5ms/step - loss: 0.0024 - accuracy: 0.0000e+00 - val_loss: 0.0091 - val_accuracy: 0.0000e+00\n",
      "Epoch 43/100\n",
      "20/20 [==============================] - 0s 5ms/step - loss: 0.0023 - accuracy: 0.0000e+00 - val_loss: 0.0086 - val_accuracy: 0.0000e+00\n",
      "Epoch 44/100\n",
      "20/20 [==============================] - 0s 5ms/step - loss: 0.0022 - accuracy: 0.0000e+00 - val_loss: 0.0113 - val_accuracy: 0.0000e+00\n",
      "Epoch 45/100\n",
      "20/20 [==============================] - 0s 5ms/step - loss: 0.0024 - accuracy: 0.0000e+00 - val_loss: 0.0089 - val_accuracy: 0.0000e+00\n",
      "Epoch 46/100\n",
      "20/20 [==============================] - 0s 7ms/step - loss: 0.0026 - accuracy: 0.0000e+00 - val_loss: 0.0104 - val_accuracy: 0.0000e+00\n",
      "Epoch 47/100\n",
      "20/20 [==============================] - 0s 6ms/step - loss: 0.0026 - accuracy: 0.0000e+00 - val_loss: 0.0088 - val_accuracy: 0.0000e+00\n",
      "Epoch 48/100\n",
      "20/20 [==============================] - 0s 7ms/step - loss: 0.0029 - accuracy: 0.0000e+00 - val_loss: 0.0083 - val_accuracy: 0.0000e+00\n",
      "Epoch 49/100\n",
      "20/20 [==============================] - 0s 6ms/step - loss: 0.0024 - accuracy: 0.0000e+00 - val_loss: 0.0083 - val_accuracy: 0.0000e+00\n",
      "Epoch 50/100\n",
      "20/20 [==============================] - 0s 5ms/step - loss: 0.0024 - accuracy: 0.0000e+00 - val_loss: 0.0105 - val_accuracy: 0.0000e+00\n",
      "Epoch 51/100\n",
      "20/20 [==============================] - 0s 6ms/step - loss: 0.0026 - accuracy: 0.0000e+00 - val_loss: 0.0082 - val_accuracy: 0.0000e+00\n",
      "Epoch 52/100\n",
      "20/20 [==============================] - 0s 5ms/step - loss: 0.0029 - accuracy: 0.0000e+00 - val_loss: 0.0119 - val_accuracy: 0.0000e+00\n",
      "Epoch 53/100\n",
      "20/20 [==============================] - 0s 5ms/step - loss: 0.0031 - accuracy: 0.0000e+00 - val_loss: 0.0080 - val_accuracy: 0.0000e+00\n",
      "Epoch 54/100\n",
      "20/20 [==============================] - 0s 5ms/step - loss: 0.0024 - accuracy: 0.0000e+00 - val_loss: 0.0085 - val_accuracy: 0.0000e+00\n",
      "Epoch 55/100\n",
      "20/20 [==============================] - 0s 6ms/step - loss: 0.0023 - accuracy: 0.0000e+00 - val_loss: 0.0082 - val_accuracy: 0.0000e+00\n"
     ]
    },
    {
     "name": "stdout",
     "output_type": "stream",
     "text": [
      "Epoch 56/100\n",
      "20/20 [==============================] - 0s 6ms/step - loss: 0.0024 - accuracy: 0.0000e+00 - val_loss: 0.0081 - val_accuracy: 0.0000e+00\n",
      "Epoch 57/100\n",
      "20/20 [==============================] - 0s 5ms/step - loss: 0.0026 - accuracy: 0.0000e+00 - val_loss: 0.0077 - val_accuracy: 0.0000e+00\n",
      "Epoch 58/100\n",
      "20/20 [==============================] - 0s 5ms/step - loss: 0.0031 - accuracy: 0.0000e+00 - val_loss: 0.0083 - val_accuracy: 0.0000e+00\n",
      "Epoch 59/100\n",
      "20/20 [==============================] - 0s 5ms/step - loss: 0.0029 - accuracy: 0.0000e+00 - val_loss: 0.0073 - val_accuracy: 0.0000e+00\n",
      "Epoch 60/100\n",
      "20/20 [==============================] - 0s 5ms/step - loss: 0.0026 - accuracy: 0.0000e+00 - val_loss: 0.0083 - val_accuracy: 0.0000e+00\n",
      "Epoch 61/100\n",
      "20/20 [==============================] - 0s 6ms/step - loss: 0.0026 - accuracy: 0.0000e+00 - val_loss: 0.0164 - val_accuracy: 0.0000e+00\n",
      "Epoch 62/100\n",
      "20/20 [==============================] - 0s 6ms/step - loss: 0.0029 - accuracy: 0.0000e+00 - val_loss: 0.0139 - val_accuracy: 0.0000e+00\n",
      "Epoch 63/100\n",
      "20/20 [==============================] - 0s 5ms/step - loss: 0.0029 - accuracy: 0.0000e+00 - val_loss: 0.0083 - val_accuracy: 0.0000e+00\n",
      "Epoch 64/100\n",
      "20/20 [==============================] - 0s 7ms/step - loss: 0.0030 - accuracy: 0.0000e+00 - val_loss: 0.0090 - val_accuracy: 0.0000e+00\n",
      "Epoch 65/100\n",
      "20/20 [==============================] - 0s 5ms/step - loss: 0.0028 - accuracy: 0.0000e+00 - val_loss: 0.0167 - val_accuracy: 0.0000e+00\n",
      "Epoch 66/100\n",
      "20/20 [==============================] - 0s 5ms/step - loss: 0.0024 - accuracy: 0.0000e+00 - val_loss: 0.0091 - val_accuracy: 0.0000e+00\n",
      "Epoch 67/100\n",
      "20/20 [==============================] - 0s 7ms/step - loss: 0.0029 - accuracy: 0.0000e+00 - val_loss: 0.0089 - val_accuracy: 0.0000e+00\n",
      "Epoch 68/100\n",
      "20/20 [==============================] - 0s 6ms/step - loss: 0.0032 - accuracy: 0.0000e+00 - val_loss: 0.0075 - val_accuracy: 0.0000e+00\n",
      "Epoch 69/100\n",
      "20/20 [==============================] - 0s 5ms/step - loss: 0.0023 - accuracy: 0.0000e+00 - val_loss: 0.0084 - val_accuracy: 0.0000e+00\n",
      "Epoch 70/100\n",
      "20/20 [==============================] - 0s 5ms/step - loss: 0.0025 - accuracy: 0.0000e+00 - val_loss: 0.0081 - val_accuracy: 0.0000e+00\n",
      "Epoch 71/100\n",
      "20/20 [==============================] - 0s 5ms/step - loss: 0.0025 - accuracy: 0.0000e+00 - val_loss: 0.0077 - val_accuracy: 0.0000e+00\n",
      "Epoch 72/100\n",
      "20/20 [==============================] - 0s 5ms/step - loss: 0.0025 - accuracy: 0.0000e+00 - val_loss: 0.0094 - val_accuracy: 0.0000e+00\n",
      "Epoch 73/100\n",
      "20/20 [==============================] - 0s 5ms/step - loss: 0.0022 - accuracy: 0.0000e+00 - val_loss: 0.0076 - val_accuracy: 0.0000e+00\n",
      "Epoch 74/100\n",
      "20/20 [==============================] - 0s 5ms/step - loss: 0.0026 - accuracy: 0.0000e+00 - val_loss: 0.0088 - val_accuracy: 0.0000e+00\n",
      "Epoch 75/100\n",
      "20/20 [==============================] - 0s 5ms/step - loss: 0.0026 - accuracy: 0.0000e+00 - val_loss: 0.0072 - val_accuracy: 0.0000e+00\n",
      "Epoch 76/100\n",
      "20/20 [==============================] - 0s 5ms/step - loss: 0.0031 - accuracy: 0.0000e+00 - val_loss: 0.0067 - val_accuracy: 0.0000e+00\n",
      "Epoch 77/100\n",
      "20/20 [==============================] - 0s 5ms/step - loss: 0.0024 - accuracy: 0.0000e+00 - val_loss: 0.0075 - val_accuracy: 0.0000e+00\n",
      "Epoch 78/100\n",
      "20/20 [==============================] - 0s 5ms/step - loss: 0.0023 - accuracy: 0.0000e+00 - val_loss: 0.0071 - val_accuracy: 0.0000e+00\n",
      "Epoch 79/100\n",
      "20/20 [==============================] - 0s 4ms/step - loss: 0.0023 - accuracy: 0.0000e+00 - val_loss: 0.0075 - val_accuracy: 0.0000e+00\n",
      "Epoch 80/100\n",
      "20/20 [==============================] - 0s 5ms/step - loss: 0.0025 - accuracy: 0.0000e+00 - val_loss: 0.0086 - val_accuracy: 0.0000e+00\n",
      "Epoch 81/100\n",
      "20/20 [==============================] - 0s 6ms/step - loss: 0.0024 - accuracy: 0.0000e+00 - val_loss: 0.0141 - val_accuracy: 0.0000e+00\n",
      "Epoch 82/100\n",
      "20/20 [==============================] - 0s 6ms/step - loss: 0.0023 - accuracy: 0.0000e+00 - val_loss: 0.0083 - val_accuracy: 0.0000e+00\n",
      "Epoch 83/100\n",
      "20/20 [==============================] - 0s 5ms/step - loss: 0.0029 - accuracy: 0.0000e+00 - val_loss: 0.0084 - val_accuracy: 0.0000e+00\n",
      "Epoch 84/100\n",
      "20/20 [==============================] - 0s 6ms/step - loss: 0.0024 - accuracy: 0.0000e+00 - val_loss: 0.0084 - val_accuracy: 0.0000e+00\n",
      "Epoch 85/100\n",
      "20/20 [==============================] - 0s 5ms/step - loss: 0.0027 - accuracy: 0.0000e+00 - val_loss: 0.0074 - val_accuracy: 0.0000e+00\n",
      "Epoch 86/100\n",
      "20/20 [==============================] - 0s 5ms/step - loss: 0.0023 - accuracy: 0.0000e+00 - val_loss: 0.0082 - val_accuracy: 0.0000e+00\n",
      "Epoch 87/100\n",
      "20/20 [==============================] - 0s 5ms/step - loss: 0.0028 - accuracy: 0.0000e+00 - val_loss: 0.0087 - val_accuracy: 0.0000e+00\n",
      "Epoch 88/100\n",
      "20/20 [==============================] - 0s 6ms/step - loss: 0.0032 - accuracy: 0.0000e+00 - val_loss: 0.0135 - val_accuracy: 0.0000e+00\n",
      "Epoch 89/100\n",
      "20/20 [==============================] - 0s 6ms/step - loss: 0.0039 - accuracy: 0.0000e+00 - val_loss: 0.0087 - val_accuracy: 0.0000e+00\n",
      "Epoch 90/100\n",
      "20/20 [==============================] - 0s 5ms/step - loss: 0.0026 - accuracy: 0.0000e+00 - val_loss: 0.0081 - val_accuracy: 0.0000e+00\n",
      "Epoch 91/100\n",
      "20/20 [==============================] - 0s 6ms/step - loss: 0.0025 - accuracy: 0.0000e+00 - val_loss: 0.0090 - val_accuracy: 0.0000e+00\n",
      "Epoch 92/100\n",
      "20/20 [==============================] - 0s 6ms/step - loss: 0.0025 - accuracy: 0.0000e+00 - val_loss: 0.0076 - val_accuracy: 0.0000e+00\n",
      "Epoch 93/100\n",
      "20/20 [==============================] - 0s 5ms/step - loss: 0.0023 - accuracy: 0.0000e+00 - val_loss: 0.0077 - val_accuracy: 0.0000e+00\n",
      "Epoch 94/100\n",
      "20/20 [==============================] - 0s 5ms/step - loss: 0.0025 - accuracy: 0.0000e+00 - val_loss: 0.0080 - val_accuracy: 0.0000e+00\n",
      "Epoch 95/100\n",
      "20/20 [==============================] - 0s 7ms/step - loss: 0.0029 - accuracy: 0.0000e+00 - val_loss: 0.0163 - val_accuracy: 0.0000e+00\n",
      "Epoch 96/100\n",
      "20/20 [==============================] - 0s 6ms/step - loss: 0.0034 - accuracy: 0.0000e+00 - val_loss: 0.0125 - val_accuracy: 0.0000e+00\n",
      "Epoch 97/100\n",
      "20/20 [==============================] - 0s 5ms/step - loss: 0.0029 - accuracy: 0.0000e+00 - val_loss: 0.0071 - val_accuracy: 0.0000e+00\n",
      "Epoch 98/100\n",
      "20/20 [==============================] - 0s 5ms/step - loss: 0.0026 - accuracy: 0.0000e+00 - val_loss: 0.0126 - val_accuracy: 0.0000e+00\n",
      "Epoch 99/100\n",
      "20/20 [==============================] - 0s 5ms/step - loss: 0.0025 - accuracy: 0.0000e+00 - val_loss: 0.0143 - val_accuracy: 0.0000e+00\n",
      "Epoch 100/100\n",
      "20/20 [==============================] - 0s 5ms/step - loss: 0.0033 - accuracy: 0.0000e+00 - val_loss: 0.0086 - val_accuracy: 0.0000e+00\n"
     ]
    }
   ],
   "source": [
    "### try autoregressive RNN model\n",
    "i = Input(shape = (T, 1)) # feature가 1개. - 주식\n",
    "x = LSTM(5)(i)\n",
    "x = Dense(1)(x)\n",
    "model = Model(i, x)\n",
    "model.compile(loss = 'mse', optimizer = Adam(lr = 0.1), \n",
    "              metrics = ['accuracy'])\n",
    "\n",
    "# train the RNN\n",
    "r = model.fit(X[:-N//2], Y[:-N//2], epochs = 100,\n",
    "             validation_data = (X[-N//2:], Y[-N//2:]))"
   ]
  },
  {
   "cell_type": "code",
   "execution_count": 19,
   "id": "a7f9e046",
   "metadata": {
    "scrolled": true
   },
   "outputs": [
    {
     "data": {
      "image/png": "[encoded data removed]",
      "text/plain": [
       "<Figure size 432x288 with 1 Axes>"
      ]
     },
     "metadata": {
      "needs_background": "light"
     },
     "output_type": "display_data"
    }
   ],
   "source": [
    "# plot accuracy per iteration\n",
    "plt.plot(r.history['loss'], label = 'loss')\n",
    "plt.plot(r.history['val_loss'], label = 'val_loss')\n",
    "plt.legend()\n",
    "plt.show()"
   ]
  },
  {
   "cell_type": "code",
   "execution_count": 20,
   "id": "d95426fd",
   "metadata": {},
   "outputs": [
    {
     "data": {
      "image/png": "[encoded data removed]",
      "text/plain": [
       "<Figure size 432x288 with 1 Axes>"
      ]
     },
     "metadata": {
      "needs_background": "light"
     },
     "output_type": "display_data"
    }
   ],
   "source": [
    "# plot accuracy per iteration\n",
    "plt.plot(r.history['accuracy'], label = 'accuracy')\n",
    "plt.plot(r.history['val_accuracy'], label = 'val_accuracy')\n",
    "plt.legend()\n",
    "plt.show()"
   ]
  },
  {
   "cell_type": "code",
   "execution_count": 21,
   "id": "bcf0dd52",
   "metadata": {},
   "outputs": [
    {
     "data": {
      "text/plain": [
       "(1249, 1)"
      ]
     },
     "execution_count": 21,
     "metadata": {},
     "output_type": "execute_result"
    }
   ],
   "source": [
    "# One-step forecast using true targets(예측할 데이터 값)\n",
    "predicts = model.predict(X)\n",
    "predicts.shape"
   ]
  },
  {
   "cell_type": "code",
   "execution_count": 22,
   "id": "8c68e6ab",
   "metadata": {},
   "outputs": [],
   "source": [
    "final_predictions = predicts[:, 0]"
   ]
  },
  {
   "cell_type": "code",
   "execution_count": 23,
   "id": "909f4116",
   "metadata": {
    "scrolled": true
   },
   "outputs": [
    {
     "data": {
      "image/png": "[encoded data removed]",
      "text/plain": [
       "<Figure size 432x288 with 1 Axes>"
      ]
     },
     "metadata": {
      "needs_background": "light"
     },
     "output_type": "display_data"
    }
   ],
   "source": [
    "# forecast graph\n",
    "plt.plot(Y, label = 'targets')\n",
    "plt.plot(final_predictions, label = 'predictions')\n",
    "plt.legend()\n",
    "plt.show()"
   ]
  },
  {
   "cell_type": "code",
   "execution_count": 25,
   "id": "0da9d480",
   "metadata": {
    "scrolled": true
   },
   "outputs": [],
   "source": [
    "# Multi-step forecast(time sequences)\n",
    "validation_target = Y[-N//2:]\n",
    "validation_predictions = []\n",
    "\n",
    "# last train input\n",
    "last_x = X[-N//2]\n",
    "\n",
    "# 진짜 데이터 수보다 많이 예측할 필요가 없으니까,,\n",
    "while len(validation_predictions) < len(validation_target):\n",
    "    p = model.predict(last_x.reshape(1, T, 1))[0, 0]\n",
    "    validation_predictions.append(p)\n",
    "    \n",
    "    last_x = np.roll(last_x, -1) # time sequences\n",
    "    last_x[-1] = p"
   ]
  },
  {
   "cell_type": "code",
   "execution_count": 26,
   "id": "78e1019a",
   "metadata": {
    "scrolled": false
   },
   "outputs": [
    {
     "data": {
      "image/png": "[encoded data removed]",
      "text/plain": [
       "<Figure size 432x288 with 1 Axes>"
      ]
     },
     "metadata": {
      "needs_background": "light"
     },
     "output_type": "display_data"
    }
   ],
   "source": [
    "# forecast graph\n",
    "plt.plot(validation_target, label = 'targets')\n",
    "plt.plot(validation_predictions, label = 'predictions')\n",
    "plt.legend()\n",
    "plt.show()"
   ]
  },
  {
   "cell_type": "code",
   "execution_count": null,
   "id": "7023a17e",
   "metadata": {},
   "outputs": [],
   "source": [
    "# 잘못 예측했으니 수익률을 가지고 예측하자."
   ]
  },
  {
   "cell_type": "code",
   "execution_count": 27,
   "id": "483a6701",
   "metadata": {},
   "outputs": [],
   "source": [
    "# calculate returns by first shifting the data\n",
    "df['PrevClose'] = df['close'].shift(1) # 1칸씩 다음 칸으로 이동.\n",
    "\n",
    "# so now it's like\n",
    "# close / prev close\n",
    "# x[2] x[1]\n",
    "# x[3] x[2]\n",
    "# x[4] x[3]\n",
    "# ...\n",
    "# x[t] x[t-1]"
   ]
  },
  {
   "cell_type": "code",
   "execution_count": 28,
   "id": "530ed467",
   "metadata": {},
   "outputs": [
    {
     "data": {
      "text/html": [
       "<div>\n",
       "<style scoped>\n",
       "    .dataframe tbody tr th:only-of-type {\n",
       "        vertical-align: middle;\n",
       "    }\n",
       "\n",
       "    .dataframe tbody tr th {\n",
       "        vertical-align: top;\n",
       "    }\n",
       "\n",
       "    .dataframe thead th {\n",
       "        text-align: right;\n",
       "    }\n",
       "</style>\n",
       "<table border=\"1\" class=\"dataframe\">\n",
       "  <thead>\n",
       "    <tr style=\"text-align: right;\">\n",
       "      <th></th>\n",
       "      <th>date</th>\n",
       "      <th>open</th>\n",
       "      <th>high</th>\n",
       "      <th>low</th>\n",
       "      <th>close</th>\n",
       "      <th>volume</th>\n",
       "      <th>Name</th>\n",
       "      <th>PrevClose</th>\n",
       "    </tr>\n",
       "  </thead>\n",
       "  <tbody>\n",
       "    <tr>\n",
       "      <th>0</th>\n",
       "      <td>2013-02-08</td>\n",
       "      <td>27.920</td>\n",
       "      <td>28.325</td>\n",
       "      <td>27.920</td>\n",
       "      <td>28.185</td>\n",
       "      <td>7146296</td>\n",
       "      <td>SBUX</td>\n",
       "      <td>NaN</td>\n",
       "    </tr>\n",
       "    <tr>\n",
       "      <th>1</th>\n",
       "      <td>2013-02-11</td>\n",
       "      <td>28.260</td>\n",
       "      <td>28.260</td>\n",
       "      <td>27.930</td>\n",
       "      <td>28.070</td>\n",
       "      <td>5457354</td>\n",
       "      <td>SBUX</td>\n",
       "      <td>28.185</td>\n",
       "    </tr>\n",
       "    <tr>\n",
       "      <th>2</th>\n",
       "      <td>2013-02-12</td>\n",
       "      <td>28.000</td>\n",
       "      <td>28.275</td>\n",
       "      <td>27.975</td>\n",
       "      <td>28.130</td>\n",
       "      <td>8665592</td>\n",
       "      <td>SBUX</td>\n",
       "      <td>28.070</td>\n",
       "    </tr>\n",
       "    <tr>\n",
       "      <th>3</th>\n",
       "      <td>2013-02-13</td>\n",
       "      <td>28.230</td>\n",
       "      <td>28.230</td>\n",
       "      <td>27.750</td>\n",
       "      <td>27.915</td>\n",
       "      <td>7022056</td>\n",
       "      <td>SBUX</td>\n",
       "      <td>28.130</td>\n",
       "    </tr>\n",
       "    <tr>\n",
       "      <th>4</th>\n",
       "      <td>2013-02-14</td>\n",
       "      <td>27.765</td>\n",
       "      <td>27.905</td>\n",
       "      <td>27.675</td>\n",
       "      <td>27.775</td>\n",
       "      <td>8899188</td>\n",
       "      <td>SBUX</td>\n",
       "      <td>27.915</td>\n",
       "    </tr>\n",
       "  </tbody>\n",
       "</table>\n",
       "</div>"
      ],
      "text/plain": [
       "         date    open    high     low   close   volume  Name  PrevClose\n",
       "0  2013-02-08  27.920  28.325  27.920  28.185  7146296  SBUX        NaN\n",
       "1  2013-02-11  28.260  28.260  27.930  28.070  5457354  SBUX     28.185\n",
       "2  2013-02-12  28.000  28.275  27.975  28.130  8665592  SBUX     28.070\n",
       "3  2013-02-13  28.230  28.230  27.750  27.915  7022056  SBUX     28.130\n",
       "4  2013-02-14  27.765  27.905  27.675  27.775  8899188  SBUX     27.915"
      ]
     },
     "execution_count": 28,
     "metadata": {},
     "output_type": "execute_result"
    }
   ],
   "source": [
    "df.head()"
   ]
  },
  {
   "cell_type": "code",
   "execution_count": 29,
   "id": "780efb73",
   "metadata": {},
   "outputs": [],
   "source": [
    "# then the return is (수익률)\n",
    "# (x[t] - x[t-1]) / x[t-1]\n",
    "df['return'] = (df['close'] - df['PrevClose']) / df['PrevClose'] "
   ]
  },
  {
   "cell_type": "code",
   "execution_count": 30,
   "id": "b356b12a",
   "metadata": {},
   "outputs": [
    {
     "data": {
      "text/html": [
       "<div>\n",
       "<style scoped>\n",
       "    .dataframe tbody tr th:only-of-type {\n",
       "        vertical-align: middle;\n",
       "    }\n",
       "\n",
       "    .dataframe tbody tr th {\n",
       "        vertical-align: top;\n",
       "    }\n",
       "\n",
       "    .dataframe thead th {\n",
       "        text-align: right;\n",
       "    }\n",
       "</style>\n",
       "<table border=\"1\" class=\"dataframe\">\n",
       "  <thead>\n",
       "    <tr style=\"text-align: right;\">\n",
       "      <th></th>\n",
       "      <th>date</th>\n",
       "      <th>open</th>\n",
       "      <th>high</th>\n",
       "      <th>low</th>\n",
       "      <th>close</th>\n",
       "      <th>volume</th>\n",
       "      <th>Name</th>\n",
       "      <th>PrevClose</th>\n",
       "      <th>return</th>\n",
       "    </tr>\n",
       "  </thead>\n",
       "  <tbody>\n",
       "    <tr>\n",
       "      <th>0</th>\n",
       "      <td>2013-02-08</td>\n",
       "      <td>27.920</td>\n",
       "      <td>28.325</td>\n",
       "      <td>27.920</td>\n",
       "      <td>28.185</td>\n",
       "      <td>7146296</td>\n",
       "      <td>SBUX</td>\n",
       "      <td>NaN</td>\n",
       "      <td>NaN</td>\n",
       "    </tr>\n",
       "    <tr>\n",
       "      <th>1</th>\n",
       "      <td>2013-02-11</td>\n",
       "      <td>28.260</td>\n",
       "      <td>28.260</td>\n",
       "      <td>27.930</td>\n",
       "      <td>28.070</td>\n",
       "      <td>5457354</td>\n",
       "      <td>SBUX</td>\n",
       "      <td>28.185</td>\n",
       "      <td>-0.004080</td>\n",
       "    </tr>\n",
       "    <tr>\n",
       "      <th>2</th>\n",
       "      <td>2013-02-12</td>\n",
       "      <td>28.000</td>\n",
       "      <td>28.275</td>\n",
       "      <td>27.975</td>\n",
       "      <td>28.130</td>\n",
       "      <td>8665592</td>\n",
       "      <td>SBUX</td>\n",
       "      <td>28.070</td>\n",
       "      <td>0.002138</td>\n",
       "    </tr>\n",
       "    <tr>\n",
       "      <th>3</th>\n",
       "      <td>2013-02-13</td>\n",
       "      <td>28.230</td>\n",
       "      <td>28.230</td>\n",
       "      <td>27.750</td>\n",
       "      <td>27.915</td>\n",
       "      <td>7022056</td>\n",
       "      <td>SBUX</td>\n",
       "      <td>28.130</td>\n",
       "      <td>-0.007643</td>\n",
       "    </tr>\n",
       "    <tr>\n",
       "      <th>4</th>\n",
       "      <td>2013-02-14</td>\n",
       "      <td>27.765</td>\n",
       "      <td>27.905</td>\n",
       "      <td>27.675</td>\n",
       "      <td>27.775</td>\n",
       "      <td>8899188</td>\n",
       "      <td>SBUX</td>\n",
       "      <td>27.915</td>\n",
       "      <td>-0.005015</td>\n",
       "    </tr>\n",
       "  </tbody>\n",
       "</table>\n",
       "</div>"
      ],
      "text/plain": [
       "         date    open    high     low   close   volume  Name  PrevClose  \\\n",
       "0  2013-02-08  27.920  28.325  27.920  28.185  7146296  SBUX        NaN   \n",
       "1  2013-02-11  28.260  28.260  27.930  28.070  5457354  SBUX     28.185   \n",
       "2  2013-02-12  28.000  28.275  27.975  28.130  8665592  SBUX     28.070   \n",
       "3  2013-02-13  28.230  28.230  27.750  27.915  7022056  SBUX     28.130   \n",
       "4  2013-02-14  27.765  27.905  27.675  27.775  8899188  SBUX     27.915   \n",
       "\n",
       "     return  \n",
       "0       NaN  \n",
       "1 -0.004080  \n",
       "2  0.002138  \n",
       "3 -0.007643  \n",
       "4 -0.005015  "
      ]
     },
     "execution_count": 30,
     "metadata": {},
     "output_type": "execute_result"
    }
   ],
   "source": [
    "df.head()"
   ]
  },
  {
   "cell_type": "code",
   "execution_count": 31,
   "id": "3d442b4f",
   "metadata": {
    "scrolled": true
   },
   "outputs": [
    {
     "data": {
      "text/plain": [
       "<AxesSubplot:>"
      ]
     },
     "execution_count": 31,
     "metadata": {},
     "output_type": "execute_result"
    },
    {
     "data": {
      "image/png": "[encoded data removed]",
      "text/plain": [
       "<Figure size 432x288 with 1 Axes>"
      ]
     },
     "metadata": {
      "needs_background": "light"
     },
     "output_type": "display_data"
    }
   ],
   "source": [
    "# Now let's try an LSTM to predict returns\n",
    "df['return'].hist()"
   ]
  },
  {
   "cell_type": "code",
   "execution_count": null,
   "id": "8868d95b",
   "metadata": {},
   "outputs": [],
   "source": [
    "# +의 수익률이 -의 수익률보다 많다."
   ]
  },
  {
   "cell_type": "code",
   "execution_count": 32,
   "id": "36929436",
   "metadata": {},
   "outputs": [
    {
     "data": {
      "text/plain": [
       "array([-0.37879654,  0.12441548, -0.66715001, ..., -1.61585067,\n",
       "        1.31287055, -1.72223474])"
      ]
     },
     "execution_count": 32,
     "metadata": {},
     "output_type": "execute_result"
    }
   ],
   "source": [
    "series = df['return'].values[1:].reshape(-1, 1)\n",
    "\n",
    "# Normalize the data\n",
    "# Note: I didn't think about where the true boundary is, this is just approx.\n",
    "scaler = StandardScaler()\n",
    "scaler.fit(series[:len(series)])\n",
    "series = scaler.transform(series).flatten()\n",
    "series"
   ]
  },
  {
   "cell_type": "code",
   "execution_count": 33,
   "id": "7aad68e0",
   "metadata": {},
   "outputs": [
    {
     "name": "stdout",
     "output_type": "stream",
     "text": [
      "X.shape:(1248, 10, 1), Y.shape:(1248,), N.length:1248\n"
     ]
    }
   ],
   "source": [
    "### build the dataset\n",
    "# let's see if we can use T past values to predict the next value\n",
    "\n",
    "T = 10\n",
    "D = 1\n",
    "X = []\n",
    "Y = []\n",
    "\n",
    "for t in range(len(series) - T):\n",
    "    x = series[t:t+T]\n",
    "    X.append(x)\n",
    "    y = series[t+T]\n",
    "    Y.append(y)\n",
    "\n",
    "X = np.array(X).reshape(-1, T, 1)    \n",
    "Y = np.array(Y)\n",
    "N = len(X)\n",
    "print(f'X.shape:{X.shape}, Y.shape:{Y.shape}, N.length:{N}')"
   ]
  },
  {
   "cell_type": "code",
   "execution_count": 34,
   "id": "7170b041",
   "metadata": {
    "scrolled": true
   },
   "outputs": [
    {
     "name": "stdout",
     "output_type": "stream",
     "text": [
      "Epoch 1/100\n"
     ]
    },
    {
     "name": "stderr",
     "output_type": "stream",
     "text": [
      "C:\\Users\\user\\Desktop\\.ipynb_checkpoints\\lib\\site-packages\\keras\\optimizer_v2\\adam.py:105: UserWarning: The `lr` argument is deprecated, use `learning_rate` instead.\n",
      "  super(Adam, self).__init__(name, **kwargs)\n"
     ]
    },
    {
     "name": "stdout",
     "output_type": "stream",
     "text": [
      "20/20 [==============================] - 1s 20ms/step - loss: 0.9484 - accuracy: 0.0000e+00 - val_loss: 1.1323 - val_accuracy: 0.0000e+00\n",
      "Epoch 2/100\n",
      "20/20 [==============================] - 0s 5ms/step - loss: 0.9371 - accuracy: 0.0000e+00 - val_loss: 1.0900 - val_accuracy: 0.0000e+00\n",
      "Epoch 3/100\n",
      "20/20 [==============================] - 0s 5ms/step - loss: 0.9233 - accuracy: 0.0000e+00 - val_loss: 1.1403 - val_accuracy: 0.0000e+00\n",
      "Epoch 4/100\n",
      "20/20 [==============================] - 0s 5ms/step - loss: 0.9295 - accuracy: 0.0000e+00 - val_loss: 1.1795 - val_accuracy: 0.0000e+00\n",
      "Epoch 5/100\n",
      "20/20 [==============================] - 0s 5ms/step - loss: 0.9403 - accuracy: 0.0000e+00 - val_loss: 1.1107 - val_accuracy: 0.0000e+00\n",
      "Epoch 6/100\n",
      "20/20 [==============================] - 0s 5ms/step - loss: 0.9245 - accuracy: 0.0000e+00 - val_loss: 1.1019 - val_accuracy: 0.0000e+00\n",
      "Epoch 7/100\n",
      "20/20 [==============================] - 0s 5ms/step - loss: 0.9290 - accuracy: 0.0000e+00 - val_loss: 1.0847 - val_accuracy: 0.0000e+00\n",
      "Epoch 8/100\n",
      "20/20 [==============================] - 0s 5ms/step - loss: 0.9207 - accuracy: 0.0000e+00 - val_loss: 1.1628 - val_accuracy: 0.0000e+00\n",
      "Epoch 9/100\n",
      "20/20 [==============================] - 0s 5ms/step - loss: 0.9205 - accuracy: 0.0000e+00 - val_loss: 1.1465 - val_accuracy: 0.0000e+00\n",
      "Epoch 10/100\n",
      "20/20 [==============================] - 0s 5ms/step - loss: 0.9242 - accuracy: 0.0000e+00 - val_loss: 1.0679 - val_accuracy: 0.0000e+00\n",
      "Epoch 11/100\n",
      "20/20 [==============================] - 0s 5ms/step - loss: 0.9399 - accuracy: 0.0000e+00 - val_loss: 1.1073 - val_accuracy: 0.0000e+00\n",
      "Epoch 12/100\n",
      "20/20 [==============================] - 0s 5ms/step - loss: 0.9149 - accuracy: 0.0000e+00 - val_loss: 1.1135 - val_accuracy: 0.0000e+00\n",
      "Epoch 13/100\n",
      "20/20 [==============================] - 0s 5ms/step - loss: 0.9045 - accuracy: 0.0000e+00 - val_loss: 1.1597 - val_accuracy: 0.0000e+00\n",
      "Epoch 14/100\n",
      "20/20 [==============================] - 0s 5ms/step - loss: 0.9189 - accuracy: 0.0000e+00 - val_loss: 1.1530 - val_accuracy: 0.0000e+00\n",
      "Epoch 15/100\n",
      "20/20 [==============================] - 0s 5ms/step - loss: 0.9102 - accuracy: 0.0000e+00 - val_loss: 1.1708 - val_accuracy: 0.0000e+00\n",
      "Epoch 16/100\n",
      "20/20 [==============================] - 0s 5ms/step - loss: 0.8998 - accuracy: 0.0000e+00 - val_loss: 1.1785 - val_accuracy: 0.0000e+00\n",
      "Epoch 17/100\n",
      "20/20 [==============================] - 0s 5ms/step - loss: 0.9138 - accuracy: 0.0000e+00 - val_loss: 1.2447 - val_accuracy: 0.0000e+00\n",
      "Epoch 18/100\n",
      "20/20 [==============================] - 0s 5ms/step - loss: 0.9019 - accuracy: 0.0000e+00 - val_loss: 1.1205 - val_accuracy: 0.0000e+00\n",
      "Epoch 19/100\n",
      "20/20 [==============================] - 0s 5ms/step - loss: 0.9000 - accuracy: 0.0000e+00 - val_loss: 1.2633 - val_accuracy: 0.0000e+00\n",
      "Epoch 20/100\n",
      "20/20 [==============================] - 0s 5ms/step - loss: 0.9369 - accuracy: 0.0000e+00 - val_loss: 1.0914 - val_accuracy: 0.0000e+00\n",
      "Epoch 21/100\n",
      "20/20 [==============================] - 0s 6ms/step - loss: 0.9311 - accuracy: 0.0000e+00 - val_loss: 1.1212 - val_accuracy: 0.0000e+00\n",
      "Epoch 22/100\n",
      "20/20 [==============================] - 0s 5ms/step - loss: 0.8924 - accuracy: 0.0000e+00 - val_loss: 1.1648 - val_accuracy: 0.0000e+00\n",
      "Epoch 23/100\n",
      "20/20 [==============================] - 0s 6ms/step - loss: 0.8881 - accuracy: 0.0000e+00 - val_loss: 1.1627 - val_accuracy: 0.0000e+00\n",
      "Epoch 24/100\n",
      "20/20 [==============================] - 0s 5ms/step - loss: 0.9133 - accuracy: 0.0000e+00 - val_loss: 1.1927 - val_accuracy: 0.0000e+00\n",
      "Epoch 25/100\n",
      "20/20 [==============================] - 0s 5ms/step - loss: 0.9111 - accuracy: 0.0000e+00 - val_loss: 1.1980 - val_accuracy: 0.0000e+00\n",
      "Epoch 26/100\n",
      "20/20 [==============================] - 0s 6ms/step - loss: 0.9009 - accuracy: 0.0000e+00 - val_loss: 1.1291 - val_accuracy: 0.0000e+00\n",
      "Epoch 27/100\n",
      "20/20 [==============================] - 0s 6ms/step - loss: 0.9254 - accuracy: 0.0000e+00 - val_loss: 1.1105 - val_accuracy: 0.0000e+00\n",
      "Epoch 28/100\n",
      "20/20 [==============================] - 0s 6ms/step - loss: 0.9271 - accuracy: 0.0000e+00 - val_loss: 1.0837 - val_accuracy: 0.0000e+00\n",
      "Epoch 29/100\n",
      "20/20 [==============================] - 0s 5ms/step - loss: 0.9179 - accuracy: 0.0000e+00 - val_loss: 1.1052 - val_accuracy: 0.0000e+00\n",
      "Epoch 30/100\n",
      "20/20 [==============================] - 0s 7ms/step - loss: 0.9065 - accuracy: 0.0000e+00 - val_loss: 1.1672 - val_accuracy: 0.0000e+00\n",
      "Epoch 31/100\n",
      "20/20 [==============================] - 0s 5ms/step - loss: 0.9194 - accuracy: 0.0000e+00 - val_loss: 1.1337 - val_accuracy: 0.0000e+00\n",
      "Epoch 32/100\n",
      "20/20 [==============================] - 0s 5ms/step - loss: 0.8975 - accuracy: 0.0000e+00 - val_loss: 1.1478 - val_accuracy: 0.0000e+00\n",
      "Epoch 33/100\n",
      "20/20 [==============================] - 0s 5ms/step - loss: 0.9055 - accuracy: 0.0000e+00 - val_loss: 1.1953 - val_accuracy: 0.0000e+00\n",
      "Epoch 34/100\n",
      "20/20 [==============================] - 0s 5ms/step - loss: 0.8956 - accuracy: 0.0000e+00 - val_loss: 1.1474 - val_accuracy: 0.0000e+00\n",
      "Epoch 35/100\n",
      "20/20 [==============================] - 0s 5ms/step - loss: 0.8948 - accuracy: 0.0000e+00 - val_loss: 1.1835 - val_accuracy: 0.0000e+00\n",
      "Epoch 36/100\n",
      "20/20 [==============================] - 0s 5ms/step - loss: 0.8926 - accuracy: 0.0000e+00 - val_loss: 1.2536 - val_accuracy: 0.0000e+00\n",
      "Epoch 37/100\n",
      "20/20 [==============================] - 0s 5ms/step - loss: 0.8889 - accuracy: 0.0000e+00 - val_loss: 1.1799 - val_accuracy: 0.0000e+00\n",
      "Epoch 38/100\n",
      "20/20 [==============================] - 0s 5ms/step - loss: 0.8778 - accuracy: 0.0000e+00 - val_loss: 1.1663 - val_accuracy: 0.0000e+00\n",
      "Epoch 39/100\n",
      "20/20 [==============================] - 0s 5ms/step - loss: 0.9253 - accuracy: 0.0000e+00 - val_loss: 1.0679 - val_accuracy: 0.0000e+00\n",
      "Epoch 40/100\n",
      "20/20 [==============================] - 0s 5ms/step - loss: 0.9347 - accuracy: 0.0000e+00 - val_loss: 1.1990 - val_accuracy: 0.0000e+00\n",
      "Epoch 41/100\n",
      "20/20 [==============================] - 0s 5ms/step - loss: 0.9318 - accuracy: 0.0000e+00 - val_loss: 1.0910 - val_accuracy: 0.0000e+00\n",
      "Epoch 42/100\n",
      "20/20 [==============================] - 0s 7ms/step - loss: 0.9150 - accuracy: 0.0000e+00 - val_loss: 1.1449 - val_accuracy: 0.0000e+00\n",
      "Epoch 43/100\n",
      "20/20 [==============================] - 0s 5ms/step - loss: 0.8950 - accuracy: 0.0000e+00 - val_loss: 1.1023 - val_accuracy: 0.0000e+00\n",
      "Epoch 44/100\n",
      "20/20 [==============================] - 0s 5ms/step - loss: 0.8879 - accuracy: 0.0000e+00 - val_loss: 1.2415 - val_accuracy: 0.0000e+00\n",
      "Epoch 45/100\n",
      "20/20 [==============================] - 0s 6ms/step - loss: 0.8895 - accuracy: 0.0000e+00 - val_loss: 1.1095 - val_accuracy: 0.0000e+00\n",
      "Epoch 46/100\n",
      "20/20 [==============================] - 0s 5ms/step - loss: 0.9050 - accuracy: 0.0000e+00 - val_loss: 1.1403 - val_accuracy: 0.0000e+00\n",
      "Epoch 47/100\n",
      "20/20 [==============================] - 0s 6ms/step - loss: 0.9262 - accuracy: 0.0000e+00 - val_loss: 1.1283 - val_accuracy: 0.0000e+00\n",
      "Epoch 48/100\n",
      "20/20 [==============================] - 0s 5ms/step - loss: 0.9030 - accuracy: 0.0000e+00 - val_loss: 1.3311 - val_accuracy: 0.0000e+00\n",
      "Epoch 49/100\n",
      "20/20 [==============================] - 0s 5ms/step - loss: 0.9284 - accuracy: 0.0000e+00 - val_loss: 1.1629 - val_accuracy: 0.0000e+00\n",
      "Epoch 50/100\n",
      "20/20 [==============================] - 0s 5ms/step - loss: 0.9353 - accuracy: 0.0000e+00 - val_loss: 1.0855 - val_accuracy: 0.0000e+00\n",
      "Epoch 51/100\n",
      "20/20 [==============================] - 0s 5ms/step - loss: 0.9367 - accuracy: 0.0000e+00 - val_loss: 1.0839 - val_accuracy: 0.0000e+00\n",
      "Epoch 52/100\n",
      "20/20 [==============================] - 0s 6ms/step - loss: 0.9232 - accuracy: 0.0000e+00 - val_loss: 1.1345 - val_accuracy: 0.0000e+00\n",
      "Epoch 53/100\n",
      "20/20 [==============================] - 0s 5ms/step - loss: 0.9144 - accuracy: 0.0000e+00 - val_loss: 1.1225 - val_accuracy: 0.0000e+00\n",
      "Epoch 54/100\n",
      "20/20 [==============================] - 0s 5ms/step - loss: 0.9095 - accuracy: 0.0000e+00 - val_loss: 1.1001 - val_accuracy: 0.0000e+00\n",
      "Epoch 55/100\n",
      "20/20 [==============================] - 0s 6ms/step - loss: 0.9077 - accuracy: 0.0000e+00 - val_loss: 1.1055 - val_accuracy: 0.0000e+00\n"
     ]
    },
    {
     "name": "stdout",
     "output_type": "stream",
     "text": [
      "Epoch 56/100\n",
      "20/20 [==============================] - 0s 6ms/step - loss: 0.8911 - accuracy: 0.0000e+00 - val_loss: 1.1255 - val_accuracy: 0.0000e+00\n",
      "Epoch 57/100\n",
      "20/20 [==============================] - 0s 5ms/step - loss: 0.8855 - accuracy: 0.0000e+00 - val_loss: 1.1587 - val_accuracy: 0.0000e+00\n",
      "Epoch 58/100\n",
      "20/20 [==============================] - 0s 5ms/step - loss: 0.8801 - accuracy: 0.0000e+00 - val_loss: 1.1603 - val_accuracy: 0.0000e+00\n",
      "Epoch 59/100\n",
      "20/20 [==============================] - 0s 6ms/step - loss: 0.9072 - accuracy: 0.0000e+00 - val_loss: 1.1679 - val_accuracy: 0.0000e+00\n",
      "Epoch 60/100\n",
      "20/20 [==============================] - 0s 5ms/step - loss: 0.9855 - accuracy: 0.0000e+00 - val_loss: 1.1418 - val_accuracy: 0.0000e+00\n",
      "Epoch 61/100\n",
      "20/20 [==============================] - 0s 5ms/step - loss: 0.9812 - accuracy: 0.0000e+00 - val_loss: 1.0653 - val_accuracy: 0.0000e+00\n",
      "Epoch 62/100\n",
      "20/20 [==============================] - 0s 5ms/step - loss: 0.9315 - accuracy: 0.0000e+00 - val_loss: 1.1142 - val_accuracy: 0.0000e+00\n",
      "Epoch 63/100\n",
      "20/20 [==============================] - 0s 5ms/step - loss: 0.9133 - accuracy: 0.0000e+00 - val_loss: 1.1259 - val_accuracy: 0.0000e+00\n",
      "Epoch 64/100\n",
      "20/20 [==============================] - 0s 6ms/step - loss: 0.9193 - accuracy: 0.0000e+00 - val_loss: 1.1064 - val_accuracy: 0.0000e+00\n",
      "Epoch 65/100\n",
      "20/20 [==============================] - 0s 5ms/step - loss: 0.9588 - accuracy: 0.0000e+00 - val_loss: 1.0834 - val_accuracy: 0.0000e+00\n",
      "Epoch 66/100\n",
      "20/20 [==============================] - 0s 5ms/step - loss: 0.9045 - accuracy: 0.0000e+00 - val_loss: 1.1571 - val_accuracy: 0.0000e+00\n",
      "Epoch 67/100\n",
      "20/20 [==============================] - 0s 5ms/step - loss: 0.8999 - accuracy: 0.0000e+00 - val_loss: 1.1852 - val_accuracy: 0.0000e+00\n",
      "Epoch 68/100\n",
      "20/20 [==============================] - 0s 5ms/step - loss: 0.9028 - accuracy: 0.0000e+00 - val_loss: 1.2352 - val_accuracy: 0.0000e+00\n",
      "Epoch 69/100\n",
      "20/20 [==============================] - 0s 5ms/step - loss: 0.9270 - accuracy: 0.0000e+00 - val_loss: 1.1319 - val_accuracy: 0.0000e+00\n",
      "Epoch 70/100\n",
      "20/20 [==============================] - 0s 5ms/step - loss: 0.9204 - accuracy: 0.0000e+00 - val_loss: 1.1125 - val_accuracy: 0.0000e+00\n",
      "Epoch 71/100\n",
      "20/20 [==============================] - 0s 6ms/step - loss: 0.9024 - accuracy: 0.0000e+00 - val_loss: 1.1069 - val_accuracy: 0.0000e+00\n",
      "Epoch 72/100\n",
      "20/20 [==============================] - 0s 5ms/step - loss: 0.8919 - accuracy: 0.0000e+00 - val_loss: 1.1559 - val_accuracy: 0.0000e+00\n",
      "Epoch 73/100\n",
      "20/20 [==============================] - 0s 5ms/step - loss: 0.9004 - accuracy: 0.0000e+00 - val_loss: 1.1630 - val_accuracy: 0.0000e+00\n",
      "Epoch 74/100\n",
      "20/20 [==============================] - 0s 5ms/step - loss: 0.8785 - accuracy: 0.0000e+00 - val_loss: 1.1813 - val_accuracy: 0.0000e+00\n",
      "Epoch 75/100\n",
      "20/20 [==============================] - 0s 5ms/step - loss: 0.8954 - accuracy: 0.0000e+00 - val_loss: 1.1544 - val_accuracy: 0.0000e+00\n",
      "Epoch 76/100\n",
      "20/20 [==============================] - 0s 6ms/step - loss: 0.9177 - accuracy: 0.0000e+00 - val_loss: 1.1191 - val_accuracy: 0.0000e+00\n",
      "Epoch 77/100\n",
      "20/20 [==============================] - 0s 5ms/step - loss: 0.8975 - accuracy: 0.0000e+00 - val_loss: 1.1941 - val_accuracy: 0.0000e+00\n",
      "Epoch 78/100\n",
      "20/20 [==============================] - 0s 5ms/step - loss: 0.8867 - accuracy: 0.0000e+00 - val_loss: 1.2333 - val_accuracy: 0.0000e+00\n",
      "Epoch 79/100\n",
      "20/20 [==============================] - 0s 5ms/step - loss: 0.8911 - accuracy: 0.0000e+00 - val_loss: 1.2071 - val_accuracy: 0.0000e+00\n",
      "Epoch 80/100\n",
      "20/20 [==============================] - 0s 5ms/step - loss: 0.8699 - accuracy: 0.0000e+00 - val_loss: 1.2451 - val_accuracy: 0.0000e+00\n",
      "Epoch 81/100\n",
      "20/20 [==============================] - 0s 5ms/step - loss: 0.8738 - accuracy: 0.0000e+00 - val_loss: 1.1736 - val_accuracy: 0.0000e+00\n",
      "Epoch 82/100\n",
      "20/20 [==============================] - 0s 5ms/step - loss: 0.9225 - accuracy: 0.0000e+00 - val_loss: 1.1685 - val_accuracy: 0.0000e+00\n",
      "Epoch 83/100\n",
      "20/20 [==============================] - 0s 5ms/step - loss: 0.8938 - accuracy: 0.0000e+00 - val_loss: 1.1897 - val_accuracy: 0.0000e+00\n",
      "Epoch 84/100\n",
      "20/20 [==============================] - 0s 6ms/step - loss: 0.8757 - accuracy: 0.0000e+00 - val_loss: 1.1710 - val_accuracy: 0.0000e+00\n",
      "Epoch 85/100\n",
      "20/20 [==============================] - 0s 5ms/step - loss: 0.8803 - accuracy: 0.0000e+00 - val_loss: 1.2903 - val_accuracy: 0.0000e+00\n",
      "Epoch 86/100\n",
      "20/20 [==============================] - 0s 5ms/step - loss: 0.8935 - accuracy: 0.0000e+00 - val_loss: 1.2369 - val_accuracy: 0.0000e+00\n",
      "Epoch 87/100\n",
      "20/20 [==============================] - 0s 5ms/step - loss: 0.8629 - accuracy: 0.0000e+00 - val_loss: 1.2026 - val_accuracy: 0.0000e+00\n",
      "Epoch 88/100\n",
      "20/20 [==============================] - 0s 5ms/step - loss: 0.8586 - accuracy: 0.0000e+00 - val_loss: 1.1938 - val_accuracy: 0.0000e+00\n",
      "Epoch 89/100\n",
      "20/20 [==============================] - 0s 6ms/step - loss: 0.8806 - accuracy: 0.0000e+00 - val_loss: 1.2209 - val_accuracy: 0.0000e+00\n",
      "Epoch 90/100\n",
      "20/20 [==============================] - 0s 6ms/step - loss: 0.8667 - accuracy: 0.0000e+00 - val_loss: 1.2068 - val_accuracy: 0.0000e+00\n",
      "Epoch 91/100\n",
      "20/20 [==============================] - 0s 5ms/step - loss: 0.8771 - accuracy: 0.0000e+00 - val_loss: 1.2245 - val_accuracy: 0.0000e+00\n",
      "Epoch 92/100\n",
      "20/20 [==============================] - 0s 5ms/step - loss: 0.8522 - accuracy: 0.0000e+00 - val_loss: 1.1772 - val_accuracy: 0.0000e+00\n",
      "Epoch 93/100\n",
      "20/20 [==============================] - 0s 6ms/step - loss: 0.8537 - accuracy: 0.0000e+00 - val_loss: 1.2871 - val_accuracy: 0.0000e+00\n",
      "Epoch 94/100\n",
      "20/20 [==============================] - 0s 5ms/step - loss: 0.8612 - accuracy: 0.0000e+00 - val_loss: 1.2264 - val_accuracy: 0.0000e+00\n",
      "Epoch 95/100\n",
      "20/20 [==============================] - 0s 5ms/step - loss: 0.8501 - accuracy: 0.0000e+00 - val_loss: 1.2284 - val_accuracy: 0.0000e+00\n",
      "Epoch 96/100\n",
      "20/20 [==============================] - 0s 6ms/step - loss: 0.8787 - accuracy: 0.0000e+00 - val_loss: 1.2038 - val_accuracy: 0.0000e+00\n",
      "Epoch 97/100\n",
      "20/20 [==============================] - 0s 5ms/step - loss: 0.8667 - accuracy: 0.0000e+00 - val_loss: 1.2392 - val_accuracy: 0.0000e+00\n",
      "Epoch 98/100\n",
      "20/20 [==============================] - 0s 5ms/step - loss: 0.8456 - accuracy: 0.0000e+00 - val_loss: 1.2087 - val_accuracy: 0.0000e+00\n",
      "Epoch 99/100\n",
      "20/20 [==============================] - 0s 5ms/step - loss: 0.8434 - accuracy: 0.0000e+00 - val_loss: 1.2160 - val_accuracy: 0.0000e+00\n",
      "Epoch 100/100\n",
      "20/20 [==============================] - 0s 5ms/step - loss: 0.8416 - accuracy: 0.0000e+00 - val_loss: 1.2364 - val_accuracy: 0.0000e+00\n"
     ]
    }
   ],
   "source": [
    "### try autoregressive RNN model\n",
    "\n",
    "i = Input(shape = (T, 1)) # feature가 1개. - 주식\n",
    "x = LSTM(5)(i)\n",
    "x = Dense(1)(x)\n",
    "model = Model(i, x)\n",
    "model.compile(loss = 'mse', optimizer = Adam(lr = 0.1), \n",
    "              metrics = ['accuracy'])\n",
    "\n",
    "# train the RNN\n",
    "r = model.fit(X[:-N//2], Y[:-N//2], epochs = 100,\n",
    "             validation_data = (X[-N//2:], Y[-N//2:]))"
   ]
  },
  {
   "cell_type": "code",
   "execution_count": 35,
   "id": "527f7cbf",
   "metadata": {
    "scrolled": true
   },
   "outputs": [
    {
     "data": {
      "image/png": "[encoded data removed]",
      "text/plain": [
       "<Figure size 432x288 with 1 Axes>"
      ]
     },
     "metadata": {
      "needs_background": "light"
     },
     "output_type": "display_data"
    }
   ],
   "source": [
    "# plot accuracy per iteration\n",
    "\n",
    "plt.plot(r.history['loss'], label = 'loss')\n",
    "plt.plot(r.history['val_loss'], label = 'val_loss')\n",
    "plt.legend()\n",
    "plt.show()"
   ]
  },
  {
   "cell_type": "code",
   "execution_count": null,
   "id": "927fae30",
   "metadata": {},
   "outputs": [],
   "source": [
    "# 결과가 썩 좋지 않음,.,"
   ]
  },
  {
   "cell_type": "code",
   "execution_count": 37,
   "id": "3b39073a",
   "metadata": {},
   "outputs": [
    {
     "data": {
      "image/png": "[encoded data removed]",
      "text/plain": [
       "<Figure size 432x288 with 1 Axes>"
      ]
     },
     "metadata": {
      "needs_background": "light"
     },
     "output_type": "display_data"
    }
   ],
   "source": [
    "# One-step forecast using true targets (예측할 데이터 값)\n",
    "predicts = model.predict(X)\n",
    "predicts.shape\n",
    "final_predictions = predicts[:, 0]\n",
    "\n",
    "# forecast graph\n",
    "plt.plot(Y, label = 'targets')\n",
    "plt.plot(final_predictions, label = 'predictions')\n",
    "plt.legend()\n",
    "plt.show()"
   ]
  },
  {
   "cell_type": "code",
   "execution_count": 38,
   "id": "8d52bbff",
   "metadata": {},
   "outputs": [
    {
     "data": {
      "image/png": "[encoded data removed]",
      "text/plain": [
       "<Figure size 432x288 with 1 Axes>"
      ]
     },
     "metadata": {
      "needs_background": "light"
     },
     "output_type": "display_data"
    }
   ],
   "source": [
    "# Multi-step forecast(time sequences)\n",
    "validation_target = Y[-N//2:]\n",
    "validation_predictions = []\n",
    "\n",
    "# last train input\n",
    "last_x = X[-N//2]\n",
    "\n",
    "# 진짜 데이터 수보다 많이 예측할 필요가 없으니까,,\n",
    "while len(validation_predictions) < len(validation_target):\n",
    "    p = model.predict(last_x.reshape(1, T, 1))[0, 0]\n",
    "    validation_predictions.append(p)\n",
    "    \n",
    "    last_x = np.roll(last_x, -1) # time sequences\n",
    "    last_x[-1] = p\n",
    "    \n",
    "# forecast graph\n",
    "plt.plot(validation_target, label = 'targets')\n",
    "plt.plot(validation_predictions, label = 'predictions')\n",
    "plt.legend()\n",
    "plt.show()"
   ]
  },
  {
   "cell_type": "code",
   "execution_count": 39,
   "id": "4af87203",
   "metadata": {},
   "outputs": [],
   "source": [
    "# Now turn the full data into numpy arrays\n",
    "\n",
    "# Not yet in the final \"X\" format\n",
    "input_data = df[['open', 'high', 'low', 'close', 'volume']].values\n",
    "targets = df['return'].values"
   ]
  },
  {
   "cell_type": "code",
   "execution_count": 51,
   "id": "be7df672",
   "metadata": {},
   "outputs": [
    {
     "data": {
      "text/plain": [
       "(1259, 5)"
      ]
     },
     "execution_count": 51,
     "metadata": {},
     "output_type": "execute_result"
    }
   ],
   "source": [
    "input_data.shape"
   ]
  },
  {
   "cell_type": "code",
   "execution_count": 40,
   "id": "8fec232e",
   "metadata": {},
   "outputs": [],
   "source": [
    "# Now make the actual data which will go into the nerual network\n",
    "T = 10 # the number of time atape to look at to make a prediction for the next day\n",
    "D = input_data.shape[1] # 5\n",
    "N = len(input_data) - T # sequences data"
   ]
  },
  {
   "cell_type": "code",
   "execution_count": 42,
   "id": "d901a140",
   "metadata": {},
   "outputs": [],
   "source": [
    "# normalize the inputs\n",
    "Ntrain = len(input_data) * 2 // 3 # 데이터의 2/3으로 나눔.\n",
    "scaler = StandardScaler()\n",
    "scaler.fit(input_data[:Ntrain + T]) # sequences data여서 마지막 데이터 + 10여야 하니까.\n",
    "input_data = scaler.transform(input_data)"
   ]
  },
  {
   "cell_type": "code",
   "execution_count": 45,
   "id": "374dc169",
   "metadata": {},
   "outputs": [],
   "source": [
    "# Setup X_train and Y_train\n",
    "X_train = np.zeros((Ntrain, T, D))\n",
    "Y_train = np.zeros(Ntrain)\n",
    "\n",
    "for t in range(Ntrain):\n",
    "  X_train[t, :, :] = input_data[t:t+T]\n",
    "  Y_train[t] = (targets[t+T] > 0)"
   ]
  },
  {
   "cell_type": "code",
   "execution_count": 46,
   "id": "bf16471d",
   "metadata": {},
   "outputs": [],
   "source": [
    "# Setup X_test and Y_test\n",
    "# Setup X_test and Y_test\n",
    "X_test = np.zeros((N - Ntrain, T, D))\n",
    "Y_test = np.zeros(N -Ntrain)\n",
    "\n",
    "for u in range(N - Ntrain):\n",
    "  # u counts from 0...(N-Ntrain)\n",
    "  # t counts from Ntrain...N\n",
    "  t = u + Ntrain\n",
    "  X_test[u, :, :] = input_data[t:t+T]\n",
    "  Y_test[u] = (targets[t+T] > 0)"
   ]
  },
  {
   "cell_type": "code",
   "execution_count": 47,
   "id": "cc1c611c",
   "metadata": {},
   "outputs": [
    {
     "name": "stderr",
     "output_type": "stream",
     "text": [
      "C:\\Users\\user\\Desktop\\.ipynb_checkpoints\\lib\\site-packages\\keras\\optimizer_v2\\adam.py:105: UserWarning: The `lr` argument is deprecated, use `learning_rate` instead.\n",
      "  super(Adam, self).__init__(name, **kwargs)\n"
     ]
    }
   ],
   "source": [
    "# make the RNN\n",
    "# make the RNN\n",
    "i = Input(shape=(T, D))\n",
    "x = LSTM(50)(i)\n",
    "x = Dense(1, activation='sigmoid')(x)\n",
    "model = Model(i, x)\n",
    "model.compile(\n",
    "    loss='binary_crossentropy',\n",
    "    optimizer=Adam(lr=0.001),\n",
    "    metrics=['accuracy']\n",
    ")"
   ]
  },
  {
   "cell_type": "code",
   "execution_count": 48,
   "id": "81cbc67f",
   "metadata": {
    "scrolled": true
   },
   "outputs": [
    {
     "name": "stdout",
     "output_type": "stream",
     "text": [
      "Epoch 1/300\n",
      "27/27 [==============================] - 1s 16ms/step - loss: 0.6973 - accuracy: 0.4815 - val_loss: 0.6929 - val_accuracy: 0.4951\n",
      "Epoch 2/300\n",
      "27/27 [==============================] - 0s 4ms/step - loss: 0.6933 - accuracy: 0.5209 - val_loss: 0.6947 - val_accuracy: 0.4878\n",
      "Epoch 3/300\n",
      "27/27 [==============================] - 0s 4ms/step - loss: 0.6948 - accuracy: 0.4994 - val_loss: 0.6948 - val_accuracy: 0.4854\n",
      "Epoch 4/300\n",
      "27/27 [==============================] - 0s 4ms/step - loss: 0.6917 - accuracy: 0.5304 - val_loss: 0.6926 - val_accuracy: 0.5317\n",
      "Epoch 5/300\n",
      "27/27 [==============================] - 0s 4ms/step - loss: 0.6917 - accuracy: 0.5221 - val_loss: 0.6923 - val_accuracy: 0.5293\n",
      "Epoch 6/300\n",
      "27/27 [==============================] - 0s 4ms/step - loss: 0.6914 - accuracy: 0.5221 - val_loss: 0.6960 - val_accuracy: 0.4902\n",
      "Epoch 7/300\n",
      "27/27 [==============================] - 0s 4ms/step - loss: 0.6926 - accuracy: 0.5328 - val_loss: 0.6966 - val_accuracy: 0.4878\n",
      "Epoch 8/300\n",
      "27/27 [==============================] - 0s 4ms/step - loss: 0.6909 - accuracy: 0.5077 - val_loss: 0.6945 - val_accuracy: 0.4927\n",
      "Epoch 9/300\n",
      "27/27 [==============================] - 0s 4ms/step - loss: 0.6894 - accuracy: 0.5375 - val_loss: 0.6940 - val_accuracy: 0.5000\n",
      "Epoch 10/300\n",
      "27/27 [==============================] - 0s 4ms/step - loss: 0.6896 - accuracy: 0.5375 - val_loss: 0.6919 - val_accuracy: 0.5220\n",
      "Epoch 11/300\n",
      "27/27 [==============================] - 0s 4ms/step - loss: 0.6895 - accuracy: 0.5304 - val_loss: 0.6933 - val_accuracy: 0.5024\n",
      "Epoch 12/300\n",
      "27/27 [==============================] - 0s 4ms/step - loss: 0.6888 - accuracy: 0.5375 - val_loss: 0.6925 - val_accuracy: 0.4854\n",
      "Epoch 13/300\n",
      "27/27 [==============================] - 0s 4ms/step - loss: 0.6890 - accuracy: 0.5280 - val_loss: 0.6939 - val_accuracy: 0.4976\n",
      "Epoch 14/300\n",
      "27/27 [==============================] - 0s 4ms/step - loss: 0.6878 - accuracy: 0.5542 - val_loss: 0.6925 - val_accuracy: 0.4902\n",
      "Epoch 15/300\n",
      "27/27 [==============================] - 0s 4ms/step - loss: 0.6889 - accuracy: 0.5185 - val_loss: 0.6916 - val_accuracy: 0.5244\n",
      "Epoch 16/300\n",
      "27/27 [==============================] - 0s 4ms/step - loss: 0.6897 - accuracy: 0.5364 - val_loss: 0.6941 - val_accuracy: 0.4854\n",
      "Epoch 17/300\n",
      "27/27 [==============================] - 0s 4ms/step - loss: 0.6891 - accuracy: 0.5328 - val_loss: 0.6929 - val_accuracy: 0.4878\n",
      "Epoch 18/300\n",
      "27/27 [==============================] - 0s 4ms/step - loss: 0.6874 - accuracy: 0.5316 - val_loss: 0.6926 - val_accuracy: 0.5073\n",
      "Epoch 19/300\n",
      "27/27 [==============================] - 0s 4ms/step - loss: 0.6869 - accuracy: 0.5423 - val_loss: 0.6953 - val_accuracy: 0.4805\n",
      "Epoch 20/300\n",
      "27/27 [==============================] - 0s 5ms/step - loss: 0.6866 - accuracy: 0.5387 - val_loss: 0.6958 - val_accuracy: 0.4951\n",
      "Epoch 21/300\n",
      "27/27 [==============================] - 0s 5ms/step - loss: 0.6871 - accuracy: 0.5375 - val_loss: 0.6917 - val_accuracy: 0.5171\n",
      "Epoch 22/300\n",
      "27/27 [==============================] - 0s 5ms/step - loss: 0.6860 - accuracy: 0.5471 - val_loss: 0.6933 - val_accuracy: 0.5098\n",
      "Epoch 23/300\n",
      "27/27 [==============================] - 0s 4ms/step - loss: 0.6864 - accuracy: 0.5364 - val_loss: 0.6953 - val_accuracy: 0.4927\n",
      "Epoch 24/300\n",
      "27/27 [==============================] - 0s 4ms/step - loss: 0.6874 - accuracy: 0.5495 - val_loss: 0.6919 - val_accuracy: 0.5146\n",
      "Epoch 25/300\n",
      "27/27 [==============================] - 0s 4ms/step - loss: 0.6850 - accuracy: 0.5507 - val_loss: 0.6966 - val_accuracy: 0.4805\n",
      "Epoch 26/300\n",
      "27/27 [==============================] - 0s 4ms/step - loss: 0.6852 - accuracy: 0.5518 - val_loss: 0.6918 - val_accuracy: 0.5341\n",
      "Epoch 27/300\n",
      "27/27 [==============================] - 0s 4ms/step - loss: 0.6847 - accuracy: 0.5423 - val_loss: 0.6936 - val_accuracy: 0.5195\n",
      "Epoch 28/300\n",
      "27/27 [==============================] - 0s 4ms/step - loss: 0.6843 - accuracy: 0.5638 - val_loss: 0.6956 - val_accuracy: 0.5049\n",
      "Epoch 29/300\n",
      "27/27 [==============================] - 0s 4ms/step - loss: 0.6841 - accuracy: 0.5507 - val_loss: 0.6965 - val_accuracy: 0.5073\n",
      "Epoch 30/300\n",
      "27/27 [==============================] - 0s 4ms/step - loss: 0.6857 - accuracy: 0.5364 - val_loss: 0.6929 - val_accuracy: 0.5293\n",
      "Epoch 31/300\n",
      "27/27 [==============================] - 0s 5ms/step - loss: 0.6841 - accuracy: 0.5769 - val_loss: 0.6987 - val_accuracy: 0.4854\n",
      "Epoch 32/300\n",
      "27/27 [==============================] - 0s 4ms/step - loss: 0.6846 - accuracy: 0.5423 - val_loss: 0.6966 - val_accuracy: 0.5098\n",
      "Epoch 33/300\n",
      "27/27 [==============================] - 0s 4ms/step - loss: 0.6831 - accuracy: 0.5805 - val_loss: 0.6955 - val_accuracy: 0.5220\n",
      "Epoch 34/300\n",
      "27/27 [==============================] - 0s 4ms/step - loss: 0.6811 - accuracy: 0.5816 - val_loss: 0.6946 - val_accuracy: 0.5146\n",
      "Epoch 35/300\n",
      "27/27 [==============================] - 0s 4ms/step - loss: 0.6824 - accuracy: 0.5840 - val_loss: 0.6985 - val_accuracy: 0.4976\n",
      "Epoch 36/300\n",
      "27/27 [==============================] - 0s 4ms/step - loss: 0.6810 - accuracy: 0.5614 - val_loss: 0.6969 - val_accuracy: 0.5049\n",
      "Epoch 37/300\n",
      "27/27 [==============================] - 0s 4ms/step - loss: 0.6805 - accuracy: 0.5793 - val_loss: 0.6965 - val_accuracy: 0.5195\n",
      "Epoch 38/300\n",
      "27/27 [==============================] - 0s 4ms/step - loss: 0.6820 - accuracy: 0.5530 - val_loss: 0.6948 - val_accuracy: 0.5317\n",
      "Epoch 39/300\n",
      "27/27 [==============================] - 0s 4ms/step - loss: 0.6796 - accuracy: 0.5805 - val_loss: 0.6950 - val_accuracy: 0.5268\n",
      "Epoch 40/300\n",
      "27/27 [==============================] - 0s 4ms/step - loss: 0.6795 - accuracy: 0.5805 - val_loss: 0.6991 - val_accuracy: 0.4902\n",
      "Epoch 41/300\n",
      "27/27 [==============================] - 0s 5ms/step - loss: 0.6794 - accuracy: 0.5697 - val_loss: 0.6978 - val_accuracy: 0.5098\n",
      "Epoch 42/300\n",
      "27/27 [==============================] - 0s 4ms/step - loss: 0.6777 - accuracy: 0.5673 - val_loss: 0.7010 - val_accuracy: 0.4927\n",
      "Epoch 43/300\n",
      "27/27 [==============================] - 0s 4ms/step - loss: 0.6775 - accuracy: 0.5602 - val_loss: 0.6994 - val_accuracy: 0.5098\n",
      "Epoch 44/300\n",
      "27/27 [==============================] - 0s 5ms/step - loss: 0.6764 - accuracy: 0.5685 - val_loss: 0.6981 - val_accuracy: 0.5098\n",
      "Epoch 45/300\n",
      "27/27 [==============================] - 0s 5ms/step - loss: 0.6781 - accuracy: 0.5662 - val_loss: 0.6987 - val_accuracy: 0.5049\n",
      "Epoch 46/300\n",
      "27/27 [==============================] - 0s 5ms/step - loss: 0.6744 - accuracy: 0.5757 - val_loss: 0.6979 - val_accuracy: 0.5146\n",
      "Epoch 47/300\n",
      "27/27 [==============================] - 0s 5ms/step - loss: 0.6749 - accuracy: 0.5697 - val_loss: 0.6975 - val_accuracy: 0.5098\n",
      "Epoch 48/300\n",
      "27/27 [==============================] - 0s 5ms/step - loss: 0.6742 - accuracy: 0.5757 - val_loss: 0.6989 - val_accuracy: 0.4927\n",
      "Epoch 49/300\n",
      "27/27 [==============================] - 0s 5ms/step - loss: 0.6755 - accuracy: 0.5638 - val_loss: 0.6966 - val_accuracy: 0.5098\n",
      "Epoch 50/300\n",
      "27/27 [==============================] - 0s 5ms/step - loss: 0.6725 - accuracy: 0.5590 - val_loss: 0.6973 - val_accuracy: 0.4902\n",
      "Epoch 51/300\n",
      "27/27 [==============================] - 0s 5ms/step - loss: 0.6702 - accuracy: 0.5757 - val_loss: 0.7016 - val_accuracy: 0.4902\n",
      "Epoch 52/300\n",
      "27/27 [==============================] - 0s 5ms/step - loss: 0.6694 - accuracy: 0.5745 - val_loss: 0.7006 - val_accuracy: 0.4951\n",
      "Epoch 53/300\n",
      "27/27 [==============================] - 0s 5ms/step - loss: 0.6695 - accuracy: 0.5757 - val_loss: 0.7010 - val_accuracy: 0.4902\n",
      "Epoch 54/300\n",
      "27/27 [==============================] - 0s 5ms/step - loss: 0.6714 - accuracy: 0.5745 - val_loss: 0.7022 - val_accuracy: 0.4756\n",
      "Epoch 55/300\n",
      "27/27 [==============================] - 0s 5ms/step - loss: 0.6701 - accuracy: 0.5781 - val_loss: 0.7023 - val_accuracy: 0.4927\n",
      "Epoch 56/300\n",
      "27/27 [==============================] - 0s 5ms/step - loss: 0.6681 - accuracy: 0.5685 - val_loss: 0.7064 - val_accuracy: 0.4951\n",
      "Epoch 57/300\n",
      "27/27 [==============================] - 0s 5ms/step - loss: 0.6655 - accuracy: 0.5673 - val_loss: 0.7020 - val_accuracy: 0.5000\n",
      "Epoch 58/300\n",
      "27/27 [==============================] - 0s 5ms/step - loss: 0.6657 - accuracy: 0.5888 - val_loss: 0.7023 - val_accuracy: 0.5024\n"
     ]
    },
    {
     "name": "stdout",
     "output_type": "stream",
     "text": [
      "Epoch 59/300\n",
      "27/27 [==============================] - 0s 5ms/step - loss: 0.6667 - accuracy: 0.5840 - val_loss: 0.7038 - val_accuracy: 0.4902\n",
      "Epoch 60/300\n",
      "27/27 [==============================] - 0s 5ms/step - loss: 0.6631 - accuracy: 0.5912 - val_loss: 0.7065 - val_accuracy: 0.4878\n",
      "Epoch 61/300\n",
      "27/27 [==============================] - 0s 5ms/step - loss: 0.6632 - accuracy: 0.5828 - val_loss: 0.7081 - val_accuracy: 0.4805\n",
      "Epoch 62/300\n",
      "27/27 [==============================] - 0s 5ms/step - loss: 0.6654 - accuracy: 0.5840 - val_loss: 0.7125 - val_accuracy: 0.4976\n",
      "Epoch 63/300\n",
      "27/27 [==============================] - 0s 5ms/step - loss: 0.6637 - accuracy: 0.5876 - val_loss: 0.7104 - val_accuracy: 0.4927\n",
      "Epoch 64/300\n",
      "27/27 [==============================] - 0s 5ms/step - loss: 0.6596 - accuracy: 0.5971 - val_loss: 0.7079 - val_accuracy: 0.4976\n",
      "Epoch 65/300\n",
      "27/27 [==============================] - 0s 4ms/step - loss: 0.6588 - accuracy: 0.5852 - val_loss: 0.7126 - val_accuracy: 0.4854\n",
      "Epoch 66/300\n",
      "27/27 [==============================] - 0s 4ms/step - loss: 0.6576 - accuracy: 0.5900 - val_loss: 0.7099 - val_accuracy: 0.4878\n",
      "Epoch 67/300\n",
      "27/27 [==============================] - 0s 5ms/step - loss: 0.6569 - accuracy: 0.5983 - val_loss: 0.7143 - val_accuracy: 0.4829\n",
      "Epoch 68/300\n",
      "27/27 [==============================] - 0s 5ms/step - loss: 0.6561 - accuracy: 0.6019 - val_loss: 0.7097 - val_accuracy: 0.4902\n",
      "Epoch 69/300\n",
      "27/27 [==============================] - 0s 4ms/step - loss: 0.6559 - accuracy: 0.6055 - val_loss: 0.7128 - val_accuracy: 0.4976\n",
      "Epoch 70/300\n",
      "27/27 [==============================] - 0s 4ms/step - loss: 0.6583 - accuracy: 0.5912 - val_loss: 0.7199 - val_accuracy: 0.4659\n",
      "Epoch 71/300\n",
      "27/27 [==============================] - 0s 4ms/step - loss: 0.6525 - accuracy: 0.6007 - val_loss: 0.7152 - val_accuracy: 0.4878\n",
      "Epoch 72/300\n",
      "27/27 [==============================] - 0s 4ms/step - loss: 0.6503 - accuracy: 0.6031 - val_loss: 0.7181 - val_accuracy: 0.4927\n",
      "Epoch 73/300\n",
      "27/27 [==============================] - 0s 4ms/step - loss: 0.6505 - accuracy: 0.6043 - val_loss: 0.7149 - val_accuracy: 0.4927\n",
      "Epoch 74/300\n",
      "27/27 [==============================] - 0s 4ms/step - loss: 0.6468 - accuracy: 0.5959 - val_loss: 0.7216 - val_accuracy: 0.4902\n",
      "Epoch 75/300\n",
      "27/27 [==============================] - 0s 5ms/step - loss: 0.6479 - accuracy: 0.5936 - val_loss: 0.7240 - val_accuracy: 0.4878\n",
      "Epoch 76/300\n",
      "27/27 [==============================] - 0s 4ms/step - loss: 0.6466 - accuracy: 0.6091 - val_loss: 0.7216 - val_accuracy: 0.4780\n",
      "Epoch 77/300\n",
      "27/27 [==============================] - 0s 4ms/step - loss: 0.6475 - accuracy: 0.5983 - val_loss: 0.7118 - val_accuracy: 0.4878\n",
      "Epoch 78/300\n",
      "27/27 [==============================] - 0s 4ms/step - loss: 0.6463 - accuracy: 0.6138 - val_loss: 0.7217 - val_accuracy: 0.4756\n",
      "Epoch 79/300\n",
      "27/27 [==============================] - 0s 4ms/step - loss: 0.6409 - accuracy: 0.6222 - val_loss: 0.7232 - val_accuracy: 0.5098\n",
      "Epoch 80/300\n",
      "27/27 [==============================] - 0s 4ms/step - loss: 0.6398 - accuracy: 0.6198 - val_loss: 0.7233 - val_accuracy: 0.4902\n",
      "Epoch 81/300\n",
      "27/27 [==============================] - 0s 4ms/step - loss: 0.6385 - accuracy: 0.6269 - val_loss: 0.7223 - val_accuracy: 0.4829\n",
      "Epoch 82/300\n",
      "27/27 [==============================] - 0s 4ms/step - loss: 0.6356 - accuracy: 0.6055 - val_loss: 0.7227 - val_accuracy: 0.5000\n",
      "Epoch 83/300\n",
      "27/27 [==============================] - 0s 4ms/step - loss: 0.6445 - accuracy: 0.5995 - val_loss: 0.7262 - val_accuracy: 0.4854\n",
      "Epoch 84/300\n",
      "27/27 [==============================] - 0s 4ms/step - loss: 0.6326 - accuracy: 0.6234 - val_loss: 0.7317 - val_accuracy: 0.5098\n",
      "Epoch 85/300\n",
      "27/27 [==============================] - 0s 4ms/step - loss: 0.6335 - accuracy: 0.6234 - val_loss: 0.7264 - val_accuracy: 0.4732\n",
      "Epoch 86/300\n",
      "27/27 [==============================] - 0s 4ms/step - loss: 0.6307 - accuracy: 0.6103 - val_loss: 0.7320 - val_accuracy: 0.5049\n",
      "Epoch 87/300\n",
      "27/27 [==============================] - 0s 4ms/step - loss: 0.6306 - accuracy: 0.6246 - val_loss: 0.7256 - val_accuracy: 0.4878\n",
      "Epoch 88/300\n",
      "27/27 [==============================] - 0s 4ms/step - loss: 0.6245 - accuracy: 0.6400 - val_loss: 0.7359 - val_accuracy: 0.4829\n",
      "Epoch 89/300\n",
      "27/27 [==============================] - 0s 4ms/step - loss: 0.6249 - accuracy: 0.6222 - val_loss: 0.7316 - val_accuracy: 0.4634\n",
      "Epoch 90/300\n",
      "27/27 [==============================] - 0s 5ms/step - loss: 0.6242 - accuracy: 0.6484 - val_loss: 0.7373 - val_accuracy: 0.4878\n",
      "Epoch 91/300\n",
      "27/27 [==============================] - 0s 4ms/step - loss: 0.6221 - accuracy: 0.6436 - val_loss: 0.7295 - val_accuracy: 0.4634\n",
      "Epoch 92/300\n",
      "27/27 [==============================] - 0s 4ms/step - loss: 0.6226 - accuracy: 0.6269 - val_loss: 0.7291 - val_accuracy: 0.4878\n",
      "Epoch 93/300\n",
      "27/27 [==============================] - 0s 4ms/step - loss: 0.6170 - accuracy: 0.6377 - val_loss: 0.7290 - val_accuracy: 0.4780\n",
      "Epoch 94/300\n",
      "27/27 [==============================] - 0s 4ms/step - loss: 0.6180 - accuracy: 0.6293 - val_loss: 0.7378 - val_accuracy: 0.4976\n",
      "Epoch 95/300\n",
      "27/27 [==============================] - 0s 4ms/step - loss: 0.6115 - accuracy: 0.6424 - val_loss: 0.7321 - val_accuracy: 0.4854\n",
      "Epoch 96/300\n",
      "27/27 [==============================] - 0s 4ms/step - loss: 0.6056 - accuracy: 0.6472 - val_loss: 0.7437 - val_accuracy: 0.4902\n",
      "Epoch 97/300\n",
      "27/27 [==============================] - 0s 4ms/step - loss: 0.6072 - accuracy: 0.6508 - val_loss: 0.7431 - val_accuracy: 0.4854\n",
      "Epoch 98/300\n",
      "27/27 [==============================] - 0s 4ms/step - loss: 0.6025 - accuracy: 0.6520 - val_loss: 0.7404 - val_accuracy: 0.4854\n",
      "Epoch 99/300\n",
      "27/27 [==============================] - 0s 4ms/step - loss: 0.6039 - accuracy: 0.6591 - val_loss: 0.7432 - val_accuracy: 0.4829\n",
      "Epoch 100/300\n",
      "27/27 [==============================] - 0s 4ms/step - loss: 0.6032 - accuracy: 0.6579 - val_loss: 0.7426 - val_accuracy: 0.4829\n",
      "Epoch 101/300\n",
      "27/27 [==============================] - 0s 4ms/step - loss: 0.6036 - accuracy: 0.6484 - val_loss: 0.7554 - val_accuracy: 0.4829\n",
      "Epoch 102/300\n",
      "27/27 [==============================] - 0s 4ms/step - loss: 0.5972 - accuracy: 0.6520 - val_loss: 0.7400 - val_accuracy: 0.4683\n",
      "Epoch 103/300\n",
      "27/27 [==============================] - 0s 4ms/step - loss: 0.5961 - accuracy: 0.6639 - val_loss: 0.7561 - val_accuracy: 0.4854\n",
      "Epoch 104/300\n",
      "27/27 [==============================] - 0s 4ms/step - loss: 0.5913 - accuracy: 0.6627 - val_loss: 0.7535 - val_accuracy: 0.4683\n",
      "Epoch 105/300\n",
      "27/27 [==============================] - 0s 4ms/step - loss: 0.5897 - accuracy: 0.6663 - val_loss: 0.7567 - val_accuracy: 0.4829\n",
      "Epoch 106/300\n",
      "27/27 [==============================] - 0s 4ms/step - loss: 0.5873 - accuracy: 0.6520 - val_loss: 0.7753 - val_accuracy: 0.4902\n",
      "Epoch 107/300\n",
      "27/27 [==============================] - 0s 4ms/step - loss: 0.5815 - accuracy: 0.6758 - val_loss: 0.7599 - val_accuracy: 0.4732\n",
      "Epoch 108/300\n",
      "27/27 [==============================] - 0s 4ms/step - loss: 0.5830 - accuracy: 0.6663 - val_loss: 0.7604 - val_accuracy: 0.4756\n",
      "Epoch 109/300\n",
      "27/27 [==============================] - 0s 4ms/step - loss: 0.5806 - accuracy: 0.6687 - val_loss: 0.7526 - val_accuracy: 0.4707\n",
      "Epoch 110/300\n",
      "27/27 [==============================] - 0s 4ms/step - loss: 0.5808 - accuracy: 0.6722 - val_loss: 0.7660 - val_accuracy: 0.4854\n",
      "Epoch 111/300\n",
      "27/27 [==============================] - 0s 4ms/step - loss: 0.5748 - accuracy: 0.6770 - val_loss: 0.7625 - val_accuracy: 0.4707\n",
      "Epoch 112/300\n",
      "27/27 [==============================] - 0s 4ms/step - loss: 0.5722 - accuracy: 0.6806 - val_loss: 0.7647 - val_accuracy: 0.4805\n",
      "Epoch 113/300\n",
      "27/27 [==============================] - 0s 5ms/step - loss: 0.5705 - accuracy: 0.6818 - val_loss: 0.7673 - val_accuracy: 0.4780\n",
      "Epoch 114/300\n",
      "27/27 [==============================] - 0s 4ms/step - loss: 0.5663 - accuracy: 0.6794 - val_loss: 0.7744 - val_accuracy: 0.4780\n",
      "Epoch 115/300\n",
      "27/27 [==============================] - 0s 4ms/step - loss: 0.5641 - accuracy: 0.6865 - val_loss: 0.7748 - val_accuracy: 0.4854\n",
      "Epoch 116/300\n"
     ]
    },
    {
     "name": "stdout",
     "output_type": "stream",
     "text": [
      "27/27 [==============================] - 0s 4ms/step - loss: 0.5705 - accuracy: 0.6639 - val_loss: 0.7745 - val_accuracy: 0.4756\n",
      "Epoch 117/300\n",
      "27/27 [==============================] - 0s 4ms/step - loss: 0.5623 - accuracy: 0.6806 - val_loss: 0.7914 - val_accuracy: 0.4902\n",
      "Epoch 118/300\n",
      "27/27 [==============================] - 0s 4ms/step - loss: 0.5608 - accuracy: 0.6996 - val_loss: 0.7773 - val_accuracy: 0.4829\n",
      "Epoch 119/300\n",
      "27/27 [==============================] - 0s 4ms/step - loss: 0.5543 - accuracy: 0.6782 - val_loss: 0.7757 - val_accuracy: 0.4780\n",
      "Epoch 120/300\n",
      "27/27 [==============================] - 0s 4ms/step - loss: 0.5551 - accuracy: 0.6841 - val_loss: 0.7777 - val_accuracy: 0.4829\n",
      "Epoch 121/300\n",
      "27/27 [==============================] - 0s 4ms/step - loss: 0.5494 - accuracy: 0.6877 - val_loss: 0.7833 - val_accuracy: 0.4634\n",
      "Epoch 122/300\n",
      "27/27 [==============================] - 0s 4ms/step - loss: 0.5537 - accuracy: 0.6830 - val_loss: 0.7798 - val_accuracy: 0.4707\n",
      "Epoch 123/300\n",
      "27/27 [==============================] - 0s 4ms/step - loss: 0.5546 - accuracy: 0.6985 - val_loss: 0.7901 - val_accuracy: 0.4854\n",
      "Epoch 124/300\n",
      "27/27 [==============================] - 0s 4ms/step - loss: 0.5452 - accuracy: 0.7032 - val_loss: 0.7817 - val_accuracy: 0.4683\n",
      "Epoch 125/300\n",
      "27/27 [==============================] - 0s 4ms/step - loss: 0.5411 - accuracy: 0.6949 - val_loss: 0.7924 - val_accuracy: 0.4829\n",
      "Epoch 126/300\n",
      "27/27 [==============================] - 0s 4ms/step - loss: 0.5394 - accuracy: 0.7044 - val_loss: 0.8043 - val_accuracy: 0.4780\n",
      "Epoch 127/300\n",
      "27/27 [==============================] - 0s 4ms/step - loss: 0.5368 - accuracy: 0.7056 - val_loss: 0.7963 - val_accuracy: 0.4780\n",
      "Epoch 128/300\n",
      "27/27 [==============================] - 0s 4ms/step - loss: 0.5486 - accuracy: 0.6996 - val_loss: 0.7973 - val_accuracy: 0.4659\n",
      "Epoch 129/300\n",
      "27/27 [==============================] - 0s 4ms/step - loss: 0.5421 - accuracy: 0.6901 - val_loss: 0.7981 - val_accuracy: 0.4707\n",
      "Epoch 130/300\n",
      "27/27 [==============================] - 0s 4ms/step - loss: 0.5353 - accuracy: 0.7056 - val_loss: 0.8144 - val_accuracy: 0.4805\n",
      "Epoch 131/300\n",
      "27/27 [==============================] - 0s 4ms/step - loss: 0.5304 - accuracy: 0.7044 - val_loss: 0.7977 - val_accuracy: 0.4732\n",
      "Epoch 132/300\n",
      "27/27 [==============================] - 0s 4ms/step - loss: 0.5271 - accuracy: 0.7116 - val_loss: 0.8215 - val_accuracy: 0.4707\n",
      "Epoch 133/300\n",
      "27/27 [==============================] - 0s 4ms/step - loss: 0.5263 - accuracy: 0.7116 - val_loss: 0.7726 - val_accuracy: 0.5024\n",
      "Epoch 134/300\n",
      "27/27 [==============================] - 0s 4ms/step - loss: 0.5205 - accuracy: 0.7247 - val_loss: 0.8072 - val_accuracy: 0.4902\n",
      "Epoch 135/300\n",
      "27/27 [==============================] - 0s 4ms/step - loss: 0.5176 - accuracy: 0.7199 - val_loss: 0.8103 - val_accuracy: 0.4878\n",
      "Epoch 136/300\n",
      "27/27 [==============================] - 0s 4ms/step - loss: 0.5195 - accuracy: 0.7223 - val_loss: 0.8213 - val_accuracy: 0.4610\n",
      "Epoch 137/300\n",
      "27/27 [==============================] - 0s 4ms/step - loss: 0.5113 - accuracy: 0.7211 - val_loss: 0.8054 - val_accuracy: 0.4659\n",
      "Epoch 138/300\n",
      "27/27 [==============================] - 0s 4ms/step - loss: 0.5132 - accuracy: 0.7271 - val_loss: 0.8485 - val_accuracy: 0.4756\n",
      "Epoch 139/300\n",
      "27/27 [==============================] - 0s 4ms/step - loss: 0.5140 - accuracy: 0.7294 - val_loss: 0.7919 - val_accuracy: 0.4878\n",
      "Epoch 140/300\n",
      "27/27 [==============================] - 0s 4ms/step - loss: 0.5145 - accuracy: 0.7199 - val_loss: 0.8168 - val_accuracy: 0.4829\n",
      "Epoch 141/300\n",
      "27/27 [==============================] - 0s 4ms/step - loss: 0.5071 - accuracy: 0.7259 - val_loss: 0.8221 - val_accuracy: 0.4610\n",
      "Epoch 142/300\n",
      "27/27 [==============================] - 0s 4ms/step - loss: 0.5061 - accuracy: 0.7473 - val_loss: 0.8240 - val_accuracy: 0.4951\n",
      "Epoch 143/300\n",
      "27/27 [==============================] - 0s 4ms/step - loss: 0.5039 - accuracy: 0.7342 - val_loss: 0.8359 - val_accuracy: 0.4732\n",
      "Epoch 144/300\n",
      "27/27 [==============================] - 0s 4ms/step - loss: 0.4978 - accuracy: 0.7461 - val_loss: 0.8200 - val_accuracy: 0.4829\n",
      "Epoch 145/300\n",
      "27/27 [==============================] - 0s 4ms/step - loss: 0.5068 - accuracy: 0.7342 - val_loss: 0.8176 - val_accuracy: 0.4780\n",
      "Epoch 146/300\n",
      "27/27 [==============================] - 0s 4ms/step - loss: 0.4993 - accuracy: 0.7485 - val_loss: 0.8325 - val_accuracy: 0.4854\n",
      "Epoch 147/300\n",
      "27/27 [==============================] - 0s 4ms/step - loss: 0.4927 - accuracy: 0.7473 - val_loss: 0.8354 - val_accuracy: 0.4683\n",
      "Epoch 148/300\n",
      "27/27 [==============================] - 0s 4ms/step - loss: 0.4932 - accuracy: 0.7473 - val_loss: 0.8184 - val_accuracy: 0.4829\n",
      "Epoch 149/300\n",
      "27/27 [==============================] - 0s 4ms/step - loss: 0.4910 - accuracy: 0.7473 - val_loss: 0.8342 - val_accuracy: 0.4732\n",
      "Epoch 150/300\n",
      "27/27 [==============================] - 0s 4ms/step - loss: 0.4866 - accuracy: 0.7485 - val_loss: 0.8324 - val_accuracy: 0.4634\n",
      "Epoch 151/300\n",
      "27/27 [==============================] - 0s 4ms/step - loss: 0.4849 - accuracy: 0.7557 - val_loss: 0.8540 - val_accuracy: 0.4878\n",
      "Epoch 152/300\n",
      "27/27 [==============================] - 0s 4ms/step - loss: 0.4780 - accuracy: 0.7580 - val_loss: 0.8361 - val_accuracy: 0.4927\n",
      "Epoch 153/300\n",
      "27/27 [==============================] - 0s 5ms/step - loss: 0.4732 - accuracy: 0.7628 - val_loss: 0.8366 - val_accuracy: 0.4659\n",
      "Epoch 154/300\n",
      "27/27 [==============================] - 0s 5ms/step - loss: 0.4714 - accuracy: 0.7700 - val_loss: 0.8511 - val_accuracy: 0.4878\n",
      "Epoch 155/300\n",
      "27/27 [==============================] - 0s 4ms/step - loss: 0.4724 - accuracy: 0.7533 - val_loss: 0.8246 - val_accuracy: 0.4805\n",
      "Epoch 156/300\n",
      "27/27 [==============================] - 0s 4ms/step - loss: 0.4679 - accuracy: 0.7592 - val_loss: 0.8656 - val_accuracy: 0.4634\n",
      "Epoch 157/300\n",
      "27/27 [==============================] - 0s 4ms/step - loss: 0.4629 - accuracy: 0.7712 - val_loss: 0.8576 - val_accuracy: 0.4927\n",
      "Epoch 158/300\n",
      "27/27 [==============================] - 0s 4ms/step - loss: 0.4570 - accuracy: 0.7700 - val_loss: 0.8614 - val_accuracy: 0.4878\n",
      "Epoch 159/300\n",
      "27/27 [==============================] - 0s 4ms/step - loss: 0.4693 - accuracy: 0.7688 - val_loss: 0.8403 - val_accuracy: 0.4756\n",
      "Epoch 160/300\n",
      "27/27 [==============================] - 0s 4ms/step - loss: 0.4695 - accuracy: 0.7533 - val_loss: 0.8511 - val_accuracy: 0.4732\n",
      "Epoch 161/300\n",
      "27/27 [==============================] - 0s 4ms/step - loss: 0.4557 - accuracy: 0.7640 - val_loss: 0.8552 - val_accuracy: 0.4951\n",
      "Epoch 162/300\n",
      "27/27 [==============================] - 0s 4ms/step - loss: 0.4550 - accuracy: 0.7652 - val_loss: 0.8357 - val_accuracy: 0.4902\n",
      "Epoch 163/300\n",
      "27/27 [==============================] - 0s 4ms/step - loss: 0.4510 - accuracy: 0.7902 - val_loss: 0.8700 - val_accuracy: 0.4927\n",
      "Epoch 164/300\n",
      "27/27 [==============================] - 0s 4ms/step - loss: 0.4553 - accuracy: 0.7664 - val_loss: 0.8653 - val_accuracy: 0.4902\n",
      "Epoch 165/300\n",
      "27/27 [==============================] - 0s 4ms/step - loss: 0.4452 - accuracy: 0.7843 - val_loss: 0.8852 - val_accuracy: 0.4976\n",
      "Epoch 166/300\n",
      "27/27 [==============================] - 0s 4ms/step - loss: 0.4481 - accuracy: 0.7640 - val_loss: 0.8915 - val_accuracy: 0.4878\n",
      "Epoch 167/300\n",
      "27/27 [==============================] - 0s 4ms/step - loss: 0.4392 - accuracy: 0.7890 - val_loss: 0.8898 - val_accuracy: 0.4829\n",
      "Epoch 168/300\n",
      "27/27 [==============================] - 0s 4ms/step - loss: 0.4389 - accuracy: 0.7998 - val_loss: 0.8868 - val_accuracy: 0.4659\n",
      "Epoch 169/300\n",
      "27/27 [==============================] - 0s 4ms/step - loss: 0.4392 - accuracy: 0.7735 - val_loss: 0.8743 - val_accuracy: 0.4976\n",
      "Epoch 170/300\n",
      "27/27 [==============================] - 0s 4ms/step - loss: 0.4393 - accuracy: 0.7664 - val_loss: 0.9025 - val_accuracy: 0.4732\n",
      "Epoch 171/300\n",
      "27/27 [==============================] - 0s 4ms/step - loss: 0.4320 - accuracy: 0.7819 - val_loss: 0.8943 - val_accuracy: 0.4780\n",
      "Epoch 172/300\n",
      "27/27 [==============================] - 0s 4ms/step - loss: 0.4356 - accuracy: 0.7712 - val_loss: 0.8808 - val_accuracy: 0.4780\n",
      "Epoch 173/300\n"
     ]
    },
    {
     "name": "stdout",
     "output_type": "stream",
     "text": [
      "27/27 [==============================] - 0s 4ms/step - loss: 0.4363 - accuracy: 0.7938 - val_loss: 0.9055 - val_accuracy: 0.4756\n",
      "Epoch 174/300\n",
      "27/27 [==============================] - 0s 4ms/step - loss: 0.4367 - accuracy: 0.7890 - val_loss: 0.9066 - val_accuracy: 0.4854\n",
      "Epoch 175/300\n",
      "27/27 [==============================] - 0s 4ms/step - loss: 0.4289 - accuracy: 0.7783 - val_loss: 0.9208 - val_accuracy: 0.4805\n",
      "Epoch 176/300\n",
      "27/27 [==============================] - 0s 4ms/step - loss: 0.4288 - accuracy: 0.7998 - val_loss: 0.8939 - val_accuracy: 0.4902\n",
      "Epoch 177/300\n",
      "27/27 [==============================] - 0s 4ms/step - loss: 0.4107 - accuracy: 0.8057 - val_loss: 0.9457 - val_accuracy: 0.4732\n",
      "Epoch 178/300\n",
      "27/27 [==============================] - 0s 4ms/step - loss: 0.4135 - accuracy: 0.8069 - val_loss: 0.9257 - val_accuracy: 0.4829\n",
      "Epoch 179/300\n",
      "27/27 [==============================] - 0s 5ms/step - loss: 0.4197 - accuracy: 0.7998 - val_loss: 0.9144 - val_accuracy: 0.4878\n",
      "Epoch 180/300\n",
      "27/27 [==============================] - 0s 4ms/step - loss: 0.4120 - accuracy: 0.8117 - val_loss: 0.9226 - val_accuracy: 0.4829\n",
      "Epoch 181/300\n",
      "27/27 [==============================] - 0s 4ms/step - loss: 0.3985 - accuracy: 0.8057 - val_loss: 0.9181 - val_accuracy: 0.4829\n",
      "Epoch 182/300\n",
      "27/27 [==============================] - 0s 4ms/step - loss: 0.4136 - accuracy: 0.8045 - val_loss: 0.9146 - val_accuracy: 0.5000\n",
      "Epoch 183/300\n",
      "27/27 [==============================] - 0s 4ms/step - loss: 0.4121 - accuracy: 0.7950 - val_loss: 0.9306 - val_accuracy: 0.4707\n",
      "Epoch 184/300\n",
      "27/27 [==============================] - 0s 4ms/step - loss: 0.4097 - accuracy: 0.8141 - val_loss: 0.9323 - val_accuracy: 0.4927\n",
      "Epoch 185/300\n",
      "27/27 [==============================] - 0s 4ms/step - loss: 0.4136 - accuracy: 0.7926 - val_loss: 0.9370 - val_accuracy: 0.4878\n",
      "Epoch 186/300\n",
      "27/27 [==============================] - 0s 4ms/step - loss: 0.4019 - accuracy: 0.8117 - val_loss: 0.9086 - val_accuracy: 0.5000\n",
      "Epoch 187/300\n",
      "27/27 [==============================] - 0s 4ms/step - loss: 0.3952 - accuracy: 0.8260 - val_loss: 0.9622 - val_accuracy: 0.4756\n",
      "Epoch 188/300\n",
      "27/27 [==============================] - 0s 4ms/step - loss: 0.4052 - accuracy: 0.8129 - val_loss: 0.9491 - val_accuracy: 0.4683\n",
      "Epoch 189/300\n",
      "27/27 [==============================] - 0s 4ms/step - loss: 0.3975 - accuracy: 0.8212 - val_loss: 0.9408 - val_accuracy: 0.4854\n",
      "Epoch 190/300\n",
      "27/27 [==============================] - 0s 4ms/step - loss: 0.3887 - accuracy: 0.8260 - val_loss: 0.9672 - val_accuracy: 0.4805\n",
      "Epoch 191/300\n",
      "27/27 [==============================] - 0s 4ms/step - loss: 0.3871 - accuracy: 0.8129 - val_loss: 0.9238 - val_accuracy: 0.4976\n",
      "Epoch 192/300\n",
      "27/27 [==============================] - 0s 4ms/step - loss: 0.3909 - accuracy: 0.8105 - val_loss: 0.9775 - val_accuracy: 0.4829\n",
      "Epoch 193/300\n",
      "27/27 [==============================] - 0s 4ms/step - loss: 0.3825 - accuracy: 0.8188 - val_loss: 0.9786 - val_accuracy: 0.4780\n",
      "Epoch 194/300\n",
      "27/27 [==============================] - 0s 4ms/step - loss: 0.3985 - accuracy: 0.8129 - val_loss: 0.9170 - val_accuracy: 0.4976\n",
      "Epoch 195/300\n",
      "27/27 [==============================] - 0s 4ms/step - loss: 0.3942 - accuracy: 0.8200 - val_loss: 0.9533 - val_accuracy: 0.4829\n",
      "Epoch 196/300\n",
      "27/27 [==============================] - 0s 4ms/step - loss: 0.3876 - accuracy: 0.8176 - val_loss: 0.9655 - val_accuracy: 0.4878\n",
      "Epoch 197/300\n",
      "27/27 [==============================] - 0s 4ms/step - loss: 0.3746 - accuracy: 0.8236 - val_loss: 0.9763 - val_accuracy: 0.4805\n",
      "Epoch 198/300\n",
      "27/27 [==============================] - 0s 4ms/step - loss: 0.3675 - accuracy: 0.8260 - val_loss: 1.0065 - val_accuracy: 0.4659\n",
      "Epoch 199/300\n",
      "27/27 [==============================] - 0s 4ms/step - loss: 0.3641 - accuracy: 0.8343 - val_loss: 0.9955 - val_accuracy: 0.4854\n",
      "Epoch 200/300\n",
      "27/27 [==============================] - 0s 4ms/step - loss: 0.3670 - accuracy: 0.8379 - val_loss: 0.9823 - val_accuracy: 0.4634\n",
      "Epoch 201/300\n",
      "27/27 [==============================] - 0s 4ms/step - loss: 0.3695 - accuracy: 0.8188 - val_loss: 0.9985 - val_accuracy: 0.4878\n",
      "Epoch 202/300\n",
      "27/27 [==============================] - 0s 4ms/step - loss: 0.3702 - accuracy: 0.8224 - val_loss: 1.0237 - val_accuracy: 0.4585\n",
      "Epoch 203/300\n",
      "27/27 [==============================] - 0s 4ms/step - loss: 0.3565 - accuracy: 0.8379 - val_loss: 1.0004 - val_accuracy: 0.4805\n",
      "Epoch 204/300\n",
      "27/27 [==============================] - 0s 4ms/step - loss: 0.3647 - accuracy: 0.8319 - val_loss: 0.9482 - val_accuracy: 0.5073\n",
      "Epoch 205/300\n",
      "27/27 [==============================] - 0s 4ms/step - loss: 0.3751 - accuracy: 0.8153 - val_loss: 1.0206 - val_accuracy: 0.4585\n",
      "Epoch 206/300\n",
      "27/27 [==============================] - 0s 4ms/step - loss: 0.3649 - accuracy: 0.8296 - val_loss: 1.0122 - val_accuracy: 0.4829\n",
      "Epoch 207/300\n",
      "27/27 [==============================] - 0s 4ms/step - loss: 0.3518 - accuracy: 0.8403 - val_loss: 1.0671 - val_accuracy: 0.4512\n",
      "Epoch 208/300\n",
      "27/27 [==============================] - 0s 4ms/step - loss: 0.3561 - accuracy: 0.8331 - val_loss: 1.0520 - val_accuracy: 0.4634\n",
      "Epoch 209/300\n",
      "27/27 [==============================] - 0s 4ms/step - loss: 0.3551 - accuracy: 0.8427 - val_loss: 1.0066 - val_accuracy: 0.4829\n",
      "Epoch 210/300\n",
      "27/27 [==============================] - 0s 4ms/step - loss: 0.3489 - accuracy: 0.8439 - val_loss: 1.0137 - val_accuracy: 0.4976\n",
      "Epoch 211/300\n",
      "27/27 [==============================] - 0s 4ms/step - loss: 0.3556 - accuracy: 0.8260 - val_loss: 1.0042 - val_accuracy: 0.4878\n",
      "Epoch 212/300\n",
      "27/27 [==============================] - 0s 4ms/step - loss: 0.3477 - accuracy: 0.8391 - val_loss: 1.0308 - val_accuracy: 0.4854\n",
      "Epoch 213/300\n",
      "27/27 [==============================] - 0s 4ms/step - loss: 0.3481 - accuracy: 0.8391 - val_loss: 1.0707 - val_accuracy: 0.4659\n",
      "Epoch 214/300\n",
      "27/27 [==============================] - 0s 4ms/step - loss: 0.3320 - accuracy: 0.8462 - val_loss: 1.0223 - val_accuracy: 0.4902\n",
      "Epoch 215/300\n",
      "27/27 [==============================] - 0s 4ms/step - loss: 0.3418 - accuracy: 0.8355 - val_loss: 1.1546 - val_accuracy: 0.4439\n",
      "Epoch 216/300\n",
      "27/27 [==============================] - 0s 4ms/step - loss: 0.3328 - accuracy: 0.8439 - val_loss: 1.0297 - val_accuracy: 0.4756\n",
      "Epoch 217/300\n",
      "27/27 [==============================] - 0s 4ms/step - loss: 0.3426 - accuracy: 0.8451 - val_loss: 1.0472 - val_accuracy: 0.4878\n",
      "Epoch 218/300\n",
      "27/27 [==============================] - 0s 5ms/step - loss: 0.3324 - accuracy: 0.8415 - val_loss: 1.1264 - val_accuracy: 0.4512\n",
      "Epoch 219/300\n",
      "27/27 [==============================] - 0s 5ms/step - loss: 0.3252 - accuracy: 0.8641 - val_loss: 1.0734 - val_accuracy: 0.4707\n",
      "Epoch 220/300\n",
      "27/27 [==============================] - 0s 4ms/step - loss: 0.3243 - accuracy: 0.8474 - val_loss: 1.1366 - val_accuracy: 0.4561\n",
      "Epoch 221/300\n",
      "27/27 [==============================] - 0s 4ms/step - loss: 0.3431 - accuracy: 0.8415 - val_loss: 1.0594 - val_accuracy: 0.4780\n",
      "Epoch 222/300\n",
      "27/27 [==============================] - 0s 4ms/step - loss: 0.3280 - accuracy: 0.8403 - val_loss: 1.0771 - val_accuracy: 0.4707\n",
      "Epoch 223/300\n",
      "27/27 [==============================] - 0s 4ms/step - loss: 0.3167 - accuracy: 0.8474 - val_loss: 1.0729 - val_accuracy: 0.4902\n",
      "Epoch 224/300\n",
      "27/27 [==============================] - 0s 5ms/step - loss: 0.3140 - accuracy: 0.8617 - val_loss: 1.1172 - val_accuracy: 0.4805\n",
      "Epoch 225/300\n",
      "27/27 [==============================] - 0s 4ms/step - loss: 0.3104 - accuracy: 0.8546 - val_loss: 1.0603 - val_accuracy: 0.4976\n",
      "Epoch 226/300\n",
      "27/27 [==============================] - 0s 4ms/step - loss: 0.3153 - accuracy: 0.8582 - val_loss: 1.0630 - val_accuracy: 0.4878\n",
      "Epoch 227/300\n",
      "27/27 [==============================] - 0s 4ms/step - loss: 0.3087 - accuracy: 0.8677 - val_loss: 1.0927 - val_accuracy: 0.4756\n",
      "Epoch 228/300\n",
      "27/27 [==============================] - 0s 4ms/step - loss: 0.3100 - accuracy: 0.8546 - val_loss: 1.1301 - val_accuracy: 0.4902\n",
      "Epoch 229/300\n",
      "27/27 [==============================] - 0s 4ms/step - loss: 0.3086 - accuracy: 0.8641 - val_loss: 1.0956 - val_accuracy: 0.4951\n",
      "Epoch 230/300\n"
     ]
    },
    {
     "name": "stdout",
     "output_type": "stream",
     "text": [
      "27/27 [==============================] - 0s 4ms/step - loss: 0.3117 - accuracy: 0.8594 - val_loss: 1.0702 - val_accuracy: 0.4951\n",
      "Epoch 231/300\n",
      "27/27 [==============================] - 0s 4ms/step - loss: 0.3068 - accuracy: 0.8653 - val_loss: 1.1509 - val_accuracy: 0.4732\n",
      "Epoch 232/300\n",
      "27/27 [==============================] - 0s 4ms/step - loss: 0.3031 - accuracy: 0.8605 - val_loss: 1.0789 - val_accuracy: 0.4878\n",
      "Epoch 233/300\n",
      "27/27 [==============================] - 0s 4ms/step - loss: 0.2974 - accuracy: 0.8713 - val_loss: 1.1272 - val_accuracy: 0.4756\n",
      "Epoch 234/300\n",
      "27/27 [==============================] - 0s 4ms/step - loss: 0.2968 - accuracy: 0.8629 - val_loss: 1.0908 - val_accuracy: 0.5000\n",
      "Epoch 235/300\n",
      "27/27 [==============================] - 0s 4ms/step - loss: 0.2945 - accuracy: 0.8617 - val_loss: 1.1023 - val_accuracy: 0.4951\n",
      "Epoch 236/300\n",
      "27/27 [==============================] - 0s 4ms/step - loss: 0.2955 - accuracy: 0.8582 - val_loss: 1.1204 - val_accuracy: 0.4878\n",
      "Epoch 237/300\n",
      "27/27 [==============================] - 0s 4ms/step - loss: 0.2900 - accuracy: 0.8725 - val_loss: 1.1988 - val_accuracy: 0.4610\n",
      "Epoch 238/300\n",
      "27/27 [==============================] - 0s 4ms/step - loss: 0.2981 - accuracy: 0.8605 - val_loss: 1.1465 - val_accuracy: 0.4707\n",
      "Epoch 239/300\n",
      "27/27 [==============================] - 0s 4ms/step - loss: 0.2868 - accuracy: 0.8760 - val_loss: 1.1086 - val_accuracy: 0.5073\n",
      "Epoch 240/300\n",
      "27/27 [==============================] - 0s 4ms/step - loss: 0.2876 - accuracy: 0.8760 - val_loss: 1.1631 - val_accuracy: 0.4829\n",
      "Epoch 241/300\n",
      "27/27 [==============================] - 0s 5ms/step - loss: 0.2822 - accuracy: 0.8749 - val_loss: 1.1785 - val_accuracy: 0.4854\n",
      "Epoch 242/300\n",
      "27/27 [==============================] - 0s 6ms/step - loss: 0.3028 - accuracy: 0.8689 - val_loss: 1.2223 - val_accuracy: 0.4780\n",
      "Epoch 243/300\n",
      "27/27 [==============================] - 0s 4ms/step - loss: 0.3282 - accuracy: 0.8462 - val_loss: 1.1113 - val_accuracy: 0.5073\n",
      "Epoch 244/300\n",
      "27/27 [==============================] - 0s 5ms/step - loss: 0.2964 - accuracy: 0.8713 - val_loss: 1.1643 - val_accuracy: 0.4780\n",
      "Epoch 245/300\n",
      "27/27 [==============================] - 0s 4ms/step - loss: 0.2915 - accuracy: 0.8796 - val_loss: 1.2320 - val_accuracy: 0.5000\n",
      "Epoch 246/300\n",
      "27/27 [==============================] - 0s 5ms/step - loss: 0.2774 - accuracy: 0.8808 - val_loss: 1.1780 - val_accuracy: 0.4902\n",
      "Epoch 247/300\n",
      "27/27 [==============================] - 0s 4ms/step - loss: 0.2696 - accuracy: 0.8808 - val_loss: 1.1681 - val_accuracy: 0.4951\n",
      "Epoch 248/300\n",
      "27/27 [==============================] - 0s 4ms/step - loss: 0.2687 - accuracy: 0.8880 - val_loss: 1.2077 - val_accuracy: 0.4878\n",
      "Epoch 249/300\n",
      "27/27 [==============================] - 0s 4ms/step - loss: 0.2662 - accuracy: 0.8832 - val_loss: 1.1643 - val_accuracy: 0.4780\n",
      "Epoch 250/300\n",
      "27/27 [==============================] - 0s 5ms/step - loss: 0.2669 - accuracy: 0.8772 - val_loss: 1.2523 - val_accuracy: 0.4829\n",
      "Epoch 251/300\n",
      "27/27 [==============================] - 0s 5ms/step - loss: 0.2643 - accuracy: 0.8796 - val_loss: 1.2073 - val_accuracy: 0.5000\n",
      "Epoch 252/300\n",
      "27/27 [==============================] - 0s 5ms/step - loss: 0.2710 - accuracy: 0.8832 - val_loss: 1.1791 - val_accuracy: 0.4976\n",
      "Epoch 253/300\n",
      "27/27 [==============================] - 0s 5ms/step - loss: 0.2723 - accuracy: 0.8856 - val_loss: 1.2379 - val_accuracy: 0.5098\n",
      "Epoch 254/300\n",
      "27/27 [==============================] - 0s 4ms/step - loss: 0.2819 - accuracy: 0.8784 - val_loss: 1.2628 - val_accuracy: 0.4829\n",
      "Epoch 255/300\n",
      "27/27 [==============================] - 0s 5ms/step - loss: 0.2659 - accuracy: 0.8820 - val_loss: 1.2354 - val_accuracy: 0.4854\n",
      "Epoch 256/300\n",
      "27/27 [==============================] - 0s 5ms/step - loss: 0.2517 - accuracy: 0.9046 - val_loss: 1.2034 - val_accuracy: 0.4780\n",
      "Epoch 257/300\n",
      "27/27 [==============================] - 0s 4ms/step - loss: 0.2510 - accuracy: 0.8927 - val_loss: 1.2346 - val_accuracy: 0.4732\n",
      "Epoch 258/300\n",
      "27/27 [==============================] - 0s 5ms/step - loss: 0.2501 - accuracy: 0.8975 - val_loss: 1.2681 - val_accuracy: 0.4780\n",
      "Epoch 259/300\n",
      "27/27 [==============================] - 0s 5ms/step - loss: 0.2467 - accuracy: 0.8880 - val_loss: 1.2785 - val_accuracy: 0.4732\n",
      "Epoch 260/300\n",
      "27/27 [==============================] - 0s 5ms/step - loss: 0.2560 - accuracy: 0.8903 - val_loss: 1.2260 - val_accuracy: 0.4756\n",
      "Epoch 261/300\n",
      "27/27 [==============================] - 0s 4ms/step - loss: 0.2603 - accuracy: 0.8856 - val_loss: 1.2390 - val_accuracy: 0.4732\n",
      "Epoch 262/300\n",
      "27/27 [==============================] - 0s 4ms/step - loss: 0.2697 - accuracy: 0.8737 - val_loss: 1.3271 - val_accuracy: 0.4610\n",
      "Epoch 263/300\n",
      "27/27 [==============================] - 0s 4ms/step - loss: 0.2489 - accuracy: 0.8868 - val_loss: 1.2902 - val_accuracy: 0.4707\n",
      "Epoch 264/300\n",
      "27/27 [==============================] - 0s 4ms/step - loss: 0.2416 - accuracy: 0.8975 - val_loss: 1.2579 - val_accuracy: 0.4756\n",
      "Epoch 265/300\n",
      "27/27 [==============================] - 0s 4ms/step - loss: 0.2386 - accuracy: 0.8927 - val_loss: 1.2583 - val_accuracy: 0.4805\n",
      "Epoch 266/300\n",
      "27/27 [==============================] - 0s 5ms/step - loss: 0.2443 - accuracy: 0.8939 - val_loss: 1.3132 - val_accuracy: 0.4780\n",
      "Epoch 267/300\n",
      "27/27 [==============================] - 0s 5ms/step - loss: 0.2602 - accuracy: 0.8796 - val_loss: 1.3443 - val_accuracy: 0.4756\n",
      "Epoch 268/300\n",
      "27/27 [==============================] - 0s 5ms/step - loss: 0.2420 - accuracy: 0.8963 - val_loss: 1.3070 - val_accuracy: 0.4829\n",
      "Epoch 269/300\n",
      "27/27 [==============================] - 0s 5ms/step - loss: 0.2485 - accuracy: 0.8927 - val_loss: 1.2704 - val_accuracy: 0.4805\n",
      "Epoch 270/300\n",
      "27/27 [==============================] - 0s 5ms/step - loss: 0.2554 - accuracy: 0.8856 - val_loss: 1.2660 - val_accuracy: 0.4829\n",
      "Epoch 271/300\n",
      "27/27 [==============================] - 0s 5ms/step - loss: 0.2457 - accuracy: 0.8951 - val_loss: 1.2375 - val_accuracy: 0.4902\n",
      "Epoch 272/300\n",
      "27/27 [==============================] - 0s 4ms/step - loss: 0.2323 - accuracy: 0.8927 - val_loss: 1.3000 - val_accuracy: 0.4683\n",
      "Epoch 273/300\n",
      "27/27 [==============================] - 0s 4ms/step - loss: 0.2386 - accuracy: 0.9023 - val_loss: 1.3320 - val_accuracy: 0.4878\n",
      "Epoch 274/300\n",
      "27/27 [==============================] - 0s 4ms/step - loss: 0.2261 - accuracy: 0.9023 - val_loss: 1.3002 - val_accuracy: 0.4780\n",
      "Epoch 275/300\n",
      "27/27 [==============================] - 0s 5ms/step - loss: 0.2341 - accuracy: 0.8987 - val_loss: 1.3322 - val_accuracy: 0.4805\n",
      "Epoch 276/300\n",
      "27/27 [==============================] - 0s 5ms/step - loss: 0.2397 - accuracy: 0.8963 - val_loss: 1.3059 - val_accuracy: 0.4951\n",
      "Epoch 277/300\n",
      "27/27 [==============================] - 0s 5ms/step - loss: 0.2233 - accuracy: 0.9023 - val_loss: 1.3259 - val_accuracy: 0.4976\n",
      "Epoch 278/300\n",
      "27/27 [==============================] - 0s 5ms/step - loss: 0.2213 - accuracy: 0.9118 - val_loss: 1.3154 - val_accuracy: 0.4780\n",
      "Epoch 279/300\n",
      "27/27 [==============================] - 0s 5ms/step - loss: 0.2510 - accuracy: 0.8892 - val_loss: 1.3867 - val_accuracy: 0.4732\n",
      "Epoch 280/300\n",
      "27/27 [==============================] - 0s 5ms/step - loss: 0.2515 - accuracy: 0.8915 - val_loss: 1.3538 - val_accuracy: 0.4780\n",
      "Epoch 281/300\n",
      "27/27 [==============================] - 0s 5ms/step - loss: 0.2174 - accuracy: 0.9070 - val_loss: 1.3993 - val_accuracy: 0.4634\n",
      "Epoch 282/300\n",
      "27/27 [==============================] - 0s 4ms/step - loss: 0.2211 - accuracy: 0.9035 - val_loss: 1.3828 - val_accuracy: 0.4780\n",
      "Epoch 283/300\n",
      "27/27 [==============================] - 0s 4ms/step - loss: 0.2569 - accuracy: 0.8820 - val_loss: 1.3395 - val_accuracy: 0.4756\n",
      "Epoch 284/300\n",
      "27/27 [==============================] - 0s 5ms/step - loss: 0.2329 - accuracy: 0.8868 - val_loss: 1.3831 - val_accuracy: 0.4707\n",
      "Epoch 285/300\n",
      "27/27 [==============================] - 0s 5ms/step - loss: 0.2164 - accuracy: 0.9082 - val_loss: 1.4564 - val_accuracy: 0.4683\n",
      "Epoch 286/300\n",
      "27/27 [==============================] - 0s 4ms/step - loss: 0.2108 - accuracy: 0.9011 - val_loss: 1.3509 - val_accuracy: 0.4732\n",
      "Epoch 287/300\n"
     ]
    },
    {
     "name": "stdout",
     "output_type": "stream",
     "text": [
      "27/27 [==============================] - 0s 4ms/step - loss: 0.2104 - accuracy: 0.9046 - val_loss: 1.4111 - val_accuracy: 0.4780\n",
      "Epoch 288/300\n",
      "27/27 [==============================] - 0s 4ms/step - loss: 0.2105 - accuracy: 0.9166 - val_loss: 1.3437 - val_accuracy: 0.4805\n",
      "Epoch 289/300\n",
      "27/27 [==============================] - 0s 4ms/step - loss: 0.2092 - accuracy: 0.9082 - val_loss: 1.4438 - val_accuracy: 0.4854\n",
      "Epoch 290/300\n",
      "27/27 [==============================] - 0s 4ms/step - loss: 0.2038 - accuracy: 0.9094 - val_loss: 1.3961 - val_accuracy: 0.4829\n",
      "Epoch 291/300\n",
      "27/27 [==============================] - 0s 4ms/step - loss: 0.2021 - accuracy: 0.9118 - val_loss: 1.3666 - val_accuracy: 0.4902\n",
      "Epoch 292/300\n",
      "27/27 [==============================] - 0s 4ms/step - loss: 0.2037 - accuracy: 0.9166 - val_loss: 1.4487 - val_accuracy: 0.4683\n",
      "Epoch 293/300\n",
      "27/27 [==============================] - 0s 4ms/step - loss: 0.1990 - accuracy: 0.9130 - val_loss: 1.4176 - val_accuracy: 0.4854\n",
      "Epoch 294/300\n",
      "27/27 [==============================] - 0s 4ms/step - loss: 0.2042 - accuracy: 0.9046 - val_loss: 1.4954 - val_accuracy: 0.4854\n",
      "Epoch 295/300\n",
      "27/27 [==============================] - 0s 4ms/step - loss: 0.2308 - accuracy: 0.8975 - val_loss: 1.4909 - val_accuracy: 0.4805\n",
      "Epoch 296/300\n",
      "27/27 [==============================] - 0s 4ms/step - loss: 0.2293 - accuracy: 0.8987 - val_loss: 1.4471 - val_accuracy: 0.4732\n",
      "Epoch 297/300\n",
      "27/27 [==============================] - 0s 5ms/step - loss: 0.2038 - accuracy: 0.9142 - val_loss: 1.4994 - val_accuracy: 0.4829\n",
      "Epoch 298/300\n",
      "27/27 [==============================] - 0s 5ms/step - loss: 0.2022 - accuracy: 0.9046 - val_loss: 1.4327 - val_accuracy: 0.4829\n",
      "Epoch 299/300\n",
      "27/27 [==============================] - 0s 4ms/step - loss: 0.1986 - accuracy: 0.9166 - val_loss: 1.4427 - val_accuracy: 0.4902\n",
      "Epoch 300/300\n",
      "27/27 [==============================] - 0s 4ms/step - loss: 0.1930 - accuracy: 0.9273 - val_loss: 1.4743 - val_accuracy: 0.4829\n"
     ]
    }
   ],
   "source": [
    "# train the RNN\n",
    "# train the RNN\n",
    "r = model.fit(\n",
    "    X_train, Y_train,\n",
    "    batch_size=32,\n",
    "    epochs=300,\n",
    "    validation_data=(X_test, Y_test),\n",
    ")"
   ]
  },
  {
   "cell_type": "code",
   "execution_count": 49,
   "id": "31343aca",
   "metadata": {},
   "outputs": [
    {
     "data": {
      "image/png": "[encoded data removed]",
      "text/plain": [
       "<Figure size 432x288 with 1 Axes>"
      ]
     },
     "metadata": {
      "needs_background": "light"
     },
     "output_type": "display_data"
    }
   ],
   "source": [
    "# plot the loss\n",
    "plt.plot(r.history['loss'], label='loss')\n",
    "plt.plot(r.history['val_loss'], label='val_loss')\n",
    "plt.legend()\n",
    "plt.show()"
   ]
  },
  {
   "cell_type": "code",
   "execution_count": 50,
   "id": "25a360d4",
   "metadata": {},
   "outputs": [
    {
     "data": {
      "image/png": "[encoded data removed]",
      "text/plain": [
       "<Figure size 432x288 with 1 Axes>"
      ]
     },
     "metadata": {
      "needs_background": "light"
     },
     "output_type": "display_data"
    }
   ],
   "source": [
    "# plot the accuracy\n",
    "plt.plot(r.history['accuracy'], label='accuracy')\n",
    "plt.plot(r.history['val_accuracy'], label='val_accuracy')\n",
    "plt.legend()\n",
    "plt.show()"
   ]
  },
  {
   "cell_type": "code",
   "execution_count": null,
   "id": "b91a8bab",
   "metadata": {},
   "outputs": [],
   "source": []
  }
 ],
 "metadata": {
  "kernelspec": {
   "display_name": "Python 3 (ipykernel)",
   "language": "python",
   "name": "python3"
  },
  "language_info": {
   "codemirror_mode": {
    "name": "ipython",
    "version": 3
   },
   "file_extension": ".py",
   "mimetype": "text/x-python",
   "name": "python",
   "nbconvert_exporter": "python",
   "pygments_lexer": "ipython3",
   "version": "3.9.7"
  }
 },
 "nbformat": 4,
 "nbformat_minor": 5
}
