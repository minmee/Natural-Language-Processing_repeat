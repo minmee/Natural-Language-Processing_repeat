{
 "cells": [
  {
   "cell_type": "code",
   "execution_count": 1,
   "id": "b0d350d3",
   "metadata": {
    "scrolled": true
   },
   "outputs": [
    {
     "name": "stdout",
     "output_type": "stream",
     "text": [
      "Requirement already satisfied: nltk in c:\\users\\user\\desktop\\.ipynb_checkpoints\\lib\\site-packages (3.6.5)\n",
      "Requirement already satisfied: click in c:\\users\\user\\desktop\\.ipynb_checkpoints\\lib\\site-packages (from nltk) (8.0.3)\n",
      "Requirement already satisfied: joblib in c:\\users\\user\\desktop\\.ipynb_checkpoints\\lib\\site-packages (from nltk) (1.1.0)\n",
      "Requirement already satisfied: regex>=2021.8.3 in c:\\users\\user\\desktop\\.ipynb_checkpoints\\lib\\site-packages (from nltk) (2021.8.3)\n",
      "Requirement already satisfied: tqdm in c:\\users\\user\\desktop\\.ipynb_checkpoints\\lib\\site-packages (from nltk) (4.62.3)\n",
      "Requirement already satisfied: colorama in c:\\users\\user\\desktop\\.ipynb_checkpoints\\lib\\site-packages (from click->nltk) (0.4.4)\n"
     ]
    }
   ],
   "source": [
    "!pip install nltk"
   ]
  },
  {
   "cell_type": "code",
   "execution_count": 2,
   "id": "07908d35",
   "metadata": {
    "scrolled": true
   },
   "outputs": [
    {
     "name": "stderr",
     "output_type": "stream",
     "text": [
      "[nltk_data] Downloading package punkt to\n",
      "[nltk_data]     C:\\Users\\user\\AppData\\Roaming\\nltk_data...\n",
      "[nltk_data]   Package punkt is already up-to-date!\n"
     ]
    },
    {
     "data": {
      "text/plain": [
       "True"
      ]
     },
     "execution_count": 2,
     "metadata": {},
     "output_type": "execute_result"
    }
   ],
   "source": [
    "import nltk\n",
    "nltk.download('punkt')"
   ]
  },
  {
   "cell_type": "code",
   "execution_count": 3,
   "id": "c231c911",
   "metadata": {},
   "outputs": [],
   "source": [
    "from nltk.tokenize import word_tokenize\n",
    "from nltk.tokenize import WordPunctTokenizer\n",
    "from tensorflow.keras.preprocessing.text import text_to_word_sequence"
   ]
  },
  {
   "cell_type": "code",
   "execution_count": 4,
   "id": "f863d4fb",
   "metadata": {},
   "outputs": [],
   "source": [
    "contents = 'English is a West Germanic language of the Indo-European language family, originally spoken by the inhabitants of early medieval England.'"
   ]
  },
  {
   "cell_type": "code",
   "execution_count": 5,
   "id": "b5d923ed",
   "metadata": {},
   "outputs": [
    {
     "name": "stdout",
     "output_type": "stream",
     "text": [
      "토큰화1: ['English', 'is', 'a', 'West', 'Germanic', 'language', 'of', 'the', 'Indo-European', 'language', 'family', ',', 'originally', 'spoken', 'by', 'the', 'inhabitants', 'of', 'early', 'medieval', 'England', '.']\n"
     ]
    }
   ],
   "source": [
    "# tokenization - 말뭉치(특징을 가진 것들)\n",
    "print('토큰화1:', word_tokenize(contents))"
   ]
  },
  {
   "cell_type": "code",
   "execution_count": 6,
   "id": "cac3e162",
   "metadata": {},
   "outputs": [
    {
     "name": "stdout",
     "output_type": "stream",
     "text": [
      "토큰화2: ['English', 'is', 'a', 'West', 'Germanic', 'language', 'of', 'the', 'Indo', '-', 'European', 'language', 'family', ',', 'originally', 'spoken', 'by', 'the', 'inhabitants', 'of', 'early', 'medieval', 'England', '.']\n"
     ]
    }
   ],
   "source": [
    "# 더 세분화됨.(punctuation 구별)\n",
    "print('토큰화2:', WordPunctTokenizer().tokenize(contents))"
   ]
  },
  {
   "cell_type": "code",
   "execution_count": 7,
   "id": "2d9e34e4",
   "metadata": {},
   "outputs": [
    {
     "name": "stdout",
     "output_type": "stream",
     "text": [
      "토큰화3: ['english', 'is', 'a', 'west', 'germanic', 'language', 'of', 'the', 'indo', 'european', 'language', 'family', 'originally', 'spoken', 'by', 'the', 'inhabitants', 'of', 'early', 'medieval', 'england']\n"
     ]
    }
   ],
   "source": [
    "# 소문자 + 기호 없이\n",
    "print('토큰화3:', text_to_word_sequence(contents))"
   ]
  },
  {
   "cell_type": "code",
   "execution_count": 8,
   "id": "93ccb396",
   "metadata": {},
   "outputs": [],
   "source": [
    "# 어떤 토큰화를 사용하냐에 따라서 사용하는 데이터가 달라짐."
   ]
  },
  {
   "cell_type": "markdown",
   "id": "dc2cc2e0",
   "metadata": {},
   "source": [
    "### 영문, 한글 토큰화"
   ]
  },
  {
   "cell_type": "code",
   "execution_count": 9,
   "id": "af50787f",
   "metadata": {},
   "outputs": [
    {
     "name": "stdout",
     "output_type": "stream",
     "text": [
      "토큰화4: ['English', 'is', 'a', 'West', 'Germanic', 'language', 'of', 'the', 'Indo-European', 'language', 'family', ',', 'originally', 'spoken', 'by', 'the', 'inhabitants', 'of', 'early', 'medieval', 'England', '.']\n"
     ]
    },
    {
     "name": "stderr",
     "output_type": "stream",
     "text": [
      "[nltk_data] Downloading package averaged_perceptron_tagger to\n",
      "[nltk_data]     C:\\Users\\user\\AppData\\Roaming\\nltk_data...\n",
      "[nltk_data]   Package averaged_perceptron_tagger is already up-to-\n",
      "[nltk_data]       date!\n"
     ]
    }
   ],
   "source": [
    "# 품사 태깅\n",
    "from nltk.tag import pos_tag \n",
    "nltk.download('averaged_perceptron_tagger')\n",
    "\n",
    "tokenized = word_tokenize(contents)\n",
    "\n",
    "print('토큰화4:', tokenized)"
   ]
  },
  {
   "cell_type": "code",
   "execution_count": 10,
   "id": "df4e2605",
   "metadata": {},
   "outputs": [
    {
     "name": "stdout",
     "output_type": "stream",
     "text": [
      "품사 태깅: [('English', 'NNP'), ('is', 'VBZ'), ('a', 'DT'), ('West', 'NNP'), ('Germanic', 'NNP'), ('language', 'NN'), ('of', 'IN'), ('the', 'DT'), ('Indo-European', 'JJ'), ('language', 'NN'), ('family', 'NN'), (',', ','), ('originally', 'RB'), ('spoken', 'VBN'), ('by', 'IN'), ('the', 'DT'), ('inhabitants', 'NNS'), ('of', 'IN'), ('early', 'JJ'), ('medieval', 'NN'), ('England', 'NNP'), ('.', '.')]\n"
     ]
    }
   ],
   "source": [
    "print('품사 태깅:', pos_tag(tokenized))"
   ]
  },
  {
   "cell_type": "code",
   "execution_count": 11,
   "id": "1126617d",
   "metadata": {
    "scrolled": true
   },
   "outputs": [
    {
     "name": "stderr",
     "output_type": "stream",
     "text": [
      "[nltk_data] Downloading package punkt to\n",
      "[nltk_data]     C:\\Users\\user\\AppData\\Roaming\\nltk_data...\n",
      "[nltk_data]   Package punkt is already up-to-date!\n",
      "[nltk_data] Downloading package averaged_perceptron_tagger to\n",
      "[nltk_data]     C:\\Users\\user\\AppData\\Roaming\\nltk_data...\n",
      "[nltk_data]   Package averaged_perceptron_tagger is already up-to-\n",
      "[nltk_data]       date!\n",
      "[nltk_data] Downloading package stopwords to\n",
      "[nltk_data]     C:\\Users\\user\\AppData\\Roaming\\nltk_data...\n",
      "[nltk_data]   Package stopwords is already up-to-date!\n",
      "[nltk_data] Downloading package wordnet to\n",
      "[nltk_data]     C:\\Users\\user\\AppData\\Roaming\\nltk_data...\n",
      "[nltk_data]   Package wordnet is already up-to-date!\n",
      "[nltk_data] Downloading package webtext to\n",
      "[nltk_data]     C:\\Users\\user\\AppData\\Roaming\\nltk_data...\n",
      "[nltk_data]   Package webtext is already up-to-date!\n",
      "[nltk_data] Error loading taggers: Package 'taggers' not found in\n",
      "[nltk_data]     index\n",
      "[nltk_data] Downloading package reuters to\n",
      "[nltk_data]     C:\\Users\\user\\AppData\\Roaming\\nltk_data...\n",
      "[nltk_data]   Package reuters is already up-to-date!\n"
     ]
    }
   ],
   "source": [
    "# koNLPY (자연어처리 파이썬 패키지), Okt(open korean text), Mecab, kkma (형태소)\n",
    "from konlpy.tag import Okt\n",
    "from konlpy.tag import Kkma\n",
    "\n",
    "import nltk\n",
    "nltk.download('punkt')\n",
    "nltk.download('averaged_perceptron_tagger')\n",
    "nltk.download('stopwords')\n",
    "nltk.download('wordnet')\n",
    "nltk.download('webtext')\n",
    "nltk.download('taggers')\n",
    "nltk.download('reuters')\n",
    "\n",
    "okt = Okt()\n",
    "kkma = Kkma()"
   ]
  },
  {
   "cell_type": "code",
   "execution_count": 12,
   "id": "b9c89984",
   "metadata": {},
   "outputs": [
    {
     "name": "stdout",
     "output_type": "stream",
     "text": [
      "OKT 형태소 분석: ['불', '용어', '(', 'Stopword', ')', '란', '유', '의미', '한', '가치', '를', '지니', '지', '않는', '토큰', '을', '의미', '한다', '.']\n"
     ]
    }
   ],
   "source": [
    "# 형태소 분석 - 체언(명사, 대명사, 수사), 관형사, 조사, 부사, 감탄사,,,\n",
    "print('OKT 형태소 분석:', okt.morphs('불용어(Stopword)란 유의미한 가치를 지니지 않는 토큰을 의미한다.'))"
   ]
  },
  {
   "cell_type": "code",
   "execution_count": 14,
   "id": "119f8640",
   "metadata": {},
   "outputs": [
    {
     "name": "stdout",
     "output_type": "stream",
     "text": [
      "OKT 품사 태깅: [('불', 'Noun'), ('용어', 'Noun'), ('(', 'Punctuation'), ('Stopword', 'Alpha'), (')', 'Punctuation'), ('란', 'Noun'), ('유', 'Noun'), ('의미', 'Noun'), ('한', 'Josa'), ('가치', 'Noun'), ('를', 'Josa'), ('지니', 'Noun'), ('지', 'Josa'), ('않는', 'Verb'), ('토큰', 'Noun'), ('을', 'Josa'), ('의미', 'Noun'), ('한다', 'Verb'), ('.', 'Punctuation')]\n"
     ]
    }
   ],
   "source": [
    "# 품사 분석\n",
    "print('OKT 품사 태깅:', okt.pos('불용어(Stopword)란 유의미한 가치를 지니지 않는 토큰을 의미한다.'))"
   ]
  },
  {
   "cell_type": "code",
   "execution_count": 15,
   "id": "03be4064",
   "metadata": {},
   "outputs": [
    {
     "name": "stdout",
     "output_type": "stream",
     "text": [
      "OKT 명사 추출: ['불', '용어', '란', '유', '의미', '가치', '지니', '토큰', '의미']\n"
     ]
    }
   ],
   "source": [
    "# 명사 추출\n",
    "print('OKT 명사 추출:', okt.nouns('불용어(Stopword)란 유의미한 가치를 지니지 않는 토큰을 의미한다.'))"
   ]
  },
  {
   "cell_type": "code",
   "execution_count": 16,
   "id": "dbb43a84",
   "metadata": {},
   "outputs": [
    {
     "name": "stdout",
     "output_type": "stream",
     "text": [
      "KKMA 형태소 분석: ['불', '용어', '(', 'Stopword', ')', '이', '란', '유의미', '하', 'ㄴ', '가치', '를', '지니', '지', '않', '는', '토큰', '을', '의미', '하', 'ㄴ다', '.']\n",
      "KKMA 품사 태깅: [('불', 'NNG'), ('용어', 'NNG'), ('(', 'SS'), ('Stopword', 'OL'), (')', 'SS'), ('이', 'VCP'), ('란', 'ETD'), ('유의미', 'NNG'), ('하', 'XSV'), ('ㄴ', 'ETD'), ('가치', 'NNG'), ('를', 'JKO'), ('지니', 'VV'), ('지', 'ECD'), ('않', 'VXV'), ('는', 'ETD'), ('토큰', 'NNG'), ('을', 'JKO'), ('의미', 'NNG'), ('하', 'XSV'), ('ㄴ다', 'EFN'), ('.', 'SF')]\n",
      "KKMA 명사 추출: ['불', '불용어', '용어', '유의미', '가치', '토큰', '의미']\n"
     ]
    }
   ],
   "source": [
    "print('KKMA 형태소 분석:', kkma.morphs('불용어(Stopword)란 유의미한 가치를 지니지 않는 토큰을 의미한다.'))\n",
    "print('KKMA 품사 태깅:', kkma.pos('불용어(Stopword)란 유의미한 가치를 지니지 않는 토큰을 의미한다.'))\n",
    "print('KKMA 명사 추출:', kkma.nouns('불용어(Stopword)란 유의미한 가치를 지니지 않는 토큰을 의미한다.'))"
   ]
  },
  {
   "cell_type": "code",
   "execution_count": null,
   "id": "213913e8",
   "metadata": {},
   "outputs": [],
   "source": []
  }
 ],
 "metadata": {
  "kernelspec": {
   "display_name": "Python 3 (ipykernel)",
   "language": "python",
   "name": "python3"
  },
  "language_info": {
   "codemirror_mode": {
    "name": "ipython",
    "version": 3
   },
   "file_extension": ".py",
   "mimetype": "text/x-python",
   "name": "python",
   "nbconvert_exporter": "python",
   "pygments_lexer": "ipython3",
   "version": "3.9.7"
  }
 },
 "nbformat": 4,
 "nbformat_minor": 5
}
